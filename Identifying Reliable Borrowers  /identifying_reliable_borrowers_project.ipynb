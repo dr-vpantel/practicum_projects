{
 "cells": [
  {
   "cell_type": "markdown",
   "id": "386f2ae7",
   "metadata": {
    "deletable": false,
    "editable": false,
    "id": "386f2ae7"
   },
   "source": [
    "# Исследование надежности заемщиков\n"
   ]
  },
  {
   "cell_type": "markdown",
   "id": "ffe86f65",
   "metadata": {
    "deletable": false,
    "editable": false,
    "id": "ffe86f65"
   },
   "source": [
    "Во второй части проекта вы выполните шаги 3 и 4. Их вручную проверит ревьюер.\n",
    "Чтобы вам не пришлось писать код заново для шагов 1 и 2, мы добавили авторские решения в ячейки с кодом. \n",
    "\n"
   ]
  },
  {
   "cell_type": "markdown",
   "id": "26613308",
   "metadata": {
    "deletable": false,
    "editable": false,
    "id": "26613308"
   },
   "source": [
    "## Откройте таблицу и изучите общую информацию о данных"
   ]
  },
  {
   "cell_type": "markdown",
   "id": "3c9f838e",
   "metadata": {
    "deletable": false,
    "editable": false,
    "id": "3c9f838e"
   },
   "source": [
    "**Задание 1. Импортируйте библиотеку pandas. Считайте данные из csv-файла в датафрейм и сохраните в переменную `data`. Путь к файлу:**\n",
    "\n",
    "`/datasets/data.csv`"
   ]
  },
  {
   "cell_type": "code",
   "execution_count": 1,
   "id": "77a68a90",
   "metadata": {
    "deletable": false,
    "id": "77a68a90"
   },
   "outputs": [],
   "source": [
    "import pandas as pd\n",
    "\n",
    "try:\n",
    "    data = pd.read_csv('/datasets/data.csv')\n",
    "except:\n",
    "    data = pd.read_csv('https://code.s3.yandex.net/datasets/data.csv')"
   ]
  },
  {
   "cell_type": "markdown",
   "id": "45365635",
   "metadata": {
    "deletable": false,
    "editable": false,
    "id": "45365635"
   },
   "source": [
    "**Задание 2. Выведите первые 20 строчек датафрейма `data` на экран.**"
   ]
  },
  {
   "cell_type": "code",
   "execution_count": 2,
   "id": "b0451a9a",
   "metadata": {
    "deletable": false,
    "id": "b0451a9a",
    "outputId": "1a8f3ef2-d323-4ec2-ddf7-89670b5944c4"
   },
   "outputs": [
    {
     "data": {
      "text/html": [
       "<div>\n",
       "<style scoped>\n",
       "    .dataframe tbody tr th:only-of-type {\n",
       "        vertical-align: middle;\n",
       "    }\n",
       "\n",
       "    .dataframe tbody tr th {\n",
       "        vertical-align: top;\n",
       "    }\n",
       "\n",
       "    .dataframe thead th {\n",
       "        text-align: right;\n",
       "    }\n",
       "</style>\n",
       "<table border=\"1\" class=\"dataframe\">\n",
       "  <thead>\n",
       "    <tr style=\"text-align: right;\">\n",
       "      <th></th>\n",
       "      <th>children</th>\n",
       "      <th>days_employed</th>\n",
       "      <th>dob_years</th>\n",
       "      <th>education</th>\n",
       "      <th>education_id</th>\n",
       "      <th>family_status</th>\n",
       "      <th>family_status_id</th>\n",
       "      <th>gender</th>\n",
       "      <th>income_type</th>\n",
       "      <th>debt</th>\n",
       "      <th>total_income</th>\n",
       "      <th>purpose</th>\n",
       "    </tr>\n",
       "  </thead>\n",
       "  <tbody>\n",
       "    <tr>\n",
       "      <th>0</th>\n",
       "      <td>1</td>\n",
       "      <td>-8437.673028</td>\n",
       "      <td>42</td>\n",
       "      <td>высшее</td>\n",
       "      <td>0</td>\n",
       "      <td>женат / замужем</td>\n",
       "      <td>0</td>\n",
       "      <td>F</td>\n",
       "      <td>сотрудник</td>\n",
       "      <td>0</td>\n",
       "      <td>253875.639453</td>\n",
       "      <td>покупка жилья</td>\n",
       "    </tr>\n",
       "    <tr>\n",
       "      <th>1</th>\n",
       "      <td>1</td>\n",
       "      <td>-4024.803754</td>\n",
       "      <td>36</td>\n",
       "      <td>среднее</td>\n",
       "      <td>1</td>\n",
       "      <td>женат / замужем</td>\n",
       "      <td>0</td>\n",
       "      <td>F</td>\n",
       "      <td>сотрудник</td>\n",
       "      <td>0</td>\n",
       "      <td>112080.014102</td>\n",
       "      <td>приобретение автомобиля</td>\n",
       "    </tr>\n",
       "    <tr>\n",
       "      <th>2</th>\n",
       "      <td>0</td>\n",
       "      <td>-5623.422610</td>\n",
       "      <td>33</td>\n",
       "      <td>Среднее</td>\n",
       "      <td>1</td>\n",
       "      <td>женат / замужем</td>\n",
       "      <td>0</td>\n",
       "      <td>M</td>\n",
       "      <td>сотрудник</td>\n",
       "      <td>0</td>\n",
       "      <td>145885.952297</td>\n",
       "      <td>покупка жилья</td>\n",
       "    </tr>\n",
       "    <tr>\n",
       "      <th>3</th>\n",
       "      <td>3</td>\n",
       "      <td>-4124.747207</td>\n",
       "      <td>32</td>\n",
       "      <td>среднее</td>\n",
       "      <td>1</td>\n",
       "      <td>женат / замужем</td>\n",
       "      <td>0</td>\n",
       "      <td>M</td>\n",
       "      <td>сотрудник</td>\n",
       "      <td>0</td>\n",
       "      <td>267628.550329</td>\n",
       "      <td>дополнительное образование</td>\n",
       "    </tr>\n",
       "    <tr>\n",
       "      <th>4</th>\n",
       "      <td>0</td>\n",
       "      <td>340266.072047</td>\n",
       "      <td>53</td>\n",
       "      <td>среднее</td>\n",
       "      <td>1</td>\n",
       "      <td>гражданский брак</td>\n",
       "      <td>1</td>\n",
       "      <td>F</td>\n",
       "      <td>пенсионер</td>\n",
       "      <td>0</td>\n",
       "      <td>158616.077870</td>\n",
       "      <td>сыграть свадьбу</td>\n",
       "    </tr>\n",
       "    <tr>\n",
       "      <th>5</th>\n",
       "      <td>0</td>\n",
       "      <td>-926.185831</td>\n",
       "      <td>27</td>\n",
       "      <td>высшее</td>\n",
       "      <td>0</td>\n",
       "      <td>гражданский брак</td>\n",
       "      <td>1</td>\n",
       "      <td>M</td>\n",
       "      <td>компаньон</td>\n",
       "      <td>0</td>\n",
       "      <td>255763.565419</td>\n",
       "      <td>покупка жилья</td>\n",
       "    </tr>\n",
       "    <tr>\n",
       "      <th>6</th>\n",
       "      <td>0</td>\n",
       "      <td>-2879.202052</td>\n",
       "      <td>43</td>\n",
       "      <td>высшее</td>\n",
       "      <td>0</td>\n",
       "      <td>женат / замужем</td>\n",
       "      <td>0</td>\n",
       "      <td>F</td>\n",
       "      <td>компаньон</td>\n",
       "      <td>0</td>\n",
       "      <td>240525.971920</td>\n",
       "      <td>операции с жильем</td>\n",
       "    </tr>\n",
       "    <tr>\n",
       "      <th>7</th>\n",
       "      <td>0</td>\n",
       "      <td>-152.779569</td>\n",
       "      <td>50</td>\n",
       "      <td>СРЕДНЕЕ</td>\n",
       "      <td>1</td>\n",
       "      <td>женат / замужем</td>\n",
       "      <td>0</td>\n",
       "      <td>M</td>\n",
       "      <td>сотрудник</td>\n",
       "      <td>0</td>\n",
       "      <td>135823.934197</td>\n",
       "      <td>образование</td>\n",
       "    </tr>\n",
       "    <tr>\n",
       "      <th>8</th>\n",
       "      <td>2</td>\n",
       "      <td>-6929.865299</td>\n",
       "      <td>35</td>\n",
       "      <td>ВЫСШЕЕ</td>\n",
       "      <td>0</td>\n",
       "      <td>гражданский брак</td>\n",
       "      <td>1</td>\n",
       "      <td>F</td>\n",
       "      <td>сотрудник</td>\n",
       "      <td>0</td>\n",
       "      <td>95856.832424</td>\n",
       "      <td>на проведение свадьбы</td>\n",
       "    </tr>\n",
       "    <tr>\n",
       "      <th>9</th>\n",
       "      <td>0</td>\n",
       "      <td>-2188.756445</td>\n",
       "      <td>41</td>\n",
       "      <td>среднее</td>\n",
       "      <td>1</td>\n",
       "      <td>женат / замужем</td>\n",
       "      <td>0</td>\n",
       "      <td>M</td>\n",
       "      <td>сотрудник</td>\n",
       "      <td>0</td>\n",
       "      <td>144425.938277</td>\n",
       "      <td>покупка жилья для семьи</td>\n",
       "    </tr>\n",
       "    <tr>\n",
       "      <th>10</th>\n",
       "      <td>2</td>\n",
       "      <td>-4171.483647</td>\n",
       "      <td>36</td>\n",
       "      <td>высшее</td>\n",
       "      <td>0</td>\n",
       "      <td>женат / замужем</td>\n",
       "      <td>0</td>\n",
       "      <td>M</td>\n",
       "      <td>компаньон</td>\n",
       "      <td>0</td>\n",
       "      <td>113943.491460</td>\n",
       "      <td>покупка недвижимости</td>\n",
       "    </tr>\n",
       "    <tr>\n",
       "      <th>11</th>\n",
       "      <td>0</td>\n",
       "      <td>-792.701887</td>\n",
       "      <td>40</td>\n",
       "      <td>среднее</td>\n",
       "      <td>1</td>\n",
       "      <td>женат / замужем</td>\n",
       "      <td>0</td>\n",
       "      <td>F</td>\n",
       "      <td>сотрудник</td>\n",
       "      <td>0</td>\n",
       "      <td>77069.234271</td>\n",
       "      <td>покупка коммерческой недвижимости</td>\n",
       "    </tr>\n",
       "    <tr>\n",
       "      <th>12</th>\n",
       "      <td>0</td>\n",
       "      <td>NaN</td>\n",
       "      <td>65</td>\n",
       "      <td>среднее</td>\n",
       "      <td>1</td>\n",
       "      <td>гражданский брак</td>\n",
       "      <td>1</td>\n",
       "      <td>M</td>\n",
       "      <td>пенсионер</td>\n",
       "      <td>0</td>\n",
       "      <td>NaN</td>\n",
       "      <td>сыграть свадьбу</td>\n",
       "    </tr>\n",
       "    <tr>\n",
       "      <th>13</th>\n",
       "      <td>0</td>\n",
       "      <td>-1846.641941</td>\n",
       "      <td>54</td>\n",
       "      <td>неоконченное высшее</td>\n",
       "      <td>2</td>\n",
       "      <td>женат / замужем</td>\n",
       "      <td>0</td>\n",
       "      <td>F</td>\n",
       "      <td>сотрудник</td>\n",
       "      <td>0</td>\n",
       "      <td>130458.228857</td>\n",
       "      <td>приобретение автомобиля</td>\n",
       "    </tr>\n",
       "    <tr>\n",
       "      <th>14</th>\n",
       "      <td>0</td>\n",
       "      <td>-1844.956182</td>\n",
       "      <td>56</td>\n",
       "      <td>высшее</td>\n",
       "      <td>0</td>\n",
       "      <td>гражданский брак</td>\n",
       "      <td>1</td>\n",
       "      <td>F</td>\n",
       "      <td>компаньон</td>\n",
       "      <td>1</td>\n",
       "      <td>165127.911772</td>\n",
       "      <td>покупка жилой недвижимости</td>\n",
       "    </tr>\n",
       "    <tr>\n",
       "      <th>15</th>\n",
       "      <td>1</td>\n",
       "      <td>-972.364419</td>\n",
       "      <td>26</td>\n",
       "      <td>среднее</td>\n",
       "      <td>1</td>\n",
       "      <td>женат / замужем</td>\n",
       "      <td>0</td>\n",
       "      <td>F</td>\n",
       "      <td>сотрудник</td>\n",
       "      <td>0</td>\n",
       "      <td>116820.904450</td>\n",
       "      <td>строительство собственной недвижимости</td>\n",
       "    </tr>\n",
       "    <tr>\n",
       "      <th>16</th>\n",
       "      <td>0</td>\n",
       "      <td>-1719.934226</td>\n",
       "      <td>35</td>\n",
       "      <td>среднее</td>\n",
       "      <td>1</td>\n",
       "      <td>женат / замужем</td>\n",
       "      <td>0</td>\n",
       "      <td>F</td>\n",
       "      <td>сотрудник</td>\n",
       "      <td>0</td>\n",
       "      <td>289202.704229</td>\n",
       "      <td>недвижимость</td>\n",
       "    </tr>\n",
       "    <tr>\n",
       "      <th>17</th>\n",
       "      <td>0</td>\n",
       "      <td>-2369.999720</td>\n",
       "      <td>33</td>\n",
       "      <td>высшее</td>\n",
       "      <td>0</td>\n",
       "      <td>гражданский брак</td>\n",
       "      <td>1</td>\n",
       "      <td>M</td>\n",
       "      <td>сотрудник</td>\n",
       "      <td>0</td>\n",
       "      <td>90410.586745</td>\n",
       "      <td>строительство недвижимости</td>\n",
       "    </tr>\n",
       "    <tr>\n",
       "      <th>18</th>\n",
       "      <td>0</td>\n",
       "      <td>400281.136913</td>\n",
       "      <td>53</td>\n",
       "      <td>среднее</td>\n",
       "      <td>1</td>\n",
       "      <td>вдовец / вдова</td>\n",
       "      <td>2</td>\n",
       "      <td>F</td>\n",
       "      <td>пенсионер</td>\n",
       "      <td>0</td>\n",
       "      <td>56823.777243</td>\n",
       "      <td>на покупку подержанного автомобиля</td>\n",
       "    </tr>\n",
       "    <tr>\n",
       "      <th>19</th>\n",
       "      <td>0</td>\n",
       "      <td>-10038.818549</td>\n",
       "      <td>48</td>\n",
       "      <td>СРЕДНЕЕ</td>\n",
       "      <td>1</td>\n",
       "      <td>в разводе</td>\n",
       "      <td>3</td>\n",
       "      <td>F</td>\n",
       "      <td>сотрудник</td>\n",
       "      <td>0</td>\n",
       "      <td>242831.107982</td>\n",
       "      <td>на покупку своего автомобиля</td>\n",
       "    </tr>\n",
       "  </tbody>\n",
       "</table>\n",
       "</div>"
      ],
      "text/plain": [
       "    children  days_employed  dob_years            education  education_id  \\\n",
       "0          1   -8437.673028         42               высшее             0   \n",
       "1          1   -4024.803754         36              среднее             1   \n",
       "2          0   -5623.422610         33              Среднее             1   \n",
       "3          3   -4124.747207         32              среднее             1   \n",
       "4          0  340266.072047         53              среднее             1   \n",
       "5          0    -926.185831         27               высшее             0   \n",
       "6          0   -2879.202052         43               высшее             0   \n",
       "7          0    -152.779569         50              СРЕДНЕЕ             1   \n",
       "8          2   -6929.865299         35               ВЫСШЕЕ             0   \n",
       "9          0   -2188.756445         41              среднее             1   \n",
       "10         2   -4171.483647         36               высшее             0   \n",
       "11         0    -792.701887         40              среднее             1   \n",
       "12         0            NaN         65              среднее             1   \n",
       "13         0   -1846.641941         54  неоконченное высшее             2   \n",
       "14         0   -1844.956182         56               высшее             0   \n",
       "15         1    -972.364419         26              среднее             1   \n",
       "16         0   -1719.934226         35              среднее             1   \n",
       "17         0   -2369.999720         33               высшее             0   \n",
       "18         0  400281.136913         53              среднее             1   \n",
       "19         0  -10038.818549         48              СРЕДНЕЕ             1   \n",
       "\n",
       "       family_status  family_status_id gender income_type  debt  \\\n",
       "0    женат / замужем                 0      F   сотрудник     0   \n",
       "1    женат / замужем                 0      F   сотрудник     0   \n",
       "2    женат / замужем                 0      M   сотрудник     0   \n",
       "3    женат / замужем                 0      M   сотрудник     0   \n",
       "4   гражданский брак                 1      F   пенсионер     0   \n",
       "5   гражданский брак                 1      M   компаньон     0   \n",
       "6    женат / замужем                 0      F   компаньон     0   \n",
       "7    женат / замужем                 0      M   сотрудник     0   \n",
       "8   гражданский брак                 1      F   сотрудник     0   \n",
       "9    женат / замужем                 0      M   сотрудник     0   \n",
       "10   женат / замужем                 0      M   компаньон     0   \n",
       "11   женат / замужем                 0      F   сотрудник     0   \n",
       "12  гражданский брак                 1      M   пенсионер     0   \n",
       "13   женат / замужем                 0      F   сотрудник     0   \n",
       "14  гражданский брак                 1      F   компаньон     1   \n",
       "15   женат / замужем                 0      F   сотрудник     0   \n",
       "16   женат / замужем                 0      F   сотрудник     0   \n",
       "17  гражданский брак                 1      M   сотрудник     0   \n",
       "18    вдовец / вдова                 2      F   пенсионер     0   \n",
       "19         в разводе                 3      F   сотрудник     0   \n",
       "\n",
       "     total_income                                 purpose  \n",
       "0   253875.639453                           покупка жилья  \n",
       "1   112080.014102                 приобретение автомобиля  \n",
       "2   145885.952297                           покупка жилья  \n",
       "3   267628.550329              дополнительное образование  \n",
       "4   158616.077870                         сыграть свадьбу  \n",
       "5   255763.565419                           покупка жилья  \n",
       "6   240525.971920                       операции с жильем  \n",
       "7   135823.934197                             образование  \n",
       "8    95856.832424                   на проведение свадьбы  \n",
       "9   144425.938277                 покупка жилья для семьи  \n",
       "10  113943.491460                    покупка недвижимости  \n",
       "11   77069.234271       покупка коммерческой недвижимости  \n",
       "12            NaN                         сыграть свадьбу  \n",
       "13  130458.228857                 приобретение автомобиля  \n",
       "14  165127.911772              покупка жилой недвижимости  \n",
       "15  116820.904450  строительство собственной недвижимости  \n",
       "16  289202.704229                            недвижимость  \n",
       "17   90410.586745              строительство недвижимости  \n",
       "18   56823.777243      на покупку подержанного автомобиля  \n",
       "19  242831.107982            на покупку своего автомобиля  "
      ]
     },
     "execution_count": 2,
     "metadata": {},
     "output_type": "execute_result"
    }
   ],
   "source": [
    "data.head(20)"
   ]
  },
  {
   "cell_type": "markdown",
   "id": "0ed8f27f",
   "metadata": {
    "deletable": false,
    "editable": false,
    "id": "0ed8f27f"
   },
   "source": [
    "**Задание 3. Выведите основную информацию о датафрейме с помощью метода `info()`.**"
   ]
  },
  {
   "cell_type": "code",
   "execution_count": 3,
   "id": "ab3f863b",
   "metadata": {
    "deletable": false,
    "id": "ab3f863b",
    "outputId": "15376089-8dad-46c9-b520-c05248d43158"
   },
   "outputs": [
    {
     "name": "stdout",
     "output_type": "stream",
     "text": [
      "<class 'pandas.core.frame.DataFrame'>\n",
      "RangeIndex: 21525 entries, 0 to 21524\n",
      "Data columns (total 12 columns):\n",
      " #   Column            Non-Null Count  Dtype  \n",
      "---  ------            --------------  -----  \n",
      " 0   children          21525 non-null  int64  \n",
      " 1   days_employed     19351 non-null  float64\n",
      " 2   dob_years         21525 non-null  int64  \n",
      " 3   education         21525 non-null  object \n",
      " 4   education_id      21525 non-null  int64  \n",
      " 5   family_status     21525 non-null  object \n",
      " 6   family_status_id  21525 non-null  int64  \n",
      " 7   gender            21525 non-null  object \n",
      " 8   income_type       21525 non-null  object \n",
      " 9   debt              21525 non-null  int64  \n",
      " 10  total_income      19351 non-null  float64\n",
      " 11  purpose           21525 non-null  object \n",
      "dtypes: float64(2), int64(5), object(5)\n",
      "memory usage: 2.0+ MB\n"
     ]
    }
   ],
   "source": [
    "data.info()"
   ]
  },
  {
   "cell_type": "markdown",
   "id": "60e3e22d",
   "metadata": {
    "deletable": false,
    "editable": false,
    "id": "60e3e22d"
   },
   "source": [
    "## Предобработка данных"
   ]
  },
  {
   "cell_type": "markdown",
   "id": "03dc170c",
   "metadata": {
    "deletable": false,
    "editable": false,
    "id": "03dc170c"
   },
   "source": [
    "### Удаление пропусков"
   ]
  },
  {
   "cell_type": "markdown",
   "id": "a4f54eef",
   "metadata": {
    "deletable": false,
    "editable": false,
    "id": "a4f54eef"
   },
   "source": [
    "**Задание 4. Выведите количество пропущенных значений для каждого столбца. Используйте комбинацию двух методов.**"
   ]
  },
  {
   "cell_type": "code",
   "execution_count": 4,
   "id": "2dc372b2",
   "metadata": {
    "deletable": false,
    "id": "2dc372b2",
    "outputId": "81f4d817-781c-465c-ed15-91ce4446810d"
   },
   "outputs": [
    {
     "data": {
      "text/plain": [
       "children               0\n",
       "days_employed       2174\n",
       "dob_years              0\n",
       "education              0\n",
       "education_id           0\n",
       "family_status          0\n",
       "family_status_id       0\n",
       "gender                 0\n",
       "income_type            0\n",
       "debt                   0\n",
       "total_income        2174\n",
       "purpose                0\n",
       "dtype: int64"
      ]
     },
     "execution_count": 4,
     "metadata": {},
     "output_type": "execute_result"
    }
   ],
   "source": [
    "data.isna().sum()"
   ]
  },
  {
   "cell_type": "markdown",
   "id": "14f011b1",
   "metadata": {
    "deletable": false,
    "editable": false,
    "id": "14f011b1"
   },
   "source": [
    "**Задание 5. В двух столбцах есть пропущенные значения. Один из них — `days_employed`. Пропуски в этом столбце вы обработаете на следующем этапе. Другой столбец с пропущенными значениями — `total_income` — хранит данные о доходах. На сумму дохода сильнее всего влияет тип занятости, поэтому заполнить пропуски в этом столбце нужно медианным значением по каждому типу из столбца `income_type`. Например, у человека с типом занятости `сотрудник` пропуск в столбце `total_income` должен быть заполнен медианным доходом среди всех записей с тем же типом.**"
   ]
  },
  {
   "cell_type": "code",
   "execution_count": 5,
   "id": "bdabfb6e",
   "metadata": {
    "deletable": false,
    "id": "bdabfb6e"
   },
   "outputs": [],
   "source": [
    "for t in data['income_type'].unique():\n",
    "    data.loc[(data['income_type'] == t) & (data['total_income'].isna()), 'total_income'] = \\\n",
    "    data.loc[(data['income_type'] == t), 'total_income'].median()"
   ]
  },
  {
   "cell_type": "markdown",
   "id": "5be34059",
   "metadata": {
    "deletable": false,
    "editable": false,
    "id": "5be34059"
   },
   "source": [
    "### Обработка аномальных значений"
   ]
  },
  {
   "cell_type": "markdown",
   "id": "a87606cb",
   "metadata": {
    "deletable": false,
    "editable": false,
    "id": "a87606cb"
   },
   "source": [
    "**Задание 6. В данных могут встречаться артефакты (аномалии) — значения, которые не отражают действительность и появились по какой-то ошибке. таким артефактом будет отрицательное количество дней трудового стажа в столбце `days_employed`. Для реальных данных это нормально. Обработайте значения в этом столбце: замените все отрицательные значения положительными с помощью метода `abs()`.**"
   ]
  },
  {
   "cell_type": "code",
   "execution_count": 6,
   "id": "020c46cc",
   "metadata": {
    "deletable": false,
    "id": "020c46cc"
   },
   "outputs": [],
   "source": [
    "data['days_employed'] = data['days_employed'].abs()"
   ]
  },
  {
   "cell_type": "markdown",
   "id": "45538a3a",
   "metadata": {
    "deletable": false,
    "editable": false,
    "id": "45538a3a"
   },
   "source": [
    "**Задание 7. Для каждого типа занятости выведите медианное значение трудового стажа `days_employed` в днях.**"
   ]
  },
  {
   "cell_type": "code",
   "execution_count": 7,
   "id": "cd3e6328",
   "metadata": {
    "deletable": false,
    "id": "cd3e6328",
    "outputId": "801ef80e-522b-4668-f34e-565af7432bcf"
   },
   "outputs": [
    {
     "data": {
      "text/plain": [
       "income_type\n",
       "безработный        366413.652744\n",
       "в декрете            3296.759962\n",
       "госслужащий          2689.368353\n",
       "компаньон            1547.382223\n",
       "пенсионер          365213.306266\n",
       "предприниматель       520.848083\n",
       "сотрудник            1574.202821\n",
       "студент               578.751554\n",
       "Name: days_employed, dtype: float64"
      ]
     },
     "execution_count": 7,
     "metadata": {},
     "output_type": "execute_result"
    }
   ],
   "source": [
    "data.groupby('income_type')['days_employed'].agg('median')"
   ]
  },
  {
   "cell_type": "markdown",
   "id": "90c5f058",
   "metadata": {
    "deletable": false,
    "editable": false,
    "id": "90c5f058"
   },
   "source": [
    "У двух типов (безработные и пенсионеры) получатся аномально большие значения. Исправить такие значения сложно, поэтому оставьте их как есть."
   ]
  },
  {
   "cell_type": "markdown",
   "id": "9652e50d",
   "metadata": {
    "deletable": false,
    "editable": false,
    "id": "9652e50d"
   },
   "source": [
    "**Задание 8. Выведите перечень уникальных значений столбца `children`.**"
   ]
  },
  {
   "cell_type": "code",
   "execution_count": 8,
   "id": "dbb37b8e",
   "metadata": {
    "deletable": false,
    "id": "dbb37b8e",
    "outputId": "6975b15c-7f95-4697-d16d-a0c79b657b03"
   },
   "outputs": [
    {
     "data": {
      "text/plain": [
       "array([ 1,  0,  3,  2, -1,  4, 20,  5])"
      ]
     },
     "execution_count": 8,
     "metadata": {},
     "output_type": "execute_result"
    }
   ],
   "source": [
    "data['children'].unique()"
   ]
  },
  {
   "cell_type": "markdown",
   "id": "2b8b0715",
   "metadata": {
    "deletable": false,
    "editable": false,
    "id": "2b8b0715"
   },
   "source": [
    "**Задание 9. В столбце `children` есть два аномальных значения. Удалите строки, в которых встречаются такие аномальные значения из датафрейма `data`.**"
   ]
  },
  {
   "cell_type": "code",
   "execution_count": 9,
   "id": "20009df8",
   "metadata": {
    "deletable": false,
    "id": "20009df8"
   },
   "outputs": [],
   "source": [
    "data = data[(data['children'] != -1) & (data['children'] != 20)]"
   ]
  },
  {
   "cell_type": "markdown",
   "id": "8c6ac9f1",
   "metadata": {
    "deletable": false,
    "editable": false,
    "id": "8c6ac9f1"
   },
   "source": [
    "**Задание 10. Ещё раз выведите перечень уникальных значений столбца `children`, чтобы убедиться, что артефакты удалены.**"
   ]
  },
  {
   "cell_type": "code",
   "execution_count": 10,
   "id": "07337b81",
   "metadata": {
    "deletable": false,
    "id": "07337b81",
    "outputId": "b2097101-d49d-44d9-901b-32a65c9463d1"
   },
   "outputs": [
    {
     "data": {
      "text/plain": [
       "array([1, 0, 3, 2, 4, 5])"
      ]
     },
     "execution_count": 10,
     "metadata": {},
     "output_type": "execute_result"
    }
   ],
   "source": [
    "data['children'].unique()"
   ]
  },
  {
   "cell_type": "markdown",
   "id": "ee3f52d4",
   "metadata": {
    "deletable": false,
    "editable": false,
    "id": "ee3f52d4"
   },
   "source": [
    "### Удаление пропусков (продолжение)"
   ]
  },
  {
   "cell_type": "markdown",
   "id": "a700b0e4",
   "metadata": {
    "deletable": false,
    "editable": false,
    "id": "a700b0e4"
   },
   "source": [
    "**Задание 11. Заполните пропуски в столбце `days_employed` медианными значениями по каждого типа занятости `income_type`.**"
   ]
  },
  {
   "cell_type": "code",
   "execution_count": 11,
   "id": "61946b83",
   "metadata": {
    "deletable": false,
    "id": "61946b83"
   },
   "outputs": [],
   "source": [
    "for t in data['income_type'].unique():\n",
    "    data.loc[(data['income_type'] == t) & (data['days_employed'].isna()), 'days_employed'] = \\\n",
    "    data.loc[(data['income_type'] == t), 'days_employed'].median()"
   ]
  },
  {
   "cell_type": "markdown",
   "id": "550dcd9b",
   "metadata": {
    "deletable": false,
    "editable": false,
    "id": "550dcd9b"
   },
   "source": [
    "**Задание 12. Убедитесь, что все пропуски заполнены. Проверьте себя и ещё раз выведите количество пропущенных значений для каждого столбца с помощью двух методов.**"
   ]
  },
  {
   "cell_type": "code",
   "execution_count": 12,
   "id": "937c7014",
   "metadata": {
    "deletable": false,
    "id": "937c7014",
    "outputId": "8da1e4e1-358e-4e87-98c9-f261bce0a7b2"
   },
   "outputs": [
    {
     "data": {
      "text/plain": [
       "children            0\n",
       "days_employed       0\n",
       "dob_years           0\n",
       "education           0\n",
       "education_id        0\n",
       "family_status       0\n",
       "family_status_id    0\n",
       "gender              0\n",
       "income_type         0\n",
       "debt                0\n",
       "total_income        0\n",
       "purpose             0\n",
       "dtype: int64"
      ]
     },
     "execution_count": 12,
     "metadata": {},
     "output_type": "execute_result"
    }
   ],
   "source": [
    "data.isna().sum()"
   ]
  },
  {
   "cell_type": "markdown",
   "id": "d522e295",
   "metadata": {
    "deletable": false,
    "editable": false,
    "id": "d522e295"
   },
   "source": [
    "### Изменение типов данных"
   ]
  },
  {
   "cell_type": "markdown",
   "id": "c229c581",
   "metadata": {
    "deletable": false,
    "editable": false,
    "id": "c229c581"
   },
   "source": [
    "**Задание 13. Замените вещественный тип данных в столбце `total_income` на целочисленный с помощью метода `astype()`.**"
   ]
  },
  {
   "cell_type": "code",
   "execution_count": 13,
   "id": "31036462",
   "metadata": {
    "deletable": false,
    "id": "31036462"
   },
   "outputs": [],
   "source": [
    "data['total_income'] = data['total_income'].astype(int)"
   ]
  },
  {
   "cell_type": "markdown",
   "id": "b8e3d1d9",
   "metadata": {
    "deletable": false,
    "editable": false,
    "id": "b8e3d1d9"
   },
   "source": [
    "### Обработка дубликатов"
   ]
  },
  {
   "cell_type": "markdown",
   "id": "9be53c49",
   "metadata": {
    "deletable": false,
    "editable": false,
    "id": "9be53c49"
   },
   "source": [
    "**Задание 14. Обработайте неявные дубликаты в столбце `education`. В этом столбце есть одни и те же значения, но записанные по-разному: с использованием заглавных и строчных букв. Приведите их к нижнему регистру.**"
   ]
  },
  {
   "cell_type": "code",
   "execution_count": 14,
   "id": "d89e73e1",
   "metadata": {
    "deletable": false,
    "id": "d89e73e1"
   },
   "outputs": [],
   "source": [
    "data['education'] = data['education'].str.lower()"
   ]
  },
  {
   "cell_type": "markdown",
   "id": "01d4500e",
   "metadata": {
    "deletable": false,
    "editable": false,
    "id": "01d4500e"
   },
   "source": [
    "**Задание 15. Выведите на экран количество строк-дубликатов в данных. Если такие строки присутствуют, удалите их.**"
   ]
  },
  {
   "cell_type": "code",
   "execution_count": 15,
   "id": "e10efb23",
   "metadata": {
    "deletable": false,
    "id": "e10efb23",
    "outputId": "9684deba-1934-42d1-99e1-cda61740f822"
   },
   "outputs": [
    {
     "data": {
      "text/plain": [
       "71"
      ]
     },
     "execution_count": 15,
     "metadata": {},
     "output_type": "execute_result"
    }
   ],
   "source": [
    "data.duplicated().sum()"
   ]
  },
  {
   "cell_type": "code",
   "execution_count": 16,
   "id": "df853f20",
   "metadata": {
    "deletable": false,
    "id": "df853f20"
   },
   "outputs": [],
   "source": [
    "data = data.drop_duplicates()"
   ]
  },
  {
   "cell_type": "markdown",
   "id": "627be38f",
   "metadata": {
    "deletable": false,
    "editable": false,
    "id": "627be38f"
   },
   "source": [
    "### Категоризация данных"
   ]
  },
  {
   "cell_type": "markdown",
   "id": "4684c3e0",
   "metadata": {
    "deletable": false,
    "editable": false,
    "id": "4684c3e0"
   },
   "source": [
    "**Задание 16. На основании диапазонов, указанных ниже, создайте в датафрейме `data` столбец `total_income_category` с категориями:**\n",
    "\n",
    "- 0–30000 — `'E'`;\n",
    "- 30001–50000 — `'D'`;\n",
    "- 50001–200000 — `'C'`;\n",
    "- 200001–1000000 — `'B'`;\n",
    "- 1000001 и выше — `'A'`.\n",
    "\n",
    "\n",
    "**Например, кредитополучателю с доходом 25000 нужно назначить категорию `'E'`, а клиенту, получающему 235000, — `'B'`. Используйте собственную функцию с именем `categorize_income()` и метод `apply()`.**"
   ]
  },
  {
   "cell_type": "code",
   "execution_count": 17,
   "id": "78965238",
   "metadata": {
    "deletable": false,
    "id": "78965238"
   },
   "outputs": [],
   "source": [
    "def categorize_income(income):\n",
    "    try:\n",
    "        if 0 <= income <= 30000:\n",
    "            return 'E'\n",
    "        elif 30001 <= income <= 50000:\n",
    "            return 'D'\n",
    "        elif 50001 <= income <= 200000:\n",
    "            return 'C'\n",
    "        elif 200001 <= income <= 1000000:\n",
    "            return 'B'\n",
    "        elif income >= 1000001:\n",
    "            return 'A'\n",
    "    except:\n",
    "        pass"
   ]
  },
  {
   "cell_type": "code",
   "execution_count": 18,
   "id": "0980ada1",
   "metadata": {
    "deletable": false,
    "id": "0980ada1"
   },
   "outputs": [],
   "source": [
    "data['total_income_category'] = data['total_income'].apply(categorize_income)"
   ]
  },
  {
   "cell_type": "markdown",
   "id": "9917bba0",
   "metadata": {
    "deletable": false,
    "editable": false,
    "id": "9917bba0"
   },
   "source": [
    "**Задание 17. Выведите на экран перечень уникальных целей взятия кредита из столбца `purpose`.**"
   ]
  },
  {
   "cell_type": "code",
   "execution_count": 19,
   "id": "ee07b65e",
   "metadata": {
    "deletable": false,
    "id": "ee07b65e",
    "outputId": "673c12d9-7d7e-4ae0-9812-c622c89dd244"
   },
   "outputs": [
    {
     "data": {
      "text/plain": [
       "array(['покупка жилья', 'приобретение автомобиля',\n",
       "       'дополнительное образование', 'сыграть свадьбу',\n",
       "       'операции с жильем', 'образование', 'на проведение свадьбы',\n",
       "       'покупка жилья для семьи', 'покупка недвижимости',\n",
       "       'покупка коммерческой недвижимости', 'покупка жилой недвижимости',\n",
       "       'строительство собственной недвижимости', 'недвижимость',\n",
       "       'строительство недвижимости', 'на покупку подержанного автомобиля',\n",
       "       'на покупку своего автомобиля',\n",
       "       'операции с коммерческой недвижимостью',\n",
       "       'строительство жилой недвижимости', 'жилье',\n",
       "       'операции со своей недвижимостью', 'автомобили',\n",
       "       'заняться образованием', 'сделка с подержанным автомобилем',\n",
       "       'получение образования', 'автомобиль', 'свадьба',\n",
       "       'получение дополнительного образования', 'покупка своего жилья',\n",
       "       'операции с недвижимостью', 'получение высшего образования',\n",
       "       'свой автомобиль', 'сделка с автомобилем',\n",
       "       'профильное образование', 'высшее образование',\n",
       "       'покупка жилья для сдачи', 'на покупку автомобиля', 'ремонт жилью',\n",
       "       'заняться высшим образованием'], dtype=object)"
      ]
     },
     "execution_count": 19,
     "metadata": {},
     "output_type": "execute_result"
    }
   ],
   "source": [
    "data['purpose'].unique()"
   ]
  },
  {
   "cell_type": "markdown",
   "id": "52b79d56",
   "metadata": {
    "deletable": false,
    "editable": false,
    "id": "52b79d56"
   },
   "source": [
    "**Задание 18. Создайте функцию, которая на основании данных из столбца `purpose` сформирует новый столбец `purpose_category`, в который войдут следующие категории:**\n",
    "\n",
    "- `'операции с автомобилем'`,\n",
    "- `'операции с недвижимостью'`,\n",
    "- `'проведение свадьбы'`,\n",
    "- `'получение образования'`.\n",
    "\n",
    "**Например, если в столбце `purpose` находится подстрока `'на покупку автомобиля'`, то в столбце `purpose_category` должна появиться строка `'операции с автомобилем'`.**\n",
    "\n",
    "**Используйте собственную функцию с именем `categorize_purpose()` и метод `apply()`. Изучите данные в столбце `purpose` и определите, какие подстроки помогут вам правильно определить категорию.**"
   ]
  },
  {
   "cell_type": "code",
   "execution_count": 20,
   "id": "be41da5d",
   "metadata": {
    "deletable": false,
    "id": "be41da5d"
   },
   "outputs": [],
   "source": [
    "def categorize_purpose(row):\n",
    "    try:\n",
    "        if 'автом' in row:\n",
    "            return 'операции с автомобилем'\n",
    "        elif 'жил' in row or 'недвиж' in row:\n",
    "            return 'операции с недвижимостью'\n",
    "        elif 'свад' in row:\n",
    "            return 'проведение свадьбы'\n",
    "        elif 'образов' in row:\n",
    "            return 'получение образования'\n",
    "    except:\n",
    "        return 'нет категории'"
   ]
  },
  {
   "cell_type": "code",
   "execution_count": 21,
   "id": "94c4a19a",
   "metadata": {
    "deletable": false,
    "id": "94c4a19a"
   },
   "outputs": [],
   "source": [
    "data['purpose_category'] = data['purpose'].apply(categorize_purpose)"
   ]
  },
  {
   "cell_type": "markdown",
   "id": "3d596c34",
   "metadata": {
    "deletable": false,
    "editable": false,
    "id": "3d596c34"
   },
   "source": [
    "### Шаг 3. Исследуйте данные и ответьте на вопросы"
   ]
  },
  {
   "cell_type": "markdown",
   "id": "648db036",
   "metadata": {
    "deletable": false,
    "editable": false,
    "id": "648db036"
   },
   "source": [
    "#### 3.1 Есть ли зависимость между количеством детей и возвратом кредита в срок?"
   ]
  },
  {
   "cell_type": "code",
   "execution_count": 22,
   "id": "53b44067",
   "metadata": {},
   "outputs": [],
   "source": [
    "# Создаем функцию определения категории клиента в соотвествии с наличием детей. \n",
    "# В соответсвии с советом создаем одну выборку для трёх и более детей\n",
    "def categorize_children(n):\n",
    "    try:\n",
    "        if n == 0:\n",
    "            return 'нет детей'\n",
    "        elif n == 1:\n",
    "            return '1 ребенок'\n",
    "        elif n == 2:\n",
    "            return '2 ребенка'\n",
    "        elif n >= 3:\n",
    "            return '3 и более детей'\n",
    "    except:\n",
    "        return 'ошибка'\n",
    "# Применяем функции к датафрейму\n",
    "data['children_category'] = data['children'].apply(categorize_children)"
   ]
  },
  {
   "cell_type": "code",
   "execution_count": 23,
   "id": "7fcff25e",
   "metadata": {
    "deletable": false,
    "id": "7fcff25e"
   },
   "outputs": [
    {
     "data": {
      "text/html": [
       "<div>\n",
       "<style scoped>\n",
       "    .dataframe tbody tr th:only-of-type {\n",
       "        vertical-align: middle;\n",
       "    }\n",
       "\n",
       "    .dataframe tbody tr th {\n",
       "        vertical-align: top;\n",
       "    }\n",
       "\n",
       "    .dataframe thead th {\n",
       "        text-align: right;\n",
       "    }\n",
       "</style>\n",
       "<table border=\"1\" class=\"dataframe\">\n",
       "  <thead>\n",
       "    <tr style=\"text-align: right;\">\n",
       "      <th></th>\n",
       "      <th>count</th>\n",
       "      <th>sum</th>\n",
       "      <th>ratio</th>\n",
       "    </tr>\n",
       "    <tr>\n",
       "      <th>children_category</th>\n",
       "      <th></th>\n",
       "      <th></th>\n",
       "      <th></th>\n",
       "    </tr>\n",
       "  </thead>\n",
       "  <tbody>\n",
       "    <tr>\n",
       "      <th>нет детей</th>\n",
       "      <td>14091</td>\n",
       "      <td>1063</td>\n",
       "      <td>7.54%</td>\n",
       "    </tr>\n",
       "    <tr>\n",
       "      <th>3 и более детей</th>\n",
       "      <td>380</td>\n",
       "      <td>31</td>\n",
       "      <td>8.16%</td>\n",
       "    </tr>\n",
       "    <tr>\n",
       "      <th>1 ребенок</th>\n",
       "      <td>4808</td>\n",
       "      <td>444</td>\n",
       "      <td>9.23%</td>\n",
       "    </tr>\n",
       "    <tr>\n",
       "      <th>2 ребенка</th>\n",
       "      <td>2052</td>\n",
       "      <td>194</td>\n",
       "      <td>9.45%</td>\n",
       "    </tr>\n",
       "  </tbody>\n",
       "</table>\n",
       "</div>"
      ],
      "text/plain": [
       "                   count   sum  ratio\n",
       "children_category                    \n",
       "нет детей          14091  1063  7.54%\n",
       "3 и более детей      380    31  8.16%\n",
       "1 ребенок           4808   444  9.23%\n",
       "2 ребенка           2052   194  9.45%"
      ]
     },
     "execution_count": 23,
     "metadata": {},
     "output_type": "execute_result"
    }
   ],
   "source": [
    "#создаем переменную, в которой группируем значения data по количеству детей и наличию долгов\n",
    "#(сразу считаем количество и сумму) \n",
    "children_debt = data.groupby('children_category')['debt'].agg(['count', 'sum'])\n",
    "#определяем отношение в каждой группе\n",
    "children_debt['ratio'] = children_debt['sum'] / children_debt['count']\n",
    "# форматируем результат в столбце\n",
    "children_debt['ratio'] = children_debt['ratio'].apply('{:.2%}'.format)\n",
    "# выводим отсортированный результат\n",
    "children_debt.sort_values('ratio')\n",
    "# Определим функцию "
   ]
  },
  {
   "cell_type": "markdown",
   "id": "2eb9088e",
   "metadata": {
    "deletable": false,
    "id": "2eb9088e"
   },
   "source": [
    "**Вывод:** Да, есть зависимость между количеством детей и возвратом кредита в срок. В группе 'нет детей' наименьший процент невозврата кредита (7,54%), по всей видимости в виду меньшего количества непредвиденных расходов. В группе '3 и более детей' процент невозврата кредита 8.16%. Клиенты данной группы более ответственно относятся к планированию расходов или имеют бОльшую финансовую возможность вернуть кредит в срок, чем клиенты с 1 и 2 детьми (9,23% и 9,45%, соответственно). "
   ]
  },
  {
   "cell_type": "markdown",
   "id": "74c9b3a7",
   "metadata": {
    "deletable": false,
    "editable": false,
    "id": "74c9b3a7"
   },
   "source": [
    "#### 3.2 Есть ли зависимость между семейным положением и возвратом кредита в срок?"
   ]
  },
  {
   "cell_type": "code",
   "execution_count": 24,
   "id": "8098ab3b",
   "metadata": {
    "deletable": false,
    "id": "8098ab3b"
   },
   "outputs": [
    {
     "data": {
      "text/html": [
       "<div>\n",
       "<style scoped>\n",
       "    .dataframe tbody tr th:only-of-type {\n",
       "        vertical-align: middle;\n",
       "    }\n",
       "\n",
       "    .dataframe tbody tr th {\n",
       "        vertical-align: top;\n",
       "    }\n",
       "\n",
       "    .dataframe thead th {\n",
       "        text-align: right;\n",
       "    }\n",
       "</style>\n",
       "<table border=\"1\" class=\"dataframe\">\n",
       "  <thead>\n",
       "    <tr style=\"text-align: right;\">\n",
       "      <th></th>\n",
       "      <th></th>\n",
       "      <th>count</th>\n",
       "      <th>sum</th>\n",
       "      <th>ratio</th>\n",
       "    </tr>\n",
       "    <tr>\n",
       "      <th>family_status</th>\n",
       "      <th>family_status_id</th>\n",
       "      <th></th>\n",
       "      <th></th>\n",
       "      <th></th>\n",
       "    </tr>\n",
       "  </thead>\n",
       "  <tbody>\n",
       "    <tr>\n",
       "      <th>вдовец / вдова</th>\n",
       "      <th>2</th>\n",
       "      <td>951</td>\n",
       "      <td>63</td>\n",
       "      <td>6.62%</td>\n",
       "    </tr>\n",
       "    <tr>\n",
       "      <th>в разводе</th>\n",
       "      <th>3</th>\n",
       "      <td>1189</td>\n",
       "      <td>84</td>\n",
       "      <td>7.06%</td>\n",
       "    </tr>\n",
       "    <tr>\n",
       "      <th>женат / замужем</th>\n",
       "      <th>0</th>\n",
       "      <td>12261</td>\n",
       "      <td>927</td>\n",
       "      <td>7.56%</td>\n",
       "    </tr>\n",
       "    <tr>\n",
       "      <th>гражданский брак</th>\n",
       "      <th>1</th>\n",
       "      <td>4134</td>\n",
       "      <td>385</td>\n",
       "      <td>9.31%</td>\n",
       "    </tr>\n",
       "    <tr>\n",
       "      <th>Не женат / не замужем</th>\n",
       "      <th>4</th>\n",
       "      <td>2796</td>\n",
       "      <td>273</td>\n",
       "      <td>9.76%</td>\n",
       "    </tr>\n",
       "  </tbody>\n",
       "</table>\n",
       "</div>"
      ],
      "text/plain": [
       "                                        count  sum  ratio\n",
       "family_status         family_status_id                   \n",
       "вдовец / вдова        2                   951   63  6.62%\n",
       "в разводе             3                  1189   84  7.06%\n",
       "женат / замужем       0                 12261  927  7.56%\n",
       "гражданский брак      1                  4134  385  9.31%\n",
       "Не женат / не замужем 4                  2796  273  9.76%"
      ]
     },
     "execution_count": 24,
     "metadata": {},
     "output_type": "execute_result"
    }
   ],
   "source": [
    "# создаем переменную, в которой группируем значения data по семейному положению и наличию долгов\n",
    "#(сразу считаем количество и сумму) \n",
    "family_status_debt = data.groupby(['family_status', 'family_status_id'])['debt'].agg(['count', 'sum'])\n",
    "#определяем отношение в каждой группе\n",
    "family_status_debt['ratio'] = family_status_debt['sum'] / family_status_debt['count']\n",
    "# форматируем результат в столбце\n",
    "family_status_debt['ratio'] = family_status_debt['ratio'].apply('{:.2%}'.format)\n",
    "# выводим отсортированный результат\n",
    "family_status_debt.sort_values('ratio')"
   ]
  },
  {
   "cell_type": "markdown",
   "id": "c389ca63",
   "metadata": {
    "deletable": false,
    "id": "c389ca63"
   },
   "source": [
    "**Вывод:** по предоставленным данным есть зависимость между семейным положением и возвратом кредита в срок, однако такая зависимость может быть мнимой. Истинными причинами могут являться возраст клиентов или наличие детей. Так, овдовевшие люди,  как правило более возрастные и имеющие взрослых детей, более склонны возвращать кредит в срок (процент долгов - 6,62%). Люди, не состоящие в браке, зачастую молоды и менее ответственны и, как следствие, имеют наибольшую задолженность по возврату кредитов (9,76 %)."
   ]
  },
  {
   "cell_type": "markdown",
   "id": "9529de68",
   "metadata": {
    "deletable": false,
    "editable": false,
    "id": "9529de68"
   },
   "source": [
    "#### 3.3 Есть ли зависимость между уровнем дохода и возвратом кредита в срок?"
   ]
  },
  {
   "cell_type": "code",
   "execution_count": 25,
   "id": "8787f44a",
   "metadata": {
    "deletable": false,
    "id": "8787f44a"
   },
   "outputs": [
    {
     "data": {
      "text/html": [
       "<div>\n",
       "<style scoped>\n",
       "    .dataframe tbody tr th:only-of-type {\n",
       "        vertical-align: middle;\n",
       "    }\n",
       "\n",
       "    .dataframe tbody tr th {\n",
       "        vertical-align: top;\n",
       "    }\n",
       "\n",
       "    .dataframe thead th {\n",
       "        text-align: right;\n",
       "    }\n",
       "</style>\n",
       "<table border=\"1\" class=\"dataframe\">\n",
       "  <thead>\n",
       "    <tr style=\"text-align: right;\">\n",
       "      <th></th>\n",
       "      <th>count</th>\n",
       "      <th>sum</th>\n",
       "      <th>ratio</th>\n",
       "    </tr>\n",
       "    <tr>\n",
       "      <th>total_income_category</th>\n",
       "      <th></th>\n",
       "      <th></th>\n",
       "      <th></th>\n",
       "    </tr>\n",
       "  </thead>\n",
       "  <tbody>\n",
       "    <tr>\n",
       "      <th>D</th>\n",
       "      <td>349</td>\n",
       "      <td>21</td>\n",
       "      <td>6.02%</td>\n",
       "    </tr>\n",
       "    <tr>\n",
       "      <th>B</th>\n",
       "      <td>5014</td>\n",
       "      <td>354</td>\n",
       "      <td>7.06%</td>\n",
       "    </tr>\n",
       "    <tr>\n",
       "      <th>A</th>\n",
       "      <td>25</td>\n",
       "      <td>2</td>\n",
       "      <td>8.00%</td>\n",
       "    </tr>\n",
       "    <tr>\n",
       "      <th>C</th>\n",
       "      <td>15921</td>\n",
       "      <td>1353</td>\n",
       "      <td>8.50%</td>\n",
       "    </tr>\n",
       "    <tr>\n",
       "      <th>E</th>\n",
       "      <td>22</td>\n",
       "      <td>2</td>\n",
       "      <td>9.09%</td>\n",
       "    </tr>\n",
       "  </tbody>\n",
       "</table>\n",
       "</div>"
      ],
      "text/plain": [
       "                       count   sum  ratio\n",
       "total_income_category                    \n",
       "D                        349    21  6.02%\n",
       "B                       5014   354  7.06%\n",
       "A                         25     2  8.00%\n",
       "C                      15921  1353  8.50%\n",
       "E                         22     2  9.09%"
      ]
     },
     "execution_count": 25,
     "metadata": {},
     "output_type": "execute_result"
    }
   ],
   "source": [
    "# создаем переменную, в которой группируем значения data по уровню дохода и наличию долгов\n",
    "#(сразу считаем количество и сумму) \n",
    "income_category_debt = data.groupby('total_income_category')['debt'].agg(['count', 'sum'])\n",
    "#определяем отношение в каждой группе\n",
    "income_category_debt['ratio'] = income_category_debt['sum'] / income_category_debt['count']\n",
    "# форматируем результат в столбце\n",
    "income_category_debt['ratio'] = income_category_debt['ratio'].apply('{:.2%}'.format)\n",
    "# выводим отсортированный результат\n",
    "income_category_debt.sort_values('ratio')"
   ]
  },
  {
   "cell_type": "code",
   "execution_count": 26,
   "id": "3330fa84",
   "metadata": {},
   "outputs": [
    {
     "data": {
      "text/html": [
       "<style  type=\"text/css\" >\n",
       "</style><table id=\"T_7e070_\" ><thead>    <tr>        <th class=\"blank level0\" ></th>        <th class=\"col_heading level0 col0\" >debt</th>    </tr>    <tr>        <th class=\"index_name level0\" >total_income_category</th>        <th class=\"blank\" ></th>    </tr></thead><tbody>\n",
       "                <tr>\n",
       "                        <th id=\"T_7e070_level0_row0\" class=\"row_heading level0 row0\" >A</th>\n",
       "                        <td id=\"T_7e070_row0_col0\" class=\"data row0 col0\" >8.00%</td>\n",
       "            </tr>\n",
       "            <tr>\n",
       "                        <th id=\"T_7e070_level0_row1\" class=\"row_heading level0 row1\" >B</th>\n",
       "                        <td id=\"T_7e070_row1_col0\" class=\"data row1 col0\" >7.06%</td>\n",
       "            </tr>\n",
       "            <tr>\n",
       "                        <th id=\"T_7e070_level0_row2\" class=\"row_heading level0 row2\" >C</th>\n",
       "                        <td id=\"T_7e070_row2_col0\" class=\"data row2 col0\" >8.50%</td>\n",
       "            </tr>\n",
       "            <tr>\n",
       "                        <th id=\"T_7e070_level0_row3\" class=\"row_heading level0 row3\" >D</th>\n",
       "                        <td id=\"T_7e070_row3_col0\" class=\"data row3 col0\" >6.02%</td>\n",
       "            </tr>\n",
       "            <tr>\n",
       "                        <th id=\"T_7e070_level0_row4\" class=\"row_heading level0 row4\" >E</th>\n",
       "                        <td id=\"T_7e070_row4_col0\" class=\"data row4 col0\" >9.09%</td>\n",
       "            </tr>\n",
       "    </tbody></table>"
      ],
      "text/plain": [
       "<pandas.io.formats.style.Styler at 0x7f5836de6ca0>"
      ]
     },
     "execution_count": 26,
     "metadata": {},
     "output_type": "execute_result"
    }
   ],
   "source": [
    "table = pd.pivot_table(data, index='total_income_category', values='debt')\n",
    "table.style.format({'debt': '{:.2%}'.format})"
   ]
  },
  {
   "cell_type": "markdown",
   "id": "6dd14b57",
   "metadata": {
    "deletable": false,
    "id": "6dd14b57"
   },
   "source": [
    "**Вывод:** по предоставленным данным, наименьший процент невозврата долгов в группе с доходом от 30001 до 50000 (6.02%), наибольший в группе с доходом менее 30000(9.09%). Однако количество людей слишком сильно различается в выборке по данному признаку (от 22 до 15921), в связи с чем невозможно отследить явную зависимость и сформировать окончательные выводы и предоставить аналитику."
   ]
  },
  {
   "cell_type": "markdown",
   "id": "1dcc9b12",
   "metadata": {
    "deletable": false,
    "editable": false,
    "id": "1dcc9b12"
   },
   "source": [
    "#### 3.4 Как разные цели кредита влияют на его возврат в срок?"
   ]
  },
  {
   "cell_type": "code",
   "execution_count": 27,
   "id": "c602bc8b",
   "metadata": {
    "deletable": false,
    "id": "c602bc8b"
   },
   "outputs": [
    {
     "data": {
      "text/html": [
       "<div>\n",
       "<style scoped>\n",
       "    .dataframe tbody tr th:only-of-type {\n",
       "        vertical-align: middle;\n",
       "    }\n",
       "\n",
       "    .dataframe tbody tr th {\n",
       "        vertical-align: top;\n",
       "    }\n",
       "\n",
       "    .dataframe thead th {\n",
       "        text-align: right;\n",
       "    }\n",
       "</style>\n",
       "<table border=\"1\" class=\"dataframe\">\n",
       "  <thead>\n",
       "    <tr style=\"text-align: right;\">\n",
       "      <th></th>\n",
       "      <th>count</th>\n",
       "      <th>sum</th>\n",
       "      <th>ratio</th>\n",
       "    </tr>\n",
       "    <tr>\n",
       "      <th>purpose_category</th>\n",
       "      <th></th>\n",
       "      <th></th>\n",
       "      <th></th>\n",
       "    </tr>\n",
       "  </thead>\n",
       "  <tbody>\n",
       "    <tr>\n",
       "      <th>операции с недвижимостью</th>\n",
       "      <td>10751</td>\n",
       "      <td>780</td>\n",
       "      <td>7.26%</td>\n",
       "    </tr>\n",
       "    <tr>\n",
       "      <th>проведение свадьбы</th>\n",
       "      <td>2313</td>\n",
       "      <td>183</td>\n",
       "      <td>7.91%</td>\n",
       "    </tr>\n",
       "    <tr>\n",
       "      <th>получение образования</th>\n",
       "      <td>3988</td>\n",
       "      <td>369</td>\n",
       "      <td>9.25%</td>\n",
       "    </tr>\n",
       "    <tr>\n",
       "      <th>операции с автомобилем</th>\n",
       "      <td>4279</td>\n",
       "      <td>400</td>\n",
       "      <td>9.35%</td>\n",
       "    </tr>\n",
       "  </tbody>\n",
       "</table>\n",
       "</div>"
      ],
      "text/plain": [
       "                          count  sum  ratio\n",
       "purpose_category                           \n",
       "операции с недвижимостью  10751  780  7.26%\n",
       "проведение свадьбы         2313  183  7.91%\n",
       "получение образования      3988  369  9.25%\n",
       "операции с автомобилем     4279  400  9.35%"
      ]
     },
     "execution_count": 27,
     "metadata": {},
     "output_type": "execute_result"
    }
   ],
   "source": [
    "# создаем переменную, в которой группируем значения data по цели кредита и наличию долгов\n",
    "#(сразу считаем количество и сумму) \n",
    "purpose_category_debt = data.groupby('purpose_category')['debt'].agg(['count', 'sum'])\n",
    "#определяем отношение в каждой группе\n",
    "purpose_category_debt['ratio'] = purpose_category_debt['sum'] / purpose_category_debt['count']\n",
    "# форматируем результат в столбце\n",
    "purpose_category_debt['ratio'] = purpose_category_debt['ratio'].apply('{:.2%}'.format)\n",
    "# выводим отсортированный результат\n",
    "purpose_category_debt.sort_values('ratio')"
   ]
  },
  {
   "cell_type": "markdown",
   "id": "cf05ed63",
   "metadata": {
    "deletable": false,
    "id": "cf05ed63"
   },
   "source": [
    "**Вывод:** клиеты, которые брали кредит на покупку недвижимости и проведение свадьбы, более склонны возвращать кредит в срок (процент долга в данных группах - 7.26% и 7.91%, соответственно). Менее склонны возвращать кредит в срок клиенты, оформившие кредит на получение образования (9.25%) и на операции с автомобилем (9.35%). \n",
    "\n",
    "Это может быть связано с тем что кредиты на недвижимость являются наиболее приоретными для клиентов, так как недвижимость может быть использована как для жилья, так и в качестве инвестиций. Кредиты на проведение свадьбы чаще всего не предполагают большой суммы, в связи с чем клиентам легче вернуть кредит в срок. Кредиты на образование часто берут молодые люди, которые не всегда способны погашать кредит в срок в связи с учебой и/или отсутствием работы. У клиентов с кредитами на операции с автомобилем могут быть непосредственные непредвиденные расходы, непосредственно связанные с самим автомобилем, так как он требует постоянного обслуживания, что в общей выборке увеличивает процент должников в данной группе."
   ]
  },
  {
   "cell_type": "markdown",
   "id": "46c1f10b",
   "metadata": {
    "deletable": false,
    "editable": false,
    "id": "46c1f10b"
   },
   "source": [
    "#### 3.5 Приведите возможные причины появления пропусков в исходных данных."
   ]
  },
  {
   "cell_type": "markdown",
   "id": "3697d2a9",
   "metadata": {
    "deletable": false,
    "id": "3697d2a9"
   },
   "source": [
    "*Ответ:* причинами пропусков в исходных данных могут являться человеческих фактор, ошибка системы или процесса выгрузки данных."
   ]
  },
  {
   "cell_type": "markdown",
   "id": "3137d257",
   "metadata": {
    "deletable": false,
    "editable": false,
    "id": "3137d257"
   },
   "source": [
    "#### 3.6 Объясните, почему заполнить пропуски медианным значением — лучшее решение для количественных переменных."
   ]
  },
  {
   "cell_type": "markdown",
   "id": "cf40012a",
   "metadata": {
    "deletable": false,
    "id": "cf40012a"
   },
   "source": [
    "*Ответ:* медианное значение менее чувствительно к изменениям в данных, чем среднее значение, что делает её более стабильной мерой центральной тенденции. Медиана является устойчивым показателем к выбросам, что позволяет сохранить исходное распределение данных. "
   ]
  },
  {
   "cell_type": "markdown",
   "id": "57bc304e",
   "metadata": {
    "deletable": false,
    "editable": false,
    "id": "57bc304e"
   },
   "source": [
    "### Шаг 4: общий вывод."
   ]
  },
  {
   "cell_type": "markdown",
   "id": "1ab75d1c",
   "metadata": {
    "deletable": false,
    "id": "1ab75d1c"
   },
   "source": [
    "В ходе проекта была проведена оценка полученных данных, обработаны пустые значения и дубликаты, дополнительно выделены категории клиентов по уровню дохода и цели кредита.\n",
    "\n",
    "В ходе исследования была выявлена зависимость между количеством детей и возвратом кредита в срок. В группе 'нет детей' наименьший процент невозврата кредита (7,54%), по всей видимости в виду меньшего количества непредвиденных расходов. В группе '3 и более детей' процент невозврата кредита 8.16%. Клиенты данной группы более ответственно относятся к планированию расходов или имеют бОльшую финансовую возможность вернуть кредит в срок, чем клиенты с 1 и 2 детьми (9,23% и 9,45%, соответственно). \n",
    "\n",
    "По предоставленным данным есть зависимость между семейным положением и возвратом кредита в срок, однако такая зависимость может быть мнимой. Истинными причинами могут являться возраст клиентов или наличие детей. Так, овдовевшие люди,  как правило более возрастные и имеющие взрослых детей, более склонны возвращать кредит в срок (процент долгов - 6,62%). Люди, не состоящие в браке, зачастую молоды и менее ответственны и, как следствие, имеют наибольшую задолженность по возврату кредитов (9,76 %).\n",
    "\n",
    "Установить достоверную зависимость между уровнем дохода и возвратом кредита в срок не представляется возможным. Gо предоставленным данным, наименьший процент невозврата долгов в группе с доходом от 30001 до 50000 (6.02%), наибольший в группе с доходом менее 30000(9.09%). Однако количество людей слишком сильно различается в выборке по данному признаку (от 22 до 15921), в связи с чем невозможно отследить явную зависимость и сформировать окончательные выводы и предоставить аналитику.\n",
    "\n",
    "В ходе проекта была установлено влияение целей кредита на его возврат в срок. Клиеты, которые брали кредит на покупку недвижимости и проведение свадьбы, более склонны возвращать кредит в срок (процент долга в данных группах - 7.26% и 7.91%, соответвенно). Менее склонны вохвращать кредит в срок клиенты, оформившие кредит на получение образования (9.25%) и на операции с автомобилем (9.35%). Это может быть связано с тем что кредиты на недвижимость являются наиболее приоретными для клиентов, так как недвижимость может быть использована как для жилья, так и в качестве инвестиций. Кредиты на проведение свадьбы чаще всего не предполагают большой суммы, в связи с чем клиентам легче вернуть кредит в срок. Кредиты на образование часто берут молодые люди, которые не всегда способны погашать кредит в срок в связи с учебой и/или отсутствием работы. У клиентов с кредитами на операции с автомобилем могут быть непосредственные непредвиденные расходы, непосредственно связанные с самим автомобилем, так как он требует постоянного обслуживания, что в общей выборке увеличивает процент должников в данной группе."
   ]
  },
  {
   "cell_type": "code",
   "execution_count": null,
   "id": "8d6a7103",
   "metadata": {},
   "outputs": [],
   "source": []
  }
 ],
 "metadata": {
  "ExecuteTimeLog": [
   {
    "duration": 458,
    "start_time": "2024-07-18T12:12:11.148Z"
   },
   {
    "duration": 23,
    "start_time": "2024-07-18T12:12:11.608Z"
   },
   {
    "duration": 65,
    "start_time": "2024-07-18T12:12:11.633Z"
   },
   {
    "duration": 13,
    "start_time": "2024-07-18T12:12:11.700Z"
   },
   {
    "duration": 35,
    "start_time": "2024-07-18T12:12:11.715Z"
   },
   {
    "duration": 3,
    "start_time": "2024-07-18T12:12:11.752Z"
   },
   {
    "duration": 41,
    "start_time": "2024-07-18T12:12:11.756Z"
   },
   {
    "duration": 5,
    "start_time": "2024-07-18T12:12:11.798Z"
   },
   {
    "duration": 8,
    "start_time": "2024-07-18T12:12:11.804Z"
   },
   {
    "duration": 5,
    "start_time": "2024-07-18T12:12:11.814Z"
   },
   {
    "duration": 46,
    "start_time": "2024-07-18T12:12:11.820Z"
   },
   {
    "duration": 10,
    "start_time": "2024-07-18T12:12:11.868Z"
   },
   {
    "duration": 8,
    "start_time": "2024-07-18T12:12:11.889Z"
   },
   {
    "duration": 16,
    "start_time": "2024-07-18T12:12:11.901Z"
   },
   {
    "duration": 20,
    "start_time": "2024-07-18T12:12:11.919Z"
   },
   {
    "duration": 17,
    "start_time": "2024-07-18T12:12:11.941Z"
   },
   {
    "duration": 4,
    "start_time": "2024-07-18T12:12:11.960Z"
   },
   {
    "duration": 36,
    "start_time": "2024-07-18T12:12:11.966Z"
   },
   {
    "duration": 33,
    "start_time": "2024-07-18T12:12:12.004Z"
   },
   {
    "duration": 13,
    "start_time": "2024-07-18T12:12:12.039Z"
   },
   {
    "duration": 15,
    "start_time": "2024-07-18T12:12:12.054Z"
   },
   {
    "duration": 3,
    "start_time": "2024-07-18T12:12:12.070Z"
   },
   {
    "duration": 5,
    "start_time": "2024-07-18T12:12:12.075Z"
   },
   {
    "duration": 14,
    "start_time": "2024-07-18T12:12:12.082Z"
   },
   {
    "duration": 15,
    "start_time": "2024-07-18T12:12:12.098Z"
   },
   {
    "duration": 11,
    "start_time": "2024-07-18T12:20:17.325Z"
   },
   {
    "duration": 9,
    "start_time": "2024-07-18T12:27:17.859Z"
   },
   {
    "duration": 11,
    "start_time": "2024-07-18T12:28:14.013Z"
   },
   {
    "duration": 11,
    "start_time": "2024-07-18T12:29:10.643Z"
   },
   {
    "duration": 12,
    "start_time": "2024-07-18T12:29:20.167Z"
   },
   {
    "duration": 11,
    "start_time": "2024-07-18T12:29:40.452Z"
   },
   {
    "duration": 50,
    "start_time": "2024-07-18T13:55:20.718Z"
   },
   {
    "duration": 711,
    "start_time": "2024-07-18T13:55:35.728Z"
   },
   {
    "duration": 22,
    "start_time": "2024-07-18T13:55:36.440Z"
   },
   {
    "duration": 15,
    "start_time": "2024-07-18T13:55:36.464Z"
   },
   {
    "duration": 11,
    "start_time": "2024-07-18T13:55:36.480Z"
   },
   {
    "duration": 39,
    "start_time": "2024-07-18T13:55:36.493Z"
   },
   {
    "duration": 4,
    "start_time": "2024-07-18T13:55:36.534Z"
   },
   {
    "duration": 12,
    "start_time": "2024-07-18T13:55:36.539Z"
   },
   {
    "duration": 4,
    "start_time": "2024-07-18T13:55:36.553Z"
   },
   {
    "duration": 12,
    "start_time": "2024-07-18T13:55:36.558Z"
   },
   {
    "duration": 6,
    "start_time": "2024-07-18T13:55:36.571Z"
   },
   {
    "duration": 59,
    "start_time": "2024-07-18T13:55:36.578Z"
   },
   {
    "duration": 10,
    "start_time": "2024-07-18T13:55:36.639Z"
   },
   {
    "duration": 4,
    "start_time": "2024-07-18T13:55:36.650Z"
   },
   {
    "duration": 13,
    "start_time": "2024-07-18T13:55:36.656Z"
   },
   {
    "duration": 43,
    "start_time": "2024-07-18T13:55:36.670Z"
   },
   {
    "duration": 17,
    "start_time": "2024-07-18T13:55:36.714Z"
   },
   {
    "duration": 4,
    "start_time": "2024-07-18T13:55:36.732Z"
   },
   {
    "duration": 25,
    "start_time": "2024-07-18T13:55:36.738Z"
   },
   {
    "duration": 5,
    "start_time": "2024-07-18T13:55:36.765Z"
   },
   {
    "duration": 3,
    "start_time": "2024-07-18T13:55:36.772Z"
   },
   {
    "duration": 10,
    "start_time": "2024-07-18T13:55:36.776Z"
   },
   {
    "duration": 27,
    "start_time": "2024-07-18T13:55:36.788Z"
   },
   {
    "duration": 2,
    "start_time": "2024-07-18T13:55:36.817Z"
   },
   {
    "duration": 4,
    "start_time": "2024-07-18T13:55:36.820Z"
   },
   {
    "duration": 4,
    "start_time": "2024-07-18T13:55:36.825Z"
   },
   {
    "duration": 73,
    "start_time": "2024-07-18T14:07:33.069Z"
   },
   {
    "duration": 18,
    "start_time": "2024-07-18T14:08:32.469Z"
   },
   {
    "duration": 12,
    "start_time": "2024-07-18T14:08:49.716Z"
   },
   {
    "duration": 13,
    "start_time": "2024-07-18T14:10:20.107Z"
   },
   {
    "duration": 13,
    "start_time": "2024-07-18T14:10:28.846Z"
   },
   {
    "duration": 16,
    "start_time": "2024-07-18T14:10:32.334Z"
   },
   {
    "duration": 14,
    "start_time": "2024-07-18T14:16:08.775Z"
   },
   {
    "duration": 11,
    "start_time": "2024-07-18T14:22:56.608Z"
   },
   {
    "duration": 12,
    "start_time": "2024-07-18T14:23:26.703Z"
   },
   {
    "duration": 14,
    "start_time": "2024-07-18T14:27:56.964Z"
   },
   {
    "duration": 482,
    "start_time": "2024-07-18T14:54:07.148Z"
   },
   {
    "duration": 23,
    "start_time": "2024-07-18T14:54:07.633Z"
   },
   {
    "duration": 18,
    "start_time": "2024-07-18T14:54:07.657Z"
   },
   {
    "duration": 34,
    "start_time": "2024-07-18T14:54:07.677Z"
   },
   {
    "duration": 50,
    "start_time": "2024-07-18T14:54:07.713Z"
   },
   {
    "duration": 3,
    "start_time": "2024-07-18T14:54:07.764Z"
   },
   {
    "duration": 8,
    "start_time": "2024-07-18T14:54:07.769Z"
   },
   {
    "duration": 6,
    "start_time": "2024-07-18T14:54:07.778Z"
   },
   {
    "duration": 30,
    "start_time": "2024-07-18T14:54:07.785Z"
   },
   {
    "duration": 5,
    "start_time": "2024-07-18T14:54:07.817Z"
   },
   {
    "duration": 36,
    "start_time": "2024-07-18T14:54:07.824Z"
   },
   {
    "duration": 11,
    "start_time": "2024-07-18T14:54:07.862Z"
   },
   {
    "duration": 8,
    "start_time": "2024-07-18T14:54:07.875Z"
   },
   {
    "duration": 12,
    "start_time": "2024-07-18T14:54:07.908Z"
   },
   {
    "duration": 20,
    "start_time": "2024-07-18T14:54:07.921Z"
   },
   {
    "duration": 23,
    "start_time": "2024-07-18T14:54:07.943Z"
   },
   {
    "duration": 5,
    "start_time": "2024-07-18T14:54:07.968Z"
   },
   {
    "duration": 45,
    "start_time": "2024-07-18T14:54:07.974Z"
   },
   {
    "duration": 6,
    "start_time": "2024-07-18T14:54:08.021Z"
   },
   {
    "duration": 4,
    "start_time": "2024-07-18T14:54:08.028Z"
   },
   {
    "duration": 9,
    "start_time": "2024-07-18T14:54:08.033Z"
   },
   {
    "duration": 14,
    "start_time": "2024-07-18T14:54:08.044Z"
   },
   {
    "duration": 16,
    "start_time": "2024-07-18T14:54:08.059Z"
   },
   {
    "duration": 42,
    "start_time": "2024-07-18T14:54:08.076Z"
   },
   {
    "duration": 13,
    "start_time": "2024-07-18T14:54:08.120Z"
   },
   {
    "duration": 410,
    "start_time": "2024-07-19T09:29:04.071Z"
   },
   {
    "duration": 18,
    "start_time": "2024-07-19T09:29:04.482Z"
   },
   {
    "duration": 17,
    "start_time": "2024-07-19T09:29:04.502Z"
   },
   {
    "duration": 7,
    "start_time": "2024-07-19T09:29:04.521Z"
   },
   {
    "duration": 26,
    "start_time": "2024-07-19T09:29:04.529Z"
   },
   {
    "duration": 3,
    "start_time": "2024-07-19T09:29:04.556Z"
   },
   {
    "duration": 26,
    "start_time": "2024-07-19T09:29:04.560Z"
   },
   {
    "duration": 8,
    "start_time": "2024-07-19T09:29:04.587Z"
   },
   {
    "duration": 77,
    "start_time": "2024-07-19T09:29:04.596Z"
   },
   {
    "duration": 6,
    "start_time": "2024-07-19T09:29:04.675Z"
   },
   {
    "duration": 38,
    "start_time": "2024-07-19T09:29:04.682Z"
   },
   {
    "duration": 7,
    "start_time": "2024-07-19T09:29:04.722Z"
   },
   {
    "duration": 148,
    "start_time": "2024-07-19T09:29:04.731Z"
   },
   {
    "duration": 16,
    "start_time": "2024-07-19T09:29:04.881Z"
   },
   {
    "duration": 22,
    "start_time": "2024-07-19T09:29:04.898Z"
   },
   {
    "duration": 15,
    "start_time": "2024-07-19T09:29:04.921Z"
   },
   {
    "duration": 7,
    "start_time": "2024-07-19T09:29:04.938Z"
   },
   {
    "duration": 12,
    "start_time": "2024-07-19T09:29:04.946Z"
   },
   {
    "duration": 4,
    "start_time": "2024-07-19T09:29:04.959Z"
   },
   {
    "duration": 5,
    "start_time": "2024-07-19T09:29:04.965Z"
   },
   {
    "duration": 13,
    "start_time": "2024-07-19T09:29:04.971Z"
   },
   {
    "duration": 28,
    "start_time": "2024-07-19T09:29:04.985Z"
   },
   {
    "duration": 13,
    "start_time": "2024-07-19T09:29:05.015Z"
   },
   {
    "duration": 15,
    "start_time": "2024-07-19T09:29:05.029Z"
   },
   {
    "duration": 12,
    "start_time": "2024-07-19T09:29:05.045Z"
   },
   {
    "duration": 339,
    "start_time": "2024-07-19T09:30:17.249Z"
   },
   {
    "duration": 444,
    "start_time": "2024-07-19T09:30:37.612Z"
   },
   {
    "duration": 19,
    "start_time": "2024-07-19T09:30:38.057Z"
   },
   {
    "duration": 38,
    "start_time": "2024-07-19T09:30:38.077Z"
   },
   {
    "duration": 17,
    "start_time": "2024-07-19T09:30:38.117Z"
   },
   {
    "duration": 41,
    "start_time": "2024-07-19T09:30:38.135Z"
   },
   {
    "duration": 11,
    "start_time": "2024-07-19T09:30:38.177Z"
   },
   {
    "duration": 32,
    "start_time": "2024-07-19T09:30:38.189Z"
   },
   {
    "duration": 4,
    "start_time": "2024-07-19T09:30:38.222Z"
   },
   {
    "duration": 29,
    "start_time": "2024-07-19T09:30:38.227Z"
   },
   {
    "duration": 17,
    "start_time": "2024-07-19T09:30:38.257Z"
   },
   {
    "duration": 49,
    "start_time": "2024-07-19T09:30:38.276Z"
   },
   {
    "duration": 8,
    "start_time": "2024-07-19T09:30:38.326Z"
   },
   {
    "duration": 12,
    "start_time": "2024-07-19T09:30:38.335Z"
   },
   {
    "duration": 10,
    "start_time": "2024-07-19T09:30:38.349Z"
   },
   {
    "duration": 27,
    "start_time": "2024-07-19T09:30:38.360Z"
   },
   {
    "duration": 25,
    "start_time": "2024-07-19T09:30:38.388Z"
   },
   {
    "duration": 3,
    "start_time": "2024-07-19T09:30:38.414Z"
   },
   {
    "duration": 24,
    "start_time": "2024-07-19T09:30:38.419Z"
   },
   {
    "duration": 5,
    "start_time": "2024-07-19T09:30:38.445Z"
   },
   {
    "duration": 5,
    "start_time": "2024-07-19T09:30:38.452Z"
   },
   {
    "duration": 9,
    "start_time": "2024-07-19T09:30:38.458Z"
   },
   {
    "duration": 18,
    "start_time": "2024-07-19T09:30:38.469Z"
   },
   {
    "duration": 24,
    "start_time": "2024-07-19T09:30:38.488Z"
   },
   {
    "duration": 12,
    "start_time": "2024-07-19T09:30:38.513Z"
   },
   {
    "duration": 17,
    "start_time": "2024-07-19T09:30:38.526Z"
   },
   {
    "duration": 329,
    "start_time": "2024-07-19T09:31:06.330Z"
   },
   {
    "duration": 291,
    "start_time": "2024-07-19T09:31:12.586Z"
   },
   {
    "duration": 70,
    "start_time": "2024-07-19T11:18:51.228Z"
   },
   {
    "duration": 70,
    "start_time": "2024-07-19T11:19:18.053Z"
   },
   {
    "duration": 5,
    "start_time": "2024-07-19T11:19:32.278Z"
   },
   {
    "duration": 56,
    "start_time": "2024-07-19T11:21:42.572Z"
   },
   {
    "duration": 556,
    "start_time": "2024-07-19T11:21:58.799Z"
   },
   {
    "duration": 24,
    "start_time": "2024-07-19T11:21:59.357Z"
   },
   {
    "duration": 17,
    "start_time": "2024-07-19T11:21:59.383Z"
   },
   {
    "duration": 11,
    "start_time": "2024-07-19T11:21:59.401Z"
   },
   {
    "duration": 60,
    "start_time": "2024-07-19T11:21:59.415Z"
   },
   {
    "duration": 3,
    "start_time": "2024-07-19T11:21:59.477Z"
   },
   {
    "duration": 28,
    "start_time": "2024-07-19T11:21:59.482Z"
   },
   {
    "duration": 7,
    "start_time": "2024-07-19T11:21:59.511Z"
   },
   {
    "duration": 10,
    "start_time": "2024-07-19T11:21:59.520Z"
   },
   {
    "duration": 4,
    "start_time": "2024-07-19T11:21:59.532Z"
   },
   {
    "duration": 46,
    "start_time": "2024-07-19T11:21:59.537Z"
   },
   {
    "duration": 11,
    "start_time": "2024-07-19T11:21:59.585Z"
   },
   {
    "duration": 4,
    "start_time": "2024-07-19T11:21:59.598Z"
   },
   {
    "duration": 13,
    "start_time": "2024-07-19T11:21:59.604Z"
   },
   {
    "duration": 48,
    "start_time": "2024-07-19T11:21:59.618Z"
   },
   {
    "duration": 17,
    "start_time": "2024-07-19T11:21:59.668Z"
   },
   {
    "duration": 7,
    "start_time": "2024-07-19T11:21:59.687Z"
   },
   {
    "duration": 20,
    "start_time": "2024-07-19T11:21:59.696Z"
   },
   {
    "duration": 7,
    "start_time": "2024-07-19T11:21:59.717Z"
   },
   {
    "duration": 4,
    "start_time": "2024-07-19T11:21:59.726Z"
   },
   {
    "duration": 15,
    "start_time": "2024-07-19T11:21:59.731Z"
   },
   {
    "duration": 31,
    "start_time": "2024-07-19T11:21:59.747Z"
   },
   {
    "duration": 24,
    "start_time": "2024-07-19T11:21:59.779Z"
   },
   {
    "duration": 17,
    "start_time": "2024-07-19T11:21:59.805Z"
   },
   {
    "duration": 13,
    "start_time": "2024-07-19T11:21:59.824Z"
   },
   {
    "duration": 34,
    "start_time": "2024-07-19T11:21:59.839Z"
   },
   {
    "duration": 7,
    "start_time": "2024-07-19T11:22:37.330Z"
   },
   {
    "duration": 14,
    "start_time": "2024-07-19T11:22:43.606Z"
   },
   {
    "duration": 8,
    "start_time": "2024-07-19T11:25:31.412Z"
   },
   {
    "duration": 86,
    "start_time": "2024-07-19T12:00:44.384Z"
   },
   {
    "duration": 48,
    "start_time": "2024-07-19T14:04:29.103Z"
   },
   {
    "duration": 13,
    "start_time": "2024-07-19T14:05:25.137Z"
   },
   {
    "duration": 18,
    "start_time": "2024-07-19T14:05:38.918Z"
   },
   {
    "duration": 20,
    "start_time": "2024-07-19T14:06:28.127Z"
   },
   {
    "duration": 42,
    "start_time": "2024-07-19T14:24:10.140Z"
   },
   {
    "duration": 4,
    "start_time": "2024-07-19T14:26:53.521Z"
   },
   {
    "duration": 51,
    "start_time": "2024-07-19T14:27:07.543Z"
   },
   {
    "duration": 15,
    "start_time": "2024-07-19T14:31:00.541Z"
   },
   {
    "duration": 62,
    "start_time": "2024-07-19T14:31:55.345Z"
   },
   {
    "duration": 544,
    "start_time": "2024-07-19T14:34:39.606Z"
   },
   {
    "duration": 24,
    "start_time": "2024-07-19T14:37:03.169Z"
   },
   {
    "duration": 27,
    "start_time": "2024-07-19T14:38:44.070Z"
   },
   {
    "duration": 16,
    "start_time": "2024-07-19T14:39:02.634Z"
   },
   {
    "duration": 15,
    "start_time": "2024-07-19T14:39:15.006Z"
   },
   {
    "duration": 17,
    "start_time": "2024-07-19T14:39:22.341Z"
   },
   {
    "duration": 23,
    "start_time": "2024-07-19T14:39:28.356Z"
   },
   {
    "duration": 34,
    "start_time": "2024-07-19T15:00:55.369Z"
   },
   {
    "duration": 20,
    "start_time": "2024-07-19T15:00:59.739Z"
   },
   {
    "duration": 496,
    "start_time": "2024-07-19T15:05:37.098Z"
   },
   {
    "duration": 23,
    "start_time": "2024-07-19T15:05:37.596Z"
   },
   {
    "duration": 17,
    "start_time": "2024-07-19T15:05:37.621Z"
   },
   {
    "duration": 27,
    "start_time": "2024-07-19T15:05:37.639Z"
   },
   {
    "duration": 38,
    "start_time": "2024-07-19T15:05:37.668Z"
   },
   {
    "duration": 4,
    "start_time": "2024-07-19T15:05:37.708Z"
   },
   {
    "duration": 10,
    "start_time": "2024-07-19T15:05:37.713Z"
   },
   {
    "duration": 12,
    "start_time": "2024-07-19T15:05:37.724Z"
   },
   {
    "duration": 27,
    "start_time": "2024-07-19T15:05:37.738Z"
   },
   {
    "duration": 6,
    "start_time": "2024-07-19T15:05:37.766Z"
   },
   {
    "duration": 39,
    "start_time": "2024-07-19T15:05:37.773Z"
   },
   {
    "duration": 11,
    "start_time": "2024-07-19T15:05:37.814Z"
   },
   {
    "duration": 35,
    "start_time": "2024-07-19T15:05:37.827Z"
   },
   {
    "duration": 29,
    "start_time": "2024-07-19T15:05:37.865Z"
   },
   {
    "duration": 52,
    "start_time": "2024-07-19T15:05:37.896Z"
   },
   {
    "duration": 20,
    "start_time": "2024-07-19T15:05:37.950Z"
   },
   {
    "duration": 5,
    "start_time": "2024-07-19T15:05:37.971Z"
   },
   {
    "duration": 13,
    "start_time": "2024-07-19T15:05:37.977Z"
   },
   {
    "duration": 5,
    "start_time": "2024-07-19T15:05:37.992Z"
   },
   {
    "duration": 5,
    "start_time": "2024-07-19T15:05:37.999Z"
   },
   {
    "duration": 25,
    "start_time": "2024-07-19T15:05:38.006Z"
   },
   {
    "duration": 16,
    "start_time": "2024-07-19T15:05:38.032Z"
   },
   {
    "duration": 40,
    "start_time": "2024-07-19T15:05:38.049Z"
   },
   {
    "duration": 30,
    "start_time": "2024-07-19T15:05:38.091Z"
   },
   {
    "duration": 12,
    "start_time": "2024-07-19T15:05:38.123Z"
   },
   {
    "duration": 329,
    "start_time": "2024-07-19T15:05:38.137Z"
   },
   {
    "duration": 17,
    "start_time": "2024-07-19T15:05:38.468Z"
   },
   {
    "duration": 9,
    "start_time": "2024-07-19T15:06:44.326Z"
   },
   {
    "duration": 526,
    "start_time": "2024-07-19T15:06:50.353Z"
   },
   {
    "duration": 22,
    "start_time": "2024-07-19T15:06:50.881Z"
   },
   {
    "duration": 16,
    "start_time": "2024-07-19T15:06:50.907Z"
   },
   {
    "duration": 12,
    "start_time": "2024-07-19T15:06:50.924Z"
   },
   {
    "duration": 58,
    "start_time": "2024-07-19T15:06:50.937Z"
   },
   {
    "duration": 4,
    "start_time": "2024-07-19T15:06:50.996Z"
   },
   {
    "duration": 12,
    "start_time": "2024-07-19T15:06:51.001Z"
   },
   {
    "duration": 4,
    "start_time": "2024-07-19T15:06:51.014Z"
   },
   {
    "duration": 7,
    "start_time": "2024-07-19T15:06:51.022Z"
   },
   {
    "duration": 6,
    "start_time": "2024-07-19T15:06:51.030Z"
   },
   {
    "duration": 62,
    "start_time": "2024-07-19T15:06:51.037Z"
   },
   {
    "duration": 11,
    "start_time": "2024-07-19T15:06:51.101Z"
   },
   {
    "duration": 4,
    "start_time": "2024-07-19T15:06:51.114Z"
   },
   {
    "duration": 22,
    "start_time": "2024-07-19T15:06:51.120Z"
   },
   {
    "duration": 35,
    "start_time": "2024-07-19T15:06:51.144Z"
   },
   {
    "duration": 18,
    "start_time": "2024-07-19T15:06:51.181Z"
   },
   {
    "duration": 4,
    "start_time": "2024-07-19T15:06:51.201Z"
   },
   {
    "duration": 21,
    "start_time": "2024-07-19T15:06:51.207Z"
   },
   {
    "duration": 6,
    "start_time": "2024-07-19T15:06:51.230Z"
   },
   {
    "duration": 28,
    "start_time": "2024-07-19T15:06:51.238Z"
   },
   {
    "duration": 10,
    "start_time": "2024-07-19T15:06:51.268Z"
   },
   {
    "duration": 9,
    "start_time": "2024-07-19T15:06:51.280Z"
   },
   {
    "duration": 34,
    "start_time": "2024-07-19T15:06:51.291Z"
   },
   {
    "duration": 17,
    "start_time": "2024-07-19T15:06:51.326Z"
   },
   {
    "duration": 29,
    "start_time": "2024-07-19T15:06:51.344Z"
   },
   {
    "duration": 314,
    "start_time": "2024-07-19T15:06:51.375Z"
   },
   {
    "duration": 16,
    "start_time": "2024-07-19T15:06:51.693Z"
   },
   {
    "duration": 471,
    "start_time": "2024-07-19T15:10:11.088Z"
   },
   {
    "duration": 22,
    "start_time": "2024-07-19T15:10:11.561Z"
   },
   {
    "duration": 16,
    "start_time": "2024-07-19T15:10:11.584Z"
   },
   {
    "duration": 11,
    "start_time": "2024-07-19T15:10:11.602Z"
   },
   {
    "duration": 51,
    "start_time": "2024-07-19T15:10:11.614Z"
   },
   {
    "duration": 4,
    "start_time": "2024-07-19T15:10:11.667Z"
   },
   {
    "duration": 10,
    "start_time": "2024-07-19T15:10:11.673Z"
   },
   {
    "duration": 5,
    "start_time": "2024-07-19T15:10:11.685Z"
   },
   {
    "duration": 10,
    "start_time": "2024-07-19T15:10:11.691Z"
   },
   {
    "duration": 5,
    "start_time": "2024-07-19T15:10:11.704Z"
   },
   {
    "duration": 74,
    "start_time": "2024-07-19T15:10:11.711Z"
   },
   {
    "duration": 11,
    "start_time": "2024-07-19T15:10:11.787Z"
   },
   {
    "duration": 3,
    "start_time": "2024-07-19T15:10:11.800Z"
   },
   {
    "duration": 53,
    "start_time": "2024-07-19T15:10:11.805Z"
   },
   {
    "duration": 20,
    "start_time": "2024-07-19T15:10:11.860Z"
   },
   {
    "duration": 18,
    "start_time": "2024-07-19T15:10:11.881Z"
   },
   {
    "duration": 4,
    "start_time": "2024-07-19T15:10:11.900Z"
   },
   {
    "duration": 35,
    "start_time": "2024-07-19T15:10:11.905Z"
   },
   {
    "duration": 6,
    "start_time": "2024-07-19T15:10:11.941Z"
   },
   {
    "duration": 4,
    "start_time": "2024-07-19T15:10:11.948Z"
   },
   {
    "duration": 12,
    "start_time": "2024-07-19T15:10:11.953Z"
   },
   {
    "duration": 8,
    "start_time": "2024-07-19T15:10:11.966Z"
   },
   {
    "duration": 14,
    "start_time": "2024-07-19T15:10:11.976Z"
   },
   {
    "duration": 15,
    "start_time": "2024-07-19T15:10:11.992Z"
   },
   {
    "duration": 14,
    "start_time": "2024-07-19T15:10:12.009Z"
   },
   {
    "duration": 334,
    "start_time": "2024-07-19T15:10:12.025Z"
   },
   {
    "duration": 17,
    "start_time": "2024-07-19T15:10:12.360Z"
   },
   {
    "duration": 469,
    "start_time": "2025-06-08T09:26:23.969Z"
   },
   {
    "duration": 21,
    "start_time": "2025-06-08T09:26:24.440Z"
   },
   {
    "duration": 15,
    "start_time": "2025-06-08T09:26:24.463Z"
   },
   {
    "duration": 11,
    "start_time": "2025-06-08T09:26:24.479Z"
   },
   {
    "duration": 51,
    "start_time": "2025-06-08T09:26:24.492Z"
   },
   {
    "duration": 3,
    "start_time": "2025-06-08T09:26:24.545Z"
   },
   {
    "duration": 9,
    "start_time": "2025-06-08T09:26:24.549Z"
   },
   {
    "duration": 6,
    "start_time": "2025-06-08T09:26:24.559Z"
   },
   {
    "duration": 8,
    "start_time": "2025-06-08T09:26:24.566Z"
   },
   {
    "duration": 4,
    "start_time": "2025-06-08T09:26:24.576Z"
   },
   {
    "duration": 68,
    "start_time": "2025-06-08T09:26:24.581Z"
   },
   {
    "duration": 9,
    "start_time": "2025-06-08T09:26:24.651Z"
   },
   {
    "duration": 3,
    "start_time": "2025-06-08T09:26:24.662Z"
   },
   {
    "duration": 16,
    "start_time": "2025-06-08T09:26:24.667Z"
   },
   {
    "duration": 52,
    "start_time": "2025-06-08T09:26:24.686Z"
   },
   {
    "duration": 17,
    "start_time": "2025-06-08T09:26:24.739Z"
   },
   {
    "duration": 3,
    "start_time": "2025-06-08T09:26:24.758Z"
   },
   {
    "duration": 14,
    "start_time": "2025-06-08T09:26:24.763Z"
   },
   {
    "duration": 7,
    "start_time": "2025-06-08T09:26:24.779Z"
   },
   {
    "duration": 21,
    "start_time": "2025-06-08T09:26:24.787Z"
   },
   {
    "duration": 14,
    "start_time": "2025-06-08T09:26:24.810Z"
   },
   {
    "duration": 9,
    "start_time": "2025-06-08T09:26:24.837Z"
   },
   {
    "duration": 19,
    "start_time": "2025-06-08T09:26:24.847Z"
   },
   {
    "duration": 17,
    "start_time": "2025-06-08T09:26:24.868Z"
   },
   {
    "duration": 14,
    "start_time": "2025-06-08T09:26:24.887Z"
   },
   {
    "duration": 489,
    "start_time": "2025-06-08T09:26:24.903Z"
   },
   {
    "duration": 16,
    "start_time": "2025-06-08T09:26:25.394Z"
   }
  ],
  "colab": {
   "provenance": []
  },
  "kernelspec": {
   "display_name": "Python 3 (ipykernel)",
   "language": "python",
   "name": "python3"
  },
  "language_info": {
   "codemirror_mode": {
    "name": "ipython",
    "version": 3
   },
   "file_extension": ".py",
   "mimetype": "text/x-python",
   "name": "python",
   "nbconvert_exporter": "python",
   "pygments_lexer": "ipython3",
   "version": "3.9.5"
  },
  "toc": {
   "base_numbering": 1,
   "nav_menu": {},
   "number_sections": true,
   "sideBar": true,
   "skip_h1_title": true,
   "title_cell": "Table of Contents",
   "title_sidebar": "Contents",
   "toc_cell": false,
   "toc_position": {},
   "toc_section_display": true,
   "toc_window_display": false
  }
 },
 "nbformat": 4,
 "nbformat_minor": 5
}
