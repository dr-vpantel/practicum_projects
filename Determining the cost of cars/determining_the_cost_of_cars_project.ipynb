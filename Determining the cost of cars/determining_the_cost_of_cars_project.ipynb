{
 "cells": [
  {
   "cell_type": "markdown",
   "metadata": {},
   "source": [
    "# Определение стоимости автомобилей"
   ]
  },
  {
   "cell_type": "markdown",
   "metadata": {},
   "source": [
    "Сервис по продаже автомобилей с пробегом «Не бит, не крашен» разрабатывает приложение для привлечения новых клиентов. В нём можно быстро узнать рыночную стоимость своего автомобиля. В нашем распоряжении исторические данные: технические характеристики, комплектации и цены автомобилей. Заказчику важны: качество предсказания; скорость предсказания;время обучения.\n",
    "\n",
    "**Цель:** построить модель для определения стоимости. \n",
    "\n",
    "**План действий**\n",
    "1. Загрузить данные и изучить данные. \n",
    "2. Выполнить предобработку данных\n",
    "3. Подготовка выборок для обучения моделей.\n",
    "4. Обучение разные моделей линейной регрессии, случайного леса и LightGBM с разными гиперпараметры.\n",
    "5. Анализ времени обучения, времени предсказания и качества моделей (метрика RMSE).\n",
    "6. Выбор лучшей модели, проверка на тестовой выборке и формирование рекомендаций заказчику, на основе предоставленных критериев."
   ]
  },
  {
   "cell_type": "markdown",
   "metadata": {},
   "source": [
    "**Признаки**\n",
    "* `DateCrawled` — дата скачивания анкеты из базы\n",
    "* `VehicleType` — тип автомобильного кузова\n",
    "* `RegistrationYear` — год регистрации автомобиля\n",
    "* `Gearbox` — тип коробки передач\n",
    "* `Power` — мощность (л. с.)\n",
    "* `Model` — модель автомобиля\n",
    "* `Kilometer` — пробег (км)\n",
    "* `RegistrationMonth` — месяц регистрации автомобиля\n",
    "* `FuelType` — тип топлива\n",
    "* `Brand` — марка автомобиля\n",
    "* `Repaired` — была машина в ремонте или нет\n",
    "* `DateCreated` — дата создания анкеты\n",
    "* `NumberOfPictures` — количество фотографий автомобиля\n",
    "* `PostalCode` — почтовый индекс владельца анкеты (пользователя)\n",
    "* `LastSeen` — дата последней активности пользователя"
   ]
  },
  {
   "cell_type": "markdown",
   "metadata": {},
   "source": [
    "## Подготовка данных"
   ]
  },
  {
   "cell_type": "markdown",
   "metadata": {},
   "source": [
    "### Загрузка библиотек и предобработка данных"
   ]
  },
  {
   "cell_type": "code",
   "execution_count": 1,
   "metadata": {},
   "outputs": [],
   "source": [
    "!pip install -Uq scikit-learn\n",
    "!pip install phik -q"
   ]
  },
  {
   "cell_type": "code",
   "execution_count": 2,
   "metadata": {},
   "outputs": [],
   "source": [
    "import pandas as pd\n",
    "import numpy as np\n",
    "from matplotlib import pyplot as plt\n",
    "%matplotlib inline\n",
    "import seaborn as sns\n",
    "import time\n",
    "import warnings\n",
    "\n",
    "from sklearn.model_selection import train_test_split, cross_validate, RandomizedSearchCV\n",
    "from sklearn.preprocessing import OneHotEncoder, OrdinalEncoder, StandardScaler\n",
    "from sklearn.metrics import mean_squared_error\n",
    "from sklearn.ensemble import RandomForestRegressor\n",
    "from sklearn.linear_model import LinearRegression\n",
    "from lightgbm import LGBMRegressor\n",
    "from sklearn.dummy import DummyRegressor\n",
    "from phik.report import plot_correlation_matrix\n",
    "from phik import report "
   ]
  },
  {
   "cell_type": "code",
   "execution_count": 3,
   "metadata": {},
   "outputs": [],
   "source": [
    "warnings.filterwarnings('ignore') # скроем лишние предупреждения"
   ]
  },
  {
   "cell_type": "code",
   "execution_count": 4,
   "metadata": {},
   "outputs": [],
   "source": [
    "# загружаем данные\n",
    "try:\n",
    "    df = pd.read_csv('/datasets/autos.csv')\n",
    "except:\n",
    "    df = pd.read_csv('autos.csv')"
   ]
  },
  {
   "cell_type": "code",
   "execution_count": 5,
   "metadata": {},
   "outputs": [],
   "source": [
    "# функция для описания датасета\n",
    "def df_describe(df):\n",
    "    display(df.head(10))\n",
    "    print('Общая информация о полученном датафрейме:')\n",
    "    df.info()\n",
    "    print('Описание данных:')\n",
    "    display(df.describe())\n",
    "    print('Количество пустых значений:')\n",
    "    display(df.isna().sum())\n",
    "    print('Количество явных дубликатов:')\n",
    "    display(df.duplicated().sum())"
   ]
  },
  {
   "cell_type": "code",
   "execution_count": 6,
   "metadata": {},
   "outputs": [
    {
     "data": {
      "text/html": [
       "<div>\n",
       "<style scoped>\n",
       "    .dataframe tbody tr th:only-of-type {\n",
       "        vertical-align: middle;\n",
       "    }\n",
       "\n",
       "    .dataframe tbody tr th {\n",
       "        vertical-align: top;\n",
       "    }\n",
       "\n",
       "    .dataframe thead th {\n",
       "        text-align: right;\n",
       "    }\n",
       "</style>\n",
       "<table border=\"1\" class=\"dataframe\">\n",
       "  <thead>\n",
       "    <tr style=\"text-align: right;\">\n",
       "      <th></th>\n",
       "      <th>DateCrawled</th>\n",
       "      <th>Price</th>\n",
       "      <th>VehicleType</th>\n",
       "      <th>RegistrationYear</th>\n",
       "      <th>Gearbox</th>\n",
       "      <th>Power</th>\n",
       "      <th>Model</th>\n",
       "      <th>Kilometer</th>\n",
       "      <th>RegistrationMonth</th>\n",
       "      <th>FuelType</th>\n",
       "      <th>Brand</th>\n",
       "      <th>Repaired</th>\n",
       "      <th>DateCreated</th>\n",
       "      <th>NumberOfPictures</th>\n",
       "      <th>PostalCode</th>\n",
       "      <th>LastSeen</th>\n",
       "    </tr>\n",
       "  </thead>\n",
       "  <tbody>\n",
       "    <tr>\n",
       "      <th>0</th>\n",
       "      <td>2016-03-24 11:52:17</td>\n",
       "      <td>480</td>\n",
       "      <td>NaN</td>\n",
       "      <td>1993</td>\n",
       "      <td>manual</td>\n",
       "      <td>0</td>\n",
       "      <td>golf</td>\n",
       "      <td>150000</td>\n",
       "      <td>0</td>\n",
       "      <td>petrol</td>\n",
       "      <td>volkswagen</td>\n",
       "      <td>NaN</td>\n",
       "      <td>2016-03-24 00:00:00</td>\n",
       "      <td>0</td>\n",
       "      <td>70435</td>\n",
       "      <td>2016-04-07 03:16:57</td>\n",
       "    </tr>\n",
       "    <tr>\n",
       "      <th>1</th>\n",
       "      <td>2016-03-24 10:58:45</td>\n",
       "      <td>18300</td>\n",
       "      <td>coupe</td>\n",
       "      <td>2011</td>\n",
       "      <td>manual</td>\n",
       "      <td>190</td>\n",
       "      <td>NaN</td>\n",
       "      <td>125000</td>\n",
       "      <td>5</td>\n",
       "      <td>gasoline</td>\n",
       "      <td>audi</td>\n",
       "      <td>yes</td>\n",
       "      <td>2016-03-24 00:00:00</td>\n",
       "      <td>0</td>\n",
       "      <td>66954</td>\n",
       "      <td>2016-04-07 01:46:50</td>\n",
       "    </tr>\n",
       "    <tr>\n",
       "      <th>2</th>\n",
       "      <td>2016-03-14 12:52:21</td>\n",
       "      <td>9800</td>\n",
       "      <td>suv</td>\n",
       "      <td>2004</td>\n",
       "      <td>auto</td>\n",
       "      <td>163</td>\n",
       "      <td>grand</td>\n",
       "      <td>125000</td>\n",
       "      <td>8</td>\n",
       "      <td>gasoline</td>\n",
       "      <td>jeep</td>\n",
       "      <td>NaN</td>\n",
       "      <td>2016-03-14 00:00:00</td>\n",
       "      <td>0</td>\n",
       "      <td>90480</td>\n",
       "      <td>2016-04-05 12:47:46</td>\n",
       "    </tr>\n",
       "    <tr>\n",
       "      <th>3</th>\n",
       "      <td>2016-03-17 16:54:04</td>\n",
       "      <td>1500</td>\n",
       "      <td>small</td>\n",
       "      <td>2001</td>\n",
       "      <td>manual</td>\n",
       "      <td>75</td>\n",
       "      <td>golf</td>\n",
       "      <td>150000</td>\n",
       "      <td>6</td>\n",
       "      <td>petrol</td>\n",
       "      <td>volkswagen</td>\n",
       "      <td>no</td>\n",
       "      <td>2016-03-17 00:00:00</td>\n",
       "      <td>0</td>\n",
       "      <td>91074</td>\n",
       "      <td>2016-03-17 17:40:17</td>\n",
       "    </tr>\n",
       "    <tr>\n",
       "      <th>4</th>\n",
       "      <td>2016-03-31 17:25:20</td>\n",
       "      <td>3600</td>\n",
       "      <td>small</td>\n",
       "      <td>2008</td>\n",
       "      <td>manual</td>\n",
       "      <td>69</td>\n",
       "      <td>fabia</td>\n",
       "      <td>90000</td>\n",
       "      <td>7</td>\n",
       "      <td>gasoline</td>\n",
       "      <td>skoda</td>\n",
       "      <td>no</td>\n",
       "      <td>2016-03-31 00:00:00</td>\n",
       "      <td>0</td>\n",
       "      <td>60437</td>\n",
       "      <td>2016-04-06 10:17:21</td>\n",
       "    </tr>\n",
       "    <tr>\n",
       "      <th>5</th>\n",
       "      <td>2016-04-04 17:36:23</td>\n",
       "      <td>650</td>\n",
       "      <td>sedan</td>\n",
       "      <td>1995</td>\n",
       "      <td>manual</td>\n",
       "      <td>102</td>\n",
       "      <td>3er</td>\n",
       "      <td>150000</td>\n",
       "      <td>10</td>\n",
       "      <td>petrol</td>\n",
       "      <td>bmw</td>\n",
       "      <td>yes</td>\n",
       "      <td>2016-04-04 00:00:00</td>\n",
       "      <td>0</td>\n",
       "      <td>33775</td>\n",
       "      <td>2016-04-06 19:17:07</td>\n",
       "    </tr>\n",
       "    <tr>\n",
       "      <th>6</th>\n",
       "      <td>2016-04-01 20:48:51</td>\n",
       "      <td>2200</td>\n",
       "      <td>convertible</td>\n",
       "      <td>2004</td>\n",
       "      <td>manual</td>\n",
       "      <td>109</td>\n",
       "      <td>2_reihe</td>\n",
       "      <td>150000</td>\n",
       "      <td>8</td>\n",
       "      <td>petrol</td>\n",
       "      <td>peugeot</td>\n",
       "      <td>no</td>\n",
       "      <td>2016-04-01 00:00:00</td>\n",
       "      <td>0</td>\n",
       "      <td>67112</td>\n",
       "      <td>2016-04-05 18:18:39</td>\n",
       "    </tr>\n",
       "    <tr>\n",
       "      <th>7</th>\n",
       "      <td>2016-03-21 18:54:38</td>\n",
       "      <td>0</td>\n",
       "      <td>sedan</td>\n",
       "      <td>1980</td>\n",
       "      <td>manual</td>\n",
       "      <td>50</td>\n",
       "      <td>other</td>\n",
       "      <td>40000</td>\n",
       "      <td>7</td>\n",
       "      <td>petrol</td>\n",
       "      <td>volkswagen</td>\n",
       "      <td>no</td>\n",
       "      <td>2016-03-21 00:00:00</td>\n",
       "      <td>0</td>\n",
       "      <td>19348</td>\n",
       "      <td>2016-03-25 16:47:58</td>\n",
       "    </tr>\n",
       "    <tr>\n",
       "      <th>8</th>\n",
       "      <td>2016-04-04 23:42:13</td>\n",
       "      <td>14500</td>\n",
       "      <td>bus</td>\n",
       "      <td>2014</td>\n",
       "      <td>manual</td>\n",
       "      <td>125</td>\n",
       "      <td>c_max</td>\n",
       "      <td>30000</td>\n",
       "      <td>8</td>\n",
       "      <td>petrol</td>\n",
       "      <td>ford</td>\n",
       "      <td>NaN</td>\n",
       "      <td>2016-04-04 00:00:00</td>\n",
       "      <td>0</td>\n",
       "      <td>94505</td>\n",
       "      <td>2016-04-04 23:42:13</td>\n",
       "    </tr>\n",
       "    <tr>\n",
       "      <th>9</th>\n",
       "      <td>2016-03-17 10:53:50</td>\n",
       "      <td>999</td>\n",
       "      <td>small</td>\n",
       "      <td>1998</td>\n",
       "      <td>manual</td>\n",
       "      <td>101</td>\n",
       "      <td>golf</td>\n",
       "      <td>150000</td>\n",
       "      <td>0</td>\n",
       "      <td>NaN</td>\n",
       "      <td>volkswagen</td>\n",
       "      <td>NaN</td>\n",
       "      <td>2016-03-17 00:00:00</td>\n",
       "      <td>0</td>\n",
       "      <td>27472</td>\n",
       "      <td>2016-03-31 17:17:06</td>\n",
       "    </tr>\n",
       "  </tbody>\n",
       "</table>\n",
       "</div>"
      ],
      "text/plain": [
       "           DateCrawled  Price  VehicleType  RegistrationYear Gearbox  Power  \\\n",
       "0  2016-03-24 11:52:17    480          NaN              1993  manual      0   \n",
       "1  2016-03-24 10:58:45  18300        coupe              2011  manual    190   \n",
       "2  2016-03-14 12:52:21   9800          suv              2004    auto    163   \n",
       "3  2016-03-17 16:54:04   1500        small              2001  manual     75   \n",
       "4  2016-03-31 17:25:20   3600        small              2008  manual     69   \n",
       "5  2016-04-04 17:36:23    650        sedan              1995  manual    102   \n",
       "6  2016-04-01 20:48:51   2200  convertible              2004  manual    109   \n",
       "7  2016-03-21 18:54:38      0        sedan              1980  manual     50   \n",
       "8  2016-04-04 23:42:13  14500          bus              2014  manual    125   \n",
       "9  2016-03-17 10:53:50    999        small              1998  manual    101   \n",
       "\n",
       "     Model  Kilometer  RegistrationMonth  FuelType       Brand Repaired  \\\n",
       "0     golf     150000                  0    petrol  volkswagen      NaN   \n",
       "1      NaN     125000                  5  gasoline        audi      yes   \n",
       "2    grand     125000                  8  gasoline        jeep      NaN   \n",
       "3     golf     150000                  6    petrol  volkswagen       no   \n",
       "4    fabia      90000                  7  gasoline       skoda       no   \n",
       "5      3er     150000                 10    petrol         bmw      yes   \n",
       "6  2_reihe     150000                  8    petrol     peugeot       no   \n",
       "7    other      40000                  7    petrol  volkswagen       no   \n",
       "8    c_max      30000                  8    petrol        ford      NaN   \n",
       "9     golf     150000                  0       NaN  volkswagen      NaN   \n",
       "\n",
       "           DateCreated  NumberOfPictures  PostalCode             LastSeen  \n",
       "0  2016-03-24 00:00:00                 0       70435  2016-04-07 03:16:57  \n",
       "1  2016-03-24 00:00:00                 0       66954  2016-04-07 01:46:50  \n",
       "2  2016-03-14 00:00:00                 0       90480  2016-04-05 12:47:46  \n",
       "3  2016-03-17 00:00:00                 0       91074  2016-03-17 17:40:17  \n",
       "4  2016-03-31 00:00:00                 0       60437  2016-04-06 10:17:21  \n",
       "5  2016-04-04 00:00:00                 0       33775  2016-04-06 19:17:07  \n",
       "6  2016-04-01 00:00:00                 0       67112  2016-04-05 18:18:39  \n",
       "7  2016-03-21 00:00:00                 0       19348  2016-03-25 16:47:58  \n",
       "8  2016-04-04 00:00:00                 0       94505  2016-04-04 23:42:13  \n",
       "9  2016-03-17 00:00:00                 0       27472  2016-03-31 17:17:06  "
      ]
     },
     "metadata": {},
     "output_type": "display_data"
    },
    {
     "name": "stdout",
     "output_type": "stream",
     "text": [
      "Общая информация о полученном датафрейме:\n",
      "<class 'pandas.core.frame.DataFrame'>\n",
      "RangeIndex: 354369 entries, 0 to 354368\n",
      "Data columns (total 16 columns):\n",
      " #   Column             Non-Null Count   Dtype \n",
      "---  ------             --------------   ----- \n",
      " 0   DateCrawled        354369 non-null  object\n",
      " 1   Price              354369 non-null  int64 \n",
      " 2   VehicleType        316879 non-null  object\n",
      " 3   RegistrationYear   354369 non-null  int64 \n",
      " 4   Gearbox            334536 non-null  object\n",
      " 5   Power              354369 non-null  int64 \n",
      " 6   Model              334664 non-null  object\n",
      " 7   Kilometer          354369 non-null  int64 \n",
      " 8   RegistrationMonth  354369 non-null  int64 \n",
      " 9   FuelType           321474 non-null  object\n",
      " 10  Brand              354369 non-null  object\n",
      " 11  Repaired           283215 non-null  object\n",
      " 12  DateCreated        354369 non-null  object\n",
      " 13  NumberOfPictures   354369 non-null  int64 \n",
      " 14  PostalCode         354369 non-null  int64 \n",
      " 15  LastSeen           354369 non-null  object\n",
      "dtypes: int64(7), object(9)\n",
      "memory usage: 43.3+ MB\n",
      "Описание данных:\n"
     ]
    },
    {
     "data": {
      "text/html": [
       "<div>\n",
       "<style scoped>\n",
       "    .dataframe tbody tr th:only-of-type {\n",
       "        vertical-align: middle;\n",
       "    }\n",
       "\n",
       "    .dataframe tbody tr th {\n",
       "        vertical-align: top;\n",
       "    }\n",
       "\n",
       "    .dataframe thead th {\n",
       "        text-align: right;\n",
       "    }\n",
       "</style>\n",
       "<table border=\"1\" class=\"dataframe\">\n",
       "  <thead>\n",
       "    <tr style=\"text-align: right;\">\n",
       "      <th></th>\n",
       "      <th>Price</th>\n",
       "      <th>RegistrationYear</th>\n",
       "      <th>Power</th>\n",
       "      <th>Kilometer</th>\n",
       "      <th>RegistrationMonth</th>\n",
       "      <th>NumberOfPictures</th>\n",
       "      <th>PostalCode</th>\n",
       "    </tr>\n",
       "  </thead>\n",
       "  <tbody>\n",
       "    <tr>\n",
       "      <th>count</th>\n",
       "      <td>354369.000000</td>\n",
       "      <td>354369.000000</td>\n",
       "      <td>354369.000000</td>\n",
       "      <td>354369.000000</td>\n",
       "      <td>354369.000000</td>\n",
       "      <td>354369.0</td>\n",
       "      <td>354369.000000</td>\n",
       "    </tr>\n",
       "    <tr>\n",
       "      <th>mean</th>\n",
       "      <td>4416.656776</td>\n",
       "      <td>2004.234448</td>\n",
       "      <td>110.094337</td>\n",
       "      <td>128211.172535</td>\n",
       "      <td>5.714645</td>\n",
       "      <td>0.0</td>\n",
       "      <td>50508.689087</td>\n",
       "    </tr>\n",
       "    <tr>\n",
       "      <th>std</th>\n",
       "      <td>4514.158514</td>\n",
       "      <td>90.227958</td>\n",
       "      <td>189.850405</td>\n",
       "      <td>37905.341530</td>\n",
       "      <td>3.726421</td>\n",
       "      <td>0.0</td>\n",
       "      <td>25783.096248</td>\n",
       "    </tr>\n",
       "    <tr>\n",
       "      <th>min</th>\n",
       "      <td>0.000000</td>\n",
       "      <td>1000.000000</td>\n",
       "      <td>0.000000</td>\n",
       "      <td>5000.000000</td>\n",
       "      <td>0.000000</td>\n",
       "      <td>0.0</td>\n",
       "      <td>1067.000000</td>\n",
       "    </tr>\n",
       "    <tr>\n",
       "      <th>25%</th>\n",
       "      <td>1050.000000</td>\n",
       "      <td>1999.000000</td>\n",
       "      <td>69.000000</td>\n",
       "      <td>125000.000000</td>\n",
       "      <td>3.000000</td>\n",
       "      <td>0.0</td>\n",
       "      <td>30165.000000</td>\n",
       "    </tr>\n",
       "    <tr>\n",
       "      <th>50%</th>\n",
       "      <td>2700.000000</td>\n",
       "      <td>2003.000000</td>\n",
       "      <td>105.000000</td>\n",
       "      <td>150000.000000</td>\n",
       "      <td>6.000000</td>\n",
       "      <td>0.0</td>\n",
       "      <td>49413.000000</td>\n",
       "    </tr>\n",
       "    <tr>\n",
       "      <th>75%</th>\n",
       "      <td>6400.000000</td>\n",
       "      <td>2008.000000</td>\n",
       "      <td>143.000000</td>\n",
       "      <td>150000.000000</td>\n",
       "      <td>9.000000</td>\n",
       "      <td>0.0</td>\n",
       "      <td>71083.000000</td>\n",
       "    </tr>\n",
       "    <tr>\n",
       "      <th>max</th>\n",
       "      <td>20000.000000</td>\n",
       "      <td>9999.000000</td>\n",
       "      <td>20000.000000</td>\n",
       "      <td>150000.000000</td>\n",
       "      <td>12.000000</td>\n",
       "      <td>0.0</td>\n",
       "      <td>99998.000000</td>\n",
       "    </tr>\n",
       "  </tbody>\n",
       "</table>\n",
       "</div>"
      ],
      "text/plain": [
       "               Price  RegistrationYear          Power      Kilometer  \\\n",
       "count  354369.000000     354369.000000  354369.000000  354369.000000   \n",
       "mean     4416.656776       2004.234448     110.094337  128211.172535   \n",
       "std      4514.158514         90.227958     189.850405   37905.341530   \n",
       "min         0.000000       1000.000000       0.000000    5000.000000   \n",
       "25%      1050.000000       1999.000000      69.000000  125000.000000   \n",
       "50%      2700.000000       2003.000000     105.000000  150000.000000   \n",
       "75%      6400.000000       2008.000000     143.000000  150000.000000   \n",
       "max     20000.000000       9999.000000   20000.000000  150000.000000   \n",
       "\n",
       "       RegistrationMonth  NumberOfPictures     PostalCode  \n",
       "count      354369.000000          354369.0  354369.000000  \n",
       "mean            5.714645               0.0   50508.689087  \n",
       "std             3.726421               0.0   25783.096248  \n",
       "min             0.000000               0.0    1067.000000  \n",
       "25%             3.000000               0.0   30165.000000  \n",
       "50%             6.000000               0.0   49413.000000  \n",
       "75%             9.000000               0.0   71083.000000  \n",
       "max            12.000000               0.0   99998.000000  "
      ]
     },
     "metadata": {},
     "output_type": "display_data"
    },
    {
     "name": "stdout",
     "output_type": "stream",
     "text": [
      "Количество пустых значений:\n"
     ]
    },
    {
     "data": {
      "text/plain": [
       "DateCrawled              0\n",
       "Price                    0\n",
       "VehicleType          37490\n",
       "RegistrationYear         0\n",
       "Gearbox              19833\n",
       "Power                    0\n",
       "Model                19705\n",
       "Kilometer                0\n",
       "RegistrationMonth        0\n",
       "FuelType             32895\n",
       "Brand                    0\n",
       "Repaired             71154\n",
       "DateCreated              0\n",
       "NumberOfPictures         0\n",
       "PostalCode               0\n",
       "LastSeen                 0\n",
       "dtype: int64"
      ]
     },
     "metadata": {},
     "output_type": "display_data"
    },
    {
     "name": "stdout",
     "output_type": "stream",
     "text": [
      "Количество явных дубликатов:\n"
     ]
    },
    {
     "data": {
      "text/plain": [
       "4"
      ]
     },
     "metadata": {},
     "output_type": "display_data"
    }
   ],
   "source": [
    "df_describe(df) "
   ]
  },
  {
   "cell_type": "markdown",
   "metadata": {},
   "source": [
    "В датасете 354369 объектов. Имена столбцов требуют приведения в соответсвии с PEP 8. Количество явных дубликатов равно 4, что позволяет в последующем их удалить. Наблюдается большое количество пропусков в столбцах `VehicleType`, `Gearbox`, `Model`, `FuelType`, `Repaired`. Имеются аномалии в данных: в столбце `RegistrationYear` минимальный год регистрации - 1000, а макимальный - 9999; в столбцах `Price`, `Power` и `RegistrationMonth` минимальные значения равны 0. Признак `NumberOfPictures` не содержит информации и подлежит удалению. Используем признаки `RegistrationYear`, `RegistrationMonth`, `DateCreated` для выявления подозрительных объявление, у котрых дата регистрация объявления раньше даты регистрации. Обработаем признак `PostalCode` - оставим только первые несколько цифр индекса, чтобы выделить крупные территории."
   ]
  },
  {
   "cell_type": "code",
   "execution_count": 7,
   "metadata": {},
   "outputs": [],
   "source": [
    "# удаляем ненужный признак\n",
    "df.drop(columns=['NumberOfPictures'], inplace=True)"
   ]
  },
  {
   "cell_type": "code",
   "execution_count": 8,
   "metadata": {},
   "outputs": [],
   "source": [
    "# Преобразуем столбцы дат в формат datetime\n",
    "df['DateCrawled'] = pd.to_datetime(df['DateCrawled'])\n",
    "df['DateCreated'] = pd.to_datetime(df['DateCreated'])\n",
    "df['LastSeen'] = pd.to_datetime(df['LastSeen'])"
   ]
  },
  {
   "cell_type": "code",
   "execution_count": 9,
   "metadata": {},
   "outputs": [
    {
     "name": "stdout",
     "output_type": "stream",
     "text": [
      "Index(['DateCrawled', 'Price', 'VehicleType', 'RegistrationYear', 'Gearbox',\n",
      "       'Power', 'Model', 'Kilometer', 'RegistrationMonth', 'FuelType', 'Brand',\n",
      "       'Repaired', 'DateCreated', 'LastSeen', 'postal_code_region'],\n",
      "      dtype='object')\n"
     ]
    }
   ],
   "source": [
    "# приводим значения к строке с ведущими нулями (до 5 знаков)\n",
    "df['PostalCode'] = df['PostalCode'].astype(str).str.zfill(5)\n",
    "\n",
    "# извлекаем первые 3 символа как признак региона\n",
    "df['postal_code_region'] = df['PostalCode'].str[:3]\n",
    "\n",
    "#удаляем столбец с полным индексом\n",
    "df = df.drop('PostalCode', axis=1)\n",
    "\n",
    "# Просмотр итоговых столбцов\n",
    "print(df.columns)"
   ]
  },
  {
   "cell_type": "code",
   "execution_count": 10,
   "metadata": {},
   "outputs": [
    {
     "data": {
      "text/html": [
       "<div>\n",
       "<style scoped>\n",
       "    .dataframe tbody tr th:only-of-type {\n",
       "        vertical-align: middle;\n",
       "    }\n",
       "\n",
       "    .dataframe tbody tr th {\n",
       "        vertical-align: top;\n",
       "    }\n",
       "\n",
       "    .dataframe thead th {\n",
       "        text-align: right;\n",
       "    }\n",
       "</style>\n",
       "<table border=\"1\" class=\"dataframe\">\n",
       "  <thead>\n",
       "    <tr style=\"text-align: right;\">\n",
       "      <th></th>\n",
       "      <th>DateCrawled</th>\n",
       "      <th>Price</th>\n",
       "      <th>VehicleType</th>\n",
       "      <th>RegistrationYear</th>\n",
       "      <th>Gearbox</th>\n",
       "      <th>Power</th>\n",
       "      <th>Model</th>\n",
       "      <th>Kilometer</th>\n",
       "      <th>RegistrationMonth</th>\n",
       "      <th>FuelType</th>\n",
       "      <th>Brand</th>\n",
       "      <th>Repaired</th>\n",
       "      <th>DateCreated</th>\n",
       "      <th>LastSeen</th>\n",
       "      <th>postal_code_region</th>\n",
       "      <th>suspicious_dates</th>\n",
       "    </tr>\n",
       "  </thead>\n",
       "  <tbody>\n",
       "    <tr>\n",
       "      <th>0</th>\n",
       "      <td>2016-03-24 11:52:17</td>\n",
       "      <td>480</td>\n",
       "      <td>NaN</td>\n",
       "      <td>1993</td>\n",
       "      <td>manual</td>\n",
       "      <td>0</td>\n",
       "      <td>golf</td>\n",
       "      <td>150000</td>\n",
       "      <td>0</td>\n",
       "      <td>petrol</td>\n",
       "      <td>volkswagen</td>\n",
       "      <td>NaN</td>\n",
       "      <td>2016-03-24</td>\n",
       "      <td>2016-04-07 03:16:57</td>\n",
       "      <td>704</td>\n",
       "      <td>False</td>\n",
       "    </tr>\n",
       "    <tr>\n",
       "      <th>1</th>\n",
       "      <td>2016-03-24 10:58:45</td>\n",
       "      <td>18300</td>\n",
       "      <td>coupe</td>\n",
       "      <td>2011</td>\n",
       "      <td>manual</td>\n",
       "      <td>190</td>\n",
       "      <td>NaN</td>\n",
       "      <td>125000</td>\n",
       "      <td>5</td>\n",
       "      <td>gasoline</td>\n",
       "      <td>audi</td>\n",
       "      <td>yes</td>\n",
       "      <td>2016-03-24</td>\n",
       "      <td>2016-04-07 01:46:50</td>\n",
       "      <td>669</td>\n",
       "      <td>False</td>\n",
       "    </tr>\n",
       "    <tr>\n",
       "      <th>2</th>\n",
       "      <td>2016-03-14 12:52:21</td>\n",
       "      <td>9800</td>\n",
       "      <td>suv</td>\n",
       "      <td>2004</td>\n",
       "      <td>auto</td>\n",
       "      <td>163</td>\n",
       "      <td>grand</td>\n",
       "      <td>125000</td>\n",
       "      <td>8</td>\n",
       "      <td>gasoline</td>\n",
       "      <td>jeep</td>\n",
       "      <td>NaN</td>\n",
       "      <td>2016-03-14</td>\n",
       "      <td>2016-04-05 12:47:46</td>\n",
       "      <td>904</td>\n",
       "      <td>False</td>\n",
       "    </tr>\n",
       "    <tr>\n",
       "      <th>3</th>\n",
       "      <td>2016-03-17 16:54:04</td>\n",
       "      <td>1500</td>\n",
       "      <td>small</td>\n",
       "      <td>2001</td>\n",
       "      <td>manual</td>\n",
       "      <td>75</td>\n",
       "      <td>golf</td>\n",
       "      <td>150000</td>\n",
       "      <td>6</td>\n",
       "      <td>petrol</td>\n",
       "      <td>volkswagen</td>\n",
       "      <td>no</td>\n",
       "      <td>2016-03-17</td>\n",
       "      <td>2016-03-17 17:40:17</td>\n",
       "      <td>910</td>\n",
       "      <td>False</td>\n",
       "    </tr>\n",
       "    <tr>\n",
       "      <th>4</th>\n",
       "      <td>2016-03-31 17:25:20</td>\n",
       "      <td>3600</td>\n",
       "      <td>small</td>\n",
       "      <td>2008</td>\n",
       "      <td>manual</td>\n",
       "      <td>69</td>\n",
       "      <td>fabia</td>\n",
       "      <td>90000</td>\n",
       "      <td>7</td>\n",
       "      <td>gasoline</td>\n",
       "      <td>skoda</td>\n",
       "      <td>no</td>\n",
       "      <td>2016-03-31</td>\n",
       "      <td>2016-04-06 10:17:21</td>\n",
       "      <td>604</td>\n",
       "      <td>False</td>\n",
       "    </tr>\n",
       "  </tbody>\n",
       "</table>\n",
       "</div>"
      ],
      "text/plain": [
       "          DateCrawled  Price VehicleType  RegistrationYear Gearbox  Power  \\\n",
       "0 2016-03-24 11:52:17    480         NaN              1993  manual      0   \n",
       "1 2016-03-24 10:58:45  18300       coupe              2011  manual    190   \n",
       "2 2016-03-14 12:52:21   9800         suv              2004    auto    163   \n",
       "3 2016-03-17 16:54:04   1500       small              2001  manual     75   \n",
       "4 2016-03-31 17:25:20   3600       small              2008  manual     69   \n",
       "\n",
       "   Model  Kilometer  RegistrationMonth  FuelType       Brand Repaired  \\\n",
       "0   golf     150000                  0    petrol  volkswagen      NaN   \n",
       "1    NaN     125000                  5  gasoline        audi      yes   \n",
       "2  grand     125000                  8  gasoline        jeep      NaN   \n",
       "3   golf     150000                  6    petrol  volkswagen       no   \n",
       "4  fabia      90000                  7  gasoline       skoda       no   \n",
       "\n",
       "  DateCreated            LastSeen postal_code_region  suspicious_dates  \n",
       "0  2016-03-24 2016-04-07 03:16:57                704             False  \n",
       "1  2016-03-24 2016-04-07 01:46:50                669             False  \n",
       "2  2016-03-14 2016-04-05 12:47:46                904             False  \n",
       "3  2016-03-17 2016-03-17 17:40:17                910             False  \n",
       "4  2016-03-31 2016-04-06 10:17:21                604             False  "
      ]
     },
     "execution_count": 10,
     "metadata": {},
     "output_type": "execute_result"
    }
   ],
   "source": [
    "# функция для определения подозрительных объявлений\n",
    "def check_suspicious(row):\n",
    "    try:\n",
    "        reg_date = pd.Timestamp(year=row['RegistrationYear'], \n",
    "                               month=row['RegistrationMonth'], \n",
    "                               day=1)\n",
    "        return row['DateCreated'] < reg_date\n",
    "    except (ValueError, TypeError):\n",
    "        return False\n",
    "\n",
    "df['suspicious_dates'] = df.apply(check_suspicious, axis=1)\n",
    "df.head()"
   ]
  },
  {
   "cell_type": "code",
   "execution_count": 11,
   "metadata": {},
   "outputs": [
    {
     "data": {
      "text/html": [
       "<div>\n",
       "<style scoped>\n",
       "    .dataframe tbody tr th:only-of-type {\n",
       "        vertical-align: middle;\n",
       "    }\n",
       "\n",
       "    .dataframe tbody tr th {\n",
       "        vertical-align: top;\n",
       "    }\n",
       "\n",
       "    .dataframe thead th {\n",
       "        text-align: right;\n",
       "    }\n",
       "</style>\n",
       "<table border=\"1\" class=\"dataframe\">\n",
       "  <thead>\n",
       "    <tr style=\"text-align: right;\">\n",
       "      <th></th>\n",
       "      <th>DateCrawled</th>\n",
       "      <th>Price</th>\n",
       "      <th>VehicleType</th>\n",
       "      <th>RegistrationYear</th>\n",
       "      <th>Gearbox</th>\n",
       "      <th>Power</th>\n",
       "      <th>Model</th>\n",
       "      <th>Kilometer</th>\n",
       "      <th>RegistrationMonth</th>\n",
       "      <th>FuelType</th>\n",
       "      <th>Brand</th>\n",
       "      <th>Repaired</th>\n",
       "      <th>DateCreated</th>\n",
       "      <th>LastSeen</th>\n",
       "      <th>postal_code_region</th>\n",
       "      <th>suspicious_dates</th>\n",
       "    </tr>\n",
       "  </thead>\n",
       "  <tbody>\n",
       "    <tr>\n",
       "      <th>310907</th>\n",
       "      <td>2016-03-31 20:36:18</td>\n",
       "      <td>550</td>\n",
       "      <td>NaN</td>\n",
       "      <td>2016</td>\n",
       "      <td>manual</td>\n",
       "      <td>60</td>\n",
       "      <td>NaN</td>\n",
       "      <td>150000</td>\n",
       "      <td>7</td>\n",
       "      <td>NaN</td>\n",
       "      <td>volkswagen</td>\n",
       "      <td>NaN</td>\n",
       "      <td>2016-03-31</td>\n",
       "      <td>2016-03-31 21:41:40</td>\n",
       "      <td>263</td>\n",
       "      <td>True</td>\n",
       "    </tr>\n",
       "    <tr>\n",
       "      <th>126331</th>\n",
       "      <td>2016-03-08 13:52:30</td>\n",
       "      <td>999</td>\n",
       "      <td>NaN</td>\n",
       "      <td>2017</td>\n",
       "      <td>auto</td>\n",
       "      <td>0</td>\n",
       "      <td>corsa</td>\n",
       "      <td>125000</td>\n",
       "      <td>11</td>\n",
       "      <td>petrol</td>\n",
       "      <td>opel</td>\n",
       "      <td>NaN</td>\n",
       "      <td>2016-03-08</td>\n",
       "      <td>2016-03-10 18:49:27</td>\n",
       "      <td>133</td>\n",
       "      <td>True</td>\n",
       "    </tr>\n",
       "    <tr>\n",
       "      <th>242355</th>\n",
       "      <td>2016-03-07 11:59:58</td>\n",
       "      <td>1000</td>\n",
       "      <td>NaN</td>\n",
       "      <td>2018</td>\n",
       "      <td>manual</td>\n",
       "      <td>60</td>\n",
       "      <td>ka</td>\n",
       "      <td>150000</td>\n",
       "      <td>7</td>\n",
       "      <td>petrol</td>\n",
       "      <td>ford</td>\n",
       "      <td>no</td>\n",
       "      <td>2016-03-07</td>\n",
       "      <td>2016-03-10 01:44:28</td>\n",
       "      <td>655</td>\n",
       "      <td>True</td>\n",
       "    </tr>\n",
       "    <tr>\n",
       "      <th>101867</th>\n",
       "      <td>2016-03-23 22:41:06</td>\n",
       "      <td>1700</td>\n",
       "      <td>NaN</td>\n",
       "      <td>2017</td>\n",
       "      <td>manual</td>\n",
       "      <td>0</td>\n",
       "      <td>NaN</td>\n",
       "      <td>20000</td>\n",
       "      <td>12</td>\n",
       "      <td>petrol</td>\n",
       "      <td>volkswagen</td>\n",
       "      <td>no</td>\n",
       "      <td>2016-03-23</td>\n",
       "      <td>2016-04-06 03:46:42</td>\n",
       "      <td>265</td>\n",
       "      <td>True</td>\n",
       "    </tr>\n",
       "    <tr>\n",
       "      <th>85671</th>\n",
       "      <td>2016-03-08 13:54:11</td>\n",
       "      <td>4999</td>\n",
       "      <td>NaN</td>\n",
       "      <td>2018</td>\n",
       "      <td>manual</td>\n",
       "      <td>90</td>\n",
       "      <td>one</td>\n",
       "      <td>80000</td>\n",
       "      <td>12</td>\n",
       "      <td>petrol</td>\n",
       "      <td>mini</td>\n",
       "      <td>NaN</td>\n",
       "      <td>2016-03-08</td>\n",
       "      <td>2016-03-15 10:45:12</td>\n",
       "      <td>813</td>\n",
       "      <td>True</td>\n",
       "    </tr>\n",
       "    <tr>\n",
       "      <th>89260</th>\n",
       "      <td>2016-03-11 22:50:29</td>\n",
       "      <td>0</td>\n",
       "      <td>NaN</td>\n",
       "      <td>2016</td>\n",
       "      <td>manual</td>\n",
       "      <td>90</td>\n",
       "      <td>escort</td>\n",
       "      <td>150000</td>\n",
       "      <td>11</td>\n",
       "      <td>NaN</td>\n",
       "      <td>ford</td>\n",
       "      <td>NaN</td>\n",
       "      <td>2016-03-11</td>\n",
       "      <td>2016-03-12 15:16:53</td>\n",
       "      <td>868</td>\n",
       "      <td>True</td>\n",
       "    </tr>\n",
       "    <tr>\n",
       "      <th>150093</th>\n",
       "      <td>2016-03-25 16:58:37</td>\n",
       "      <td>6499</td>\n",
       "      <td>NaN</td>\n",
       "      <td>2016</td>\n",
       "      <td>manual</td>\n",
       "      <td>38</td>\n",
       "      <td>other</td>\n",
       "      <td>80000</td>\n",
       "      <td>5</td>\n",
       "      <td>NaN</td>\n",
       "      <td>volkswagen</td>\n",
       "      <td>no</td>\n",
       "      <td>2016-03-25</td>\n",
       "      <td>2016-04-02 21:18:05</td>\n",
       "      <td>266</td>\n",
       "      <td>True</td>\n",
       "    </tr>\n",
       "    <tr>\n",
       "      <th>300068</th>\n",
       "      <td>2016-03-08 21:55:08</td>\n",
       "      <td>3990</td>\n",
       "      <td>NaN</td>\n",
       "      <td>2017</td>\n",
       "      <td>manual</td>\n",
       "      <td>115</td>\n",
       "      <td>touran</td>\n",
       "      <td>150000</td>\n",
       "      <td>5</td>\n",
       "      <td>petrol</td>\n",
       "      <td>volkswagen</td>\n",
       "      <td>no</td>\n",
       "      <td>2016-03-08</td>\n",
       "      <td>2016-03-14 20:45:23</td>\n",
       "      <td>557</td>\n",
       "      <td>True</td>\n",
       "    </tr>\n",
       "    <tr>\n",
       "      <th>214694</th>\n",
       "      <td>2016-03-09 21:39:50</td>\n",
       "      <td>1200</td>\n",
       "      <td>NaN</td>\n",
       "      <td>2016</td>\n",
       "      <td>manual</td>\n",
       "      <td>75</td>\n",
       "      <td>corolla</td>\n",
       "      <td>150000</td>\n",
       "      <td>12</td>\n",
       "      <td>NaN</td>\n",
       "      <td>toyota</td>\n",
       "      <td>NaN</td>\n",
       "      <td>2016-03-09</td>\n",
       "      <td>2016-04-05 20:46:20</td>\n",
       "      <td>370</td>\n",
       "      <td>True</td>\n",
       "    </tr>\n",
       "    <tr>\n",
       "      <th>227668</th>\n",
       "      <td>2016-04-03 16:55:49</td>\n",
       "      <td>13350</td>\n",
       "      <td>NaN</td>\n",
       "      <td>2018</td>\n",
       "      <td>manual</td>\n",
       "      <td>0</td>\n",
       "      <td>other</td>\n",
       "      <td>90000</td>\n",
       "      <td>2</td>\n",
       "      <td>NaN</td>\n",
       "      <td>peugeot</td>\n",
       "      <td>NaN</td>\n",
       "      <td>2016-04-03</td>\n",
       "      <td>2016-04-05 16:46:28</td>\n",
       "      <td>484</td>\n",
       "      <td>True</td>\n",
       "    </tr>\n",
       "  </tbody>\n",
       "</table>\n",
       "</div>"
      ],
      "text/plain": [
       "               DateCrawled  Price VehicleType  RegistrationYear Gearbox  \\\n",
       "310907 2016-03-31 20:36:18    550         NaN              2016  manual   \n",
       "126331 2016-03-08 13:52:30    999         NaN              2017    auto   \n",
       "242355 2016-03-07 11:59:58   1000         NaN              2018  manual   \n",
       "101867 2016-03-23 22:41:06   1700         NaN              2017  manual   \n",
       "85671  2016-03-08 13:54:11   4999         NaN              2018  manual   \n",
       "89260  2016-03-11 22:50:29      0         NaN              2016  manual   \n",
       "150093 2016-03-25 16:58:37   6499         NaN              2016  manual   \n",
       "300068 2016-03-08 21:55:08   3990         NaN              2017  manual   \n",
       "214694 2016-03-09 21:39:50   1200         NaN              2016  manual   \n",
       "227668 2016-04-03 16:55:49  13350         NaN              2018  manual   \n",
       "\n",
       "        Power    Model  Kilometer  RegistrationMonth FuelType       Brand  \\\n",
       "310907     60      NaN     150000                  7      NaN  volkswagen   \n",
       "126331      0    corsa     125000                 11   petrol        opel   \n",
       "242355     60       ka     150000                  7   petrol        ford   \n",
       "101867      0      NaN      20000                 12   petrol  volkswagen   \n",
       "85671      90      one      80000                 12   petrol        mini   \n",
       "89260      90   escort     150000                 11      NaN        ford   \n",
       "150093     38    other      80000                  5      NaN  volkswagen   \n",
       "300068    115   touran     150000                  5   petrol  volkswagen   \n",
       "214694     75  corolla     150000                 12      NaN      toyota   \n",
       "227668      0    other      90000                  2      NaN     peugeot   \n",
       "\n",
       "       Repaired DateCreated            LastSeen postal_code_region  \\\n",
       "310907      NaN  2016-03-31 2016-03-31 21:41:40                263   \n",
       "126331      NaN  2016-03-08 2016-03-10 18:49:27                133   \n",
       "242355       no  2016-03-07 2016-03-10 01:44:28                655   \n",
       "101867       no  2016-03-23 2016-04-06 03:46:42                265   \n",
       "85671       NaN  2016-03-08 2016-03-15 10:45:12                813   \n",
       "89260       NaN  2016-03-11 2016-03-12 15:16:53                868   \n",
       "150093       no  2016-03-25 2016-04-02 21:18:05                266   \n",
       "300068       no  2016-03-08 2016-03-14 20:45:23                557   \n",
       "214694      NaN  2016-03-09 2016-04-05 20:46:20                370   \n",
       "227668      NaN  2016-04-03 2016-04-05 16:46:28                484   \n",
       "\n",
       "        suspicious_dates  \n",
       "310907              True  \n",
       "126331              True  \n",
       "242355              True  \n",
       "101867              True  \n",
       "85671               True  \n",
       "89260               True  \n",
       "150093              True  \n",
       "300068              True  \n",
       "214694              True  \n",
       "227668              True  "
      ]
     },
     "metadata": {},
     "output_type": "display_data"
    },
    {
     "data": {
      "text/plain": [
       "False    338317\n",
       "True      16052\n",
       "Name: suspicious_dates, dtype: int64"
      ]
     },
     "execution_count": 11,
     "metadata": {},
     "output_type": "execute_result"
    }
   ],
   "source": [
    "# проверяем \n",
    "suspicious_rows = df[df['suspicious_dates'] == True]\n",
    "\n",
    "# вывод первых нескольких строк для примера\n",
    "display(suspicious_rows.sample(10))\n",
    "\n",
    "# смотрим количество подозрительных объявлений\n",
    "df['suspicious_dates'].value_counts()"
   ]
  },
  {
   "cell_type": "code",
   "execution_count": 12,
   "metadata": {},
   "outputs": [
    {
     "data": {
      "text/html": [
       "<div>\n",
       "<style scoped>\n",
       "    .dataframe tbody tr th:only-of-type {\n",
       "        vertical-align: middle;\n",
       "    }\n",
       "\n",
       "    .dataframe tbody tr th {\n",
       "        vertical-align: top;\n",
       "    }\n",
       "\n",
       "    .dataframe thead th {\n",
       "        text-align: right;\n",
       "    }\n",
       "</style>\n",
       "<table border=\"1\" class=\"dataframe\">\n",
       "  <thead>\n",
       "    <tr style=\"text-align: right;\">\n",
       "      <th></th>\n",
       "      <th>DateCrawled</th>\n",
       "      <th>Price</th>\n",
       "      <th>VehicleType</th>\n",
       "      <th>RegistrationYear</th>\n",
       "      <th>Gearbox</th>\n",
       "      <th>Power</th>\n",
       "      <th>Model</th>\n",
       "      <th>Kilometer</th>\n",
       "      <th>RegistrationMonth</th>\n",
       "      <th>FuelType</th>\n",
       "      <th>Brand</th>\n",
       "      <th>Repaired</th>\n",
       "      <th>DateCreated</th>\n",
       "      <th>LastSeen</th>\n",
       "      <th>postal_code_region</th>\n",
       "    </tr>\n",
       "  </thead>\n",
       "  <tbody>\n",
       "    <tr>\n",
       "      <th>0</th>\n",
       "      <td>2016-03-24 11:52:17</td>\n",
       "      <td>480</td>\n",
       "      <td>NaN</td>\n",
       "      <td>1993</td>\n",
       "      <td>manual</td>\n",
       "      <td>0</td>\n",
       "      <td>golf</td>\n",
       "      <td>150000</td>\n",
       "      <td>0</td>\n",
       "      <td>petrol</td>\n",
       "      <td>volkswagen</td>\n",
       "      <td>NaN</td>\n",
       "      <td>2016-03-24</td>\n",
       "      <td>2016-04-07 03:16:57</td>\n",
       "      <td>704</td>\n",
       "    </tr>\n",
       "    <tr>\n",
       "      <th>1</th>\n",
       "      <td>2016-03-24 10:58:45</td>\n",
       "      <td>18300</td>\n",
       "      <td>coupe</td>\n",
       "      <td>2011</td>\n",
       "      <td>manual</td>\n",
       "      <td>190</td>\n",
       "      <td>NaN</td>\n",
       "      <td>125000</td>\n",
       "      <td>5</td>\n",
       "      <td>gasoline</td>\n",
       "      <td>audi</td>\n",
       "      <td>yes</td>\n",
       "      <td>2016-03-24</td>\n",
       "      <td>2016-04-07 01:46:50</td>\n",
       "      <td>669</td>\n",
       "    </tr>\n",
       "    <tr>\n",
       "      <th>2</th>\n",
       "      <td>2016-03-14 12:52:21</td>\n",
       "      <td>9800</td>\n",
       "      <td>suv</td>\n",
       "      <td>2004</td>\n",
       "      <td>auto</td>\n",
       "      <td>163</td>\n",
       "      <td>grand</td>\n",
       "      <td>125000</td>\n",
       "      <td>8</td>\n",
       "      <td>gasoline</td>\n",
       "      <td>jeep</td>\n",
       "      <td>NaN</td>\n",
       "      <td>2016-03-14</td>\n",
       "      <td>2016-04-05 12:47:46</td>\n",
       "      <td>904</td>\n",
       "    </tr>\n",
       "    <tr>\n",
       "      <th>3</th>\n",
       "      <td>2016-03-17 16:54:04</td>\n",
       "      <td>1500</td>\n",
       "      <td>small</td>\n",
       "      <td>2001</td>\n",
       "      <td>manual</td>\n",
       "      <td>75</td>\n",
       "      <td>golf</td>\n",
       "      <td>150000</td>\n",
       "      <td>6</td>\n",
       "      <td>petrol</td>\n",
       "      <td>volkswagen</td>\n",
       "      <td>no</td>\n",
       "      <td>2016-03-17</td>\n",
       "      <td>2016-03-17 17:40:17</td>\n",
       "      <td>910</td>\n",
       "    </tr>\n",
       "    <tr>\n",
       "      <th>4</th>\n",
       "      <td>2016-03-31 17:25:20</td>\n",
       "      <td>3600</td>\n",
       "      <td>small</td>\n",
       "      <td>2008</td>\n",
       "      <td>manual</td>\n",
       "      <td>69</td>\n",
       "      <td>fabia</td>\n",
       "      <td>90000</td>\n",
       "      <td>7</td>\n",
       "      <td>gasoline</td>\n",
       "      <td>skoda</td>\n",
       "      <td>no</td>\n",
       "      <td>2016-03-31</td>\n",
       "      <td>2016-04-06 10:17:21</td>\n",
       "      <td>604</td>\n",
       "    </tr>\n",
       "  </tbody>\n",
       "</table>\n",
       "</div>"
      ],
      "text/plain": [
       "          DateCrawled  Price VehicleType  RegistrationYear Gearbox  Power  \\\n",
       "0 2016-03-24 11:52:17    480         NaN              1993  manual      0   \n",
       "1 2016-03-24 10:58:45  18300       coupe              2011  manual    190   \n",
       "2 2016-03-14 12:52:21   9800         suv              2004    auto    163   \n",
       "3 2016-03-17 16:54:04   1500       small              2001  manual     75   \n",
       "4 2016-03-31 17:25:20   3600       small              2008  manual     69   \n",
       "\n",
       "   Model  Kilometer  RegistrationMonth  FuelType       Brand Repaired  \\\n",
       "0   golf     150000                  0    petrol  volkswagen      NaN   \n",
       "1    NaN     125000                  5  gasoline        audi      yes   \n",
       "2  grand     125000                  8  gasoline        jeep      NaN   \n",
       "3   golf     150000                  6    petrol  volkswagen       no   \n",
       "4  fabia      90000                  7  gasoline       skoda       no   \n",
       "\n",
       "  DateCreated            LastSeen postal_code_region  \n",
       "0  2016-03-24 2016-04-07 03:16:57                704  \n",
       "1  2016-03-24 2016-04-07 01:46:50                669  \n",
       "2  2016-03-14 2016-04-05 12:47:46                904  \n",
       "3  2016-03-17 2016-03-17 17:40:17                910  \n",
       "4  2016-03-31 2016-04-06 10:17:21                604  "
      ]
     },
     "execution_count": 12,
     "metadata": {},
     "output_type": "execute_result"
    }
   ],
   "source": [
    "# удалим подозрительные объявления\n",
    "df = df[df['suspicious_dates'] == False]\n",
    "\n",
    "# удаляем столбец с подозрительными объявлениями, больше в нем нужды нет\n",
    "df = df.drop('suspicious_dates', axis=1)\n",
    "\n",
    "# проверяем\n",
    "df.head()"
   ]
  },
  {
   "cell_type": "code",
   "execution_count": 13,
   "metadata": {},
   "outputs": [
    {
     "data": {
      "text/plain": [
       "Index(['date_crawled', 'price', 'vehicle_type', 'registration_year', 'gearbox',\n",
       "       'power', 'model', 'kilometer', 'registration_month', 'fuel_type',\n",
       "       'brand', 'repaired', 'date_created', 'last_seen', 'postal_code_region'],\n",
       "      dtype='object')"
      ]
     },
     "execution_count": 13,
     "metadata": {},
     "output_type": "execute_result"
    }
   ],
   "source": [
    "df.columns = df.columns.str.replace(r'([a-z])([A-Z])', r'\\1_\\2', regex=True).str.lower()\n",
    "df.columns"
   ]
  },
  {
   "cell_type": "code",
   "execution_count": 14,
   "metadata": {},
   "outputs": [
    {
     "data": {
      "text/plain": [
       "0"
      ]
     },
     "execution_count": 14,
     "metadata": {},
     "output_type": "execute_result"
    }
   ],
   "source": [
    "# удалим дубликаты\n",
    "df.drop_duplicates(inplace=True)\n",
    "df.duplicated().sum()"
   ]
  },
  {
   "cell_type": "code",
   "execution_count": 15,
   "metadata": {},
   "outputs": [
    {
     "name": "stdout",
     "output_type": "stream",
     "text": [
      "[nan 'coupe' 'suv' 'small' 'sedan' 'convertible' 'bus' 'wagon' 'other']\n",
      "['manual' 'auto' nan]\n",
      "['golf' nan 'grand' 'fabia' '3er' '2_reihe' 'other' 'c_max' '3_reihe'\n",
      " 'passat' 'navara' 'ka' 'polo' 'twingo' 'a_klasse' 'scirocco' '5er'\n",
      " 'arosa' 'civic' 'transporter' 'punto' 'e_klasse' 'kadett' 'kangoo'\n",
      " 'corsa' 'one' 'fortwo' 'clio' '1er' 'b_klasse' 'signum' 'astra' 'a8'\n",
      " 'jetta' 'fiesta' 'c_klasse' 'micra' 'vito' 'sprinter' '156' 'escort'\n",
      " 'forester' 'xc_reihe' 'scenic' 'a4' 'a1' 'insignia' 'combo' 'focus' 'tt'\n",
      " 'a6' 'jazz' 'omega' 'slk' '7er' '80' '147' '100' 'meriva' 'z_reihe'\n",
      " 'sorento' 'v40' 'ibiza' 'mustang' 'eos' 'touran' 'getz' 'a3' 'megane'\n",
      " 'lupo' 'r19' 'caddy' 'mondeo' 'cordoba' 'colt' 'impreza' 'vectra'\n",
      " 'berlingo' 'tiguan' 'i_reihe' 'sharan' '6_reihe' 'c4' 'panda' 'up' 'ceed'\n",
      " '5_reihe' 'yeti' 'octavia' 'zafira' 'mii' 'rx_reihe' '6er' 'modus' 'fox'\n",
      " 'matiz' 'beetle' 'c1' 'rio' 'touareg' 'logan' 'spider' 'cuore' 's_max'\n",
      " 'a2' 'galaxy' 'c3' 'viano' 's_klasse' '1_reihe' 'avensis' 'roomster' 'sl'\n",
      " 'kaefer' 'santa' 'cooper' 'leon' '4_reihe' 'a5' 'sportage' 'laguna'\n",
      " 'ptcruiser' 'clk' 'primera' 'espace' 'x_reihe' 'exeo' '159' 'transit'\n",
      " 'juke' 'qashqai' 'carisma' 'accord' 'corolla' 'lanos' 'phaeton' 'verso'\n",
      " 'swift' 'rav' 'picanto' 'boxster' 'kalos' 'superb' 'stilo' 'alhambra'\n",
      " 'mx_reihe' 'roadster' 'ypsilon' 'cayenne' 'galant' 'justy' '90' 'sirion'\n",
      " 'crossfire' 'agila' 'duster' 'v50' '500' 'c_reihe' 'v_klasse' 'm_klasse'\n",
      " 'yaris' 'c5' 'aygo' 'almera' 'seicento' 'cc' 'fusion' '911' 'bora'\n",
      " 'forfour' 'm_reihe' 'cl' 'tigra' '300c' 'cr_reihe' 'spark' 'v70' 'kuga'\n",
      " 'x_type' 'ducato' 's_type' 'x_trail' 'toledo' 'altea' 'voyager' 'calibra'\n",
      " 'carnival' 'bravo' 'antara' 'tucson' 'citigo' 'jimny' 'wrangler' 'lybra'\n",
      " 'q7' 'lancer' 'captiva' 'discovery' 'freelander' 'sandero' 'note' '900'\n",
      " 'cherokee' 'clubman' 'samara' 'defender' 'cx_reihe' 'legacy' '601'\n",
      " 'pajero' 'auris' 'c2' 'niva' 's60' 'nubira' 'vivaro' 'g_klasse' 'lodgy'\n",
      " '850' 'range_rover' 'q3' 'serie_2' 'glk' 'charade' 'croma' 'outlander'\n",
      " 'doblo' 'musa' 'move' '9000' 'v60' '145' '200' 'b_max'\n",
      " 'range_rover_sport' 'aveo' 'terios' 'rangerover' 'q5'\n",
      " 'range_rover_evoque' 'materia' 'delta' 'gl' 'kalina' 'elefantino' 'i3'\n",
      " 'amarok' 'kappa' 'serie_3' 'serie_1']\n",
      "['petrol' 'gasoline' nan 'lpg' 'other' 'hybrid' 'cng' 'electric']\n",
      "['volkswagen' 'audi' 'jeep' 'skoda' 'bmw' 'peugeot' 'ford' 'mazda'\n",
      " 'nissan' 'renault' 'mercedes_benz' 'seat' 'honda' 'fiat' 'opel' 'mini'\n",
      " 'smart' 'hyundai' 'sonstige_autos' 'alfa_romeo' 'subaru' 'volvo'\n",
      " 'mitsubishi' 'kia' 'suzuki' 'lancia' 'citroen' 'toyota' 'chevrolet'\n",
      " 'dacia' 'daihatsu' 'trabant' 'saab' 'chrysler' 'jaguar' 'daewoo'\n",
      " 'porsche' 'rover' 'land_rover' 'lada']\n",
      "[nan 'yes' 'no']\n"
     ]
    }
   ],
   "source": [
    "# проверяем неявные дубликаты\n",
    "columns = ['vehicle_type', 'gearbox', 'model', 'fuel_type', 'brand', 'repaired']\n",
    "for column in columns:\n",
    "    print(df[column].unique())"
   ]
  },
  {
   "cell_type": "markdown",
   "metadata": {},
   "source": [
    "Имеется неявный дубликат в модели автомобиля - 'rangerover' и 'range_rover'. Приведем к единому значению 'range_rover'. \n",
    "Также имеется неявный дубликат в типе топлива. 'petrol' и 'gasoline' означают бензин. Приведем к единому значению 'petrol'."
   ]
  },
  {
   "cell_type": "code",
   "execution_count": 16,
   "metadata": {},
   "outputs": [
    {
     "data": {
      "text/plain": [
       "array(['petrol', nan, 'lpg', 'other', 'hybrid', 'cng', 'electric'],\n",
       "      dtype=object)"
      ]
     },
     "execution_count": 16,
     "metadata": {},
     "output_type": "execute_result"
    }
   ],
   "source": [
    "df['fuel_type'].replace('gasoline', 'petrol', inplace=True)\n",
    "\n",
    "# проверяем\n",
    "df['fuel_type'].unique() "
   ]
  },
  {
   "cell_type": "code",
   "execution_count": 17,
   "metadata": {},
   "outputs": [
    {
     "data": {
      "text/plain": [
       "array(['golf', nan, 'grand', 'fabia', '3er', '2_reihe', 'other', 'c_max',\n",
       "       '3_reihe', 'passat', 'navara', 'ka', 'polo', 'twingo', 'a_klasse',\n",
       "       'scirocco', '5er', 'arosa', 'civic', 'transporter', 'punto',\n",
       "       'e_klasse', 'kadett', 'kangoo', 'corsa', 'one', 'fortwo', 'clio',\n",
       "       '1er', 'b_klasse', 'signum', 'astra', 'a8', 'jetta', 'fiesta',\n",
       "       'c_klasse', 'micra', 'vito', 'sprinter', '156', 'escort',\n",
       "       'forester', 'xc_reihe', 'scenic', 'a4', 'a1', 'insignia', 'combo',\n",
       "       'focus', 'tt', 'a6', 'jazz', 'omega', 'slk', '7er', '80', '147',\n",
       "       '100', 'meriva', 'z_reihe', 'sorento', 'v40', 'ibiza', 'mustang',\n",
       "       'eos', 'touran', 'getz', 'a3', 'megane', 'lupo', 'r19', 'caddy',\n",
       "       'mondeo', 'cordoba', 'colt', 'impreza', 'vectra', 'berlingo',\n",
       "       'tiguan', 'i_reihe', 'sharan', '6_reihe', 'c4', 'panda', 'up',\n",
       "       'ceed', '5_reihe', 'yeti', 'octavia', 'zafira', 'mii', 'rx_reihe',\n",
       "       '6er', 'modus', 'fox', 'matiz', 'beetle', 'c1', 'rio', 'touareg',\n",
       "       'logan', 'spider', 'cuore', 's_max', 'a2', 'galaxy', 'c3', 'viano',\n",
       "       's_klasse', '1_reihe', 'avensis', 'roomster', 'sl', 'kaefer',\n",
       "       'santa', 'cooper', 'leon', '4_reihe', 'a5', 'sportage', 'laguna',\n",
       "       'ptcruiser', 'clk', 'primera', 'espace', 'x_reihe', 'exeo', '159',\n",
       "       'transit', 'juke', 'qashqai', 'carisma', 'accord', 'corolla',\n",
       "       'lanos', 'phaeton', 'verso', 'swift', 'rav', 'picanto', 'boxster',\n",
       "       'kalos', 'superb', 'stilo', 'alhambra', 'mx_reihe', 'roadster',\n",
       "       'ypsilon', 'cayenne', 'galant', 'justy', '90', 'sirion',\n",
       "       'crossfire', 'agila', 'duster', 'v50', '500', 'c_reihe',\n",
       "       'v_klasse', 'm_klasse', 'yaris', 'c5', 'aygo', 'almera',\n",
       "       'seicento', 'cc', 'fusion', '911', 'bora', 'forfour', 'm_reihe',\n",
       "       'cl', 'tigra', '300c', 'cr_reihe', 'spark', 'v70', 'kuga',\n",
       "       'x_type', 'ducato', 's_type', 'x_trail', 'toledo', 'altea',\n",
       "       'voyager', 'calibra', 'carnival', 'bravo', 'antara', 'tucson',\n",
       "       'citigo', 'jimny', 'wrangler', 'lybra', 'q7', 'lancer', 'captiva',\n",
       "       'discovery', 'freelander', 'sandero', 'note', '900', 'cherokee',\n",
       "       'clubman', 'samara', 'defender', 'cx_reihe', 'legacy', '601',\n",
       "       'pajero', 'auris', 'c2', 'niva', 's60', 'nubira', 'vivaro',\n",
       "       'g_klasse', 'lodgy', '850', 'range_rover', 'q3', 'serie_2', 'glk',\n",
       "       'charade', 'croma', 'outlander', 'doblo', 'musa', 'move', '9000',\n",
       "       'v60', '145', '200', 'b_max', 'range_rover_sport', 'aveo',\n",
       "       'terios', 'q5', 'range_rover_evoque', 'materia', 'delta', 'gl',\n",
       "       'kalina', 'elefantino', 'i3', 'amarok', 'kappa', 'serie_3',\n",
       "       'serie_1'], dtype=object)"
      ]
     },
     "execution_count": 17,
     "metadata": {},
     "output_type": "execute_result"
    }
   ],
   "source": [
    "df['model'].replace('rangerover', 'range_rover', inplace=True)\n",
    "\n",
    "# проверяем\n",
    "df['model'].unique() "
   ]
  },
  {
   "cell_type": "code",
   "execution_count": 18,
   "metadata": {},
   "outputs": [
    {
     "data": {
      "text/plain": [
       "date_crawled              0\n",
       "price                     0\n",
       "vehicle_type          21483\n",
       "registration_year         0\n",
       "gearbox               18459\n",
       "power                     0\n",
       "model                 17692\n",
       "kilometer                 0\n",
       "registration_month        0\n",
       "fuel_type             26621\n",
       "brand                     0\n",
       "repaired              64892\n",
       "date_created              0\n",
       "last_seen                 0\n",
       "postal_code_region        0\n",
       "dtype: int64"
      ]
     },
     "execution_count": 18,
     "metadata": {},
     "output_type": "execute_result"
    }
   ],
   "source": [
    "# еще раз оцениваем пропущенные значения\n",
    "df.isna().sum()"
   ]
  },
  {
   "cell_type": "markdown",
   "metadata": {},
   "source": [
    "В столбце `model` имеются 18361 пустое значение. Несмотря на то, что количество пустых значений велико, корректно заполнить их мы не можем, а данный признак будет напрямую влиять на стоиомть автомобиля. В сыязи с чем принято решение удалить строки с пустым значеним данного принака. Пустые значения в признаках `vehicle_type`, `gearbox` и `fuel_type`, `repaired` заменим на значение 'unknown'."
   ]
  },
  {
   "cell_type": "code",
   "execution_count": 19,
   "metadata": {},
   "outputs": [
    {
     "data": {
      "text/plain": [
       "date_crawled          0\n",
       "price                 0\n",
       "vehicle_type          0\n",
       "registration_year     0\n",
       "gearbox               0\n",
       "power                 0\n",
       "model                 0\n",
       "kilometer             0\n",
       "registration_month    0\n",
       "fuel_type             0\n",
       "brand                 0\n",
       "repaired              0\n",
       "date_created          0\n",
       "last_seen             0\n",
       "postal_code_region    0\n",
       "dtype: int64"
      ]
     },
     "execution_count": 19,
     "metadata": {},
     "output_type": "execute_result"
    }
   ],
   "source": [
    "df.dropna(subset=['model'], inplace=True)\n",
    "\n",
    "null_columns = ['vehicle_type', 'gearbox', 'fuel_type']\n",
    "\n",
    "for column in null_columns:\n",
    "    df[column] = df[column].fillna(df.groupby('model')[column].transform(lambda x: x.mode()[0] if not x.mode().empty else None))\n",
    "\n",
    "df[null_columns] = df[null_columns].fillna('unknown')\n",
    "df['repaired'] = df['repaired'].fillna('unknown')\n",
    "\n",
    "# проверяем\n",
    "df.isna().sum()  "
   ]
  },
  {
   "cell_type": "code",
   "execution_count": 20,
   "metadata": {},
   "outputs": [],
   "source": [
    "# напишем функция для визуализации количественных признаков\n",
    "def viz_col(df, feature):\n",
    "    print(f'Описательная статистика для признака \"{feature}\":')\n",
    "    display(df[feature].describe())\n",
    "        \n",
    "    plt.figure(figsize=(20, 12))\n",
    "    plt.subplot(2, 1, 1)\n",
    "    sns.histplot(df[feature], kde=True, bins=50)\n",
    "    plt.title(f'Распределение признака \"{feature}\"', fontsize=15)\n",
    "    plt.xlabel(f'Признак \"{feature}\"', fontsize=14)\n",
    "    plt.ylabel('Плотность распределения', fontsize=14)\n",
    "        \n",
    "    plt.subplot(2, 1, 2)\n",
    "    sns.boxplot(df[feature])\n",
    "    plt.title(f'Диаграмма размаха по признаку \"{feature}\"', fontsize=15)\n",
    "    plt.xlabel(f'Значения признака \"{feature}\"', fontsize=14)\n",
    "        \n",
    "    plt.tight_layout()\n",
    "    plt.show()"
   ]
  },
  {
   "cell_type": "code",
   "execution_count": 21,
   "metadata": {},
   "outputs": [
    {
     "name": "stdout",
     "output_type": "stream",
     "text": [
      "Описательная статистика для признака \"price\":\n"
     ]
    },
    {
     "data": {
      "text/plain": [
       "count    320621.000000\n",
       "mean       4566.087652\n",
       "std        4563.812617\n",
       "min           0.000000\n",
       "25%        1150.000000\n",
       "50%        2900.000000\n",
       "75%        6599.000000\n",
       "max       20000.000000\n",
       "Name: price, dtype: float64"
      ]
     },
     "metadata": {},
     "output_type": "display_data"
    },
    {
     "data": {
      "image/png": "[encoded data removed]",
      "text/plain": [
       "<Figure size 1440x864 with 2 Axes>"
      ]
     },
     "metadata": {
      "needs_background": "light"
     },
     "output_type": "display_data"
    },
    {
     "name": "stdout",
     "output_type": "stream",
     "text": [
      "Описательная статистика для признака \"registration_year\":\n"
     ]
    },
    {
     "data": {
      "text/plain": [
       "count    320621.000000\n",
       "mean       2003.356636\n",
       "std          70.825231\n",
       "min        1000.000000\n",
       "25%        1999.000000\n",
       "50%        2003.000000\n",
       "75%        2007.000000\n",
       "max        9999.000000\n",
       "Name: registration_year, dtype: float64"
      ]
     },
     "metadata": {},
     "output_type": "display_data"
    },
    {
     "data": {
      "image/png": "[encoded data removed]",
      "text/plain": [
       "<Figure size 1440x864 with 2 Axes>"
      ]
     },
     "metadata": {
      "needs_background": "light"
     },
     "output_type": "display_data"
    },
    {
     "name": "stdout",
     "output_type": "stream",
     "text": [
      "Описательная статистика для признака \"power\":\n"
     ]
    },
    {
     "data": {
      "text/plain": [
       "count    320621.000000\n",
       "mean        112.268747\n",
       "std         180.405498\n",
       "min           0.000000\n",
       "25%          72.000000\n",
       "50%         105.000000\n",
       "75%         143.000000\n",
       "max       20000.000000\n",
       "Name: power, dtype: float64"
      ]
     },
     "metadata": {},
     "output_type": "display_data"
    },
    {
     "data": {
      "image/png": "[encoded data removed]",
      "text/plain": [
       "<Figure size 1440x864 with 2 Axes>"
      ]
     },
     "metadata": {
      "needs_background": "light"
     },
     "output_type": "display_data"
    }
   ],
   "source": [
    "# визуализируем распределение данных\n",
    "num_features = ['price', 'registration_year', 'power']\n",
    "\n",
    "for num in num_features:\n",
    "    viz_col(df, num)"
   ]
  },
  {
   "cell_type": "markdown",
   "metadata": {},
   "source": [
    "В столбцах с количественными данными наблюдается много аномальных значений. Удалим подобные значения."
   ]
  },
  {
   "cell_type": "code",
   "execution_count": 22,
   "metadata": {},
   "outputs": [
    {
     "data": {
      "text/html": [
       "<div>\n",
       "<style scoped>\n",
       "    .dataframe tbody tr th:only-of-type {\n",
       "        vertical-align: middle;\n",
       "    }\n",
       "\n",
       "    .dataframe tbody tr th {\n",
       "        vertical-align: top;\n",
       "    }\n",
       "\n",
       "    .dataframe thead th {\n",
       "        text-align: right;\n",
       "    }\n",
       "</style>\n",
       "<table border=\"1\" class=\"dataframe\">\n",
       "  <thead>\n",
       "    <tr style=\"text-align: right;\">\n",
       "      <th></th>\n",
       "      <th>price</th>\n",
       "      <th>registration_year</th>\n",
       "      <th>power</th>\n",
       "      <th>kilometer</th>\n",
       "      <th>registration_month</th>\n",
       "    </tr>\n",
       "  </thead>\n",
       "  <tbody>\n",
       "    <tr>\n",
       "      <th>count</th>\n",
       "      <td>283207.000000</td>\n",
       "      <td>283207.00000</td>\n",
       "      <td>283207.000000</td>\n",
       "      <td>283207.000000</td>\n",
       "      <td>283207.000000</td>\n",
       "    </tr>\n",
       "    <tr>\n",
       "      <th>mean</th>\n",
       "      <td>4911.730692</td>\n",
       "      <td>2002.90675</td>\n",
       "      <td>121.096410</td>\n",
       "      <td>128378.465222</td>\n",
       "      <td>5.974111</td>\n",
       "    </tr>\n",
       "    <tr>\n",
       "      <th>std</th>\n",
       "      <td>4622.646497</td>\n",
       "      <td>6.18997</td>\n",
       "      <td>54.158361</td>\n",
       "      <td>36518.818230</td>\n",
       "      <td>3.592421</td>\n",
       "    </tr>\n",
       "    <tr>\n",
       "      <th>min</th>\n",
       "      <td>1.000000</td>\n",
       "      <td>1960.00000</td>\n",
       "      <td>30.000000</td>\n",
       "      <td>5000.000000</td>\n",
       "      <td>0.000000</td>\n",
       "    </tr>\n",
       "    <tr>\n",
       "      <th>25%</th>\n",
       "      <td>1390.000000</td>\n",
       "      <td>1999.00000</td>\n",
       "      <td>77.000000</td>\n",
       "      <td>125000.000000</td>\n",
       "      <td>3.000000</td>\n",
       "    </tr>\n",
       "    <tr>\n",
       "      <th>50%</th>\n",
       "      <td>3250.000000</td>\n",
       "      <td>2003.00000</td>\n",
       "      <td>113.000000</td>\n",
       "      <td>150000.000000</td>\n",
       "      <td>6.000000</td>\n",
       "    </tr>\n",
       "    <tr>\n",
       "      <th>75%</th>\n",
       "      <td>7000.000000</td>\n",
       "      <td>2007.00000</td>\n",
       "      <td>150.000000</td>\n",
       "      <td>150000.000000</td>\n",
       "      <td>9.000000</td>\n",
       "    </tr>\n",
       "    <tr>\n",
       "      <th>max</th>\n",
       "      <td>20000.000000</td>\n",
       "      <td>2019.00000</td>\n",
       "      <td>1000.000000</td>\n",
       "      <td>150000.000000</td>\n",
       "      <td>12.000000</td>\n",
       "    </tr>\n",
       "  </tbody>\n",
       "</table>\n",
       "</div>"
      ],
      "text/plain": [
       "               price  registration_year          power      kilometer  \\\n",
       "count  283207.000000       283207.00000  283207.000000  283207.000000   \n",
       "mean     4911.730692         2002.90675     121.096410  128378.465222   \n",
       "std      4622.646497            6.18997      54.158361   36518.818230   \n",
       "min         1.000000         1960.00000      30.000000    5000.000000   \n",
       "25%      1390.000000         1999.00000      77.000000  125000.000000   \n",
       "50%      3250.000000         2003.00000     113.000000  150000.000000   \n",
       "75%      7000.000000         2007.00000     150.000000  150000.000000   \n",
       "max     20000.000000         2019.00000    1000.000000  150000.000000   \n",
       "\n",
       "       registration_month  \n",
       "count       283207.000000  \n",
       "mean             5.974111  \n",
       "std              3.592421  \n",
       "min              0.000000  \n",
       "25%              3.000000  \n",
       "50%              6.000000  \n",
       "75%              9.000000  \n",
       "max             12.000000  "
      ]
     },
     "metadata": {},
     "output_type": "display_data"
    },
    {
     "data": {
      "text/plain": [
       "(283207, 15)"
      ]
     },
     "metadata": {},
     "output_type": "display_data"
    }
   ],
   "source": [
    "df = df.query('(price != 0) & (1960 <= registration_year <= 2024) & (30 <= power <= 1000)')\n",
    "display(df.describe()) # проверяем\n",
    "display(df.shape)"
   ]
  },
  {
   "cell_type": "code",
   "execution_count": 23,
   "metadata": {},
   "outputs": [],
   "source": [
    "# исключаем записи с нулевой ценой\n",
    "df = df[df['price'] != 0]"
   ]
  },
  {
   "cell_type": "code",
   "execution_count": 24,
   "metadata": {},
   "outputs": [],
   "source": [
    "\n",
    "# Фильтрация регистрационного года:\n",
    "# Год регистрации должен быть не меньше 1960 и не больше года создания объявления.\n",
    "df = df[(df['registration_year'] >= 1960) & (df['registration_year'] <= df['date_created'].dt.year)]\n",
    "\n",
    "df = df[~((df['registration_year'] == df['date_created'].dt.year) & (df['registration_month'] > df['date_created'].dt.month))]"
   ]
  },
  {
   "cell_type": "code",
   "execution_count": 25,
   "metadata": {},
   "outputs": [
    {
     "data": {
      "text/html": [
       "<div>\n",
       "<style scoped>\n",
       "    .dataframe tbody tr th:only-of-type {\n",
       "        vertical-align: middle;\n",
       "    }\n",
       "\n",
       "    .dataframe tbody tr th {\n",
       "        vertical-align: top;\n",
       "    }\n",
       "\n",
       "    .dataframe thead th {\n",
       "        text-align: right;\n",
       "    }\n",
       "</style>\n",
       "<table border=\"1\" class=\"dataframe\">\n",
       "  <thead>\n",
       "    <tr style=\"text-align: right;\">\n",
       "      <th></th>\n",
       "      <th>price</th>\n",
       "      <th>registration_year</th>\n",
       "      <th>power</th>\n",
       "      <th>kilometer</th>\n",
       "      <th>registration_month</th>\n",
       "    </tr>\n",
       "  </thead>\n",
       "  <tbody>\n",
       "    <tr>\n",
       "      <th>count</th>\n",
       "      <td>281461.000000</td>\n",
       "      <td>281461.000000</td>\n",
       "      <td>281461.000000</td>\n",
       "      <td>281461.000000</td>\n",
       "      <td>281461.000000</td>\n",
       "    </tr>\n",
       "    <tr>\n",
       "      <th>mean</th>\n",
       "      <td>4925.502954</td>\n",
       "      <td>2002.817907</td>\n",
       "      <td>121.205119</td>\n",
       "      <td>128336.821087</td>\n",
       "      <td>6.011170</td>\n",
       "    </tr>\n",
       "    <tr>\n",
       "      <th>std</th>\n",
       "      <td>4627.544640</td>\n",
       "      <td>6.105081</td>\n",
       "      <td>54.176549</td>\n",
       "      <td>36530.653920</td>\n",
       "      <td>3.572503</td>\n",
       "    </tr>\n",
       "    <tr>\n",
       "      <th>min</th>\n",
       "      <td>1.000000</td>\n",
       "      <td>1960.000000</td>\n",
       "      <td>30.000000</td>\n",
       "      <td>5000.000000</td>\n",
       "      <td>0.000000</td>\n",
       "    </tr>\n",
       "    <tr>\n",
       "      <th>25%</th>\n",
       "      <td>1399.000000</td>\n",
       "      <td>1999.000000</td>\n",
       "      <td>78.000000</td>\n",
       "      <td>125000.000000</td>\n",
       "      <td>3.000000</td>\n",
       "    </tr>\n",
       "    <tr>\n",
       "      <th>50%</th>\n",
       "      <td>3275.000000</td>\n",
       "      <td>2003.000000</td>\n",
       "      <td>113.000000</td>\n",
       "      <td>150000.000000</td>\n",
       "      <td>6.000000</td>\n",
       "    </tr>\n",
       "    <tr>\n",
       "      <th>75%</th>\n",
       "      <td>7000.000000</td>\n",
       "      <td>2007.000000</td>\n",
       "      <td>150.000000</td>\n",
       "      <td>150000.000000</td>\n",
       "      <td>9.000000</td>\n",
       "    </tr>\n",
       "    <tr>\n",
       "      <th>max</th>\n",
       "      <td>20000.000000</td>\n",
       "      <td>2016.000000</td>\n",
       "      <td>1000.000000</td>\n",
       "      <td>150000.000000</td>\n",
       "      <td>12.000000</td>\n",
       "    </tr>\n",
       "  </tbody>\n",
       "</table>\n",
       "</div>"
      ],
      "text/plain": [
       "               price  registration_year          power      kilometer  \\\n",
       "count  281461.000000      281461.000000  281461.000000  281461.000000   \n",
       "mean     4925.502954        2002.817907     121.205119  128336.821087   \n",
       "std      4627.544640           6.105081      54.176549   36530.653920   \n",
       "min         1.000000        1960.000000      30.000000    5000.000000   \n",
       "25%      1399.000000        1999.000000      78.000000  125000.000000   \n",
       "50%      3275.000000        2003.000000     113.000000  150000.000000   \n",
       "75%      7000.000000        2007.000000     150.000000  150000.000000   \n",
       "max     20000.000000        2016.000000    1000.000000  150000.000000   \n",
       "\n",
       "       registration_month  \n",
       "count       281461.000000  \n",
       "mean             6.011170  \n",
       "std              3.572503  \n",
       "min              0.000000  \n",
       "25%              3.000000  \n",
       "50%              6.000000  \n",
       "75%              9.000000  \n",
       "max             12.000000  "
      ]
     },
     "metadata": {},
     "output_type": "display_data"
    },
    {
     "data": {
      "text/plain": [
       "(281461, 15)"
      ]
     },
     "metadata": {},
     "output_type": "display_data"
    }
   ],
   "source": [
    "# обработка признака 'power'\n",
    "power_df = (df['power'] < 30) | (df['power'] > 1000)\n",
    "df.loc[power_df, 'power'] = df[power_df].groupby('model')['power'].transform('median')\n",
    "\n",
    "\n",
    "# проверяем\n",
    "display(df.describe())\n",
    "display(df.shape)"
   ]
  },
  {
   "cell_type": "markdown",
   "metadata": {},
   "source": [
    "Объединим бренд автомобиля с моделью."
   ]
  },
  {
   "cell_type": "code",
   "execution_count": 26,
   "metadata": {},
   "outputs": [
    {
     "data": {
      "text/html": [
       "<div>\n",
       "<style scoped>\n",
       "    .dataframe tbody tr th:only-of-type {\n",
       "        vertical-align: middle;\n",
       "    }\n",
       "\n",
       "    .dataframe tbody tr th {\n",
       "        vertical-align: top;\n",
       "    }\n",
       "\n",
       "    .dataframe thead th {\n",
       "        text-align: right;\n",
       "    }\n",
       "</style>\n",
       "<table border=\"1\" class=\"dataframe\">\n",
       "  <thead>\n",
       "    <tr style=\"text-align: right;\">\n",
       "      <th></th>\n",
       "      <th>date_crawled</th>\n",
       "      <th>price</th>\n",
       "      <th>vehicle_type</th>\n",
       "      <th>registration_year</th>\n",
       "      <th>gearbox</th>\n",
       "      <th>power</th>\n",
       "      <th>kilometer</th>\n",
       "      <th>registration_month</th>\n",
       "      <th>fuel_type</th>\n",
       "      <th>repaired</th>\n",
       "      <th>date_created</th>\n",
       "      <th>last_seen</th>\n",
       "      <th>postal_code_region</th>\n",
       "      <th>brand_model</th>\n",
       "    </tr>\n",
       "  </thead>\n",
       "  <tbody>\n",
       "    <tr>\n",
       "      <th>2</th>\n",
       "      <td>2016-03-14 12:52:21</td>\n",
       "      <td>9800</td>\n",
       "      <td>suv</td>\n",
       "      <td>2004</td>\n",
       "      <td>auto</td>\n",
       "      <td>163</td>\n",
       "      <td>125000</td>\n",
       "      <td>8</td>\n",
       "      <td>petrol</td>\n",
       "      <td>unknown</td>\n",
       "      <td>2016-03-14</td>\n",
       "      <td>2016-04-05 12:47:46</td>\n",
       "      <td>904</td>\n",
       "      <td>jeep grand</td>\n",
       "    </tr>\n",
       "    <tr>\n",
       "      <th>3</th>\n",
       "      <td>2016-03-17 16:54:04</td>\n",
       "      <td>1500</td>\n",
       "      <td>small</td>\n",
       "      <td>2001</td>\n",
       "      <td>manual</td>\n",
       "      <td>75</td>\n",
       "      <td>150000</td>\n",
       "      <td>6</td>\n",
       "      <td>petrol</td>\n",
       "      <td>no</td>\n",
       "      <td>2016-03-17</td>\n",
       "      <td>2016-03-17 17:40:17</td>\n",
       "      <td>910</td>\n",
       "      <td>volkswagen golf</td>\n",
       "    </tr>\n",
       "    <tr>\n",
       "      <th>4</th>\n",
       "      <td>2016-03-31 17:25:20</td>\n",
       "      <td>3600</td>\n",
       "      <td>small</td>\n",
       "      <td>2008</td>\n",
       "      <td>manual</td>\n",
       "      <td>69</td>\n",
       "      <td>90000</td>\n",
       "      <td>7</td>\n",
       "      <td>petrol</td>\n",
       "      <td>no</td>\n",
       "      <td>2016-03-31</td>\n",
       "      <td>2016-04-06 10:17:21</td>\n",
       "      <td>604</td>\n",
       "      <td>skoda fabia</td>\n",
       "    </tr>\n",
       "    <tr>\n",
       "      <th>5</th>\n",
       "      <td>2016-04-04 17:36:23</td>\n",
       "      <td>650</td>\n",
       "      <td>sedan</td>\n",
       "      <td>1995</td>\n",
       "      <td>manual</td>\n",
       "      <td>102</td>\n",
       "      <td>150000</td>\n",
       "      <td>10</td>\n",
       "      <td>petrol</td>\n",
       "      <td>yes</td>\n",
       "      <td>2016-04-04</td>\n",
       "      <td>2016-04-06 19:17:07</td>\n",
       "      <td>337</td>\n",
       "      <td>bmw 3er</td>\n",
       "    </tr>\n",
       "    <tr>\n",
       "      <th>6</th>\n",
       "      <td>2016-04-01 20:48:51</td>\n",
       "      <td>2200</td>\n",
       "      <td>convertible</td>\n",
       "      <td>2004</td>\n",
       "      <td>manual</td>\n",
       "      <td>109</td>\n",
       "      <td>150000</td>\n",
       "      <td>8</td>\n",
       "      <td>petrol</td>\n",
       "      <td>no</td>\n",
       "      <td>2016-04-01</td>\n",
       "      <td>2016-04-05 18:18:39</td>\n",
       "      <td>671</td>\n",
       "      <td>peugeot 2_reihe</td>\n",
       "    </tr>\n",
       "  </tbody>\n",
       "</table>\n",
       "</div>"
      ],
      "text/plain": [
       "         date_crawled  price vehicle_type  registration_year gearbox  power  \\\n",
       "2 2016-03-14 12:52:21   9800          suv               2004    auto    163   \n",
       "3 2016-03-17 16:54:04   1500        small               2001  manual     75   \n",
       "4 2016-03-31 17:25:20   3600        small               2008  manual     69   \n",
       "5 2016-04-04 17:36:23    650        sedan               1995  manual    102   \n",
       "6 2016-04-01 20:48:51   2200  convertible               2004  manual    109   \n",
       "\n",
       "   kilometer  registration_month fuel_type repaired date_created  \\\n",
       "2     125000                   8    petrol  unknown   2016-03-14   \n",
       "3     150000                   6    petrol       no   2016-03-17   \n",
       "4      90000                   7    petrol       no   2016-03-31   \n",
       "5     150000                  10    petrol      yes   2016-04-04   \n",
       "6     150000                   8    petrol       no   2016-04-01   \n",
       "\n",
       "            last_seen postal_code_region      brand_model  \n",
       "2 2016-04-05 12:47:46                904       jeep grand  \n",
       "3 2016-03-17 17:40:17                910  volkswagen golf  \n",
       "4 2016-04-06 10:17:21                604      skoda fabia  \n",
       "5 2016-04-06 19:17:07                337          bmw 3er  \n",
       "6 2016-04-05 18:18:39                671  peugeot 2_reihe  "
      ]
     },
     "execution_count": 26,
     "metadata": {},
     "output_type": "execute_result"
    }
   ],
   "source": [
    "df['brand_model'] = df['brand'] + ' ' + df['model']\n",
    "\n",
    "df.drop(columns=['brand'], inplace=True)\n",
    "df.drop(columns=['model'], inplace=True)\n",
    "\n",
    "# проверяем\n",
    "df.head()"
   ]
  },
  {
   "cell_type": "code",
   "execution_count": 27,
   "metadata": {},
   "outputs": [],
   "source": [
    "# удалим остальные не нужные для определения целевого признака столбцы\n",
    "df = df.drop(['date_crawled', 'registration_month', 'date_created', 'last_seen'], axis=1)"
   ]
  },
  {
   "cell_type": "code",
   "execution_count": 28,
   "metadata": {},
   "outputs": [
    {
     "data": {
      "text/html": [
       "<div>\n",
       "<style scoped>\n",
       "    .dataframe tbody tr th:only-of-type {\n",
       "        vertical-align: middle;\n",
       "    }\n",
       "\n",
       "    .dataframe tbody tr th {\n",
       "        vertical-align: top;\n",
       "    }\n",
       "\n",
       "    .dataframe thead th {\n",
       "        text-align: right;\n",
       "    }\n",
       "</style>\n",
       "<table border=\"1\" class=\"dataframe\">\n",
       "  <thead>\n",
       "    <tr style=\"text-align: right;\">\n",
       "      <th></th>\n",
       "      <th>price</th>\n",
       "      <th>vehicle_type</th>\n",
       "      <th>registration_year</th>\n",
       "      <th>gearbox</th>\n",
       "      <th>power</th>\n",
       "      <th>kilometer</th>\n",
       "      <th>fuel_type</th>\n",
       "      <th>repaired</th>\n",
       "      <th>postal_code_region</th>\n",
       "      <th>brand_model</th>\n",
       "    </tr>\n",
       "  </thead>\n",
       "  <tbody>\n",
       "    <tr>\n",
       "      <th>2</th>\n",
       "      <td>9800</td>\n",
       "      <td>suv</td>\n",
       "      <td>2004</td>\n",
       "      <td>auto</td>\n",
       "      <td>163</td>\n",
       "      <td>125000</td>\n",
       "      <td>petrol</td>\n",
       "      <td>unknown</td>\n",
       "      <td>904</td>\n",
       "      <td>jeep grand</td>\n",
       "    </tr>\n",
       "    <tr>\n",
       "      <th>3</th>\n",
       "      <td>1500</td>\n",
       "      <td>small</td>\n",
       "      <td>2001</td>\n",
       "      <td>manual</td>\n",
       "      <td>75</td>\n",
       "      <td>150000</td>\n",
       "      <td>petrol</td>\n",
       "      <td>no</td>\n",
       "      <td>910</td>\n",
       "      <td>volkswagen golf</td>\n",
       "    </tr>\n",
       "    <tr>\n",
       "      <th>4</th>\n",
       "      <td>3600</td>\n",
       "      <td>small</td>\n",
       "      <td>2008</td>\n",
       "      <td>manual</td>\n",
       "      <td>69</td>\n",
       "      <td>90000</td>\n",
       "      <td>petrol</td>\n",
       "      <td>no</td>\n",
       "      <td>604</td>\n",
       "      <td>skoda fabia</td>\n",
       "    </tr>\n",
       "    <tr>\n",
       "      <th>5</th>\n",
       "      <td>650</td>\n",
       "      <td>sedan</td>\n",
       "      <td>1995</td>\n",
       "      <td>manual</td>\n",
       "      <td>102</td>\n",
       "      <td>150000</td>\n",
       "      <td>petrol</td>\n",
       "      <td>yes</td>\n",
       "      <td>337</td>\n",
       "      <td>bmw 3er</td>\n",
       "    </tr>\n",
       "    <tr>\n",
       "      <th>6</th>\n",
       "      <td>2200</td>\n",
       "      <td>convertible</td>\n",
       "      <td>2004</td>\n",
       "      <td>manual</td>\n",
       "      <td>109</td>\n",
       "      <td>150000</td>\n",
       "      <td>petrol</td>\n",
       "      <td>no</td>\n",
       "      <td>671</td>\n",
       "      <td>peugeot 2_reihe</td>\n",
       "    </tr>\n",
       "  </tbody>\n",
       "</table>\n",
       "</div>"
      ],
      "text/plain": [
       "   price vehicle_type  registration_year gearbox  power  kilometer fuel_type  \\\n",
       "2   9800          suv               2004    auto    163     125000    petrol   \n",
       "3   1500        small               2001  manual     75     150000    petrol   \n",
       "4   3600        small               2008  manual     69      90000    petrol   \n",
       "5    650        sedan               1995  manual    102     150000    petrol   \n",
       "6   2200  convertible               2004  manual    109     150000    petrol   \n",
       "\n",
       "  repaired postal_code_region      brand_model  \n",
       "2  unknown                904       jeep grand  \n",
       "3       no                910  volkswagen golf  \n",
       "4       no                604      skoda fabia  \n",
       "5      yes                337          bmw 3er  \n",
       "6       no                671  peugeot 2_reihe  "
      ]
     },
     "metadata": {},
     "output_type": "display_data"
    },
    {
     "name": "stdout",
     "output_type": "stream",
     "text": [
      "(281461, 10)\n"
     ]
    }
   ],
   "source": [
    "display(df.head())\n",
    "print(df.shape)"
   ]
  },
  {
   "cell_type": "markdown",
   "metadata": {},
   "source": [
    "Оценим корреляцию между признаками после проведенной предобработки данных."
   ]
  },
  {
   "cell_type": "code",
   "execution_count": 29,
   "metadata": {},
   "outputs": [
    {
     "data": {
      "image/png": "[encoded data removed]",
      "text/plain": [
       "<Figure size 576x432 with 2 Axes>"
      ]
     },
     "metadata": {
      "needs_background": "light"
     },
     "output_type": "display_data"
    }
   ],
   "source": [
    "# смотрим матрицу корреляций\n",
    "interval_cols = ['price']\n",
    "\n",
    "corr = df.phik_matrix(interval_cols=interval_cols, verbose=False)\n",
    "\n",
    "plt.figure(figsize=(8, 6))\n",
    "sns.heatmap(corr, annot=True, cmap='Greens', fmt='.2f') \n",
    "plt.title(r'Матрица корреляций $\\phi_K$', fontsize=16)\n",
    "plt.show()"
   ]
  },
  {
   "cell_type": "markdown",
   "metadata": {},
   "source": [
    "**Вывод:** данные были загружены и изучены. В ходе предобработки явные и неявные дубликаты были удалены. Проведена работы с пустыми значениями и аномалиями: а также с неинформативными признакми, часть объектов и признаков была удалена из датасета. В итоговом датасете наблюдается 281461 объетов и 10 признаков."
   ]
  },
  {
   "cell_type": "markdown",
   "metadata": {},
   "source": [
    "### Подготовка данных к обучению моделей"
   ]
  },
  {
   "cell_type": "markdown",
   "metadata": {},
   "source": [
    "Для обучения моделей необходимо создать 3 датасета: 2 с закодированными данными (для модели лдинейной регрессии и для модели случайного леса) и один нет (для бустинг моделей)."
   ]
  },
  {
   "cell_type": "markdown",
   "metadata": {},
   "source": [
    "#### Подготовка данных для модели LightGBM"
   ]
  },
  {
   "cell_type": "code",
   "execution_count": 30,
   "metadata": {},
   "outputs": [],
   "source": [
    "RANDOM_STATE = 42"
   ]
  },
  {
   "cell_type": "code",
   "execution_count": 31,
   "metadata": {},
   "outputs": [],
   "source": [
    "# подгтовка данных для LightGBM\n",
    "X = df.drop('price', axis=1)\n",
    "y = df['price']\n",
    "\n",
    "# разделим данные на обучающую и временную выборки\n",
    "X_train, X_sample, y_train, y_sample = train_test_split(X, \n",
    "                                                        y, \n",
    "                                                        test_size=0.4,\n",
    "                                                        random_state=RANDOM_STATE)\n",
    "\n",
    "# разделим данные на тестовую и валидационную выборки\n",
    "X_test, X_valid, y_test, y_valid = train_test_split(X_sample, \n",
    "                                                    y_sample, \n",
    "                                                    test_size=0.5,\n",
    "                                                    random_state=RANDOM_STATE)"
   ]
  },
  {
   "cell_type": "markdown",
   "metadata": {},
   "source": [
    "Для обучения модели LightGBM преобразуем тип данных категориальных признаков из object в category."
   ]
  },
  {
   "cell_type": "code",
   "execution_count": 32,
   "metadata": {},
   "outputs": [
    {
     "name": "stdout",
     "output_type": "stream",
     "text": [
      "vehicle_type          category\n",
      "registration_year        int64\n",
      "gearbox               category\n",
      "power                    int64\n",
      "kilometer                int64\n",
      "fuel_type             category\n",
      "repaired              category\n",
      "postal_code_region    category\n",
      "brand_model           category\n",
      "dtype: object\n",
      "vehicle_type          category\n",
      "registration_year        int64\n",
      "gearbox               category\n",
      "power                    int64\n",
      "kilometer                int64\n",
      "fuel_type             category\n",
      "repaired              category\n",
      "postal_code_region    category\n",
      "brand_model           category\n",
      "dtype: object\n",
      "vehicle_type          category\n",
      "registration_year        int64\n",
      "gearbox               category\n",
      "power                    int64\n",
      "kilometer                int64\n",
      "fuel_type             category\n",
      "repaired              category\n",
      "postal_code_region    category\n",
      "brand_model           category\n",
      "dtype: object\n"
     ]
    }
   ],
   "source": [
    "# отбираем категориальные признаки\n",
    "categorical_features = X_train.dtypes[X_train.dtypes=='object'].index\n",
    "\n",
    "# преобразовываем тип\n",
    "X_train[categorical_features] = (X_train[categorical_features].astype('category'))\n",
    "X_valid[categorical_features] = (X_valid[categorical_features].astype('category'))\n",
    "X_test[categorical_features] = (X_test[categorical_features].astype('category'))\n",
    "\n",
    "print(X_train.dtypes) # проверяем\n",
    "print(X_test.dtypes)\n",
    "print(X_valid.dtypes)"
   ]
  },
  {
   "cell_type": "markdown",
   "metadata": {},
   "source": [
    "#### Подготовка данных для модели линейной регрессии"
   ]
  },
  {
   "cell_type": "code",
   "execution_count": 33,
   "metadata": {},
   "outputs": [],
   "source": [
    "# # закодируем все категориальные признаки\n",
    "# X_ohe = pd.get_dummies(features, drop_first=True)\n",
    "# # проверим\n",
    "# X_ohe.head()\n",
    "\n",
    "# # разделяем данные \n",
    "# X_train_ohe, X_sample_ohe, y_train_ohe, y_sample_ohe = train_test_split(X, \n",
    "#                                                                         y, \n",
    "#                                                                         test_size=0.4, \n",
    "#                                                                         random_state=RANDOM_STATE)\n",
    "\n",
    "# X_valid_ohe, X_test_ohe, y_valid_ohe, y_test_ohe = train_test_split(X_sample_ohe, \n",
    "#                                                                     y_sample_ohe, \n",
    "#                                                                     test_size=0.5, \n",
    "#                                                                     random_state=RANDOM_STATE)"
   ]
  },
  {
   "cell_type": "code",
   "execution_count": 34,
   "metadata": {},
   "outputs": [
    {
     "data": {
      "text/html": [
       "<div>\n",
       "<style scoped>\n",
       "    .dataframe tbody tr th:only-of-type {\n",
       "        vertical-align: middle;\n",
       "    }\n",
       "\n",
       "    .dataframe tbody tr th {\n",
       "        vertical-align: top;\n",
       "    }\n",
       "\n",
       "    .dataframe thead th {\n",
       "        text-align: right;\n",
       "    }\n",
       "</style>\n",
       "<table border=\"1\" class=\"dataframe\">\n",
       "  <thead>\n",
       "    <tr style=\"text-align: right;\">\n",
       "      <th></th>\n",
       "      <th>registration_year</th>\n",
       "      <th>power</th>\n",
       "      <th>kilometer</th>\n",
       "      <th>vehicle_type_convertible</th>\n",
       "      <th>vehicle_type_coupe</th>\n",
       "      <th>vehicle_type_other</th>\n",
       "      <th>vehicle_type_sedan</th>\n",
       "      <th>vehicle_type_small</th>\n",
       "      <th>vehicle_type_suv</th>\n",
       "      <th>vehicle_type_wagon</th>\n",
       "      <th>...</th>\n",
       "      <th>brand_model_volkswagen up</th>\n",
       "      <th>brand_model_volvo 850</th>\n",
       "      <th>brand_model_volvo c_reihe</th>\n",
       "      <th>brand_model_volvo other</th>\n",
       "      <th>brand_model_volvo s60</th>\n",
       "      <th>brand_model_volvo v40</th>\n",
       "      <th>brand_model_volvo v50</th>\n",
       "      <th>brand_model_volvo v60</th>\n",
       "      <th>brand_model_volvo v70</th>\n",
       "      <th>brand_model_volvo xc_reihe</th>\n",
       "    </tr>\n",
       "  </thead>\n",
       "  <tbody>\n",
       "    <tr>\n",
       "      <th>303560</th>\n",
       "      <td>1995</td>\n",
       "      <td>135</td>\n",
       "      <td>80000</td>\n",
       "      <td>0.0</td>\n",
       "      <td>0.0</td>\n",
       "      <td>0.0</td>\n",
       "      <td>1.0</td>\n",
       "      <td>0.0</td>\n",
       "      <td>0.0</td>\n",
       "      <td>0.0</td>\n",
       "      <td>...</td>\n",
       "      <td>0.0</td>\n",
       "      <td>0.0</td>\n",
       "      <td>0.0</td>\n",
       "      <td>0.0</td>\n",
       "      <td>0.0</td>\n",
       "      <td>0.0</td>\n",
       "      <td>0.0</td>\n",
       "      <td>0.0</td>\n",
       "      <td>0.0</td>\n",
       "      <td>0.0</td>\n",
       "    </tr>\n",
       "    <tr>\n",
       "      <th>70518</th>\n",
       "      <td>2011</td>\n",
       "      <td>184</td>\n",
       "      <td>150000</td>\n",
       "      <td>0.0</td>\n",
       "      <td>0.0</td>\n",
       "      <td>0.0</td>\n",
       "      <td>1.0</td>\n",
       "      <td>0.0</td>\n",
       "      <td>0.0</td>\n",
       "      <td>0.0</td>\n",
       "      <td>...</td>\n",
       "      <td>0.0</td>\n",
       "      <td>0.0</td>\n",
       "      <td>0.0</td>\n",
       "      <td>0.0</td>\n",
       "      <td>0.0</td>\n",
       "      <td>0.0</td>\n",
       "      <td>0.0</td>\n",
       "      <td>0.0</td>\n",
       "      <td>0.0</td>\n",
       "      <td>0.0</td>\n",
       "    </tr>\n",
       "    <tr>\n",
       "      <th>22258</th>\n",
       "      <td>2002</td>\n",
       "      <td>54</td>\n",
       "      <td>90000</td>\n",
       "      <td>0.0</td>\n",
       "      <td>0.0</td>\n",
       "      <td>0.0</td>\n",
       "      <td>0.0</td>\n",
       "      <td>1.0</td>\n",
       "      <td>0.0</td>\n",
       "      <td>0.0</td>\n",
       "      <td>...</td>\n",
       "      <td>0.0</td>\n",
       "      <td>0.0</td>\n",
       "      <td>0.0</td>\n",
       "      <td>0.0</td>\n",
       "      <td>0.0</td>\n",
       "      <td>0.0</td>\n",
       "      <td>0.0</td>\n",
       "      <td>0.0</td>\n",
       "      <td>0.0</td>\n",
       "      <td>0.0</td>\n",
       "    </tr>\n",
       "    <tr>\n",
       "      <th>239345</th>\n",
       "      <td>1998</td>\n",
       "      <td>88</td>\n",
       "      <td>150000</td>\n",
       "      <td>0.0</td>\n",
       "      <td>1.0</td>\n",
       "      <td>0.0</td>\n",
       "      <td>0.0</td>\n",
       "      <td>0.0</td>\n",
       "      <td>0.0</td>\n",
       "      <td>0.0</td>\n",
       "      <td>...</td>\n",
       "      <td>0.0</td>\n",
       "      <td>0.0</td>\n",
       "      <td>0.0</td>\n",
       "      <td>0.0</td>\n",
       "      <td>0.0</td>\n",
       "      <td>0.0</td>\n",
       "      <td>0.0</td>\n",
       "      <td>0.0</td>\n",
       "      <td>0.0</td>\n",
       "      <td>0.0</td>\n",
       "    </tr>\n",
       "    <tr>\n",
       "      <th>117421</th>\n",
       "      <td>2007</td>\n",
       "      <td>120</td>\n",
       "      <td>125000</td>\n",
       "      <td>0.0</td>\n",
       "      <td>0.0</td>\n",
       "      <td>0.0</td>\n",
       "      <td>0.0</td>\n",
       "      <td>1.0</td>\n",
       "      <td>0.0</td>\n",
       "      <td>0.0</td>\n",
       "      <td>...</td>\n",
       "      <td>0.0</td>\n",
       "      <td>0.0</td>\n",
       "      <td>0.0</td>\n",
       "      <td>0.0</td>\n",
       "      <td>0.0</td>\n",
       "      <td>0.0</td>\n",
       "      <td>0.0</td>\n",
       "      <td>0.0</td>\n",
       "      <td>0.0</td>\n",
       "      <td>0.0</td>\n",
       "    </tr>\n",
       "  </tbody>\n",
       "</table>\n",
       "<p>5 rows × 981 columns</p>\n",
       "</div>"
      ],
      "text/plain": [
       "        registration_year  power  kilometer  vehicle_type_convertible  \\\n",
       "303560               1995    135      80000                       0.0   \n",
       "70518                2011    184     150000                       0.0   \n",
       "22258                2002     54      90000                       0.0   \n",
       "239345               1998     88     150000                       0.0   \n",
       "117421               2007    120     125000                       0.0   \n",
       "\n",
       "        vehicle_type_coupe  vehicle_type_other  vehicle_type_sedan  \\\n",
       "303560                 0.0                 0.0                 1.0   \n",
       "70518                  0.0                 0.0                 1.0   \n",
       "22258                  0.0                 0.0                 0.0   \n",
       "239345                 1.0                 0.0                 0.0   \n",
       "117421                 0.0                 0.0                 0.0   \n",
       "\n",
       "        vehicle_type_small  vehicle_type_suv  vehicle_type_wagon  ...  \\\n",
       "303560                 0.0               0.0                 0.0  ...   \n",
       "70518                  0.0               0.0                 0.0  ...   \n",
       "22258                  1.0               0.0                 0.0  ...   \n",
       "239345                 0.0               0.0                 0.0  ...   \n",
       "117421                 1.0               0.0                 0.0  ...   \n",
       "\n",
       "        brand_model_volkswagen up  brand_model_volvo 850  \\\n",
       "303560                        0.0                    0.0   \n",
       "70518                         0.0                    0.0   \n",
       "22258                         0.0                    0.0   \n",
       "239345                        0.0                    0.0   \n",
       "117421                        0.0                    0.0   \n",
       "\n",
       "        brand_model_volvo c_reihe  brand_model_volvo other  \\\n",
       "303560                        0.0                      0.0   \n",
       "70518                         0.0                      0.0   \n",
       "22258                         0.0                      0.0   \n",
       "239345                        0.0                      0.0   \n",
       "117421                        0.0                      0.0   \n",
       "\n",
       "        brand_model_volvo s60  brand_model_volvo v40  brand_model_volvo v50  \\\n",
       "303560                    0.0                    0.0                    0.0   \n",
       "70518                     0.0                    0.0                    0.0   \n",
       "22258                     0.0                    0.0                    0.0   \n",
       "239345                    0.0                    0.0                    0.0   \n",
       "117421                    0.0                    0.0                    0.0   \n",
       "\n",
       "        brand_model_volvo v60  brand_model_volvo v70  \\\n",
       "303560                    0.0                    0.0   \n",
       "70518                     0.0                    0.0   \n",
       "22258                     0.0                    0.0   \n",
       "239345                    0.0                    0.0   \n",
       "117421                    0.0                    0.0   \n",
       "\n",
       "        brand_model_volvo xc_reihe  \n",
       "303560                         0.0  \n",
       "70518                          0.0  \n",
       "22258                          0.0  \n",
       "239345                         0.0  \n",
       "117421                         0.0  \n",
       "\n",
       "[5 rows x 981 columns]"
      ]
     },
     "execution_count": 34,
     "metadata": {},
     "output_type": "execute_result"
    }
   ],
   "source": [
    "# определяем категориальные признаки\n",
    "cat_columns = X.select_dtypes(include=['object']).columns.tolist()\n",
    "\n",
    "# создаем OHE с разреженным выходом, иначе получаем ошибку ядра\n",
    "ohe = OneHotEncoder(drop='first', handle_unknown='ignore', sparse_output=True)\n",
    "\n",
    "# разделяем данные перед кодированием\n",
    "X_train_ohe, X_sample_ohe, y_train_ohe, y_sample_ohe = train_test_split(X, \n",
    "                                                                        y, \n",
    "                                                                        test_size=0.4, \n",
    "                                                                        random_state=RANDOM_STATE)\n",
    "\n",
    "X_valid_ohe, X_test_ohe, y_valid_ohe, y_test_ohe = train_test_split(X_sample_ohe, \n",
    "                                                                    y_sample_ohe, \n",
    "                                                                    test_size=0.5, \n",
    "                                                                    random_state=RANDOM_STATE)\n",
    "\n",
    "\n",
    "# кодируем категориальные признаки\n",
    "X_train_encoded = ohe.fit_transform(X_train_ohe[cat_columns])\n",
    "X_valid_encoded = ohe.transform(X_valid_ohe[cat_columns])\n",
    "X_test_encoded = ohe.transform(X_test_ohe[cat_columns])\n",
    "\n",
    "# получаем имена закодированных признаков\n",
    "encoded_columns = ohe.get_feature_names_out(cat_columns)\n",
    "\n",
    "# преобразуем разреженную матрицу в DataFrame\n",
    "X_train_encoded = pd.DataFrame.sparse.from_spmatrix(X_train_encoded, columns=encoded_columns, index=X_train_ohe.index)\n",
    "X_valid_encoded = pd.DataFrame.sparse.from_spmatrix(X_valid_encoded, columns=encoded_columns, index=X_valid_ohe.index)\n",
    "X_test_encoded = pd.DataFrame.sparse.from_spmatrix(X_test_encoded, columns=encoded_columns, index=X_test_ohe.index)\n",
    "\n",
    "# объединяем с числовыми признаками\n",
    "X_train_ohe = pd.concat([X_train_ohe.drop(columns=cat_columns), X_train_encoded], axis=1)\n",
    "X_valid_ohe = pd.concat([X_valid_ohe.drop(columns=cat_columns), X_valid_encoded], axis=1)\n",
    "X_test_ohe = pd.concat([X_test_ohe.drop(columns=cat_columns), X_test_encoded], axis=1)\n",
    "\n",
    "X_train_ohe.head()"
   ]
  },
  {
   "cell_type": "markdown",
   "metadata": {},
   "source": [
    "#### Подготовка данных для модели случайного леса"
   ]
  },
  {
   "cell_type": "code",
   "execution_count": 35,
   "metadata": {},
   "outputs": [],
   "source": [
    "# разделим данные на обучающую и временную выборки\n",
    "X_train_oe, X_sample_oe, y_train_oe, y_sample_oe = train_test_split(X, \n",
    "                                                                    y, \n",
    "                                                                    test_size=0.4, \n",
    "                                                                    random_state=RANDOM_STATE)\n",
    "# разделим данные на валидационную и тестовую выборки в соотношении\n",
    "X_valid_oe, X_test_oe, y_valid_oe, y_test_oe = train_test_split(X_sample, \n",
    "                                                                y_sample, \n",
    "                                                                test_size=0.5, \n",
    "                                                                random_state=RANDOM_STATE)"
   ]
  },
  {
   "cell_type": "code",
   "execution_count": 36,
   "metadata": {},
   "outputs": [
    {
     "data": {
      "text/html": [
       "<div>\n",
       "<style scoped>\n",
       "    .dataframe tbody tr th:only-of-type {\n",
       "        vertical-align: middle;\n",
       "    }\n",
       "\n",
       "    .dataframe tbody tr th {\n",
       "        vertical-align: top;\n",
       "    }\n",
       "\n",
       "    .dataframe thead th {\n",
       "        text-align: right;\n",
       "    }\n",
       "</style>\n",
       "<table border=\"1\" class=\"dataframe\">\n",
       "  <thead>\n",
       "    <tr style=\"text-align: right;\">\n",
       "      <th></th>\n",
       "      <th>vehicle_type</th>\n",
       "      <th>registration_year</th>\n",
       "      <th>gearbox</th>\n",
       "      <th>power</th>\n",
       "      <th>kilometer</th>\n",
       "      <th>fuel_type</th>\n",
       "      <th>repaired</th>\n",
       "      <th>postal_code_region</th>\n",
       "      <th>brand_model</th>\n",
       "    </tr>\n",
       "  </thead>\n",
       "  <tbody>\n",
       "    <tr>\n",
       "      <th>303560</th>\n",
       "      <td>4.0</td>\n",
       "      <td>1995</td>\n",
       "      <td>0.0</td>\n",
       "      <td>135</td>\n",
       "      <td>80000</td>\n",
       "      <td>5.0</td>\n",
       "      <td>0.0</td>\n",
       "      <td>245.0</td>\n",
       "      <td>147.0</td>\n",
       "    </tr>\n",
       "    <tr>\n",
       "      <th>70518</th>\n",
       "      <td>4.0</td>\n",
       "      <td>2011</td>\n",
       "      <td>1.0</td>\n",
       "      <td>184</td>\n",
       "      <td>150000</td>\n",
       "      <td>5.0</td>\n",
       "      <td>0.0</td>\n",
       "      <td>385.0</td>\n",
       "      <td>23.0</td>\n",
       "    </tr>\n",
       "    <tr>\n",
       "      <th>22258</th>\n",
       "      <td>5.0</td>\n",
       "      <td>2002</td>\n",
       "      <td>0.0</td>\n",
       "      <td>54</td>\n",
       "      <td>90000</td>\n",
       "      <td>5.0</td>\n",
       "      <td>0.0</td>\n",
       "      <td>116.0</td>\n",
       "      <td>241.0</td>\n",
       "    </tr>\n",
       "    <tr>\n",
       "      <th>239345</th>\n",
       "      <td>2.0</td>\n",
       "      <td>1998</td>\n",
       "      <td>1.0</td>\n",
       "      <td>88</td>\n",
       "      <td>150000</td>\n",
       "      <td>5.0</td>\n",
       "      <td>0.0</td>\n",
       "      <td>350.0</td>\n",
       "      <td>135.0</td>\n",
       "    </tr>\n",
       "    <tr>\n",
       "      <th>117421</th>\n",
       "      <td>5.0</td>\n",
       "      <td>2007</td>\n",
       "      <td>1.0</td>\n",
       "      <td>120</td>\n",
       "      <td>125000</td>\n",
       "      <td>5.0</td>\n",
       "      <td>0.0</td>\n",
       "      <td>463.0</td>\n",
       "      <td>161.0</td>\n",
       "    </tr>\n",
       "  </tbody>\n",
       "</table>\n",
       "</div>"
      ],
      "text/plain": [
       "        vehicle_type  registration_year  gearbox  power  kilometer  fuel_type  \\\n",
       "303560           4.0               1995      0.0    135      80000        5.0   \n",
       "70518            4.0               2011      1.0    184     150000        5.0   \n",
       "22258            5.0               2002      0.0     54      90000        5.0   \n",
       "239345           2.0               1998      1.0     88     150000        5.0   \n",
       "117421           5.0               2007      1.0    120     125000        5.0   \n",
       "\n",
       "        repaired  postal_code_region  brand_model  \n",
       "303560       0.0               245.0        147.0  \n",
       "70518        0.0               385.0         23.0  \n",
       "22258        0.0               116.0        241.0  \n",
       "239345       0.0               350.0        135.0  \n",
       "117421       0.0               463.0        161.0  "
      ]
     },
     "execution_count": 36,
     "metadata": {},
     "output_type": "execute_result"
    }
   ],
   "source": [
    "cat_columns = X_train_oe.select_dtypes(include=['object']).columns.tolist()\n",
    "\n",
    "encoder = OrdinalEncoder(handle_unknown='use_encoded_value', unknown_value=-1)\n",
    "\n",
    "X_train_oe[cat_columns] = encoder.fit_transform(X_train_oe[cat_columns])\n",
    "X_valid_oe[cat_columns] = encoder.transform(X_valid_oe[cat_columns])\n",
    "X_test_oe[cat_columns] = encoder.transform(X_test_oe[cat_columns])\n",
    "\n",
    "X_train_oe.head()"
   ]
  },
  {
   "cell_type": "markdown",
   "metadata": {},
   "source": [
    "**Вывод:** данные подготовлены к обучению моделей."
   ]
  },
  {
   "cell_type": "markdown",
   "metadata": {},
   "source": [
    "## Обучение моделей"
   ]
  },
  {
   "cell_type": "markdown",
   "metadata": {},
   "source": [
    "### Линейная регрессия"
   ]
  },
  {
   "cell_type": "markdown",
   "metadata": {},
   "source": [
    "Обучаем модель и измеряем время обучения, время предсказания и RMSE."
   ]
  },
  {
   "cell_type": "code",
   "execution_count": 37,
   "metadata": {},
   "outputs": [
    {
     "name": "stdout",
     "output_type": "stream",
     "text": [
      "Время обучения: 218.43 сек.\n",
      "Время предсказания: 0.33 сек.\n",
      "Среднее RMSE: 2551.769988674912\n"
     ]
    }
   ],
   "source": [
    "model_lr = LinearRegression()\n",
    "cv_results_lr = cross_validate(model_lr, \n",
    "                               X_train_ohe, \n",
    "                               y_train_ohe, \n",
    "                               cv=5, \n",
    "                               scoring='neg_root_mean_squared_error', \n",
    "                               return_train_score=False)\n",
    "\n",
    "train_time_lr = round(cv_results_lr['fit_time'].mean(), 2)\n",
    "pred_time_lr = round(cv_results_lr['score_time'].mean(), 2)\n",
    "rmse_lr = -cv_results_lr['test_score'].mean()\n",
    "\n",
    "print(f'Время обучения: {train_time_lr} сек.')\n",
    "print(f'Время предсказания: {pred_time_lr} сек.')\n",
    "print(f'Среднее RMSE: {rmse_lr}')"
   ]
  },
  {
   "cell_type": "markdown",
   "metadata": {},
   "source": [
    "### Случайный лес"
   ]
  },
  {
   "cell_type": "markdown",
   "metadata": {},
   "source": [
    "Обучаем модель и измеряем время обучения."
   ]
  },
  {
   "cell_type": "code",
   "execution_count": 38,
   "metadata": {},
   "outputs": [
    {
     "name": "stdout",
     "output_type": "stream",
     "text": [
      "{'n_estimators': 80, 'max_depth': 10}\n"
     ]
    }
   ],
   "source": [
    "# подбор гиперпараметров\n",
    "parameters = {'max_depth': [2, 10], 'n_estimators': range(10, 100, 10)}\n",
    "model_rf = RandomizedSearchCV(RandomForestRegressor(random_state=RANDOM_STATE),\n",
    "                              parameters,\n",
    "                              random_state=RANDOM_STATE,\n",
    "                              cv=2,\n",
    "                              scoring='neg_root_mean_squared_error',\n",
    "                              n_jobs=-1)\n",
    "\n",
    "model_rf.fit(X_train_oe, y_train_oe)\n",
    "print(model_rf.best_params_)"
   ]
  },
  {
   "cell_type": "markdown",
   "metadata": {},
   "source": [
    "Обучаем модель и измеряем время обучения, время предсказания и RMSE."
   ]
  },
  {
   "cell_type": "code",
   "execution_count": 39,
   "metadata": {},
   "outputs": [
    {
     "name": "stdout",
     "output_type": "stream",
     "text": [
      "RandomForestRegressor:\n",
      "Время обучения: 10.66 сек.\n",
      "Время предсказания: 0.54 сек.\n",
      "Среднее RMSE: 1853.5863116309229\n"
     ]
    }
   ],
   "source": [
    "best_params_rf = model_rf.best_params_\n",
    "\n",
    "# Извлекаем нужные показатели из результатов кросс-валидации RandomizedSearchCV\n",
    "train_time_rf = round(model_rf.cv_results_['mean_fit_time'][model_rf.best_index_], 2)\n",
    "pred_time_rf = round(model_rf.cv_results_['mean_score_time'][model_rf.best_index_], 2)\n",
    "rmse_rf = -model_rf.best_score_\n",
    "\n",
    "print(f'RandomForestRegressor:')\n",
    "print(f'Время обучения: {train_time_rf} сек.')\n",
    "print(f'Время предсказания: {pred_time_rf} сек.')\n",
    "print(f'Среднее RMSE: {rmse_rf}')"
   ]
  },
  {
   "cell_type": "markdown",
   "metadata": {},
   "source": [
    "### LightGBM"
   ]
  },
  {
   "cell_type": "code",
   "execution_count": 40,
   "metadata": {},
   "outputs": [
    {
     "name": "stdout",
     "output_type": "stream",
     "text": [
      "{'num_leaves': 10, 'max_depth': 6}\n"
     ]
    }
   ],
   "source": [
    "parameters = {'max_depth': [2, 6], 'num_leaves': [2, 10]}\n",
    "model_lgbm = RandomizedSearchCV(LGBMRegressor(random_state=RANDOM_STATE),\n",
    "                                parameters,\n",
    "                                random_state=RANDOM_STATE,\n",
    "                                cv=2,\n",
    "                                scoring='neg_root_mean_squared_error',\n",
    "                                n_jobs=-1)\n",
    "\n",
    "model_lgbm.fit(X_train, y_train)\n",
    "print(model_lgbm.best_params_)"
   ]
  },
  {
   "cell_type": "markdown",
   "metadata": {},
   "source": [
    "Обучаем модель и измеряем время обучения, время предсказания и RMSE."
   ]
  },
  {
   "cell_type": "code",
   "execution_count": 41,
   "metadata": {},
   "outputs": [
    {
     "name": "stdout",
     "output_type": "stream",
     "text": [
      "LightGBM:\n",
      "Время обучения: 2.04 сек.\n",
      "Время предсказания: 0.65 сек.\n",
      "Среднее RMSE: 1686.31007406261\n"
     ]
    }
   ],
   "source": [
    "best_params_lgbm = model_lgbm.best_params_\n",
    "\n",
    "# Извлекаем нужные показатели из результатов кросс-валидации RandomizedSearchCV\n",
    "train_time_lgbm = round(model_lgbm.cv_results_['mean_fit_time'][model_lgbm.best_index_], 2)\n",
    "pred_time_lgbm = round(model_lgbm.cv_results_['mean_score_time'][model_lgbm.best_index_], 2)\n",
    "rmse_lgbm = -model_lgbm.best_score_\n",
    "\n",
    "print(f'LightGBM:')\n",
    "print(f'Время обучения: {train_time_lgbm} сек.')\n",
    "print(f'Время предсказания: {pred_time_lgbm} сек.')\n",
    "print(f'Среднее RMSE: {rmse_lgbm}')"
   ]
  },
  {
   "cell_type": "markdown",
   "metadata": {},
   "source": [
    "### Константная модель"
   ]
  },
  {
   "cell_type": "markdown",
   "metadata": {},
   "source": [
    "Обучаем модель и измеряем время обучения, время апредсказания и RMSE."
   ]
  },
  {
   "cell_type": "code",
   "execution_count": 42,
   "metadata": {},
   "outputs": [
    {
     "name": "stdout",
     "output_type": "stream",
     "text": [
      "Время обучения: 0.007 сек.\n",
      "Время предсказания: 0.001 сек.\n",
      "Среднее RMSE: 4633.971863965492\n"
     ]
    }
   ],
   "source": [
    "constant_model = DummyRegressor(strategy='mean')\n",
    "cv_results_cm = cross_validate(constant_model, X_train, y_train, cv=5, scoring='neg_root_mean_squared_error', return_train_score=False)\n",
    "train_time_cm = round(cv_results_cm['fit_time'].mean(), 3)\n",
    "pred_time_cm = round(cv_results_cm['score_time'].mean(), 3)\n",
    "rmse_cm = -cv_results_cm['test_score'].mean()\n",
    "\n",
    "print(f'Время обучения: {train_time_cm} сек.')\n",
    "print(f'Время предсказания: {pred_time_cm} сек.')\n",
    "print(f'Среднее RMSE: {rmse_cm}')"
   ]
  },
  {
   "cell_type": "markdown",
   "metadata": {},
   "source": [
    "**Вывод:** произведено обучение и оценка результатов моделей линейной регрессии, модели случайного леса, LightGBM и константной модели. Наилучший результат показала модель LightGBM с показателем RMSE - 1686 (согласно заданию метрика должена быть менее 2500)."
   ]
  },
  {
   "cell_type": "markdown",
   "metadata": {},
   "source": [
    "## Анализ моделей"
   ]
  },
  {
   "cell_type": "code",
   "execution_count": 43,
   "metadata": {},
   "outputs": [
    {
     "data": {
      "text/html": [
       "<div>\n",
       "<style scoped>\n",
       "    .dataframe tbody tr th:only-of-type {\n",
       "        vertical-align: middle;\n",
       "    }\n",
       "\n",
       "    .dataframe tbody tr th {\n",
       "        vertical-align: top;\n",
       "    }\n",
       "\n",
       "    .dataframe thead th {\n",
       "        text-align: right;\n",
       "    }\n",
       "</style>\n",
       "<table border=\"1\" class=\"dataframe\">\n",
       "  <thead>\n",
       "    <tr style=\"text-align: right;\">\n",
       "      <th></th>\n",
       "      <th>Модель</th>\n",
       "      <th>RMSE</th>\n",
       "      <th>Время обучения</th>\n",
       "      <th>Время предсказания</th>\n",
       "    </tr>\n",
       "  </thead>\n",
       "  <tbody>\n",
       "    <tr>\n",
       "      <th>0</th>\n",
       "      <td>Линейная регрессия</td>\n",
       "      <td>2551.769989</td>\n",
       "      <td>218.430</td>\n",
       "      <td>0.330</td>\n",
       "    </tr>\n",
       "    <tr>\n",
       "      <th>1</th>\n",
       "      <td>Случайный лес</td>\n",
       "      <td>1853.586312</td>\n",
       "      <td>10.660</td>\n",
       "      <td>0.540</td>\n",
       "    </tr>\n",
       "    <tr>\n",
       "      <th>2</th>\n",
       "      <td>LightGBM</td>\n",
       "      <td>1686.310074</td>\n",
       "      <td>2.040</td>\n",
       "      <td>0.650</td>\n",
       "    </tr>\n",
       "    <tr>\n",
       "      <th>3</th>\n",
       "      <td>Константная модель</td>\n",
       "      <td>4633.971864</td>\n",
       "      <td>0.007</td>\n",
       "      <td>0.001</td>\n",
       "    </tr>\n",
       "  </tbody>\n",
       "</table>\n",
       "</div>"
      ],
      "text/plain": [
       "               Модель         RMSE  Время обучения  Время предсказания\n",
       "0  Линейная регрессия  2551.769989         218.430               0.330\n",
       "1       Случайный лес  1853.586312          10.660               0.540\n",
       "2            LightGBM  1686.310074           2.040               0.650\n",
       "3  Константная модель  4633.971864           0.007               0.001"
      ]
     },
     "execution_count": 43,
     "metadata": {},
     "output_type": "execute_result"
    }
   ],
   "source": [
    "models = pd.DataFrame({\n",
    "    'Модель': ['Линейная регрессия', 'Случайный лес', 'LightGBM', 'Константная модель'],\n",
    "    'RMSE': [rmse_lr, rmse_rf, rmse_lgbm, rmse_cm],\n",
    "    'Время обучения': [train_time_lr, train_time_rf, train_time_lgbm, train_time_cm],\n",
    "    'Время предсказания': [pred_time_lr, pred_time_rf, pred_time_lgbm, pred_time_cm]\n",
    "})\n",
    "\n",
    "models"
   ]
  },
  {
   "cell_type": "markdown",
   "metadata": {},
   "source": [
    "Как видно из представленных выше данных, LightGBM показывает наилучший показатель метрики RMSE с наилучшими временем обучения и предсказания."
   ]
  },
  {
   "cell_type": "markdown",
   "metadata": {},
   "source": [
    "Измеряем время предсказания и RMSE у лучшей модели на тестовой выборке. Для начала обучим модель, так как cross_validate не сохраняет обучение."
   ]
  },
  {
   "cell_type": "code",
   "execution_count": 44,
   "metadata": {},
   "outputs": [
    {
     "data": {
      "text/html": [
       "<style>#sk-container-id-1 {\n",
       "  /* Definition of color scheme common for light and dark mode */\n",
       "  --sklearn-color-text: #000;\n",
       "  --sklearn-color-text-muted: #666;\n",
       "  --sklearn-color-line: gray;\n",
       "  /* Definition of color scheme for unfitted estimators */\n",
       "  --sklearn-color-unfitted-level-0: #fff5e6;\n",
       "  --sklearn-color-unfitted-level-1: #f6e4d2;\n",
       "  --sklearn-color-unfitted-level-2: #ffe0b3;\n",
       "  --sklearn-color-unfitted-level-3: chocolate;\n",
       "  /* Definition of color scheme for fitted estimators */\n",
       "  --sklearn-color-fitted-level-0: #f0f8ff;\n",
       "  --sklearn-color-fitted-level-1: #d4ebff;\n",
       "  --sklearn-color-fitted-level-2: #b3dbfd;\n",
       "  --sklearn-color-fitted-level-3: cornflowerblue;\n",
       "\n",
       "  /* Specific color for light theme */\n",
       "  --sklearn-color-text-on-default-background: var(--sg-text-color, var(--theme-code-foreground, var(--jp-content-font-color1, black)));\n",
       "  --sklearn-color-background: var(--sg-background-color, var(--theme-background, var(--jp-layout-color0, white)));\n",
       "  --sklearn-color-border-box: var(--sg-text-color, var(--theme-code-foreground, var(--jp-content-font-color1, black)));\n",
       "  --sklearn-color-icon: #696969;\n",
       "\n",
       "  @media (prefers-color-scheme: dark) {\n",
       "    /* Redefinition of color scheme for dark theme */\n",
       "    --sklearn-color-text-on-default-background: var(--sg-text-color, var(--theme-code-foreground, var(--jp-content-font-color1, white)));\n",
       "    --sklearn-color-background: var(--sg-background-color, var(--theme-background, var(--jp-layout-color0, #111)));\n",
       "    --sklearn-color-border-box: var(--sg-text-color, var(--theme-code-foreground, var(--jp-content-font-color1, white)));\n",
       "    --sklearn-color-icon: #878787;\n",
       "  }\n",
       "}\n",
       "\n",
       "#sk-container-id-1 {\n",
       "  color: var(--sklearn-color-text);\n",
       "}\n",
       "\n",
       "#sk-container-id-1 pre {\n",
       "  padding: 0;\n",
       "}\n",
       "\n",
       "#sk-container-id-1 input.sk-hidden--visually {\n",
       "  border: 0;\n",
       "  clip: rect(1px 1px 1px 1px);\n",
       "  clip: rect(1px, 1px, 1px, 1px);\n",
       "  height: 1px;\n",
       "  margin: -1px;\n",
       "  overflow: hidden;\n",
       "  padding: 0;\n",
       "  position: absolute;\n",
       "  width: 1px;\n",
       "}\n",
       "\n",
       "#sk-container-id-1 div.sk-dashed-wrapped {\n",
       "  border: 1px dashed var(--sklearn-color-line);\n",
       "  margin: 0 0.4em 0.5em 0.4em;\n",
       "  box-sizing: border-box;\n",
       "  padding-bottom: 0.4em;\n",
       "  background-color: var(--sklearn-color-background);\n",
       "}\n",
       "\n",
       "#sk-container-id-1 div.sk-container {\n",
       "  /* jupyter's `normalize.less` sets `[hidden] { display: none; }`\n",
       "     but bootstrap.min.css set `[hidden] { display: none !important; }`\n",
       "     so we also need the `!important` here to be able to override the\n",
       "     default hidden behavior on the sphinx rendered scikit-learn.org.\n",
       "     See: https://github.com/scikit-learn/scikit-learn/issues/21755 */\n",
       "  display: inline-block !important;\n",
       "  position: relative;\n",
       "}\n",
       "\n",
       "#sk-container-id-1 div.sk-text-repr-fallback {\n",
       "  display: none;\n",
       "}\n",
       "\n",
       "div.sk-parallel-item,\n",
       "div.sk-serial,\n",
       "div.sk-item {\n",
       "  /* draw centered vertical line to link estimators */\n",
       "  background-image: linear-gradient(var(--sklearn-color-text-on-default-background), var(--sklearn-color-text-on-default-background));\n",
       "  background-size: 2px 100%;\n",
       "  background-repeat: no-repeat;\n",
       "  background-position: center center;\n",
       "}\n",
       "\n",
       "/* Parallel-specific style estimator block */\n",
       "\n",
       "#sk-container-id-1 div.sk-parallel-item::after {\n",
       "  content: \"\";\n",
       "  width: 100%;\n",
       "  border-bottom: 2px solid var(--sklearn-color-text-on-default-background);\n",
       "  flex-grow: 1;\n",
       "}\n",
       "\n",
       "#sk-container-id-1 div.sk-parallel {\n",
       "  display: flex;\n",
       "  align-items: stretch;\n",
       "  justify-content: center;\n",
       "  background-color: var(--sklearn-color-background);\n",
       "  position: relative;\n",
       "}\n",
       "\n",
       "#sk-container-id-1 div.sk-parallel-item {\n",
       "  display: flex;\n",
       "  flex-direction: column;\n",
       "}\n",
       "\n",
       "#sk-container-id-1 div.sk-parallel-item:first-child::after {\n",
       "  align-self: flex-end;\n",
       "  width: 50%;\n",
       "}\n",
       "\n",
       "#sk-container-id-1 div.sk-parallel-item:last-child::after {\n",
       "  align-self: flex-start;\n",
       "  width: 50%;\n",
       "}\n",
       "\n",
       "#sk-container-id-1 div.sk-parallel-item:only-child::after {\n",
       "  width: 0;\n",
       "}\n",
       "\n",
       "/* Serial-specific style estimator block */\n",
       "\n",
       "#sk-container-id-1 div.sk-serial {\n",
       "  display: flex;\n",
       "  flex-direction: column;\n",
       "  align-items: center;\n",
       "  background-color: var(--sklearn-color-background);\n",
       "  padding-right: 1em;\n",
       "  padding-left: 1em;\n",
       "}\n",
       "\n",
       "\n",
       "/* Toggleable style: style used for estimator/Pipeline/ColumnTransformer box that is\n",
       "clickable and can be expanded/collapsed.\n",
       "- Pipeline and ColumnTransformer use this feature and define the default style\n",
       "- Estimators will overwrite some part of the style using the `sk-estimator` class\n",
       "*/\n",
       "\n",
       "/* Pipeline and ColumnTransformer style (default) */\n",
       "\n",
       "#sk-container-id-1 div.sk-toggleable {\n",
       "  /* Default theme specific background. It is overwritten whether we have a\n",
       "  specific estimator or a Pipeline/ColumnTransformer */\n",
       "  background-color: var(--sklearn-color-background);\n",
       "}\n",
       "\n",
       "/* Toggleable label */\n",
       "#sk-container-id-1 label.sk-toggleable__label {\n",
       "  cursor: pointer;\n",
       "  display: flex;\n",
       "  width: 100%;\n",
       "  margin-bottom: 0;\n",
       "  padding: 0.5em;\n",
       "  box-sizing: border-box;\n",
       "  text-align: center;\n",
       "  align-items: start;\n",
       "  justify-content: space-between;\n",
       "  gap: 0.5em;\n",
       "}\n",
       "\n",
       "#sk-container-id-1 label.sk-toggleable__label .caption {\n",
       "  font-size: 0.6rem;\n",
       "  font-weight: lighter;\n",
       "  color: var(--sklearn-color-text-muted);\n",
       "}\n",
       "\n",
       "#sk-container-id-1 label.sk-toggleable__label-arrow:before {\n",
       "  /* Arrow on the left of the label */\n",
       "  content: \"▸\";\n",
       "  float: left;\n",
       "  margin-right: 0.25em;\n",
       "  color: var(--sklearn-color-icon);\n",
       "}\n",
       "\n",
       "#sk-container-id-1 label.sk-toggleable__label-arrow:hover:before {\n",
       "  color: var(--sklearn-color-text);\n",
       "}\n",
       "\n",
       "/* Toggleable content - dropdown */\n",
       "\n",
       "#sk-container-id-1 div.sk-toggleable__content {\n",
       "  max-height: 0;\n",
       "  max-width: 0;\n",
       "  overflow: hidden;\n",
       "  text-align: left;\n",
       "  /* unfitted */\n",
       "  background-color: var(--sklearn-color-unfitted-level-0);\n",
       "}\n",
       "\n",
       "#sk-container-id-1 div.sk-toggleable__content.fitted {\n",
       "  /* fitted */\n",
       "  background-color: var(--sklearn-color-fitted-level-0);\n",
       "}\n",
       "\n",
       "#sk-container-id-1 div.sk-toggleable__content pre {\n",
       "  margin: 0.2em;\n",
       "  border-radius: 0.25em;\n",
       "  color: var(--sklearn-color-text);\n",
       "  /* unfitted */\n",
       "  background-color: var(--sklearn-color-unfitted-level-0);\n",
       "}\n",
       "\n",
       "#sk-container-id-1 div.sk-toggleable__content.fitted pre {\n",
       "  /* unfitted */\n",
       "  background-color: var(--sklearn-color-fitted-level-0);\n",
       "}\n",
       "\n",
       "#sk-container-id-1 input.sk-toggleable__control:checked~div.sk-toggleable__content {\n",
       "  /* Expand drop-down */\n",
       "  max-height: 200px;\n",
       "  max-width: 100%;\n",
       "  overflow: auto;\n",
       "}\n",
       "\n",
       "#sk-container-id-1 input.sk-toggleable__control:checked~label.sk-toggleable__label-arrow:before {\n",
       "  content: \"▾\";\n",
       "}\n",
       "\n",
       "/* Pipeline/ColumnTransformer-specific style */\n",
       "\n",
       "#sk-container-id-1 div.sk-label input.sk-toggleable__control:checked~label.sk-toggleable__label {\n",
       "  color: var(--sklearn-color-text);\n",
       "  background-color: var(--sklearn-color-unfitted-level-2);\n",
       "}\n",
       "\n",
       "#sk-container-id-1 div.sk-label.fitted input.sk-toggleable__control:checked~label.sk-toggleable__label {\n",
       "  background-color: var(--sklearn-color-fitted-level-2);\n",
       "}\n",
       "\n",
       "/* Estimator-specific style */\n",
       "\n",
       "/* Colorize estimator box */\n",
       "#sk-container-id-1 div.sk-estimator input.sk-toggleable__control:checked~label.sk-toggleable__label {\n",
       "  /* unfitted */\n",
       "  background-color: var(--sklearn-color-unfitted-level-2);\n",
       "}\n",
       "\n",
       "#sk-container-id-1 div.sk-estimator.fitted input.sk-toggleable__control:checked~label.sk-toggleable__label {\n",
       "  /* fitted */\n",
       "  background-color: var(--sklearn-color-fitted-level-2);\n",
       "}\n",
       "\n",
       "#sk-container-id-1 div.sk-label label.sk-toggleable__label,\n",
       "#sk-container-id-1 div.sk-label label {\n",
       "  /* The background is the default theme color */\n",
       "  color: var(--sklearn-color-text-on-default-background);\n",
       "}\n",
       "\n",
       "/* On hover, darken the color of the background */\n",
       "#sk-container-id-1 div.sk-label:hover label.sk-toggleable__label {\n",
       "  color: var(--sklearn-color-text);\n",
       "  background-color: var(--sklearn-color-unfitted-level-2);\n",
       "}\n",
       "\n",
       "/* Label box, darken color on hover, fitted */\n",
       "#sk-container-id-1 div.sk-label.fitted:hover label.sk-toggleable__label.fitted {\n",
       "  color: var(--sklearn-color-text);\n",
       "  background-color: var(--sklearn-color-fitted-level-2);\n",
       "}\n",
       "\n",
       "/* Estimator label */\n",
       "\n",
       "#sk-container-id-1 div.sk-label label {\n",
       "  font-family: monospace;\n",
       "  font-weight: bold;\n",
       "  display: inline-block;\n",
       "  line-height: 1.2em;\n",
       "}\n",
       "\n",
       "#sk-container-id-1 div.sk-label-container {\n",
       "  text-align: center;\n",
       "}\n",
       "\n",
       "/* Estimator-specific */\n",
       "#sk-container-id-1 div.sk-estimator {\n",
       "  font-family: monospace;\n",
       "  border: 1px dotted var(--sklearn-color-border-box);\n",
       "  border-radius: 0.25em;\n",
       "  box-sizing: border-box;\n",
       "  margin-bottom: 0.5em;\n",
       "  /* unfitted */\n",
       "  background-color: var(--sklearn-color-unfitted-level-0);\n",
       "}\n",
       "\n",
       "#sk-container-id-1 div.sk-estimator.fitted {\n",
       "  /* fitted */\n",
       "  background-color: var(--sklearn-color-fitted-level-0);\n",
       "}\n",
       "\n",
       "/* on hover */\n",
       "#sk-container-id-1 div.sk-estimator:hover {\n",
       "  /* unfitted */\n",
       "  background-color: var(--sklearn-color-unfitted-level-2);\n",
       "}\n",
       "\n",
       "#sk-container-id-1 div.sk-estimator.fitted:hover {\n",
       "  /* fitted */\n",
       "  background-color: var(--sklearn-color-fitted-level-2);\n",
       "}\n",
       "\n",
       "/* Specification for estimator info (e.g. \"i\" and \"?\") */\n",
       "\n",
       "/* Common style for \"i\" and \"?\" */\n",
       "\n",
       ".sk-estimator-doc-link,\n",
       "a:link.sk-estimator-doc-link,\n",
       "a:visited.sk-estimator-doc-link {\n",
       "  float: right;\n",
       "  font-size: smaller;\n",
       "  line-height: 1em;\n",
       "  font-family: monospace;\n",
       "  background-color: var(--sklearn-color-background);\n",
       "  border-radius: 1em;\n",
       "  height: 1em;\n",
       "  width: 1em;\n",
       "  text-decoration: none !important;\n",
       "  margin-left: 0.5em;\n",
       "  text-align: center;\n",
       "  /* unfitted */\n",
       "  border: var(--sklearn-color-unfitted-level-1) 1pt solid;\n",
       "  color: var(--sklearn-color-unfitted-level-1);\n",
       "}\n",
       "\n",
       ".sk-estimator-doc-link.fitted,\n",
       "a:link.sk-estimator-doc-link.fitted,\n",
       "a:visited.sk-estimator-doc-link.fitted {\n",
       "  /* fitted */\n",
       "  border: var(--sklearn-color-fitted-level-1) 1pt solid;\n",
       "  color: var(--sklearn-color-fitted-level-1);\n",
       "}\n",
       "\n",
       "/* On hover */\n",
       "div.sk-estimator:hover .sk-estimator-doc-link:hover,\n",
       ".sk-estimator-doc-link:hover,\n",
       "div.sk-label-container:hover .sk-estimator-doc-link:hover,\n",
       ".sk-estimator-doc-link:hover {\n",
       "  /* unfitted */\n",
       "  background-color: var(--sklearn-color-unfitted-level-3);\n",
       "  color: var(--sklearn-color-background);\n",
       "  text-decoration: none;\n",
       "}\n",
       "\n",
       "div.sk-estimator.fitted:hover .sk-estimator-doc-link.fitted:hover,\n",
       ".sk-estimator-doc-link.fitted:hover,\n",
       "div.sk-label-container:hover .sk-estimator-doc-link.fitted:hover,\n",
       ".sk-estimator-doc-link.fitted:hover {\n",
       "  /* fitted */\n",
       "  background-color: var(--sklearn-color-fitted-level-3);\n",
       "  color: var(--sklearn-color-background);\n",
       "  text-decoration: none;\n",
       "}\n",
       "\n",
       "/* Span, style for the box shown on hovering the info icon */\n",
       ".sk-estimator-doc-link span {\n",
       "  display: none;\n",
       "  z-index: 9999;\n",
       "  position: relative;\n",
       "  font-weight: normal;\n",
       "  right: .2ex;\n",
       "  padding: .5ex;\n",
       "  margin: .5ex;\n",
       "  width: min-content;\n",
       "  min-width: 20ex;\n",
       "  max-width: 50ex;\n",
       "  color: var(--sklearn-color-text);\n",
       "  box-shadow: 2pt 2pt 4pt #999;\n",
       "  /* unfitted */\n",
       "  background: var(--sklearn-color-unfitted-level-0);\n",
       "  border: .5pt solid var(--sklearn-color-unfitted-level-3);\n",
       "}\n",
       "\n",
       ".sk-estimator-doc-link.fitted span {\n",
       "  /* fitted */\n",
       "  background: var(--sklearn-color-fitted-level-0);\n",
       "  border: var(--sklearn-color-fitted-level-3);\n",
       "}\n",
       "\n",
       ".sk-estimator-doc-link:hover span {\n",
       "  display: block;\n",
       "}\n",
       "\n",
       "/* \"?\"-specific style due to the `<a>` HTML tag */\n",
       "\n",
       "#sk-container-id-1 a.estimator_doc_link {\n",
       "  float: right;\n",
       "  font-size: 1rem;\n",
       "  line-height: 1em;\n",
       "  font-family: monospace;\n",
       "  background-color: var(--sklearn-color-background);\n",
       "  border-radius: 1rem;\n",
       "  height: 1rem;\n",
       "  width: 1rem;\n",
       "  text-decoration: none;\n",
       "  /* unfitted */\n",
       "  color: var(--sklearn-color-unfitted-level-1);\n",
       "  border: var(--sklearn-color-unfitted-level-1) 1pt solid;\n",
       "}\n",
       "\n",
       "#sk-container-id-1 a.estimator_doc_link.fitted {\n",
       "  /* fitted */\n",
       "  border: var(--sklearn-color-fitted-level-1) 1pt solid;\n",
       "  color: var(--sklearn-color-fitted-level-1);\n",
       "}\n",
       "\n",
       "/* On hover */\n",
       "#sk-container-id-1 a.estimator_doc_link:hover {\n",
       "  /* unfitted */\n",
       "  background-color: var(--sklearn-color-unfitted-level-3);\n",
       "  color: var(--sklearn-color-background);\n",
       "  text-decoration: none;\n",
       "}\n",
       "\n",
       "#sk-container-id-1 a.estimator_doc_link.fitted:hover {\n",
       "  /* fitted */\n",
       "  background-color: var(--sklearn-color-fitted-level-3);\n",
       "}\n",
       "</style><div id=\"sk-container-id-1\" class=\"sk-top-container\"><div class=\"sk-text-repr-fallback\"><pre>RandomizedSearchCV(cv=2, estimator=LGBMRegressor(random_state=42), n_jobs=-1,\n",
       "                   param_distributions={&#x27;max_depth&#x27;: [2, 6],\n",
       "                                        &#x27;num_leaves&#x27;: [2, 10]},\n",
       "                   random_state=42, scoring=&#x27;neg_root_mean_squared_error&#x27;)</pre><b>In a Jupyter environment, please rerun this cell to show the HTML representation or trust the notebook. <br />On GitHub, the HTML representation is unable to render, please try loading this page with nbviewer.org.</b></div><div class=\"sk-container\" hidden><div class=\"sk-item sk-dashed-wrapped\"><div class=\"sk-label-container\"><div class=\"sk-label fitted sk-toggleable\"><input class=\"sk-toggleable__control sk-hidden--visually\" id=\"sk-estimator-id-1\" type=\"checkbox\" ><label for=\"sk-estimator-id-1\" class=\"sk-toggleable__label fitted sk-toggleable__label-arrow\"><div><div>RandomizedSearchCV</div></div><div><a class=\"sk-estimator-doc-link fitted\" rel=\"noreferrer\" target=\"_blank\" href=\"https://scikit-learn.org/1.6/modules/generated/sklearn.model_selection.RandomizedSearchCV.html\">?<span>Documentation for RandomizedSearchCV</span></a><span class=\"sk-estimator-doc-link fitted\">i<span>Fitted</span></span></div></label><div class=\"sk-toggleable__content fitted\"><pre>RandomizedSearchCV(cv=2, estimator=LGBMRegressor(random_state=42), n_jobs=-1,\n",
       "                   param_distributions={&#x27;max_depth&#x27;: [2, 6],\n",
       "                                        &#x27;num_leaves&#x27;: [2, 10]},\n",
       "                   random_state=42, scoring=&#x27;neg_root_mean_squared_error&#x27;)</pre></div> </div></div><div class=\"sk-parallel\"><div class=\"sk-parallel-item\"><div class=\"sk-item\"><div class=\"sk-label-container\"><div class=\"sk-label fitted sk-toggleable\"><input class=\"sk-toggleable__control sk-hidden--visually\" id=\"sk-estimator-id-2\" type=\"checkbox\" ><label for=\"sk-estimator-id-2\" class=\"sk-toggleable__label fitted sk-toggleable__label-arrow\"><div><div>best_estimator_: LGBMRegressor</div></div></label><div class=\"sk-toggleable__content fitted\"><pre>LGBMRegressor(max_depth=6, num_leaves=10, random_state=42)</pre></div> </div></div><div class=\"sk-serial\"><div class=\"sk-item\"><div class=\"sk-estimator fitted sk-toggleable\"><input class=\"sk-toggleable__control sk-hidden--visually\" id=\"sk-estimator-id-3\" type=\"checkbox\" ><label for=\"sk-estimator-id-3\" class=\"sk-toggleable__label fitted sk-toggleable__label-arrow\"><div><div>LGBMRegressor</div></div></label><div class=\"sk-toggleable__content fitted\"><pre>LGBMRegressor(max_depth=6, num_leaves=10, random_state=42)</pre></div> </div></div></div></div></div></div></div></div></div>"
      ],
      "text/plain": [
       "RandomizedSearchCV(cv=2, estimator=LGBMRegressor(random_state=42), n_jobs=-1,\n",
       "                   param_distributions={'max_depth': [2, 6],\n",
       "                                        'num_leaves': [2, 10]},\n",
       "                   random_state=42, scoring='neg_root_mean_squared_error')"
      ]
     },
     "execution_count": 44,
     "metadata": {},
     "output_type": "execute_result"
    }
   ],
   "source": [
    "model_lgbm.fit(X_train, y_train)"
   ]
  },
  {
   "cell_type": "code",
   "execution_count": 45,
   "metadata": {},
   "outputs": [
    {
     "name": "stdout",
     "output_type": "stream",
     "text": [
      "Время предсказания: 0.49 сек.\n",
      "RMSE: 1686.31007406261\n",
      "\n",
      "CPU times: user 460 ms, sys: 0 ns, total: 460 ms\n",
      "Wall time: 490 ms\n"
     ]
    }
   ],
   "source": [
    "%%time\n",
    "\n",
    "start = time.time()\n",
    "test_predictions_lgbm = model_lgbm.predict(X_test)\n",
    "test_pred_time_lgbm = round(time.time() - start, 2)\n",
    "\n",
    "# вычисляем RMSE\n",
    "test_rmse_lgbm = mean_squared_error(y_test, test_predictions_lgbm)**0.5\n",
    "\n",
    "print(f'Время предсказания: {test_pred_time_lgbm} сек.')\n",
    "print(f'RMSE: {rmse_lgbm}')\n",
    "print()"
   ]
  },
  {
   "cell_type": "code",
   "execution_count": 46,
   "metadata": {},
   "outputs": [
    {
     "data": {
      "image/png": "[encoded data removed]",
      "text/plain": [
       "<Figure size 576x432 with 1 Axes>"
      ]
     },
     "metadata": {
      "needs_background": "light"
     },
     "output_type": "display_data"
    },
    {
     "data": {
      "image/png": "[encoded data removed]",
      "text/plain": [
       "<Figure size 576x432 with 1 Axes>"
      ]
     },
     "metadata": {
      "needs_background": "light"
     },
     "output_type": "display_data"
    },
    {
     "data": {
      "image/png": "[encoded data removed]",
      "text/plain": [
       "<Figure size 720x432 with 1 Axes>"
      ]
     },
     "metadata": {
      "needs_background": "light"
     },
     "output_type": "display_data"
    }
   ],
   "source": [
    "# график рассеяния для предсказаний и истинных значений\n",
    "plt.figure(figsize=(8, 6))\n",
    "sns.scatterplot(x=y_test, y=test_predictions_lgbm, alpha=0.5)\n",
    "plt.plot([min(y_test), max(y_test)], [min(y_test), max(y_test)], color='red', linestyle='--')\n",
    "plt.xlabel('Истинные значения')\n",
    "plt.ylabel('Предсказания')\n",
    "plt.title('График рассеяния (LightGBM)')\n",
    "plt.show()\n",
    "\n",
    "# график ошибок предсказания (гистограмма разности предсказания и истинного значения)\n",
    "errors = test_predictions_lgbm - y_test\n",
    "plt.figure(figsize=(8, 6))\n",
    "sns.histplot(errors, bins=30, kde=True)\n",
    "plt.axvline(x=0, color='red', linestyle='--')\n",
    "plt.xlabel('Ошибка предсказания')\n",
    "plt.ylabel('Частота')\n",
    "plt.title('Распределение ошибок предсказания (LightGBM)')\n",
    "plt.show()\n",
    "\n",
    "# важность признаков\n",
    "feature_importances = pd.DataFrame({'Признак': X_train.columns, 'Важность': model_lgbm.best_estimator_.feature_importances_})\n",
    "\n",
    "feature_importances = feature_importances.sort_values(by='Важность', ascending=False)\n",
    "\n",
    "plt.figure(figsize=(10, 6))\n",
    "sns.barplot(\n",
    "    data=feature_importances.head(10),\n",
    "    x='Важность',\n",
    "    y='Признак',\n",
    "    palette='Blues_r'\n",
    ")\n",
    "plt.xlabel('Важность')\n",
    "plt.ylabel('Признак')\n",
    "plt.title('Топ-10 самых важных признаков (LightGBM)')\n",
    "plt.show()\n"
   ]
  },
  {
   "cell_type": "markdown",
   "metadata": {},
   "source": [
    "**Вывод:**  на тестовой выборке у LightGBM показатель RMSE также составляет 1757."
   ]
  },
  {
   "cell_type": "markdown",
   "metadata": {},
   "source": [
    "## Общий вывод"
   ]
  },
  {
   "cell_type": "markdown",
   "metadata": {},
   "source": [
    "В ходе работе над проектом были выполнены следующие шаги:\n",
    "* Данные были загружены и изучены. В ходе предобработки явные и неявные дубликаты были удалены. Проведена работы с пустыми значениями и аномалиями: а также с неинформативными признакми, часть объектов и признаков была удалена из датасета. \n",
    "* Выполнена подготовка данных к обучению, закодированы и стандартизированы признаки для обучения моделей линкенйной регрессии и случайного леса. \n",
    "* Произведено обучение и оценка результатов моделей линейной регрессии, модели случайного леса, LightGBM и константной модели. Наилучший результат показала модель LightGBM с показателем RMSE - 1686 (согласно заданию метрика должена быть менее 2500), и наилучшими показателями времени обучения и предсказания.\n",
    "* Произведена оценка работы LightGBM на тестовой выборке. Метрика RMSE - 1686.\n",
    "\n",
    "Таким образом, в соответствии с критериями, которые важны заказчику (качество предсказания; время обучения модели; время предсказания модели), ему можно порекомендовать выбор модели LightGBM, показавшей наилучший результат метрики RMSE, а также обладающей довольно быстрыми временем обучения и предсказания."
   ]
  },
  {
   "cell_type": "code",
   "execution_count": null,
   "metadata": {},
   "outputs": [],
   "source": []
  }
 ],
 "metadata": {
  "ExecuteTimeLog": [
   {
    "duration": 46,
    "start_time": "2025-03-05T13:12:12.995Z"
   },
   {
    "duration": 443,
    "start_time": "2025-03-05T13:12:17.929Z"
   },
   {
    "duration": 1462,
    "start_time": "2025-03-05T13:12:42.055Z"
   },
   {
    "duration": 20,
    "start_time": "2025-03-05T13:12:55.732Z"
   },
   {
    "duration": 1728,
    "start_time": "2025-03-06T08:21:29.138Z"
   },
   {
    "duration": 3,
    "start_time": "2025-03-06T08:21:34.029Z"
   },
   {
    "duration": 6,
    "start_time": "2025-03-06T08:23:18.130Z"
   },
   {
    "duration": 3,
    "start_time": "2025-03-06T08:23:19.846Z"
   },
   {
    "duration": 871,
    "start_time": "2025-03-06T08:23:21.512Z"
   },
   {
    "duration": 5,
    "start_time": "2025-03-06T08:23:42.556Z"
   },
   {
    "duration": 897,
    "start_time": "2025-03-06T08:23:56.943Z"
   },
   {
    "duration": 152,
    "start_time": "2025-03-06T09:11:45.936Z"
   },
   {
    "duration": 58,
    "start_time": "2025-03-06T09:12:16.355Z"
   },
   {
    "duration": 6,
    "start_time": "2025-03-06T09:13:43.388Z"
   },
   {
    "duration": 13,
    "start_time": "2025-03-06T09:19:19.288Z"
   },
   {
    "duration": 1571,
    "start_time": "2025-03-06T09:19:24.718Z"
   },
   {
    "duration": 3,
    "start_time": "2025-03-06T09:19:26.290Z"
   },
   {
    "duration": 906,
    "start_time": "2025-03-06T09:19:26.295Z"
   },
   {
    "duration": 3,
    "start_time": "2025-03-06T09:19:27.203Z"
   },
   {
    "duration": 976,
    "start_time": "2025-03-06T09:19:27.208Z"
   },
   {
    "duration": 20,
    "start_time": "2025-03-06T09:19:28.186Z"
   },
   {
    "duration": 112,
    "start_time": "2025-03-06T09:19:28.208Z"
   },
   {
    "duration": 40,
    "start_time": "2025-03-06T09:20:10.779Z"
   },
   {
    "duration": 6,
    "start_time": "2025-03-06T09:20:33.430Z"
   },
   {
    "duration": 359,
    "start_time": "2025-03-06T09:21:15.130Z"
   },
   {
    "duration": 99,
    "start_time": "2025-03-06T09:26:10.909Z"
   },
   {
    "duration": 105,
    "start_time": "2025-03-06T09:26:17.231Z"
   },
   {
    "duration": 99,
    "start_time": "2025-03-06T09:27:04.598Z"
   },
   {
    "duration": 29,
    "start_time": "2025-03-06T09:35:24.679Z"
   },
   {
    "duration": 26,
    "start_time": "2025-03-06T09:36:44.952Z"
   },
   {
    "duration": 27,
    "start_time": "2025-03-06T09:37:02.155Z"
   },
   {
    "duration": 80,
    "start_time": "2025-03-06T09:38:26.682Z"
   },
   {
    "duration": 109,
    "start_time": "2025-03-06T10:25:55.415Z"
   },
   {
    "duration": 161,
    "start_time": "2025-03-06T10:26:07.080Z"
   },
   {
    "duration": 11,
    "start_time": "2025-03-06T10:29:39.480Z"
   },
   {
    "duration": 5,
    "start_time": "2025-03-06T10:29:42.838Z"
   },
   {
    "duration": 3554,
    "start_time": "2025-03-06T10:29:44.271Z"
   },
   {
    "duration": 6778,
    "start_time": "2025-03-06T10:31:21.139Z"
   },
   {
    "duration": 23,
    "start_time": "2025-03-06T10:37:55.890Z"
   },
   {
    "duration": 15,
    "start_time": "2025-03-06T10:38:19.030Z"
   },
   {
    "duration": 298,
    "start_time": "2025-03-06T10:38:22.079Z"
   },
   {
    "duration": 45,
    "start_time": "2025-03-06T10:39:03.184Z"
   },
   {
    "duration": 20,
    "start_time": "2025-03-06T10:40:23.955Z"
   },
   {
    "duration": 44,
    "start_time": "2025-03-06T10:40:26.593Z"
   },
   {
    "duration": 1513,
    "start_time": "2025-03-06T10:40:32.554Z"
   },
   {
    "duration": 3,
    "start_time": "2025-03-06T10:40:34.069Z"
   },
   {
    "duration": 977,
    "start_time": "2025-03-06T10:40:34.073Z"
   },
   {
    "duration": 4,
    "start_time": "2025-03-06T10:40:35.052Z"
   },
   {
    "duration": 950,
    "start_time": "2025-03-06T10:40:35.063Z"
   },
   {
    "duration": 49,
    "start_time": "2025-03-06T10:40:36.015Z"
   },
   {
    "duration": 6,
    "start_time": "2025-03-06T10:40:36.065Z"
   },
   {
    "duration": 367,
    "start_time": "2025-03-06T10:40:36.072Z"
   },
   {
    "duration": 101,
    "start_time": "2025-03-06T10:40:36.440Z"
   },
   {
    "duration": 41,
    "start_time": "2025-03-06T10:40:36.542Z"
   },
   {
    "duration": 29,
    "start_time": "2025-03-06T10:40:36.584Z"
   },
   {
    "duration": 97,
    "start_time": "2025-03-06T10:40:36.615Z"
   },
   {
    "duration": 189,
    "start_time": "2025-03-06T10:40:36.713Z"
   },
   {
    "duration": 5,
    "start_time": "2025-03-06T10:40:36.904Z"
   },
   {
    "duration": 7207,
    "start_time": "2025-03-06T10:40:36.910Z"
   },
   {
    "duration": 25,
    "start_time": "2025-03-06T10:40:44.118Z"
   },
   {
    "duration": 57,
    "start_time": "2025-03-06T10:40:44.144Z"
   },
   {
    "duration": 5,
    "start_time": "2025-03-06T10:41:20.513Z"
   },
   {
    "duration": 5851,
    "start_time": "2025-03-06T10:41:22.101Z"
   },
   {
    "duration": 4,
    "start_time": "2025-03-06T10:41:41.366Z"
   },
   {
    "duration": 6452,
    "start_time": "2025-03-06T10:41:42.719Z"
   },
   {
    "duration": 5,
    "start_time": "2025-03-06T10:43:50.304Z"
   },
   {
    "duration": 5,
    "start_time": "2025-03-06T10:43:58.689Z"
   },
   {
    "duration": 6887,
    "start_time": "2025-03-06T10:43:59.983Z"
   },
   {
    "duration": 176,
    "start_time": "2025-03-06T10:45:09.091Z"
   },
   {
    "duration": 75,
    "start_time": "2025-03-06T10:45:14.841Z"
   },
   {
    "duration": 65,
    "start_time": "2025-03-06T10:45:17.402Z"
   },
   {
    "duration": 4942,
    "start_time": "2025-03-06T10:46:07.088Z"
   },
   {
    "duration": 14,
    "start_time": "2025-03-06T10:48:11.406Z"
   },
   {
    "duration": 10673,
    "start_time": "2025-03-06T10:48:24.776Z"
   },
   {
    "duration": 51,
    "start_time": "2025-03-06T10:48:37.952Z"
   },
   {
    "duration": 3,
    "start_time": "2025-03-06T10:48:43.734Z"
   },
   {
    "duration": 881,
    "start_time": "2025-03-06T10:48:45.114Z"
   },
   {
    "duration": 5387,
    "start_time": "2025-03-06T10:53:09.611Z"
   },
   {
    "duration": 2295,
    "start_time": "2025-03-06T10:53:15.001Z"
   },
   {
    "duration": 3,
    "start_time": "2025-03-06T10:53:17.297Z"
   },
   {
    "duration": 999,
    "start_time": "2025-03-06T10:53:17.302Z"
   },
   {
    "duration": 4,
    "start_time": "2025-03-06T10:53:18.303Z"
   },
   {
    "duration": 1106,
    "start_time": "2025-03-06T10:53:18.308Z"
   },
   {
    "duration": 53,
    "start_time": "2025-03-06T10:53:19.415Z"
   },
   {
    "duration": 54,
    "start_time": "2025-03-06T10:53:19.470Z"
   },
   {
    "duration": 380,
    "start_time": "2025-03-06T10:53:19.525Z"
   },
   {
    "duration": 103,
    "start_time": "2025-03-06T10:53:19.907Z"
   },
   {
    "duration": 29,
    "start_time": "2025-03-06T10:53:20.012Z"
   },
   {
    "duration": 45,
    "start_time": "2025-03-06T10:53:20.042Z"
   },
   {
    "duration": 83,
    "start_time": "2025-03-06T10:53:20.089Z"
   },
   {
    "duration": 221,
    "start_time": "2025-03-06T10:53:20.174Z"
   },
   {
    "duration": 5,
    "start_time": "2025-03-06T10:53:20.397Z"
   },
   {
    "duration": 5324,
    "start_time": "2025-03-06T10:53:20.403Z"
   },
   {
    "duration": 89,
    "start_time": "2025-03-06T10:53:25.729Z"
   },
   {
    "duration": 13663,
    "start_time": "2025-03-06T10:53:25.820Z"
   },
   {
    "duration": 3,
    "start_time": "2025-03-06T11:03:16.751Z"
   },
   {
    "duration": 58,
    "start_time": "2025-03-06T11:11:33.135Z"
   },
   {
    "duration": 5584,
    "start_time": "2025-03-06T15:53:08.451Z"
   },
   {
    "duration": 1414,
    "start_time": "2025-03-06T15:53:14.037Z"
   },
   {
    "duration": 3,
    "start_time": "2025-03-06T15:53:15.453Z"
   },
   {
    "duration": 935,
    "start_time": "2025-03-06T15:53:15.457Z"
   },
   {
    "duration": 4,
    "start_time": "2025-03-06T15:53:16.394Z"
   },
   {
    "duration": 1018,
    "start_time": "2025-03-06T15:53:16.400Z"
   },
   {
    "duration": 58,
    "start_time": "2025-03-06T15:53:17.420Z"
   },
   {
    "duration": 13,
    "start_time": "2025-03-06T15:53:17.480Z"
   },
   {
    "duration": 441,
    "start_time": "2025-03-06T15:53:17.494Z"
   },
   {
    "duration": 109,
    "start_time": "2025-03-06T15:53:17.937Z"
   },
   {
    "duration": 42,
    "start_time": "2025-03-06T15:53:18.049Z"
   },
   {
    "duration": 28,
    "start_time": "2025-03-06T15:53:18.093Z"
   },
   {
    "duration": 98,
    "start_time": "2025-03-06T15:53:18.122Z"
   },
   {
    "duration": 174,
    "start_time": "2025-03-06T15:53:18.223Z"
   },
   {
    "duration": 5,
    "start_time": "2025-03-06T15:53:18.399Z"
   },
   {
    "duration": 5568,
    "start_time": "2025-03-06T15:53:18.405Z"
   },
   {
    "duration": 68,
    "start_time": "2025-03-06T15:53:23.974Z"
   },
   {
    "duration": 13655,
    "start_time": "2025-03-06T15:53:24.044Z"
   },
   {
    "duration": 3,
    "start_time": "2025-03-06T15:53:37.701Z"
   },
   {
    "duration": 114,
    "start_time": "2025-03-06T15:53:37.705Z"
   },
   {
    "duration": 134,
    "start_time": "2025-03-06T15:57:00.166Z"
   },
   {
    "duration": 5,
    "start_time": "2025-03-06T15:57:19.311Z"
   },
   {
    "duration": 12,
    "start_time": "2025-03-06T16:01:58.451Z"
   },
   {
    "duration": 123,
    "start_time": "2025-03-06T16:20:46.588Z"
   },
   {
    "duration": 9680,
    "start_time": "2025-03-06T16:22:50.531Z"
   },
   {
    "duration": 16,
    "start_time": "2025-03-06T16:23:43.251Z"
   },
   {
    "duration": 673,
    "start_time": "2025-03-06T16:26:29.664Z"
   },
   {
    "duration": 615,
    "start_time": "2025-03-06T16:27:22.591Z"
   },
   {
    "duration": 36,
    "start_time": "2025-03-06T16:28:20.585Z"
   },
   {
    "duration": 5663,
    "start_time": "2025-03-06T16:28:35.356Z"
   },
   {
    "duration": 1352,
    "start_time": "2025-03-06T16:28:41.022Z"
   },
   {
    "duration": 3,
    "start_time": "2025-03-06T16:28:42.376Z"
   },
   {
    "duration": 886,
    "start_time": "2025-03-06T16:28:42.380Z"
   },
   {
    "duration": 4,
    "start_time": "2025-03-06T16:28:43.268Z"
   },
   {
    "duration": 966,
    "start_time": "2025-03-06T16:28:43.273Z"
   },
   {
    "duration": 61,
    "start_time": "2025-03-06T16:28:44.241Z"
   },
   {
    "duration": 16,
    "start_time": "2025-03-06T16:28:44.303Z"
   },
   {
    "duration": 384,
    "start_time": "2025-03-06T16:28:44.320Z"
   },
   {
    "duration": 115,
    "start_time": "2025-03-06T16:28:44.705Z"
   },
   {
    "duration": 41,
    "start_time": "2025-03-06T16:28:44.822Z"
   },
   {
    "duration": 65,
    "start_time": "2025-03-06T16:28:44.865Z"
   },
   {
    "duration": 87,
    "start_time": "2025-03-06T16:28:44.932Z"
   },
   {
    "duration": 334,
    "start_time": "2025-03-06T16:28:45.021Z"
   },
   {
    "duration": 17,
    "start_time": "2025-03-06T16:28:45.356Z"
   },
   {
    "duration": 5489,
    "start_time": "2025-03-06T16:28:45.375Z"
   },
   {
    "duration": 73,
    "start_time": "2025-03-06T16:28:50.866Z"
   },
   {
    "duration": 13655,
    "start_time": "2025-03-06T16:28:50.940Z"
   },
   {
    "duration": 2,
    "start_time": "2025-03-06T16:29:04.597Z"
   },
   {
    "duration": 107,
    "start_time": "2025-03-06T16:29:04.601Z"
   },
   {
    "duration": 142,
    "start_time": "2025-03-06T16:29:04.709Z"
   },
   {
    "duration": 689,
    "start_time": "2025-03-06T16:29:04.853Z"
   },
   {
    "duration": 123,
    "start_time": "2025-03-06T16:35:08.529Z"
   },
   {
    "duration": 6,
    "start_time": "2025-03-06T16:35:44.525Z"
   },
   {
    "duration": 11,
    "start_time": "2025-03-06T16:35:49.107Z"
   },
   {
    "duration": 153,
    "start_time": "2025-03-06T16:35:59.015Z"
   },
   {
    "duration": 226,
    "start_time": "2025-03-06T16:36:00.380Z"
   },
   {
    "duration": 5,
    "start_time": "2025-03-06T16:38:33.138Z"
   },
   {
    "duration": 132,
    "start_time": "2025-03-06T16:39:35.291Z"
   },
   {
    "duration": 320,
    "start_time": "2025-03-06T16:40:06.348Z"
   },
   {
    "duration": 55,
    "start_time": "2025-03-06T16:46:48.712Z"
   },
   {
    "duration": 93786,
    "start_time": "2025-03-06T16:49:12.125Z"
   },
   {
    "duration": 116,
    "start_time": "2025-03-06T16:53:24.520Z"
   },
   {
    "duration": 21301,
    "start_time": "2025-03-06T16:53:41.867Z"
   },
   {
    "duration": 345,
    "start_time": "2025-03-06T16:54:48.902Z"
   },
   {
    "duration": 71,
    "start_time": "2025-03-06T17:05:17.166Z"
   },
   {
    "duration": 0,
    "start_time": "2025-03-06T17:05:17.238Z"
   },
   {
    "duration": 5538,
    "start_time": "2025-03-06T17:06:39.446Z"
   },
   {
    "duration": 1368,
    "start_time": "2025-03-06T17:06:44.986Z"
   },
   {
    "duration": 3,
    "start_time": "2025-03-06T17:06:46.355Z"
   },
   {
    "duration": 880,
    "start_time": "2025-03-06T17:06:46.360Z"
   },
   {
    "duration": 4,
    "start_time": "2025-03-06T17:06:47.242Z"
   },
   {
    "duration": 947,
    "start_time": "2025-03-06T17:06:47.248Z"
   },
   {
    "duration": 50,
    "start_time": "2025-03-06T17:06:48.197Z"
   },
   {
    "duration": 30,
    "start_time": "2025-03-06T17:06:48.248Z"
   },
   {
    "duration": 405,
    "start_time": "2025-03-06T17:06:48.281Z"
   },
   {
    "duration": 115,
    "start_time": "2025-03-06T17:06:48.687Z"
   },
   {
    "duration": 111,
    "start_time": "2025-03-06T17:06:48.804Z"
   },
   {
    "duration": 32,
    "start_time": "2025-03-06T17:06:48.917Z"
   },
   {
    "duration": 82,
    "start_time": "2025-03-06T17:06:48.951Z"
   },
   {
    "duration": 181,
    "start_time": "2025-03-06T17:06:49.036Z"
   },
   {
    "duration": 5,
    "start_time": "2025-03-06T17:06:49.218Z"
   },
   {
    "duration": 5514,
    "start_time": "2025-03-06T17:06:49.225Z"
   },
   {
    "duration": 82,
    "start_time": "2025-03-06T17:06:54.741Z"
   },
   {
    "duration": 14138,
    "start_time": "2025-03-06T17:06:54.825Z"
   },
   {
    "duration": 3,
    "start_time": "2025-03-06T17:07:08.964Z"
   },
   {
    "duration": 95,
    "start_time": "2025-03-06T17:07:08.969Z"
   },
   {
    "duration": 153,
    "start_time": "2025-03-06T17:07:09.066Z"
   },
   {
    "duration": 668,
    "start_time": "2025-03-06T17:07:09.221Z"
   },
   {
    "duration": 159,
    "start_time": "2025-03-06T17:07:09.890Z"
   },
   {
    "duration": 232,
    "start_time": "2025-03-06T17:07:10.051Z"
   },
   {
    "duration": 284,
    "start_time": "2025-03-06T17:07:10.285Z"
   },
   {
    "duration": 97,
    "start_time": "2025-03-06T17:07:10.571Z"
   },
   {
    "duration": 96527,
    "start_time": "2025-03-06T17:07:10.670Z"
   },
   {
    "duration": 21714,
    "start_time": "2025-03-06T17:08:47.199Z"
   },
   {
    "duration": 362,
    "start_time": "2025-03-06T17:09:08.916Z"
   },
   {
    "duration": 157588,
    "start_time": "2025-03-06T17:09:09.280Z"
   },
   {
    "duration": 49,
    "start_time": "2025-03-06T17:11:46.870Z"
   },
   {
    "duration": 0,
    "start_time": "2025-03-06T17:11:46.921Z"
   },
   {
    "duration": 0,
    "start_time": "2025-03-06T17:11:46.922Z"
   },
   {
    "duration": 0,
    "start_time": "2025-03-06T17:11:46.923Z"
   },
   {
    "duration": 0,
    "start_time": "2025-03-06T17:11:46.924Z"
   },
   {
    "duration": 0,
    "start_time": "2025-03-06T17:11:46.925Z"
   },
   {
    "duration": 194,
    "start_time": "2025-03-06T17:13:08.974Z"
   },
   {
    "duration": 1919,
    "start_time": "2025-03-06T17:13:20.747Z"
   },
   {
    "duration": 287,
    "start_time": "2025-03-06T17:13:31.076Z"
   },
   {
    "duration": 5,
    "start_time": "2025-03-06T17:20:44.169Z"
   },
   {
    "duration": 6,
    "start_time": "2025-03-06T17:20:47.269Z"
   },
   {
    "duration": 11,
    "start_time": "2025-03-06T17:20:51.787Z"
   },
   {
    "duration": 95,
    "start_time": "2025-03-06T17:21:01.570Z"
   },
   {
    "duration": 257,
    "start_time": "2025-03-06T17:22:02.007Z"
   },
   {
    "duration": 5720,
    "start_time": "2025-03-06T17:40:43.346Z"
   },
   {
    "duration": 1421,
    "start_time": "2025-03-06T17:40:49.068Z"
   },
   {
    "duration": 3,
    "start_time": "2025-03-06T17:40:50.491Z"
   },
   {
    "duration": 885,
    "start_time": "2025-03-06T17:40:50.496Z"
   },
   {
    "duration": 4,
    "start_time": "2025-03-06T17:40:51.383Z"
   },
   {
    "duration": 920,
    "start_time": "2025-03-06T17:40:51.389Z"
   },
   {
    "duration": 56,
    "start_time": "2025-03-06T17:40:52.311Z"
   },
   {
    "duration": 19,
    "start_time": "2025-03-06T17:40:52.369Z"
   },
   {
    "duration": 372,
    "start_time": "2025-03-06T17:40:52.390Z"
   },
   {
    "duration": 105,
    "start_time": "2025-03-06T17:40:52.764Z"
   },
   {
    "duration": 28,
    "start_time": "2025-03-06T17:40:52.871Z"
   },
   {
    "duration": 51,
    "start_time": "2025-03-06T17:40:52.901Z"
   },
   {
    "duration": 82,
    "start_time": "2025-03-06T17:40:52.953Z"
   },
   {
    "duration": 174,
    "start_time": "2025-03-06T17:40:53.039Z"
   },
   {
    "duration": 5,
    "start_time": "2025-03-06T17:40:53.215Z"
   },
   {
    "duration": 5311,
    "start_time": "2025-03-06T17:40:53.222Z"
   },
   {
    "duration": 78,
    "start_time": "2025-03-06T17:40:58.535Z"
   },
   {
    "duration": 13212,
    "start_time": "2025-03-06T17:40:58.615Z"
   },
   {
    "duration": 2,
    "start_time": "2025-03-06T17:41:11.829Z"
   },
   {
    "duration": 90,
    "start_time": "2025-03-06T17:41:11.833Z"
   },
   {
    "duration": 138,
    "start_time": "2025-03-06T17:41:11.924Z"
   },
   {
    "duration": 665,
    "start_time": "2025-03-06T17:41:12.064Z"
   },
   {
    "duration": 152,
    "start_time": "2025-03-06T17:41:12.731Z"
   },
   {
    "duration": 214,
    "start_time": "2025-03-06T17:41:12.885Z"
   },
   {
    "duration": 264,
    "start_time": "2025-03-06T17:41:13.101Z"
   },
   {
    "duration": 97,
    "start_time": "2025-03-06T17:41:13.367Z"
   },
   {
    "duration": 94396,
    "start_time": "2025-03-06T17:41:13.467Z"
   },
   {
    "duration": 20936,
    "start_time": "2025-03-06T17:42:47.865Z"
   },
   {
    "duration": 359,
    "start_time": "2025-03-06T17:43:08.803Z"
   },
   {
    "duration": 13102,
    "start_time": "2025-03-06T17:43:09.164Z"
   },
   {
    "duration": 2200,
    "start_time": "2025-03-06T17:43:22.268Z"
   },
   {
    "duration": 307,
    "start_time": "2025-03-06T17:43:24.469Z"
   },
   {
    "duration": 5,
    "start_time": "2025-03-06T17:43:24.778Z"
   },
   {
    "duration": 6,
    "start_time": "2025-03-06T17:43:24.863Z"
   },
   {
    "duration": 18,
    "start_time": "2025-03-06T17:43:24.871Z"
   },
   {
    "duration": 282,
    "start_time": "2025-03-06T17:43:24.890Z"
   },
   {
    "duration": 11417,
    "start_time": "2025-03-07T07:38:42.757Z"
   },
   {
    "duration": 1666,
    "start_time": "2025-03-07T07:40:48.284Z"
   },
   {
    "duration": 3,
    "start_time": "2025-03-07T07:40:49.973Z"
   },
   {
    "duration": 1029,
    "start_time": "2025-03-07T07:40:51.289Z"
   },
   {
    "duration": 4,
    "start_time": "2025-03-07T07:40:53.360Z"
   },
   {
    "duration": 974,
    "start_time": "2025-03-07T07:40:55.608Z"
   },
   {
    "duration": 66,
    "start_time": "2025-03-07T07:41:01.170Z"
   },
   {
    "duration": 6,
    "start_time": "2025-03-07T07:41:15.404Z"
   },
   {
    "duration": 73,
    "start_time": "2025-03-07T07:42:09.943Z"
   },
   {
    "duration": 6429,
    "start_time": "2025-03-07T10:09:33.728Z"
   },
   {
    "duration": 5566,
    "start_time": "2025-03-07T10:44:13.881Z"
   },
   {
    "duration": 10,
    "start_time": "2025-03-07T10:44:19.450Z"
   },
   {
    "duration": 6157,
    "start_time": "2025-03-07T10:44:24.351Z"
   },
   {
    "duration": 8,
    "start_time": "2025-03-07T10:44:30.511Z"
   },
   {
    "duration": 12,
    "start_time": "2025-03-07T10:44:30.521Z"
   },
   {
    "duration": 927,
    "start_time": "2025-03-07T10:44:30.775Z"
   },
   {
    "duration": 4,
    "start_time": "2025-03-07T10:44:33.327Z"
   },
   {
    "duration": 892,
    "start_time": "2025-03-07T10:44:35.753Z"
   },
   {
    "duration": 7671,
    "start_time": "2025-03-07T10:45:07.922Z"
   },
   {
    "duration": 17,
    "start_time": "2025-03-07T10:46:11.269Z"
   },
   {
    "duration": 148,
    "start_time": "2025-03-07T10:47:10.370Z"
   },
   {
    "duration": 6068,
    "start_time": "2025-03-07T10:47:17.458Z"
   },
   {
    "duration": 6168,
    "start_time": "2025-03-07T10:49:29.700Z"
   },
   {
    "duration": 1566,
    "start_time": "2025-03-07T10:49:38.285Z"
   },
   {
    "duration": 3,
    "start_time": "2025-03-07T10:49:40.792Z"
   },
   {
    "duration": 1011,
    "start_time": "2025-03-07T10:49:42.261Z"
   },
   {
    "duration": 4,
    "start_time": "2025-03-07T10:49:44.403Z"
   },
   {
    "duration": 969,
    "start_time": "2025-03-07T10:49:46.553Z"
   },
   {
    "duration": 8017,
    "start_time": "2025-03-07T10:53:54.959Z"
   },
   {
    "duration": 18,
    "start_time": "2025-03-07T10:54:06.249Z"
   },
   {
    "duration": 6100,
    "start_time": "2025-03-07T10:59:32.539Z"
   },
   {
    "duration": 9,
    "start_time": "2025-03-07T10:59:38.642Z"
   },
   {
    "duration": 7,
    "start_time": "2025-03-07T10:59:38.653Z"
   },
   {
    "duration": 995,
    "start_time": "2025-03-07T10:59:38.662Z"
   },
   {
    "duration": 3,
    "start_time": "2025-03-07T10:59:39.659Z"
   },
   {
    "duration": 4098,
    "start_time": "2025-03-07T10:59:42.871Z"
   },
   {
    "duration": 19,
    "start_time": "2025-03-07T11:01:22.477Z"
   },
   {
    "duration": 476,
    "start_time": "2025-03-07T11:01:34.553Z"
   },
   {
    "duration": 16,
    "start_time": "2025-03-07T11:01:36.917Z"
   },
   {
    "duration": 9625,
    "start_time": "2025-03-07T11:02:48.290Z"
   },
   {
    "duration": 17,
    "start_time": "2025-03-07T11:03:01.339Z"
   },
   {
    "duration": 9354,
    "start_time": "2025-03-07T11:03:14.273Z"
   },
   {
    "duration": 22,
    "start_time": "2025-03-07T11:03:26.111Z"
   },
   {
    "duration": 9382,
    "start_time": "2025-03-07T11:07:24.256Z"
   },
   {
    "duration": 17,
    "start_time": "2025-03-07T11:07:33.640Z"
   },
   {
    "duration": 6043,
    "start_time": "2025-03-07T11:07:51.290Z"
   },
   {
    "duration": 1461,
    "start_time": "2025-03-07T11:07:57.336Z"
   },
   {
    "duration": 3,
    "start_time": "2025-03-07T11:07:58.799Z"
   },
   {
    "duration": 1042,
    "start_time": "2025-03-07T11:07:58.804Z"
   },
   {
    "duration": 4,
    "start_time": "2025-03-07T11:07:59.848Z"
   },
   {
    "duration": 1023,
    "start_time": "2025-03-07T11:07:59.853Z"
   },
   {
    "duration": 2,
    "start_time": "2025-03-07T11:08:00.878Z"
   },
   {
    "duration": 408,
    "start_time": "2025-03-07T11:08:00.881Z"
   },
   {
    "duration": 9773,
    "start_time": "2025-03-07T11:08:01.291Z"
   },
   {
    "duration": 20,
    "start_time": "2025-03-07T11:08:11.071Z"
   },
   {
    "duration": 24,
    "start_time": "2025-03-07T11:08:11.093Z"
   },
   {
    "duration": 906,
    "start_time": "2025-03-07T11:08:11.118Z"
   },
   {
    "duration": 131,
    "start_time": "2025-03-07T11:08:12.026Z"
   },
   {
    "duration": 44,
    "start_time": "2025-03-07T11:08:12.159Z"
   },
   {
    "duration": 34,
    "start_time": "2025-03-07T11:08:12.204Z"
   },
   {
    "duration": 148,
    "start_time": "2025-03-07T11:08:12.240Z"
   },
   {
    "duration": 3,
    "start_time": "2025-03-07T11:08:12.389Z"
   },
   {
    "duration": 1012,
    "start_time": "2025-03-07T11:08:12.394Z"
   },
   {
    "duration": 6,
    "start_time": "2025-03-07T11:08:13.408Z"
   },
   {
    "duration": 6172,
    "start_time": "2025-03-07T11:08:13.416Z"
   },
   {
    "duration": 124,
    "start_time": "2025-03-07T11:08:19.590Z"
   },
   {
    "duration": 289,
    "start_time": "2025-03-07T11:08:19.716Z"
   },
   {
    "duration": 219313,
    "start_time": "2025-03-07T11:08:20.007Z"
   },
   {
    "duration": 0,
    "start_time": "2025-03-07T11:11:59.323Z"
   },
   {
    "duration": 0,
    "start_time": "2025-03-07T11:11:59.325Z"
   },
   {
    "duration": 0,
    "start_time": "2025-03-07T11:11:59.326Z"
   },
   {
    "duration": 0,
    "start_time": "2025-03-07T11:11:59.327Z"
   },
   {
    "duration": 0,
    "start_time": "2025-03-07T11:11:59.328Z"
   },
   {
    "duration": 0,
    "start_time": "2025-03-07T11:11:59.329Z"
   },
   {
    "duration": 0,
    "start_time": "2025-03-07T11:11:59.330Z"
   },
   {
    "duration": 0,
    "start_time": "2025-03-07T11:11:59.331Z"
   },
   {
    "duration": 1,
    "start_time": "2025-03-07T11:11:59.332Z"
   },
   {
    "duration": 0,
    "start_time": "2025-03-07T11:11:59.334Z"
   },
   {
    "duration": 0,
    "start_time": "2025-03-07T11:11:59.335Z"
   },
   {
    "duration": 0,
    "start_time": "2025-03-07T11:11:59.336Z"
   },
   {
    "duration": 0,
    "start_time": "2025-03-07T11:11:59.337Z"
   },
   {
    "duration": 0,
    "start_time": "2025-03-07T11:11:59.338Z"
   },
   {
    "duration": 0,
    "start_time": "2025-03-07T11:11:59.339Z"
   },
   {
    "duration": 0,
    "start_time": "2025-03-07T11:11:59.340Z"
   },
   {
    "duration": 0,
    "start_time": "2025-03-07T11:11:59.342Z"
   },
   {
    "duration": 0,
    "start_time": "2025-03-07T11:11:59.373Z"
   },
   {
    "duration": 0,
    "start_time": "2025-03-07T11:11:59.374Z"
   },
   {
    "duration": 0,
    "start_time": "2025-03-07T11:11:59.375Z"
   },
   {
    "duration": 0,
    "start_time": "2025-03-07T11:11:59.376Z"
   },
   {
    "duration": 1299,
    "start_time": "2025-03-07T11:12:02.062Z"
   },
   {
    "duration": 71,
    "start_time": "2025-03-07T11:12:12.608Z"
   },
   {
    "duration": 6191,
    "start_time": "2025-03-07T11:12:28.626Z"
   },
   {
    "duration": 1476,
    "start_time": "2025-03-07T11:12:34.820Z"
   },
   {
    "duration": 3,
    "start_time": "2025-03-07T11:12:36.298Z"
   },
   {
    "duration": 1023,
    "start_time": "2025-03-07T11:12:36.303Z"
   },
   {
    "duration": 4,
    "start_time": "2025-03-07T11:12:37.328Z"
   },
   {
    "duration": 1023,
    "start_time": "2025-03-07T11:12:37.334Z"
   },
   {
    "duration": 3,
    "start_time": "2025-03-07T11:12:38.358Z"
   },
   {
    "duration": 427,
    "start_time": "2025-03-07T11:12:38.362Z"
   },
   {
    "duration": 515,
    "start_time": "2025-03-07T11:12:38.791Z"
   },
   {
    "duration": 67,
    "start_time": "2025-03-07T11:12:39.308Z"
   },
   {
    "duration": 0,
    "start_time": "2025-03-07T11:12:39.381Z"
   },
   {
    "duration": 0,
    "start_time": "2025-03-07T11:12:39.382Z"
   },
   {
    "duration": 0,
    "start_time": "2025-03-07T11:12:39.384Z"
   },
   {
    "duration": 0,
    "start_time": "2025-03-07T11:12:39.385Z"
   },
   {
    "duration": 0,
    "start_time": "2025-03-07T11:12:39.386Z"
   },
   {
    "duration": 0,
    "start_time": "2025-03-07T11:12:39.387Z"
   },
   {
    "duration": 0,
    "start_time": "2025-03-07T11:12:39.389Z"
   },
   {
    "duration": 0,
    "start_time": "2025-03-07T11:12:39.390Z"
   },
   {
    "duration": 0,
    "start_time": "2025-03-07T11:12:39.391Z"
   },
   {
    "duration": 0,
    "start_time": "2025-03-07T11:12:39.392Z"
   },
   {
    "duration": 0,
    "start_time": "2025-03-07T11:12:39.393Z"
   },
   {
    "duration": 0,
    "start_time": "2025-03-07T11:12:39.394Z"
   },
   {
    "duration": 0,
    "start_time": "2025-03-07T11:12:39.396Z"
   },
   {
    "duration": 0,
    "start_time": "2025-03-07T11:12:39.396Z"
   },
   {
    "duration": 0,
    "start_time": "2025-03-07T11:12:39.398Z"
   },
   {
    "duration": 0,
    "start_time": "2025-03-07T11:12:39.399Z"
   },
   {
    "duration": 0,
    "start_time": "2025-03-07T11:12:39.400Z"
   },
   {
    "duration": 0,
    "start_time": "2025-03-07T11:12:39.401Z"
   },
   {
    "duration": 0,
    "start_time": "2025-03-07T11:12:39.402Z"
   },
   {
    "duration": 0,
    "start_time": "2025-03-07T11:12:39.403Z"
   },
   {
    "duration": 0,
    "start_time": "2025-03-07T11:12:39.404Z"
   },
   {
    "duration": 0,
    "start_time": "2025-03-07T11:12:39.406Z"
   },
   {
    "duration": 0,
    "start_time": "2025-03-07T11:12:39.406Z"
   },
   {
    "duration": 0,
    "start_time": "2025-03-07T11:12:39.408Z"
   },
   {
    "duration": 0,
    "start_time": "2025-03-07T11:12:39.409Z"
   },
   {
    "duration": 0,
    "start_time": "2025-03-07T11:12:39.410Z"
   },
   {
    "duration": 0,
    "start_time": "2025-03-07T11:12:39.411Z"
   },
   {
    "duration": 0,
    "start_time": "2025-03-07T11:12:39.412Z"
   },
   {
    "duration": 0,
    "start_time": "2025-03-07T11:12:39.413Z"
   },
   {
    "duration": 0,
    "start_time": "2025-03-07T11:12:39.415Z"
   },
   {
    "duration": 0,
    "start_time": "2025-03-07T11:12:39.416Z"
   },
   {
    "duration": 0,
    "start_time": "2025-03-07T11:12:39.472Z"
   },
   {
    "duration": 0,
    "start_time": "2025-03-07T11:12:39.473Z"
   },
   {
    "duration": 1,
    "start_time": "2025-03-07T11:12:39.474Z"
   },
   {
    "duration": 9097,
    "start_time": "2025-03-07T11:14:36.265Z"
   },
   {
    "duration": 21,
    "start_time": "2025-03-07T11:14:45.365Z"
   },
   {
    "duration": 9005,
    "start_time": "2025-03-07T11:16:49.851Z"
   },
   {
    "duration": 21,
    "start_time": "2025-03-07T11:16:58.858Z"
   },
   {
    "duration": 132,
    "start_time": "2025-03-07T11:18:20.345Z"
   },
   {
    "duration": 12,
    "start_time": "2025-03-07T11:18:31.338Z"
   },
   {
    "duration": 9,
    "start_time": "2025-03-07T11:19:01.849Z"
   },
   {
    "duration": 4,
    "start_time": "2025-03-07T11:19:29.455Z"
   },
   {
    "duration": 8,
    "start_time": "2025-03-07T11:19:33.035Z"
   },
   {
    "duration": 66,
    "start_time": "2025-03-07T11:20:39.869Z"
   },
   {
    "duration": 21,
    "start_time": "2025-03-07T11:21:10.263Z"
   },
   {
    "duration": 29,
    "start_time": "2025-03-07T11:21:17.395Z"
   },
   {
    "duration": 27,
    "start_time": "2025-03-07T11:21:44.819Z"
   },
   {
    "duration": 31,
    "start_time": "2025-03-07T11:21:48.481Z"
   },
   {
    "duration": 21,
    "start_time": "2025-03-07T12:51:49.043Z"
   },
   {
    "duration": 3,
    "start_time": "2025-03-07T13:01:47.032Z"
   },
   {
    "duration": 12446,
    "start_time": "2025-03-07T13:06:48.202Z"
   },
   {
    "duration": 1611,
    "start_time": "2025-03-07T13:09:07.693Z"
   },
   {
    "duration": 5,
    "start_time": "2025-03-07T13:09:09.306Z"
   },
   {
    "duration": 1229,
    "start_time": "2025-03-07T13:09:09.313Z"
   },
   {
    "duration": 69,
    "start_time": "2025-03-07T13:09:10.544Z"
   },
   {
    "duration": 349,
    "start_time": "2025-03-07T13:09:10.618Z"
   },
   {
    "duration": 700,
    "start_time": "2025-03-07T13:09:10.972Z"
   },
   {
    "duration": 0,
    "start_time": "2025-03-07T13:09:22.145Z"
   },
   {
    "duration": 0,
    "start_time": "2025-03-07T13:09:22.146Z"
   },
   {
    "duration": 0,
    "start_time": "2025-03-07T13:09:22.147Z"
   },
   {
    "duration": 0,
    "start_time": "2025-03-07T13:09:22.148Z"
   },
   {
    "duration": 0,
    "start_time": "2025-03-07T13:09:22.149Z"
   },
   {
    "duration": 0,
    "start_time": "2025-03-07T13:09:22.150Z"
   },
   {
    "duration": 0,
    "start_time": "2025-03-07T13:09:22.151Z"
   },
   {
    "duration": 0,
    "start_time": "2025-03-07T13:09:22.152Z"
   },
   {
    "duration": 0,
    "start_time": "2025-03-07T13:09:22.173Z"
   },
   {
    "duration": 0,
    "start_time": "2025-03-07T13:09:22.176Z"
   },
   {
    "duration": 0,
    "start_time": "2025-03-07T13:09:22.178Z"
   },
   {
    "duration": 0,
    "start_time": "2025-03-07T13:09:22.180Z"
   },
   {
    "duration": 0,
    "start_time": "2025-03-07T13:09:22.181Z"
   },
   {
    "duration": 0,
    "start_time": "2025-03-07T13:09:22.184Z"
   },
   {
    "duration": 6286,
    "start_time": "2025-03-07T13:33:51.757Z"
   },
   {
    "duration": 9,
    "start_time": "2025-03-07T13:33:58.046Z"
   },
   {
    "duration": 13,
    "start_time": "2025-03-07T13:33:58.057Z"
   },
   {
    "duration": 1063,
    "start_time": "2025-03-07T13:34:00.365Z"
   },
   {
    "duration": 4,
    "start_time": "2025-03-07T13:34:02.359Z"
   },
   {
    "duration": 936,
    "start_time": "2025-03-07T13:34:08.803Z"
   },
   {
    "duration": 42,
    "start_time": "2025-03-07T13:34:13.549Z"
   },
   {
    "duration": 298,
    "start_time": "2025-03-07T13:34:15.059Z"
   },
   {
    "duration": 618,
    "start_time": "2025-03-07T13:34:17.248Z"
   },
   {
    "duration": 9708,
    "start_time": "2025-03-07T13:34:22.328Z"
   },
   {
    "duration": 62,
    "start_time": "2025-03-07T13:34:35.268Z"
   },
   {
    "duration": 44,
    "start_time": "2025-03-07T13:35:03.241Z"
   },
   {
    "duration": 101,
    "start_time": "2025-03-07T13:35:28.157Z"
   },
   {
    "duration": 1161,
    "start_time": "2025-03-07T13:36:01.769Z"
   },
   {
    "duration": 7,
    "start_time": "2025-03-07T13:36:16.362Z"
   },
   {
    "duration": 726,
    "start_time": "2025-03-07T13:36:25.068Z"
   },
   {
    "duration": 120,
    "start_time": "2025-03-07T13:36:28.292Z"
   },
   {
    "duration": 43,
    "start_time": "2025-03-07T13:36:31.152Z"
   },
   {
    "duration": 51,
    "start_time": "2025-03-07T13:36:32.477Z"
   },
   {
    "duration": 124,
    "start_time": "2025-03-07T13:36:35.365Z"
   },
   {
    "duration": 1071,
    "start_time": "2025-03-07T13:37:59.760Z"
   },
   {
    "duration": 6,
    "start_time": "2025-03-07T13:38:50.795Z"
   },
   {
    "duration": 6544,
    "start_time": "2025-03-07T13:38:54.631Z"
   },
   {
    "duration": 37,
    "start_time": "2025-03-07T13:49:47.345Z"
   },
   {
    "duration": 155,
    "start_time": "2025-03-07T13:52:59.306Z"
   },
   {
    "duration": 97,
    "start_time": "2025-03-07T13:53:02.686Z"
   },
   {
    "duration": 62,
    "start_time": "2025-03-07T15:07:46.731Z"
   },
   {
    "duration": 6478,
    "start_time": "2025-03-07T15:08:44.928Z"
   },
   {
    "duration": 1451,
    "start_time": "2025-03-07T15:08:51.408Z"
   },
   {
    "duration": 3,
    "start_time": "2025-03-07T15:08:52.861Z"
   },
   {
    "duration": 1056,
    "start_time": "2025-03-07T15:08:52.866Z"
   },
   {
    "duration": 4,
    "start_time": "2025-03-07T15:08:53.924Z"
   },
   {
    "duration": 1023,
    "start_time": "2025-03-07T15:08:53.930Z"
   },
   {
    "duration": 62,
    "start_time": "2025-03-07T15:08:54.955Z"
   },
   {
    "duration": 330,
    "start_time": "2025-03-07T15:08:55.019Z"
   },
   {
    "duration": 637,
    "start_time": "2025-03-07T15:08:55.351Z"
   },
   {
    "duration": 9312,
    "start_time": "2025-03-07T15:08:55.992Z"
   },
   {
    "duration": 37,
    "start_time": "2025-03-07T15:09:05.306Z"
   },
   {
    "duration": 229,
    "start_time": "2025-03-07T15:09:05.344Z"
   },
   {
    "duration": 0,
    "start_time": "2025-03-07T15:09:05.576Z"
   },
   {
    "duration": 0,
    "start_time": "2025-03-07T15:09:05.578Z"
   },
   {
    "duration": 0,
    "start_time": "2025-03-07T15:09:05.579Z"
   },
   {
    "duration": 0,
    "start_time": "2025-03-07T15:09:05.581Z"
   },
   {
    "duration": 0,
    "start_time": "2025-03-07T15:09:05.582Z"
   },
   {
    "duration": 0,
    "start_time": "2025-03-07T15:09:05.584Z"
   },
   {
    "duration": 0,
    "start_time": "2025-03-07T15:09:05.586Z"
   },
   {
    "duration": 1,
    "start_time": "2025-03-07T15:09:05.587Z"
   },
   {
    "duration": 0,
    "start_time": "2025-03-07T15:09:05.589Z"
   },
   {
    "duration": 1,
    "start_time": "2025-03-07T15:09:05.590Z"
   },
   {
    "duration": 0,
    "start_time": "2025-03-07T15:09:05.592Z"
   },
   {
    "duration": 0,
    "start_time": "2025-03-07T15:09:05.594Z"
   },
   {
    "duration": 0,
    "start_time": "2025-03-07T15:09:05.596Z"
   },
   {
    "duration": 0,
    "start_time": "2025-03-07T15:09:05.597Z"
   },
   {
    "duration": 0,
    "start_time": "2025-03-07T15:09:05.599Z"
   },
   {
    "duration": 0,
    "start_time": "2025-03-07T15:09:05.600Z"
   },
   {
    "duration": 0,
    "start_time": "2025-03-07T15:09:05.602Z"
   },
   {
    "duration": 0,
    "start_time": "2025-03-07T15:09:05.604Z"
   },
   {
    "duration": 0,
    "start_time": "2025-03-07T15:09:05.606Z"
   },
   {
    "duration": 0,
    "start_time": "2025-03-07T15:09:05.608Z"
   },
   {
    "duration": 0,
    "start_time": "2025-03-07T15:09:05.610Z"
   },
   {
    "duration": 0,
    "start_time": "2025-03-07T15:09:05.612Z"
   },
   {
    "duration": 1,
    "start_time": "2025-03-07T15:09:05.672Z"
   },
   {
    "duration": 0,
    "start_time": "2025-03-07T15:09:05.674Z"
   },
   {
    "duration": 0,
    "start_time": "2025-03-07T15:09:05.676Z"
   },
   {
    "duration": 0,
    "start_time": "2025-03-07T15:09:05.678Z"
   },
   {
    "duration": 0,
    "start_time": "2025-03-07T15:09:05.680Z"
   },
   {
    "duration": 0,
    "start_time": "2025-03-07T15:09:05.682Z"
   },
   {
    "duration": 0,
    "start_time": "2025-03-07T15:09:05.684Z"
   },
   {
    "duration": 0,
    "start_time": "2025-03-07T15:09:05.686Z"
   },
   {
    "duration": 0,
    "start_time": "2025-03-07T15:09:05.688Z"
   },
   {
    "duration": 0,
    "start_time": "2025-03-07T15:09:05.690Z"
   },
   {
    "duration": 0,
    "start_time": "2025-03-07T15:09:05.692Z"
   },
   {
    "duration": 0,
    "start_time": "2025-03-07T15:09:05.694Z"
   },
   {
    "duration": 0,
    "start_time": "2025-03-07T15:09:05.697Z"
   },
   {
    "duration": 1028,
    "start_time": "2025-03-07T15:11:08.143Z"
   },
   {
    "duration": 6157,
    "start_time": "2025-03-07T15:11:20.478Z"
   },
   {
    "duration": 1523,
    "start_time": "2025-03-07T15:11:26.638Z"
   },
   {
    "duration": 4,
    "start_time": "2025-03-07T15:11:28.163Z"
   },
   {
    "duration": 1088,
    "start_time": "2025-03-07T15:11:28.168Z"
   },
   {
    "duration": 4,
    "start_time": "2025-03-07T15:11:29.258Z"
   },
   {
    "duration": 1048,
    "start_time": "2025-03-07T15:11:29.264Z"
   },
   {
    "duration": 67,
    "start_time": "2025-03-07T15:11:30.314Z"
   },
   {
    "duration": 338,
    "start_time": "2025-03-07T15:11:30.383Z"
   },
   {
    "duration": 668,
    "start_time": "2025-03-07T15:11:30.723Z"
   },
   {
    "duration": 9253,
    "start_time": "2025-03-07T15:11:31.393Z"
   },
   {
    "duration": 47,
    "start_time": "2025-03-07T15:11:40.648Z"
   },
   {
    "duration": 90,
    "start_time": "2025-03-07T15:11:40.697Z"
   },
   {
    "duration": 5,
    "start_time": "2025-03-07T15:11:40.789Z"
   },
   {
    "duration": 728,
    "start_time": "2025-03-07T15:11:40.797Z"
   },
   {
    "duration": 129,
    "start_time": "2025-03-07T15:11:41.527Z"
   },
   {
    "duration": 51,
    "start_time": "2025-03-07T15:11:41.658Z"
   },
   {
    "duration": 63,
    "start_time": "2025-03-07T15:11:41.712Z"
   },
   {
    "duration": 127,
    "start_time": "2025-03-07T15:11:41.777Z"
   },
   {
    "duration": 994,
    "start_time": "2025-03-07T15:11:41.906Z"
   },
   {
    "duration": 5,
    "start_time": "2025-03-07T15:11:42.903Z"
   },
   {
    "duration": 6213,
    "start_time": "2025-03-07T15:11:42.911Z"
   },
   {
    "duration": 111,
    "start_time": "2025-03-07T15:11:49.126Z"
   },
   {
    "duration": 39,
    "start_time": "2025-03-07T15:11:49.239Z"
   },
   {
    "duration": 144,
    "start_time": "2025-03-07T15:11:49.280Z"
   },
   {
    "duration": 84,
    "start_time": "2025-03-07T15:11:49.426Z"
   },
   {
    "duration": 193,
    "start_time": "2025-03-07T15:11:49.512Z"
   },
   {
    "duration": 6239,
    "start_time": "2025-03-07T15:17:20.901Z"
   },
   {
    "duration": 1587,
    "start_time": "2025-03-07T15:17:27.145Z"
   },
   {
    "duration": 4,
    "start_time": "2025-03-07T15:17:28.735Z"
   },
   {
    "duration": 1102,
    "start_time": "2025-03-07T15:17:28.741Z"
   },
   {
    "duration": 4,
    "start_time": "2025-03-07T15:17:29.846Z"
   },
   {
    "duration": 1065,
    "start_time": "2025-03-07T15:17:29.852Z"
   },
   {
    "duration": 66,
    "start_time": "2025-03-07T15:17:30.919Z"
   },
   {
    "duration": 361,
    "start_time": "2025-03-07T15:17:30.987Z"
   },
   {
    "duration": 645,
    "start_time": "2025-03-07T15:17:31.350Z"
   },
   {
    "duration": 9557,
    "start_time": "2025-03-07T15:17:31.997Z"
   },
   {
    "duration": 45,
    "start_time": "2025-03-07T15:17:41.556Z"
   },
   {
    "duration": 94,
    "start_time": "2025-03-07T15:17:41.603Z"
   },
   {
    "duration": 6,
    "start_time": "2025-03-07T15:17:41.699Z"
   },
   {
    "duration": 732,
    "start_time": "2025-03-07T15:17:41.710Z"
   },
   {
    "duration": 133,
    "start_time": "2025-03-07T15:17:42.444Z"
   },
   {
    "duration": 38,
    "start_time": "2025-03-07T15:17:42.579Z"
   },
   {
    "duration": 54,
    "start_time": "2025-03-07T15:17:42.619Z"
   },
   {
    "duration": 127,
    "start_time": "2025-03-07T15:17:42.675Z"
   },
   {
    "duration": 991,
    "start_time": "2025-03-07T15:17:42.804Z"
   },
   {
    "duration": 6,
    "start_time": "2025-03-07T15:17:43.798Z"
   },
   {
    "duration": 6370,
    "start_time": "2025-03-07T15:17:43.806Z"
   },
   {
    "duration": 128,
    "start_time": "2025-03-07T15:17:50.178Z"
   },
   {
    "duration": 32,
    "start_time": "2025-03-07T15:17:50.308Z"
   },
   {
    "duration": 159,
    "start_time": "2025-03-07T15:17:50.342Z"
   },
   {
    "duration": 86,
    "start_time": "2025-03-07T15:17:50.504Z"
   },
   {
    "duration": 227,
    "start_time": "2025-03-07T15:17:50.592Z"
   },
   {
    "duration": 40,
    "start_time": "2025-03-07T15:17:50.820Z"
   },
   {
    "duration": 6295,
    "start_time": "2025-03-07T15:19:17.645Z"
   },
   {
    "duration": 1515,
    "start_time": "2025-03-07T15:19:23.943Z"
   },
   {
    "duration": 3,
    "start_time": "2025-03-07T15:19:25.460Z"
   },
   {
    "duration": 1050,
    "start_time": "2025-03-07T15:19:25.465Z"
   },
   {
    "duration": 4,
    "start_time": "2025-03-07T15:19:26.518Z"
   },
   {
    "duration": 1060,
    "start_time": "2025-03-07T15:19:26.524Z"
   },
   {
    "duration": 58,
    "start_time": "2025-03-07T15:19:27.586Z"
   },
   {
    "duration": 340,
    "start_time": "2025-03-07T15:19:27.646Z"
   },
   {
    "duration": 607,
    "start_time": "2025-03-07T15:19:27.988Z"
   },
   {
    "duration": 9138,
    "start_time": "2025-03-07T15:19:28.597Z"
   },
   {
    "duration": 43,
    "start_time": "2025-03-07T15:19:37.737Z"
   },
   {
    "duration": 91,
    "start_time": "2025-03-07T15:19:37.782Z"
   },
   {
    "duration": 6,
    "start_time": "2025-03-07T15:19:37.875Z"
   },
   {
    "duration": 711,
    "start_time": "2025-03-07T15:19:37.885Z"
   },
   {
    "duration": 137,
    "start_time": "2025-03-07T15:19:38.598Z"
   },
   {
    "duration": 48,
    "start_time": "2025-03-07T15:19:38.737Z"
   },
   {
    "duration": 34,
    "start_time": "2025-03-07T15:19:38.787Z"
   },
   {
    "duration": 140,
    "start_time": "2025-03-07T15:19:38.822Z"
   },
   {
    "duration": 1044,
    "start_time": "2025-03-07T15:19:38.965Z"
   },
   {
    "duration": 6,
    "start_time": "2025-03-07T15:19:40.011Z"
   },
   {
    "duration": 6154,
    "start_time": "2025-03-07T15:19:40.019Z"
   },
   {
    "duration": 120,
    "start_time": "2025-03-07T15:19:46.175Z"
   },
   {
    "duration": 31,
    "start_time": "2025-03-07T15:19:46.297Z"
   },
   {
    "duration": 151,
    "start_time": "2025-03-07T15:19:46.330Z"
   },
   {
    "duration": 75,
    "start_time": "2025-03-07T15:19:46.483Z"
   },
   {
    "duration": 218,
    "start_time": "2025-03-07T15:19:46.572Z"
   },
   {
    "duration": 28,
    "start_time": "2025-03-07T15:19:46.793Z"
   },
   {
    "duration": 37870,
    "start_time": "2025-03-07T15:19:46.823Z"
   },
   {
    "duration": 3,
    "start_time": "2025-03-07T15:20:24.695Z"
   },
   {
    "duration": 159,
    "start_time": "2025-03-07T15:20:24.700Z"
   },
   {
    "duration": 476,
    "start_time": "2025-03-07T15:20:24.862Z"
   },
   {
    "duration": 596,
    "start_time": "2025-03-07T15:20:25.340Z"
   },
   {
    "duration": 0,
    "start_time": "2025-03-07T15:20:25.937Z"
   },
   {
    "duration": 0,
    "start_time": "2025-03-07T15:20:25.939Z"
   },
   {
    "duration": 0,
    "start_time": "2025-03-07T15:20:25.940Z"
   },
   {
    "duration": 0,
    "start_time": "2025-03-07T15:20:25.942Z"
   },
   {
    "duration": 0,
    "start_time": "2025-03-07T15:20:25.944Z"
   },
   {
    "duration": 0,
    "start_time": "2025-03-07T15:20:25.946Z"
   },
   {
    "duration": 0,
    "start_time": "2025-03-07T15:20:25.948Z"
   },
   {
    "duration": 0,
    "start_time": "2025-03-07T15:20:25.973Z"
   },
   {
    "duration": 0,
    "start_time": "2025-03-07T15:20:25.975Z"
   },
   {
    "duration": 0,
    "start_time": "2025-03-07T15:20:25.977Z"
   },
   {
    "duration": 0,
    "start_time": "2025-03-07T15:20:25.978Z"
   },
   {
    "duration": 0,
    "start_time": "2025-03-07T15:20:25.980Z"
   },
   {
    "duration": 0,
    "start_time": "2025-03-07T15:20:25.982Z"
   },
   {
    "duration": 0,
    "start_time": "2025-03-07T15:20:25.984Z"
   },
   {
    "duration": 0,
    "start_time": "2025-03-07T15:20:25.986Z"
   },
   {
    "duration": 22,
    "start_time": "2025-03-07T15:22:03.589Z"
   },
   {
    "duration": 21,
    "start_time": "2025-03-07T15:22:19.706Z"
   },
   {
    "duration": 84,
    "start_time": "2025-03-07T15:22:32.413Z"
   },
   {
    "duration": 13,
    "start_time": "2025-03-07T15:22:35.001Z"
   },
   {
    "duration": 2881,
    "start_time": "2025-03-07T15:30:15.973Z"
   },
   {
    "duration": 1370,
    "start_time": "2025-03-07T15:35:18.107Z"
   },
   {
    "duration": 465,
    "start_time": "2025-03-07T15:40:12.790Z"
   },
   {
    "duration": 996,
    "start_time": "2025-03-07T15:40:44.334Z"
   },
   {
    "duration": 67,
    "start_time": "2025-03-07T15:42:06.275Z"
   },
   {
    "duration": 130,
    "start_time": "2025-03-07T15:44:22.377Z"
   },
   {
    "duration": 110564,
    "start_time": "2025-03-07T15:44:53.015Z"
   },
   {
    "duration": 600,
    "start_time": "2025-03-07T15:46:43.582Z"
   },
   {
    "duration": 116087,
    "start_time": "2025-03-07T15:58:39.505Z"
   },
   {
    "duration": 98,
    "start_time": "2025-03-07T16:00:35.595Z"
   },
   {
    "duration": 86,
    "start_time": "2025-03-07T16:00:35.695Z"
   },
   {
    "duration": 196798,
    "start_time": "2025-03-07T16:00:35.785Z"
   },
   {
    "duration": 39087,
    "start_time": "2025-03-07T16:03:52.585Z"
   },
   {
    "duration": 400,
    "start_time": "2025-03-07T16:04:31.675Z"
   },
   {
    "duration": 6,
    "start_time": "2025-03-07T16:04:32.077Z"
   },
   {
    "duration": 7,
    "start_time": "2025-03-07T16:04:32.085Z"
   },
   {
    "duration": 13,
    "start_time": "2025-03-07T16:04:32.095Z"
   },
   {
    "duration": 0,
    "start_time": "2025-03-07T16:04:32.110Z"
   },
   {
    "duration": 0,
    "start_time": "2025-03-07T16:04:32.112Z"
   },
   {
    "duration": 0,
    "start_time": "2025-03-07T16:04:32.113Z"
   },
   {
    "duration": 12,
    "start_time": "2025-03-07T16:06:52.302Z"
   },
   {
    "duration": 11,
    "start_time": "2025-03-07T16:07:23.722Z"
   },
   {
    "duration": 16,
    "start_time": "2025-03-07T16:07:29.637Z"
   },
   {
    "duration": 14,
    "start_time": "2025-03-07T16:08:58.707Z"
   },
   {
    "duration": 433965,
    "start_time": "2025-03-07T16:10:42.912Z"
   },
   {
    "duration": 147,
    "start_time": "2025-03-07T16:17:56.880Z"
   },
   {
    "duration": 6242,
    "start_time": "2025-03-07T16:19:01.457Z"
   },
   {
    "duration": 1528,
    "start_time": "2025-03-07T16:19:07.701Z"
   },
   {
    "duration": 3,
    "start_time": "2025-03-07T16:19:09.231Z"
   },
   {
    "duration": 1031,
    "start_time": "2025-03-07T16:19:09.237Z"
   },
   {
    "duration": 5,
    "start_time": "2025-03-07T16:19:10.272Z"
   },
   {
    "duration": 1122,
    "start_time": "2025-03-07T16:19:10.280Z"
   },
   {
    "duration": 55,
    "start_time": "2025-03-07T16:19:11.404Z"
   },
   {
    "duration": 322,
    "start_time": "2025-03-07T16:19:11.472Z"
   },
   {
    "duration": 625,
    "start_time": "2025-03-07T16:19:11.795Z"
   },
   {
    "duration": 9183,
    "start_time": "2025-03-07T16:19:12.423Z"
   },
   {
    "duration": 38,
    "start_time": "2025-03-07T16:19:21.608Z"
   },
   {
    "duration": 101,
    "start_time": "2025-03-07T16:19:21.648Z"
   },
   {
    "duration": 6,
    "start_time": "2025-03-07T16:19:21.751Z"
   },
   {
    "duration": 694,
    "start_time": "2025-03-07T16:19:21.759Z"
   },
   {
    "duration": 130,
    "start_time": "2025-03-07T16:19:22.455Z"
   },
   {
    "duration": 35,
    "start_time": "2025-03-07T16:19:22.587Z"
   },
   {
    "duration": 50,
    "start_time": "2025-03-07T16:19:22.624Z"
   },
   {
    "duration": 124,
    "start_time": "2025-03-07T16:19:22.676Z"
   },
   {
    "duration": 976,
    "start_time": "2025-03-07T16:19:22.802Z"
   },
   {
    "duration": 5,
    "start_time": "2025-03-07T16:19:23.780Z"
   },
   {
    "duration": 6177,
    "start_time": "2025-03-07T16:19:23.786Z"
   },
   {
    "duration": 109,
    "start_time": "2025-03-07T16:19:29.965Z"
   },
   {
    "duration": 31,
    "start_time": "2025-03-07T16:19:30.076Z"
   },
   {
    "duration": 151,
    "start_time": "2025-03-07T16:19:30.108Z"
   },
   {
    "duration": 83,
    "start_time": "2025-03-07T16:19:30.261Z"
   },
   {
    "duration": 212,
    "start_time": "2025-03-07T16:19:30.346Z"
   },
   {
    "duration": 29,
    "start_time": "2025-03-07T16:19:30.559Z"
   },
   {
    "duration": 18,
    "start_time": "2025-03-07T16:19:30.592Z"
   },
   {
    "duration": 37734,
    "start_time": "2025-03-07T16:19:30.611Z"
   },
   {
    "duration": 3,
    "start_time": "2025-03-07T16:20:08.347Z"
   },
   {
    "duration": 155,
    "start_time": "2025-03-07T16:20:08.353Z"
   },
   {
    "duration": 454,
    "start_time": "2025-03-07T16:20:08.510Z"
   },
   {
    "duration": 3242,
    "start_time": "2025-03-07T16:20:08.971Z"
   },
   {
    "duration": 1337,
    "start_time": "2025-03-07T16:20:12.215Z"
   },
   {
    "duration": 1023,
    "start_time": "2025-03-07T16:20:13.554Z"
   },
   {
    "duration": 68,
    "start_time": "2025-03-07T16:20:14.579Z"
   },
   {
    "duration": 431731,
    "start_time": "2025-03-07T16:20:14.649Z"
   },
   {
    "duration": 112892,
    "start_time": "2025-03-07T16:27:26.383Z"
   },
   {
    "duration": 98922,
    "start_time": "2025-03-07T16:29:19.277Z"
   },
   {
    "duration": 6115,
    "start_time": "2025-03-07T16:33:10.683Z"
   },
   {
    "duration": 1592,
    "start_time": "2025-03-07T16:33:16.801Z"
   },
   {
    "duration": 4,
    "start_time": "2025-03-07T16:33:18.394Z"
   },
   {
    "duration": 1205,
    "start_time": "2025-03-07T16:33:18.399Z"
   },
   {
    "duration": 4,
    "start_time": "2025-03-07T16:33:19.607Z"
   },
   {
    "duration": 1097,
    "start_time": "2025-03-07T16:33:19.613Z"
   },
   {
    "duration": 60,
    "start_time": "2025-03-07T16:33:20.712Z"
   },
   {
    "duration": 324,
    "start_time": "2025-03-07T16:33:20.774Z"
   },
   {
    "duration": 656,
    "start_time": "2025-03-07T16:33:21.100Z"
   },
   {
    "duration": 9379,
    "start_time": "2025-03-07T16:33:21.758Z"
   },
   {
    "duration": 53,
    "start_time": "2025-03-07T16:33:31.140Z"
   },
   {
    "duration": 102,
    "start_time": "2025-03-07T16:33:31.195Z"
   },
   {
    "duration": 6,
    "start_time": "2025-03-07T16:33:31.299Z"
   },
   {
    "duration": 709,
    "start_time": "2025-03-07T16:33:31.310Z"
   },
   {
    "duration": 131,
    "start_time": "2025-03-07T16:33:32.021Z"
   },
   {
    "duration": 45,
    "start_time": "2025-03-07T16:33:32.155Z"
   },
   {
    "duration": 34,
    "start_time": "2025-03-07T16:33:32.202Z"
   },
   {
    "duration": 144,
    "start_time": "2025-03-07T16:33:32.238Z"
   },
   {
    "duration": 976,
    "start_time": "2025-03-07T16:33:32.384Z"
   },
   {
    "duration": 10,
    "start_time": "2025-03-07T16:33:33.362Z"
   },
   {
    "duration": 6086,
    "start_time": "2025-03-07T16:33:33.374Z"
   },
   {
    "duration": 122,
    "start_time": "2025-03-07T16:33:39.461Z"
   },
   {
    "duration": 32,
    "start_time": "2025-03-07T16:33:39.586Z"
   },
   {
    "duration": 147,
    "start_time": "2025-03-07T16:33:39.619Z"
   },
   {
    "duration": 74,
    "start_time": "2025-03-07T16:33:39.772Z"
   },
   {
    "duration": 212,
    "start_time": "2025-03-07T16:33:39.848Z"
   },
   {
    "duration": 23,
    "start_time": "2025-03-07T16:33:40.061Z"
   },
   {
    "duration": 13,
    "start_time": "2025-03-07T16:33:40.086Z"
   },
   {
    "duration": 37576,
    "start_time": "2025-03-07T16:33:40.101Z"
   },
   {
    "duration": 2,
    "start_time": "2025-03-07T16:34:17.679Z"
   },
   {
    "duration": 165,
    "start_time": "2025-03-07T16:34:17.683Z"
   },
   {
    "duration": 481,
    "start_time": "2025-03-07T16:34:17.850Z"
   },
   {
    "duration": 2763,
    "start_time": "2025-03-07T16:34:18.333Z"
   },
   {
    "duration": 1361,
    "start_time": "2025-03-07T16:34:21.098Z"
   },
   {
    "duration": 1056,
    "start_time": "2025-03-07T16:34:22.461Z"
   },
   {
    "duration": 74,
    "start_time": "2025-03-07T16:34:23.518Z"
   },
   {
    "duration": 6158,
    "start_time": "2025-03-07T16:37:32.948Z"
   },
   {
    "duration": 1460,
    "start_time": "2025-03-07T16:37:39.109Z"
   },
   {
    "duration": 3,
    "start_time": "2025-03-07T16:37:40.572Z"
   },
   {
    "duration": 1055,
    "start_time": "2025-03-07T16:37:40.577Z"
   },
   {
    "duration": 4,
    "start_time": "2025-03-07T16:37:41.635Z"
   },
   {
    "duration": 1054,
    "start_time": "2025-03-07T16:37:41.640Z"
   },
   {
    "duration": 63,
    "start_time": "2025-03-07T16:37:42.697Z"
   },
   {
    "duration": 402,
    "start_time": "2025-03-07T16:37:42.762Z"
   },
   {
    "duration": 632,
    "start_time": "2025-03-07T16:37:43.166Z"
   },
   {
    "duration": 9498,
    "start_time": "2025-03-07T16:37:43.800Z"
   },
   {
    "duration": 36,
    "start_time": "2025-03-07T16:37:53.300Z"
   },
   {
    "duration": 104,
    "start_time": "2025-03-07T16:37:53.338Z"
   },
   {
    "duration": 7,
    "start_time": "2025-03-07T16:37:53.445Z"
   },
   {
    "duration": 735,
    "start_time": "2025-03-07T16:37:53.455Z"
   },
   {
    "duration": 143,
    "start_time": "2025-03-07T16:37:54.191Z"
   },
   {
    "duration": 52,
    "start_time": "2025-03-07T16:37:54.336Z"
   },
   {
    "duration": 44,
    "start_time": "2025-03-07T16:37:54.390Z"
   },
   {
    "duration": 170,
    "start_time": "2025-03-07T16:37:54.436Z"
   },
   {
    "duration": 989,
    "start_time": "2025-03-07T16:37:54.608Z"
   },
   {
    "duration": 5,
    "start_time": "2025-03-07T16:37:55.599Z"
   },
   {
    "duration": 6268,
    "start_time": "2025-03-07T16:37:55.606Z"
   },
   {
    "duration": 121,
    "start_time": "2025-03-07T16:38:01.876Z"
   },
   {
    "duration": 32,
    "start_time": "2025-03-07T16:38:01.999Z"
   },
   {
    "duration": 157,
    "start_time": "2025-03-07T16:38:02.033Z"
   },
   {
    "duration": 85,
    "start_time": "2025-03-07T16:38:02.192Z"
   },
   {
    "duration": 225,
    "start_time": "2025-03-07T16:38:02.279Z"
   },
   {
    "duration": 20,
    "start_time": "2025-03-07T16:38:02.507Z"
   },
   {
    "duration": 14,
    "start_time": "2025-03-07T16:38:02.529Z"
   },
   {
    "duration": 37900,
    "start_time": "2025-03-07T16:38:02.545Z"
   },
   {
    "duration": 3,
    "start_time": "2025-03-07T16:38:40.447Z"
   },
   {
    "duration": 172,
    "start_time": "2025-03-07T16:38:40.452Z"
   },
   {
    "duration": 467,
    "start_time": "2025-03-07T16:38:40.626Z"
   },
   {
    "duration": 3034,
    "start_time": "2025-03-07T16:38:41.095Z"
   },
   {
    "duration": 1380,
    "start_time": "2025-03-07T16:38:44.130Z"
   },
   {
    "duration": 1079,
    "start_time": "2025-03-07T16:38:45.511Z"
   },
   {
    "duration": 63,
    "start_time": "2025-03-07T16:38:46.592Z"
   },
   {
    "duration": 445921,
    "start_time": "2025-03-07T16:38:46.658Z"
   },
   {
    "duration": 113940,
    "start_time": "2025-03-07T16:46:12.581Z"
   },
   {
    "duration": 98301,
    "start_time": "2025-03-07T16:48:06.523Z"
   },
   {
    "duration": 142095,
    "start_time": "2025-03-07T16:52:04.678Z"
   },
   {
    "duration": 68,
    "start_time": "2025-03-07T16:54:26.775Z"
   },
   {
    "duration": 12,
    "start_time": "2025-03-07T16:54:26.873Z"
   },
   {
    "duration": 252,
    "start_time": "2025-03-07T16:54:26.888Z"
   },
   {
    "duration": 21,
    "start_time": "2025-03-07T16:54:27.142Z"
   },
   {
    "duration": 25185,
    "start_time": "2025-03-07T17:12:04.392Z"
   },
   {
    "duration": 499,
    "start_time": "2025-03-07T17:12:29.579Z"
   },
   {
    "duration": 1307,
    "start_time": "2025-03-07T17:12:30.079Z"
   },
   {
    "duration": 69,
    "start_time": "2025-03-07T17:14:01.663Z"
   },
   {
    "duration": 6306,
    "start_time": "2025-03-07T17:14:25.919Z"
   },
   {
    "duration": 1442,
    "start_time": "2025-03-07T17:14:32.228Z"
   },
   {
    "duration": 4,
    "start_time": "2025-03-07T17:14:33.671Z"
   },
   {
    "duration": 1045,
    "start_time": "2025-03-07T17:14:33.677Z"
   },
   {
    "duration": 4,
    "start_time": "2025-03-07T17:14:34.724Z"
   },
   {
    "duration": 1102,
    "start_time": "2025-03-07T17:14:34.730Z"
   },
   {
    "duration": 67,
    "start_time": "2025-03-07T17:14:35.834Z"
   },
   {
    "duration": 324,
    "start_time": "2025-03-07T17:14:35.903Z"
   },
   {
    "duration": 627,
    "start_time": "2025-03-07T17:14:36.229Z"
   },
   {
    "duration": 9275,
    "start_time": "2025-03-07T17:14:36.858Z"
   },
   {
    "duration": 50,
    "start_time": "2025-03-07T17:14:46.136Z"
   },
   {
    "duration": 91,
    "start_time": "2025-03-07T17:14:46.188Z"
   },
   {
    "duration": 8,
    "start_time": "2025-03-07T17:14:46.281Z"
   },
   {
    "duration": 702,
    "start_time": "2025-03-07T17:14:46.294Z"
   },
   {
    "duration": 133,
    "start_time": "2025-03-07T17:14:46.999Z"
   },
   {
    "duration": 49,
    "start_time": "2025-03-07T17:14:47.134Z"
   },
   {
    "duration": 42,
    "start_time": "2025-03-07T17:14:47.185Z"
   },
   {
    "duration": 122,
    "start_time": "2025-03-07T17:14:47.229Z"
   },
   {
    "duration": 992,
    "start_time": "2025-03-07T17:14:47.353Z"
   },
   {
    "duration": 6,
    "start_time": "2025-03-07T17:14:48.347Z"
   },
   {
    "duration": 6117,
    "start_time": "2025-03-07T17:14:48.355Z"
   },
   {
    "duration": 117,
    "start_time": "2025-03-07T17:14:54.474Z"
   },
   {
    "duration": 31,
    "start_time": "2025-03-07T17:14:54.592Z"
   },
   {
    "duration": 155,
    "start_time": "2025-03-07T17:14:54.625Z"
   },
   {
    "duration": 72,
    "start_time": "2025-03-07T17:14:54.782Z"
   },
   {
    "duration": 231,
    "start_time": "2025-03-07T17:14:54.856Z"
   },
   {
    "duration": 18,
    "start_time": "2025-03-07T17:14:55.089Z"
   },
   {
    "duration": 12,
    "start_time": "2025-03-07T17:14:55.109Z"
   },
   {
    "duration": 38818,
    "start_time": "2025-03-07T17:14:55.123Z"
   },
   {
    "duration": 3,
    "start_time": "2025-03-07T17:15:33.943Z"
   },
   {
    "duration": 172,
    "start_time": "2025-03-07T17:15:33.948Z"
   },
   {
    "duration": 461,
    "start_time": "2025-03-07T17:15:34.122Z"
   },
   {
    "duration": 3523,
    "start_time": "2025-03-07T17:15:34.585Z"
   },
   {
    "duration": 1367,
    "start_time": "2025-03-07T17:15:38.110Z"
   },
   {
    "duration": 1040,
    "start_time": "2025-03-07T17:15:39.478Z"
   },
   {
    "duration": 74,
    "start_time": "2025-03-07T17:15:40.520Z"
   },
   {
    "duration": 433685,
    "start_time": "2025-03-07T17:15:40.596Z"
   },
   {
    "duration": 111949,
    "start_time": "2025-03-07T17:22:54.372Z"
   },
   {
    "duration": 98179,
    "start_time": "2025-03-07T17:24:46.323Z"
   },
   {
    "duration": 107271,
    "start_time": "2025-03-07T17:26:24.504Z"
   },
   {
    "duration": 151190,
    "start_time": "2025-03-07T17:28:11.783Z"
   },
   {
    "duration": 59,
    "start_time": "2025-03-07T17:30:42.975Z"
   },
   {
    "duration": 37,
    "start_time": "2025-03-07T17:30:43.036Z"
   },
   {
    "duration": 23910,
    "start_time": "2025-03-07T17:30:43.075Z"
   },
   {
    "duration": 585,
    "start_time": "2025-03-07T17:31:06.988Z"
   },
   {
    "duration": 1268,
    "start_time": "2025-03-07T17:31:07.576Z"
   },
   {
    "duration": 9188,
    "start_time": "2025-03-08T17:19:22.934Z"
   },
   {
    "duration": 1490,
    "start_time": "2025-03-08T17:19:32.124Z"
   },
   {
    "duration": 3,
    "start_time": "2025-03-08T17:19:33.615Z"
   },
   {
    "duration": 869,
    "start_time": "2025-03-08T17:19:33.620Z"
   },
   {
    "duration": 4,
    "start_time": "2025-03-08T17:19:34.491Z"
   },
   {
    "duration": 877,
    "start_time": "2025-03-08T17:19:34.497Z"
   },
   {
    "duration": 50,
    "start_time": "2025-03-08T17:19:35.376Z"
   },
   {
    "duration": 277,
    "start_time": "2025-03-08T17:19:35.428Z"
   },
   {
    "duration": 519,
    "start_time": "2025-03-08T17:19:35.706Z"
   },
   {
    "duration": 7945,
    "start_time": "2025-03-08T17:19:36.228Z"
   },
   {
    "duration": 38,
    "start_time": "2025-03-08T17:19:44.174Z"
   },
   {
    "duration": 65,
    "start_time": "2025-03-08T17:19:44.214Z"
   },
   {
    "duration": 5,
    "start_time": "2025-03-08T17:19:44.280Z"
   },
   {
    "duration": 560,
    "start_time": "2025-03-08T17:19:44.286Z"
   },
   {
    "duration": 110,
    "start_time": "2025-03-08T17:19:44.847Z"
   },
   {
    "duration": 31,
    "start_time": "2025-03-08T17:19:44.959Z"
   },
   {
    "duration": 40,
    "start_time": "2025-03-08T17:19:44.991Z"
   },
   {
    "duration": 126,
    "start_time": "2025-03-08T17:19:45.032Z"
   },
   {
    "duration": 823,
    "start_time": "2025-03-08T17:19:45.159Z"
   },
   {
    "duration": 4,
    "start_time": "2025-03-08T17:19:45.984Z"
   },
   {
    "duration": 5356,
    "start_time": "2025-03-08T17:19:45.990Z"
   },
   {
    "duration": 88,
    "start_time": "2025-03-08T17:19:51.348Z"
   },
   {
    "duration": 26,
    "start_time": "2025-03-08T17:19:51.437Z"
   },
   {
    "duration": 127,
    "start_time": "2025-03-08T17:19:51.465Z"
   },
   {
    "duration": 68,
    "start_time": "2025-03-08T17:19:51.593Z"
   },
   {
    "duration": 184,
    "start_time": "2025-03-08T17:19:51.663Z"
   },
   {
    "duration": 17,
    "start_time": "2025-03-08T17:19:51.848Z"
   },
   {
    "duration": 47,
    "start_time": "2025-03-08T17:19:51.868Z"
   },
   {
    "duration": 31935,
    "start_time": "2025-03-08T17:19:51.916Z"
   },
   {
    "duration": 3,
    "start_time": "2025-03-08T17:20:23.853Z"
   },
   {
    "duration": 136,
    "start_time": "2025-03-08T17:20:23.857Z"
   },
   {
    "duration": 371,
    "start_time": "2025-03-08T17:20:23.995Z"
   },
   {
    "duration": 130,
    "start_time": "2025-03-08T17:20:24.367Z"
   },
   {
    "duration": 1440,
    "start_time": "2025-03-08T17:20:24.500Z"
   },
   {
    "duration": 126,
    "start_time": "2025-03-08T17:20:25.942Z"
   },
   {
    "duration": 1180,
    "start_time": "2025-03-08T17:20:26.070Z"
   },
   {
    "duration": 270957,
    "start_time": "2025-03-08T17:20:27.251Z"
   },
   {
    "duration": 91779,
    "start_time": "2025-03-08T17:24:58.210Z"
   },
   {
    "duration": 4,
    "start_time": "2025-03-08T17:26:29.991Z"
   },
   {
    "duration": 17204,
    "start_time": "2025-03-08T17:26:30.006Z"
   },
   {
    "duration": 4,
    "start_time": "2025-03-08T17:26:47.212Z"
   },
   {
    "duration": 101,
    "start_time": "2025-03-08T17:26:47.218Z"
   },
   {
    "duration": 10,
    "start_time": "2025-03-08T17:26:47.321Z"
   },
   {
    "duration": 16880,
    "start_time": "2025-03-08T17:26:47.332Z"
   },
   {
    "duration": 402,
    "start_time": "2025-03-08T17:27:04.214Z"
   },
   {
    "duration": 1163,
    "start_time": "2025-03-08T17:27:04.618Z"
   },
   {
    "duration": 5182,
    "start_time": "2025-03-08T17:28:56.304Z"
   },
   {
    "duration": 1316,
    "start_time": "2025-03-08T17:29:01.489Z"
   },
   {
    "duration": 2,
    "start_time": "2025-03-08T17:29:02.807Z"
   },
   {
    "duration": 849,
    "start_time": "2025-03-08T17:29:02.811Z"
   },
   {
    "duration": 3,
    "start_time": "2025-03-08T17:29:03.662Z"
   },
   {
    "duration": 868,
    "start_time": "2025-03-08T17:29:03.667Z"
   },
   {
    "duration": 50,
    "start_time": "2025-03-08T17:29:04.537Z"
   },
   {
    "duration": 284,
    "start_time": "2025-03-08T17:29:04.589Z"
   },
   {
    "duration": 537,
    "start_time": "2025-03-08T17:29:04.875Z"
   },
   {
    "duration": 7981,
    "start_time": "2025-03-08T17:29:05.414Z"
   },
   {
    "duration": 35,
    "start_time": "2025-03-08T17:29:13.397Z"
   },
   {
    "duration": 77,
    "start_time": "2025-03-08T17:29:13.434Z"
   },
   {
    "duration": 5,
    "start_time": "2025-03-08T17:29:13.513Z"
   },
   {
    "duration": 560,
    "start_time": "2025-03-08T17:29:13.521Z"
   },
   {
    "duration": 104,
    "start_time": "2025-03-08T17:29:14.083Z"
   },
   {
    "duration": 38,
    "start_time": "2025-03-08T17:29:14.189Z"
   },
   {
    "duration": 40,
    "start_time": "2025-03-08T17:29:14.229Z"
   },
   {
    "duration": 96,
    "start_time": "2025-03-08T17:29:14.271Z"
   },
   {
    "duration": 803,
    "start_time": "2025-03-08T17:29:14.369Z"
   },
   {
    "duration": 4,
    "start_time": "2025-03-08T17:29:15.173Z"
   },
   {
    "duration": 5319,
    "start_time": "2025-03-08T17:29:15.179Z"
   },
   {
    "duration": 96,
    "start_time": "2025-03-08T17:29:20.500Z"
   },
   {
    "duration": 34,
    "start_time": "2025-03-08T17:29:20.597Z"
   },
   {
    "duration": 128,
    "start_time": "2025-03-08T17:29:20.632Z"
   },
   {
    "duration": 72,
    "start_time": "2025-03-08T17:29:20.762Z"
   },
   {
    "duration": 198,
    "start_time": "2025-03-08T17:29:20.836Z"
   },
   {
    "duration": 16,
    "start_time": "2025-03-08T17:29:21.036Z"
   },
   {
    "duration": 11,
    "start_time": "2025-03-08T17:29:21.054Z"
   },
   {
    "duration": 32077,
    "start_time": "2025-03-08T17:29:21.066Z"
   },
   {
    "duration": 2,
    "start_time": "2025-03-08T17:29:53.145Z"
   },
   {
    "duration": 150,
    "start_time": "2025-03-08T17:29:53.149Z"
   },
   {
    "duration": 368,
    "start_time": "2025-03-08T17:29:53.300Z"
   },
   {
    "duration": 133,
    "start_time": "2025-03-08T17:29:53.669Z"
   },
   {
    "duration": 1408,
    "start_time": "2025-03-08T17:29:53.804Z"
   },
   {
    "duration": 122,
    "start_time": "2025-03-08T17:29:55.213Z"
   },
   {
    "duration": 1114,
    "start_time": "2025-03-08T17:29:55.337Z"
   },
   {
    "duration": 274459,
    "start_time": "2025-03-08T17:29:56.452Z"
   },
   {
    "duration": 93583,
    "start_time": "2025-03-08T17:34:30.913Z"
   },
   {
    "duration": 11,
    "start_time": "2025-03-08T17:36:04.498Z"
   },
   {
    "duration": 20307,
    "start_time": "2025-03-08T17:36:04.510Z"
   },
   {
    "duration": 5,
    "start_time": "2025-03-08T17:36:24.908Z"
   },
   {
    "duration": 78,
    "start_time": "2025-03-08T17:36:24.915Z"
   },
   {
    "duration": 10,
    "start_time": "2025-03-08T17:36:24.995Z"
   },
   {
    "duration": 21604,
    "start_time": "2025-03-08T17:36:25.008Z"
   },
   {
    "duration": 399,
    "start_time": "2025-03-08T17:36:46.614Z"
   },
   {
    "duration": 1126,
    "start_time": "2025-03-08T17:36:47.015Z"
   },
   {
    "duration": 10609,
    "start_time": "2025-03-09T16:04:08.469Z"
   },
   {
    "duration": 1603,
    "start_time": "2025-03-09T16:04:19.081Z"
   },
   {
    "duration": 3,
    "start_time": "2025-03-09T16:04:20.686Z"
   },
   {
    "duration": 914,
    "start_time": "2025-03-09T16:04:20.692Z"
   },
   {
    "duration": 9,
    "start_time": "2025-03-09T16:04:21.607Z"
   },
   {
    "duration": 913,
    "start_time": "2025-03-09T16:04:21.618Z"
   },
   {
    "duration": 52,
    "start_time": "2025-03-09T16:04:22.533Z"
   },
   {
    "duration": 331,
    "start_time": "2025-03-09T16:04:22.587Z"
   },
   {
    "duration": 719,
    "start_time": "2025-03-09T16:04:22.921Z"
   },
   {
    "duration": 8757,
    "start_time": "2025-03-09T16:04:23.643Z"
   },
   {
    "duration": 49,
    "start_time": "2025-03-09T16:04:32.401Z"
   },
   {
    "duration": 179,
    "start_time": "2025-03-09T16:04:32.452Z"
   },
   {
    "duration": 6,
    "start_time": "2025-03-09T16:04:32.633Z"
   },
   {
    "duration": 693,
    "start_time": "2025-03-09T16:04:32.640Z"
   },
   {
    "duration": 116,
    "start_time": "2025-03-09T16:04:33.335Z"
   },
   {
    "duration": 32,
    "start_time": "2025-03-09T16:04:33.453Z"
   },
   {
    "duration": 50,
    "start_time": "2025-03-09T16:04:33.487Z"
   },
   {
    "duration": 139,
    "start_time": "2025-03-09T16:04:33.538Z"
   },
   {
    "duration": 926,
    "start_time": "2025-03-09T16:04:33.679Z"
   },
   {
    "duration": 10,
    "start_time": "2025-03-09T16:04:34.606Z"
   },
   {
    "duration": 6082,
    "start_time": "2025-03-09T16:04:34.619Z"
   },
   {
    "duration": 118,
    "start_time": "2025-03-09T16:04:40.702Z"
   },
   {
    "duration": 29,
    "start_time": "2025-03-09T16:04:40.822Z"
   },
   {
    "duration": 149,
    "start_time": "2025-03-09T16:04:40.854Z"
   },
   {
    "duration": 67,
    "start_time": "2025-03-09T16:04:41.005Z"
   },
   {
    "duration": 217,
    "start_time": "2025-03-09T16:04:41.074Z"
   },
   {
    "duration": 25,
    "start_time": "2025-03-09T16:04:41.293Z"
   },
   {
    "duration": 12,
    "start_time": "2025-03-09T16:04:41.322Z"
   },
   {
    "duration": 34198,
    "start_time": "2025-03-09T16:04:41.336Z"
   },
   {
    "duration": 2,
    "start_time": "2025-03-09T16:05:15.536Z"
   },
   {
    "duration": 136,
    "start_time": "2025-03-09T16:05:15.540Z"
   },
   {
    "duration": 379,
    "start_time": "2025-03-09T16:05:15.678Z"
   },
   {
    "duration": 144,
    "start_time": "2025-03-09T16:05:16.059Z"
   },
   {
    "duration": 10,
    "start_time": "2025-03-09T16:05:16.204Z"
   },
   {
    "duration": 130,
    "start_time": "2025-03-09T16:05:16.215Z"
   },
   {
    "duration": 0,
    "start_time": "2025-03-09T16:05:16.346Z"
   },
   {
    "duration": 0,
    "start_time": "2025-03-09T16:05:16.347Z"
   },
   {
    "duration": 0,
    "start_time": "2025-03-09T16:05:16.348Z"
   },
   {
    "duration": 0,
    "start_time": "2025-03-09T16:05:16.350Z"
   },
   {
    "duration": 0,
    "start_time": "2025-03-09T16:05:16.351Z"
   },
   {
    "duration": 1,
    "start_time": "2025-03-09T16:05:16.351Z"
   },
   {
    "duration": 0,
    "start_time": "2025-03-09T16:05:16.353Z"
   },
   {
    "duration": 0,
    "start_time": "2025-03-09T16:05:16.354Z"
   },
   {
    "duration": 0,
    "start_time": "2025-03-09T16:05:16.355Z"
   },
   {
    "duration": 0,
    "start_time": "2025-03-09T16:05:16.356Z"
   },
   {
    "duration": 0,
    "start_time": "2025-03-09T16:05:16.357Z"
   },
   {
    "duration": 0,
    "start_time": "2025-03-09T16:05:16.357Z"
   },
   {
    "duration": 30,
    "start_time": "2025-03-09T16:11:34.854Z"
   },
   {
    "duration": 7165,
    "start_time": "2025-03-09T16:11:49.407Z"
   },
   {
    "duration": 52,
    "start_time": "2025-03-09T16:13:35.317Z"
   },
   {
    "duration": 5720,
    "start_time": "2025-03-09T16:13:43.681Z"
   },
   {
    "duration": 2188,
    "start_time": "2025-03-09T16:13:49.403Z"
   },
   {
    "duration": 3,
    "start_time": "2025-03-09T16:13:51.593Z"
   },
   {
    "duration": 896,
    "start_time": "2025-03-09T16:13:51.598Z"
   },
   {
    "duration": 4,
    "start_time": "2025-03-09T16:13:52.495Z"
   },
   {
    "duration": 969,
    "start_time": "2025-03-09T16:13:52.501Z"
   },
   {
    "duration": 58,
    "start_time": "2025-03-09T16:13:53.471Z"
   },
   {
    "duration": 299,
    "start_time": "2025-03-09T16:13:53.531Z"
   },
   {
    "duration": 551,
    "start_time": "2025-03-09T16:13:53.832Z"
   },
   {
    "duration": 8457,
    "start_time": "2025-03-09T16:13:54.385Z"
   },
   {
    "duration": 31,
    "start_time": "2025-03-09T16:14:02.844Z"
   },
   {
    "duration": 90,
    "start_time": "2025-03-09T16:14:02.876Z"
   },
   {
    "duration": 5,
    "start_time": "2025-03-09T16:14:02.968Z"
   },
   {
    "duration": 630,
    "start_time": "2025-03-09T16:14:02.975Z"
   },
   {
    "duration": 119,
    "start_time": "2025-03-09T16:14:03.607Z"
   },
   {
    "duration": 33,
    "start_time": "2025-03-09T16:14:03.727Z"
   },
   {
    "duration": 145,
    "start_time": "2025-03-09T16:14:03.762Z"
   },
   {
    "duration": 109,
    "start_time": "2025-03-09T16:14:03.909Z"
   },
   {
    "duration": 920,
    "start_time": "2025-03-09T16:14:04.020Z"
   },
   {
    "duration": 5,
    "start_time": "2025-03-09T16:14:04.941Z"
   },
   {
    "duration": 5750,
    "start_time": "2025-03-09T16:14:04.948Z"
   },
   {
    "duration": 108,
    "start_time": "2025-03-09T16:14:10.699Z"
   },
   {
    "duration": 32,
    "start_time": "2025-03-09T16:14:10.808Z"
   },
   {
    "duration": 148,
    "start_time": "2025-03-09T16:14:10.841Z"
   },
   {
    "duration": 71,
    "start_time": "2025-03-09T16:14:10.991Z"
   },
   {
    "duration": 202,
    "start_time": "2025-03-09T16:14:11.064Z"
   },
   {
    "duration": 17,
    "start_time": "2025-03-09T16:14:11.268Z"
   },
   {
    "duration": 11,
    "start_time": "2025-03-09T16:14:11.289Z"
   },
   {
    "duration": 35368,
    "start_time": "2025-03-09T16:14:11.302Z"
   },
   {
    "duration": 3,
    "start_time": "2025-03-09T16:14:46.672Z"
   },
   {
    "duration": 142,
    "start_time": "2025-03-09T16:14:46.676Z"
   },
   {
    "duration": 380,
    "start_time": "2025-03-09T16:14:46.819Z"
   },
   {
    "duration": 135,
    "start_time": "2025-03-09T16:14:47.201Z"
   },
   {
    "duration": 3,
    "start_time": "2025-03-09T16:14:47.337Z"
   },
   {
    "duration": 5630,
    "start_time": "2025-03-09T16:18:37.298Z"
   },
   {
    "duration": 1983,
    "start_time": "2025-03-09T16:18:42.930Z"
   },
   {
    "duration": 3,
    "start_time": "2025-03-09T16:18:44.915Z"
   },
   {
    "duration": 883,
    "start_time": "2025-03-09T16:18:44.920Z"
   },
   {
    "duration": 9,
    "start_time": "2025-03-09T16:18:45.804Z"
   },
   {
    "duration": 935,
    "start_time": "2025-03-09T16:18:45.815Z"
   },
   {
    "duration": 40,
    "start_time": "2025-03-09T16:18:46.751Z"
   },
   {
    "duration": 288,
    "start_time": "2025-03-09T16:18:46.793Z"
   },
   {
    "duration": 572,
    "start_time": "2025-03-09T16:18:47.083Z"
   },
   {
    "duration": 8358,
    "start_time": "2025-03-09T16:18:47.658Z"
   },
   {
    "duration": 29,
    "start_time": "2025-03-09T16:18:56.018Z"
   },
   {
    "duration": 85,
    "start_time": "2025-03-09T16:18:56.049Z"
   },
   {
    "duration": 5,
    "start_time": "2025-03-09T16:18:56.136Z"
   },
   {
    "duration": 628,
    "start_time": "2025-03-09T16:18:56.142Z"
   },
   {
    "duration": 114,
    "start_time": "2025-03-09T16:18:56.772Z"
   },
   {
    "duration": 39,
    "start_time": "2025-03-09T16:18:56.888Z"
   },
   {
    "duration": 34,
    "start_time": "2025-03-09T16:18:56.928Z"
   },
   {
    "duration": 115,
    "start_time": "2025-03-09T16:18:56.964Z"
   },
   {
    "duration": 886,
    "start_time": "2025-03-09T16:18:57.080Z"
   },
   {
    "duration": 5,
    "start_time": "2025-03-09T16:18:57.968Z"
   },
   {
    "duration": 5910,
    "start_time": "2025-03-09T16:18:57.974Z"
   },
   {
    "duration": 101,
    "start_time": "2025-03-09T16:19:03.886Z"
   },
   {
    "duration": 40,
    "start_time": "2025-03-09T16:19:03.989Z"
   },
   {
    "duration": 128,
    "start_time": "2025-03-09T16:19:04.031Z"
   },
   {
    "duration": 74,
    "start_time": "2025-03-09T16:19:04.161Z"
   },
   {
    "duration": 202,
    "start_time": "2025-03-09T16:19:04.237Z"
   },
   {
    "duration": 17,
    "start_time": "2025-03-09T16:19:04.441Z"
   },
   {
    "duration": 47,
    "start_time": "2025-03-09T16:19:04.461Z"
   },
   {
    "duration": 34856,
    "start_time": "2025-03-09T16:19:04.510Z"
   },
   {
    "duration": 2,
    "start_time": "2025-03-09T16:19:39.368Z"
   },
   {
    "duration": 147,
    "start_time": "2025-03-09T16:19:39.372Z"
   },
   {
    "duration": 386,
    "start_time": "2025-03-09T16:19:39.520Z"
   },
   {
    "duration": 142,
    "start_time": "2025-03-09T16:19:39.907Z"
   },
   {
    "duration": 3,
    "start_time": "2025-03-09T16:19:40.050Z"
   },
   {
    "duration": 56,
    "start_time": "2025-03-09T16:20:36.420Z"
   },
   {
    "duration": 5806,
    "start_time": "2025-03-09T16:20:42.061Z"
   },
   {
    "duration": 1918,
    "start_time": "2025-03-09T16:20:47.869Z"
   },
   {
    "duration": 3,
    "start_time": "2025-03-09T16:20:49.788Z"
   },
   {
    "duration": 987,
    "start_time": "2025-03-09T16:20:49.793Z"
   },
   {
    "duration": 4,
    "start_time": "2025-03-09T16:20:50.782Z"
   },
   {
    "duration": 915,
    "start_time": "2025-03-09T16:20:50.787Z"
   },
   {
    "duration": 61,
    "start_time": "2025-03-09T16:20:51.704Z"
   },
   {
    "duration": 432,
    "start_time": "2025-03-09T16:20:51.767Z"
   },
   {
    "duration": 578,
    "start_time": "2025-03-09T16:20:52.201Z"
   },
   {
    "duration": 8609,
    "start_time": "2025-03-09T16:20:52.781Z"
   },
   {
    "duration": 41,
    "start_time": "2025-03-09T16:21:01.391Z"
   },
   {
    "duration": 81,
    "start_time": "2025-03-09T16:21:01.433Z"
   },
   {
    "duration": 5,
    "start_time": "2025-03-09T16:21:01.516Z"
   },
   {
    "duration": 629,
    "start_time": "2025-03-09T16:21:01.524Z"
   },
   {
    "duration": 122,
    "start_time": "2025-03-09T16:21:02.155Z"
   },
   {
    "duration": 47,
    "start_time": "2025-03-09T16:21:02.279Z"
   },
   {
    "duration": 125,
    "start_time": "2025-03-09T16:21:02.328Z"
   },
   {
    "duration": 106,
    "start_time": "2025-03-09T16:21:02.455Z"
   },
   {
    "duration": 939,
    "start_time": "2025-03-09T16:21:02.563Z"
   },
   {
    "duration": 10,
    "start_time": "2025-03-09T16:21:03.504Z"
   },
   {
    "duration": 5897,
    "start_time": "2025-03-09T16:21:03.516Z"
   },
   {
    "duration": 111,
    "start_time": "2025-03-09T16:21:09.416Z"
   },
   {
    "duration": 29,
    "start_time": "2025-03-09T16:21:09.529Z"
   },
   {
    "duration": 156,
    "start_time": "2025-03-09T16:21:09.560Z"
   },
   {
    "duration": 68,
    "start_time": "2025-03-09T16:21:09.718Z"
   },
   {
    "duration": 223,
    "start_time": "2025-03-09T16:21:09.788Z"
   },
   {
    "duration": 19,
    "start_time": "2025-03-09T16:21:10.013Z"
   },
   {
    "duration": 13,
    "start_time": "2025-03-09T16:21:10.034Z"
   },
   {
    "duration": 34106,
    "start_time": "2025-03-09T16:21:10.048Z"
   },
   {
    "duration": 2,
    "start_time": "2025-03-09T16:21:44.156Z"
   },
   {
    "duration": 158,
    "start_time": "2025-03-09T16:21:44.160Z"
   },
   {
    "duration": 420,
    "start_time": "2025-03-09T16:21:44.320Z"
   },
   {
    "duration": 140,
    "start_time": "2025-03-09T16:21:44.742Z"
   },
   {
    "duration": 5630,
    "start_time": "2025-03-09T17:31:06.075Z"
   },
   {
    "duration": 2021,
    "start_time": "2025-03-09T17:31:11.708Z"
   },
   {
    "duration": 3,
    "start_time": "2025-03-09T17:31:13.730Z"
   },
   {
    "duration": 826,
    "start_time": "2025-03-09T17:31:13.735Z"
   },
   {
    "duration": 4,
    "start_time": "2025-03-09T17:31:14.563Z"
   },
   {
    "duration": 962,
    "start_time": "2025-03-09T17:31:14.569Z"
   },
   {
    "duration": 50,
    "start_time": "2025-03-09T17:31:15.533Z"
   },
   {
    "duration": 295,
    "start_time": "2025-03-09T17:31:15.584Z"
   },
   {
    "duration": 569,
    "start_time": "2025-03-09T17:31:15.881Z"
   },
   {
    "duration": 8505,
    "start_time": "2025-03-09T17:31:16.452Z"
   },
   {
    "duration": 32,
    "start_time": "2025-03-09T17:31:24.959Z"
   },
   {
    "duration": 85,
    "start_time": "2025-03-09T17:31:24.993Z"
   },
   {
    "duration": 6,
    "start_time": "2025-03-09T17:31:25.080Z"
   },
   {
    "duration": 624,
    "start_time": "2025-03-09T17:31:25.090Z"
   },
   {
    "duration": 124,
    "start_time": "2025-03-09T17:31:25.716Z"
   },
   {
    "duration": 34,
    "start_time": "2025-03-09T17:31:25.841Z"
   },
   {
    "duration": 52,
    "start_time": "2025-03-09T17:31:25.877Z"
   },
   {
    "duration": 117,
    "start_time": "2025-03-09T17:31:25.930Z"
   },
   {
    "duration": 946,
    "start_time": "2025-03-09T17:31:26.048Z"
   },
   {
    "duration": 7,
    "start_time": "2025-03-09T17:31:26.996Z"
   },
   {
    "duration": 6006,
    "start_time": "2025-03-09T17:31:27.004Z"
   },
   {
    "duration": 114,
    "start_time": "2025-03-09T17:31:33.014Z"
   },
   {
    "duration": 29,
    "start_time": "2025-03-09T17:31:33.130Z"
   },
   {
    "duration": 148,
    "start_time": "2025-03-09T17:31:33.160Z"
   },
   {
    "duration": 65,
    "start_time": "2025-03-09T17:31:33.313Z"
   },
   {
    "duration": 195,
    "start_time": "2025-03-09T17:31:33.380Z"
   },
   {
    "duration": 16,
    "start_time": "2025-03-09T17:31:33.577Z"
   },
   {
    "duration": 25,
    "start_time": "2025-03-09T17:31:33.594Z"
   },
   {
    "duration": 34934,
    "start_time": "2025-03-09T17:31:33.620Z"
   },
   {
    "duration": 2,
    "start_time": "2025-03-09T17:32:08.556Z"
   },
   {
    "duration": 134,
    "start_time": "2025-03-09T17:32:08.560Z"
   },
   {
    "duration": 397,
    "start_time": "2025-03-09T17:32:08.695Z"
   },
   {
    "duration": 148,
    "start_time": "2025-03-09T17:32:09.094Z"
   },
   {
    "duration": 155,
    "start_time": "2025-03-09T17:32:09.244Z"
   },
   {
    "duration": 0,
    "start_time": "2025-03-09T17:32:09.401Z"
   },
   {
    "duration": 0,
    "start_time": "2025-03-09T17:32:09.402Z"
   },
   {
    "duration": 0,
    "start_time": "2025-03-09T17:32:09.403Z"
   },
   {
    "duration": 0,
    "start_time": "2025-03-09T17:32:09.404Z"
   },
   {
    "duration": 0,
    "start_time": "2025-03-09T17:32:09.405Z"
   },
   {
    "duration": 0,
    "start_time": "2025-03-09T17:32:09.415Z"
   },
   {
    "duration": 0,
    "start_time": "2025-03-09T17:32:09.416Z"
   },
   {
    "duration": 0,
    "start_time": "2025-03-09T17:32:09.417Z"
   },
   {
    "duration": 0,
    "start_time": "2025-03-09T17:32:09.417Z"
   },
   {
    "duration": 0,
    "start_time": "2025-03-09T17:32:09.418Z"
   },
   {
    "duration": 0,
    "start_time": "2025-03-09T17:32:09.419Z"
   },
   {
    "duration": 0,
    "start_time": "2025-03-09T17:32:09.419Z"
   },
   {
    "duration": 54,
    "start_time": "2025-03-09T17:34:53.849Z"
   },
   {
    "duration": 5579,
    "start_time": "2025-03-09T17:35:03.184Z"
   },
   {
    "duration": 2261,
    "start_time": "2025-03-09T17:35:08.766Z"
   },
   {
    "duration": 3,
    "start_time": "2025-03-09T17:35:11.029Z"
   },
   {
    "duration": 891,
    "start_time": "2025-03-09T17:35:11.033Z"
   },
   {
    "duration": 4,
    "start_time": "2025-03-09T17:35:11.926Z"
   },
   {
    "duration": 924,
    "start_time": "2025-03-09T17:35:11.931Z"
   },
   {
    "duration": 60,
    "start_time": "2025-03-09T17:35:12.856Z"
   },
   {
    "duration": 314,
    "start_time": "2025-03-09T17:35:12.918Z"
   },
   {
    "duration": 565,
    "start_time": "2025-03-09T17:35:13.233Z"
   },
   {
    "duration": 8419,
    "start_time": "2025-03-09T17:35:13.800Z"
   },
   {
    "duration": 31,
    "start_time": "2025-03-09T17:35:22.220Z"
   },
   {
    "duration": 88,
    "start_time": "2025-03-09T17:35:22.252Z"
   },
   {
    "duration": 6,
    "start_time": "2025-03-09T17:35:22.342Z"
   },
   {
    "duration": 589,
    "start_time": "2025-03-09T17:35:22.351Z"
   },
   {
    "duration": 114,
    "start_time": "2025-03-09T17:35:22.942Z"
   },
   {
    "duration": 38,
    "start_time": "2025-03-09T17:35:23.058Z"
   },
   {
    "duration": 54,
    "start_time": "2025-03-09T17:35:23.097Z"
   },
   {
    "duration": 128,
    "start_time": "2025-03-09T17:35:23.153Z"
   },
   {
    "duration": 884,
    "start_time": "2025-03-09T17:35:23.283Z"
   },
   {
    "duration": 6,
    "start_time": "2025-03-09T17:35:24.168Z"
   },
   {
    "duration": 5775,
    "start_time": "2025-03-09T17:35:24.176Z"
   },
   {
    "duration": 108,
    "start_time": "2025-03-09T17:35:29.954Z"
   },
   {
    "duration": 28,
    "start_time": "2025-03-09T17:35:30.063Z"
   },
   {
    "duration": 219,
    "start_time": "2025-03-09T17:35:30.093Z"
   },
   {
    "duration": 69,
    "start_time": "2025-03-09T17:35:30.313Z"
   },
   {
    "duration": 209,
    "start_time": "2025-03-09T17:35:30.384Z"
   },
   {
    "duration": 29,
    "start_time": "2025-03-09T17:35:30.595Z"
   },
   {
    "duration": 44,
    "start_time": "2025-03-09T17:35:30.626Z"
   },
   {
    "duration": 33554,
    "start_time": "2025-03-09T17:35:30.672Z"
   },
   {
    "duration": 3,
    "start_time": "2025-03-09T17:36:04.228Z"
   },
   {
    "duration": 150,
    "start_time": "2025-03-09T17:36:04.232Z"
   },
   {
    "duration": 388,
    "start_time": "2025-03-09T17:36:04.384Z"
   },
   {
    "duration": 143,
    "start_time": "2025-03-09T17:36:04.774Z"
   },
   {
    "duration": 7203,
    "start_time": "2025-03-09T17:36:04.918Z"
   },
   {
    "duration": 0,
    "start_time": "2025-03-09T17:36:12.123Z"
   },
   {
    "duration": 0,
    "start_time": "2025-03-09T17:36:12.124Z"
   },
   {
    "duration": 0,
    "start_time": "2025-03-09T17:36:12.125Z"
   },
   {
    "duration": 0,
    "start_time": "2025-03-09T17:36:12.127Z"
   },
   {
    "duration": 0,
    "start_time": "2025-03-09T17:36:12.128Z"
   },
   {
    "duration": 0,
    "start_time": "2025-03-09T17:36:12.129Z"
   },
   {
    "duration": 0,
    "start_time": "2025-03-09T17:36:12.131Z"
   },
   {
    "duration": 0,
    "start_time": "2025-03-09T17:36:12.132Z"
   },
   {
    "duration": 0,
    "start_time": "2025-03-09T17:36:12.134Z"
   },
   {
    "duration": 0,
    "start_time": "2025-03-09T17:36:12.135Z"
   },
   {
    "duration": 0,
    "start_time": "2025-03-09T17:36:12.136Z"
   },
   {
    "duration": 0,
    "start_time": "2025-03-09T17:36:12.137Z"
   },
   {
    "duration": 6933,
    "start_time": "2025-03-09T17:41:04.124Z"
   },
   {
    "duration": 2422,
    "start_time": "2025-03-09T17:41:11.060Z"
   },
   {
    "duration": 3,
    "start_time": "2025-03-09T17:41:13.484Z"
   },
   {
    "duration": 1065,
    "start_time": "2025-03-09T17:41:13.490Z"
   },
   {
    "duration": 5,
    "start_time": "2025-03-09T17:41:14.557Z"
   },
   {
    "duration": 1109,
    "start_time": "2025-03-09T17:41:14.564Z"
   },
   {
    "duration": 61,
    "start_time": "2025-03-09T17:41:15.675Z"
   },
   {
    "duration": 339,
    "start_time": "2025-03-09T17:41:15.737Z"
   },
   {
    "duration": 743,
    "start_time": "2025-03-09T17:41:16.078Z"
   },
   {
    "duration": 6528,
    "start_time": "2025-03-09T17:41:31.456Z"
   },
   {
    "duration": 1400,
    "start_time": "2025-03-09T17:41:37.986Z"
   },
   {
    "duration": 3,
    "start_time": "2025-03-09T17:41:39.388Z"
   },
   {
    "duration": 1029,
    "start_time": "2025-03-09T17:41:39.394Z"
   },
   {
    "duration": 6,
    "start_time": "2025-03-09T17:41:40.425Z"
   },
   {
    "duration": 1007,
    "start_time": "2025-03-09T17:41:40.435Z"
   },
   {
    "duration": 51,
    "start_time": "2025-03-09T17:41:41.444Z"
   },
   {
    "duration": 333,
    "start_time": "2025-03-09T17:41:41.497Z"
   },
   {
    "duration": 622,
    "start_time": "2025-03-09T17:41:41.832Z"
   },
   {
    "duration": 9679,
    "start_time": "2025-03-09T17:41:42.457Z"
   },
   {
    "duration": 32,
    "start_time": "2025-03-09T17:41:52.140Z"
   },
   {
    "duration": 96,
    "start_time": "2025-03-09T17:41:52.174Z"
   },
   {
    "duration": 6,
    "start_time": "2025-03-09T17:41:52.273Z"
   },
   {
    "duration": 684,
    "start_time": "2025-03-09T17:41:52.281Z"
   },
   {
    "duration": 139,
    "start_time": "2025-03-09T17:41:52.967Z"
   },
   {
    "duration": 62,
    "start_time": "2025-03-09T17:41:53.109Z"
   },
   {
    "duration": 45,
    "start_time": "2025-03-09T17:41:53.173Z"
   },
   {
    "duration": 138,
    "start_time": "2025-03-09T17:41:53.219Z"
   },
   {
    "duration": 1000,
    "start_time": "2025-03-09T17:41:53.358Z"
   },
   {
    "duration": 5,
    "start_time": "2025-03-09T17:41:54.359Z"
   },
   {
    "duration": 6471,
    "start_time": "2025-03-09T17:41:54.366Z"
   },
   {
    "duration": 111,
    "start_time": "2025-03-09T17:42:00.839Z"
   },
   {
    "duration": 28,
    "start_time": "2025-03-09T17:42:00.951Z"
   },
   {
    "duration": 160,
    "start_time": "2025-03-09T17:42:00.980Z"
   },
   {
    "duration": 74,
    "start_time": "2025-03-09T17:42:01.142Z"
   },
   {
    "duration": 218,
    "start_time": "2025-03-09T17:42:01.220Z"
   },
   {
    "duration": 17,
    "start_time": "2025-03-09T17:42:01.440Z"
   },
   {
    "duration": 11,
    "start_time": "2025-03-09T17:42:01.460Z"
   },
   {
    "duration": 38469,
    "start_time": "2025-03-09T17:42:01.473Z"
   },
   {
    "duration": 3,
    "start_time": "2025-03-09T17:42:39.944Z"
   },
   {
    "duration": 149,
    "start_time": "2025-03-09T17:42:39.948Z"
   },
   {
    "duration": 432,
    "start_time": "2025-03-09T17:42:40.099Z"
   },
   {
    "duration": 125,
    "start_time": "2025-03-09T17:42:40.538Z"
   },
   {
    "duration": 6122,
    "start_time": "2025-03-09T17:46:40.903Z"
   },
   {
    "duration": 2257,
    "start_time": "2025-03-09T17:46:47.029Z"
   },
   {
    "duration": 5,
    "start_time": "2025-03-09T17:46:49.289Z"
   },
   {
    "duration": 988,
    "start_time": "2025-03-09T17:46:49.296Z"
   },
   {
    "duration": 4,
    "start_time": "2025-03-09T17:46:50.286Z"
   },
   {
    "duration": 996,
    "start_time": "2025-03-09T17:46:50.292Z"
   },
   {
    "duration": 68,
    "start_time": "2025-03-09T17:46:51.290Z"
   },
   {
    "duration": 339,
    "start_time": "2025-03-09T17:46:51.360Z"
   },
   {
    "duration": 645,
    "start_time": "2025-03-09T17:46:51.700Z"
   },
   {
    "duration": 9480,
    "start_time": "2025-03-09T17:46:52.349Z"
   },
   {
    "duration": 34,
    "start_time": "2025-03-09T17:47:01.831Z"
   },
   {
    "duration": 110,
    "start_time": "2025-03-09T17:47:01.866Z"
   },
   {
    "duration": 6,
    "start_time": "2025-03-09T17:47:01.978Z"
   },
   {
    "duration": 697,
    "start_time": "2025-03-09T17:47:01.986Z"
   },
   {
    "duration": 147,
    "start_time": "2025-03-09T17:47:02.685Z"
   },
   {
    "duration": 35,
    "start_time": "2025-03-09T17:47:02.834Z"
   },
   {
    "duration": 50,
    "start_time": "2025-03-09T17:47:02.871Z"
   },
   {
    "duration": 129,
    "start_time": "2025-03-09T17:47:02.932Z"
   },
   {
    "duration": 1058,
    "start_time": "2025-03-09T17:47:03.062Z"
   },
   {
    "duration": 9,
    "start_time": "2025-03-09T17:47:04.122Z"
   },
   {
    "duration": 6520,
    "start_time": "2025-03-09T17:47:04.133Z"
   },
   {
    "duration": 109,
    "start_time": "2025-03-09T17:47:10.655Z"
   },
   {
    "duration": 28,
    "start_time": "2025-03-09T17:47:10.766Z"
   },
   {
    "duration": 153,
    "start_time": "2025-03-09T17:47:10.796Z"
   },
   {
    "duration": 86,
    "start_time": "2025-03-09T17:47:10.950Z"
   },
   {
    "duration": 200,
    "start_time": "2025-03-09T17:47:11.040Z"
   },
   {
    "duration": 17,
    "start_time": "2025-03-09T17:47:11.242Z"
   },
   {
    "duration": 12,
    "start_time": "2025-03-09T17:47:11.262Z"
   },
   {
    "duration": 37914,
    "start_time": "2025-03-09T17:47:11.276Z"
   },
   {
    "duration": 2,
    "start_time": "2025-03-09T17:47:49.193Z"
   },
   {
    "duration": 159,
    "start_time": "2025-03-09T17:47:49.197Z"
   },
   {
    "duration": 424,
    "start_time": "2025-03-09T17:47:49.358Z"
   },
   {
    "duration": 136,
    "start_time": "2025-03-09T17:47:49.783Z"
   },
   {
    "duration": 3705,
    "start_time": "2025-03-09T17:47:49.926Z"
   },
   {
    "duration": 0,
    "start_time": "2025-03-09T17:47:53.634Z"
   },
   {
    "duration": 0,
    "start_time": "2025-03-09T17:47:53.639Z"
   },
   {
    "duration": 0,
    "start_time": "2025-03-09T17:47:53.641Z"
   },
   {
    "duration": 0,
    "start_time": "2025-03-09T17:47:53.643Z"
   },
   {
    "duration": 0,
    "start_time": "2025-03-09T17:47:53.644Z"
   },
   {
    "duration": 0,
    "start_time": "2025-03-09T17:47:53.646Z"
   },
   {
    "duration": 0,
    "start_time": "2025-03-09T17:47:53.647Z"
   },
   {
    "duration": 0,
    "start_time": "2025-03-09T17:47:53.648Z"
   },
   {
    "duration": 0,
    "start_time": "2025-03-09T17:47:53.649Z"
   },
   {
    "duration": 0,
    "start_time": "2025-03-09T17:47:53.650Z"
   },
   {
    "duration": 0,
    "start_time": "2025-03-09T17:47:53.651Z"
   },
   {
    "duration": 0,
    "start_time": "2025-03-09T17:47:53.652Z"
   },
   {
    "duration": 34,
    "start_time": "2025-03-09T17:50:27.054Z"
   },
   {
    "duration": 3647,
    "start_time": "2025-03-09T17:53:18.997Z"
   },
   {
    "duration": 139,
    "start_time": "2025-03-09T17:53:59.275Z"
   },
   {
    "duration": 6253,
    "start_time": "2025-03-09T18:01:50.007Z"
   },
   {
    "duration": 2287,
    "start_time": "2025-03-09T18:01:56.263Z"
   },
   {
    "duration": 3,
    "start_time": "2025-03-09T18:01:58.552Z"
   },
   {
    "duration": 1013,
    "start_time": "2025-03-09T18:01:58.558Z"
   },
   {
    "duration": 3,
    "start_time": "2025-03-09T18:01:59.573Z"
   },
   {
    "duration": 1122,
    "start_time": "2025-03-09T18:01:59.579Z"
   },
   {
    "duration": 66,
    "start_time": "2025-03-09T18:02:00.703Z"
   },
   {
    "duration": 446,
    "start_time": "2025-03-09T18:02:00.771Z"
   },
   {
    "duration": 705,
    "start_time": "2025-03-09T18:02:01.220Z"
   },
   {
    "duration": 10408,
    "start_time": "2025-03-09T18:02:01.928Z"
   },
   {
    "duration": 37,
    "start_time": "2025-03-09T18:02:12.337Z"
   },
   {
    "duration": 94,
    "start_time": "2025-03-09T18:02:12.376Z"
   },
   {
    "duration": 5,
    "start_time": "2025-03-09T18:02:12.471Z"
   },
   {
    "duration": 714,
    "start_time": "2025-03-09T18:02:12.478Z"
   },
   {
    "duration": 157,
    "start_time": "2025-03-09T18:02:13.194Z"
   },
   {
    "duration": 32,
    "start_time": "2025-03-09T18:02:13.353Z"
   },
   {
    "duration": 59,
    "start_time": "2025-03-09T18:02:13.386Z"
   },
   {
    "duration": 127,
    "start_time": "2025-03-09T18:02:13.446Z"
   },
   {
    "duration": 1068,
    "start_time": "2025-03-09T18:02:13.574Z"
   },
   {
    "duration": 5,
    "start_time": "2025-03-09T18:02:14.646Z"
   },
   {
    "duration": 7076,
    "start_time": "2025-03-09T18:02:14.653Z"
   },
   {
    "duration": 119,
    "start_time": "2025-03-09T18:02:21.734Z"
   },
   {
    "duration": 27,
    "start_time": "2025-03-09T18:02:21.854Z"
   },
   {
    "duration": 193,
    "start_time": "2025-03-09T18:02:21.882Z"
   },
   {
    "duration": 80,
    "start_time": "2025-03-09T18:02:22.077Z"
   },
   {
    "duration": 217,
    "start_time": "2025-03-09T18:02:22.159Z"
   },
   {
    "duration": 16,
    "start_time": "2025-03-09T18:02:22.378Z"
   },
   {
    "duration": 70,
    "start_time": "2025-03-09T18:02:22.398Z"
   },
   {
    "duration": 41100,
    "start_time": "2025-03-09T18:02:22.470Z"
   },
   {
    "duration": 3,
    "start_time": "2025-03-09T18:03:03.573Z"
   },
   {
    "duration": 229,
    "start_time": "2025-03-09T18:03:03.578Z"
   },
   {
    "duration": 535,
    "start_time": "2025-03-09T18:03:03.809Z"
   },
   {
    "duration": 4,
    "start_time": "2025-03-09T18:03:04.346Z"
   },
   {
    "duration": 6,
    "start_time": "2025-03-09T18:03:04.351Z"
   },
   {
    "duration": 6515,
    "start_time": "2025-03-09T18:04:42.244Z"
   },
   {
    "duration": 2392,
    "start_time": "2025-03-09T18:04:48.762Z"
   },
   {
    "duration": 3,
    "start_time": "2025-03-09T18:04:51.156Z"
   },
   {
    "duration": 994,
    "start_time": "2025-03-09T18:04:51.162Z"
   },
   {
    "duration": 4,
    "start_time": "2025-03-09T18:04:52.158Z"
   },
   {
    "duration": 1262,
    "start_time": "2025-03-09T18:04:52.164Z"
   },
   {
    "duration": 53,
    "start_time": "2025-03-09T18:04:53.432Z"
   },
   {
    "duration": 340,
    "start_time": "2025-03-09T18:04:53.487Z"
   },
   {
    "duration": 705,
    "start_time": "2025-03-09T18:04:53.830Z"
   },
   {
    "duration": 10225,
    "start_time": "2025-03-09T18:04:54.538Z"
   },
   {
    "duration": 32,
    "start_time": "2025-03-09T18:05:04.765Z"
   },
   {
    "duration": 123,
    "start_time": "2025-03-09T18:05:04.799Z"
   },
   {
    "duration": 7,
    "start_time": "2025-03-09T18:05:04.923Z"
   },
   {
    "duration": 734,
    "start_time": "2025-03-09T18:05:04.932Z"
   },
   {
    "duration": 137,
    "start_time": "2025-03-09T18:05:05.668Z"
   },
   {
    "duration": 49,
    "start_time": "2025-03-09T18:05:05.806Z"
   },
   {
    "duration": 30,
    "start_time": "2025-03-09T18:05:05.857Z"
   },
   {
    "duration": 190,
    "start_time": "2025-03-09T18:05:05.889Z"
   },
   {
    "duration": 1084,
    "start_time": "2025-03-09T18:05:06.080Z"
   },
   {
    "duration": 5,
    "start_time": "2025-03-09T18:05:07.166Z"
   },
   {
    "duration": 6773,
    "start_time": "2025-03-09T18:05:07.173Z"
   },
   {
    "duration": 104,
    "start_time": "2025-03-09T18:05:13.950Z"
   },
   {
    "duration": 28,
    "start_time": "2025-03-09T18:05:14.055Z"
   },
   {
    "duration": 160,
    "start_time": "2025-03-09T18:05:14.084Z"
   },
   {
    "duration": 98,
    "start_time": "2025-03-09T18:05:14.247Z"
   },
   {
    "duration": 198,
    "start_time": "2025-03-09T18:05:14.346Z"
   },
   {
    "duration": 18,
    "start_time": "2025-03-09T18:05:14.548Z"
   },
   {
    "duration": 12,
    "start_time": "2025-03-09T18:05:14.569Z"
   },
   {
    "duration": 38754,
    "start_time": "2025-03-09T18:05:14.583Z"
   },
   {
    "duration": 3,
    "start_time": "2025-03-09T18:05:53.339Z"
   },
   {
    "duration": 137,
    "start_time": "2025-03-09T18:05:53.344Z"
   },
   {
    "duration": 405,
    "start_time": "2025-03-09T18:05:53.483Z"
   },
   {
    "duration": 2,
    "start_time": "2025-03-09T18:05:53.890Z"
   },
   {
    "duration": 25,
    "start_time": "2025-03-09T18:05:53.893Z"
   },
   {
    "duration": 165,
    "start_time": "2025-03-09T18:05:53.920Z"
   },
   {
    "duration": 0,
    "start_time": "2025-03-09T18:05:54.087Z"
   },
   {
    "duration": 0,
    "start_time": "2025-03-09T18:05:54.089Z"
   },
   {
    "duration": 0,
    "start_time": "2025-03-09T18:05:54.091Z"
   },
   {
    "duration": 0,
    "start_time": "2025-03-09T18:05:54.092Z"
   },
   {
    "duration": 0,
    "start_time": "2025-03-09T18:05:54.119Z"
   },
   {
    "duration": 0,
    "start_time": "2025-03-09T18:05:54.121Z"
   },
   {
    "duration": 0,
    "start_time": "2025-03-09T18:05:54.123Z"
   },
   {
    "duration": 0,
    "start_time": "2025-03-09T18:05:54.126Z"
   },
   {
    "duration": 0,
    "start_time": "2025-03-09T18:05:54.128Z"
   },
   {
    "duration": 0,
    "start_time": "2025-03-09T18:05:54.130Z"
   },
   {
    "duration": 0,
    "start_time": "2025-03-09T18:05:54.131Z"
   },
   {
    "duration": 0,
    "start_time": "2025-03-09T18:05:54.133Z"
   },
   {
    "duration": 1214,
    "start_time": "2025-03-09T18:06:27.645Z"
   },
   {
    "duration": 1562,
    "start_time": "2025-03-09T18:07:02.959Z"
   },
   {
    "duration": 1478,
    "start_time": "2025-03-09T18:08:54.531Z"
   },
   {
    "duration": 6176,
    "start_time": "2025-03-09T18:09:22.676Z"
   },
   {
    "duration": 1415,
    "start_time": "2025-03-09T18:09:28.854Z"
   },
   {
    "duration": 4,
    "start_time": "2025-03-09T18:09:30.271Z"
   },
   {
    "duration": 1009,
    "start_time": "2025-03-09T18:09:30.277Z"
   },
   {
    "duration": 3,
    "start_time": "2025-03-09T18:09:31.289Z"
   },
   {
    "duration": 1030,
    "start_time": "2025-03-09T18:09:31.294Z"
   },
   {
    "duration": 54,
    "start_time": "2025-03-09T18:09:32.330Z"
   },
   {
    "duration": 332,
    "start_time": "2025-03-09T18:09:32.386Z"
   },
   {
    "duration": 719,
    "start_time": "2025-03-09T18:09:32.726Z"
   },
   {
    "duration": 9614,
    "start_time": "2025-03-09T18:09:33.447Z"
   },
   {
    "duration": 41,
    "start_time": "2025-03-09T18:09:43.063Z"
   },
   {
    "duration": 97,
    "start_time": "2025-03-09T18:09:43.120Z"
   },
   {
    "duration": 17,
    "start_time": "2025-03-09T18:09:43.220Z"
   },
   {
    "duration": 614,
    "start_time": "2025-03-09T18:09:43.241Z"
   },
   {
    "duration": 128,
    "start_time": "2025-03-09T18:09:43.856Z"
   },
   {
    "duration": 56,
    "start_time": "2025-03-09T18:09:43.986Z"
   },
   {
    "duration": 31,
    "start_time": "2025-03-09T18:09:44.044Z"
   },
   {
    "duration": 129,
    "start_time": "2025-03-09T18:09:44.076Z"
   },
   {
    "duration": 1035,
    "start_time": "2025-03-09T18:09:44.207Z"
   },
   {
    "duration": 5,
    "start_time": "2025-03-09T18:09:45.244Z"
   },
   {
    "duration": 6378,
    "start_time": "2025-03-09T18:09:45.250Z"
   },
   {
    "duration": 104,
    "start_time": "2025-03-09T18:09:51.630Z"
   },
   {
    "duration": 27,
    "start_time": "2025-03-09T18:09:51.736Z"
   },
   {
    "duration": 139,
    "start_time": "2025-03-09T18:09:51.765Z"
   },
   {
    "duration": 69,
    "start_time": "2025-03-09T18:09:51.906Z"
   },
   {
    "duration": 212,
    "start_time": "2025-03-09T18:09:51.976Z"
   },
   {
    "duration": 32,
    "start_time": "2025-03-09T18:09:52.189Z"
   },
   {
    "duration": 79,
    "start_time": "2025-03-09T18:09:52.223Z"
   },
   {
    "duration": 38219,
    "start_time": "2025-03-09T18:09:52.304Z"
   },
   {
    "duration": 11,
    "start_time": "2025-03-09T18:10:30.526Z"
   },
   {
    "duration": 152,
    "start_time": "2025-03-09T18:10:30.539Z"
   },
   {
    "duration": 450,
    "start_time": "2025-03-09T18:10:30.693Z"
   },
   {
    "duration": 3,
    "start_time": "2025-03-09T18:10:31.145Z"
   },
   {
    "duration": 7,
    "start_time": "2025-03-09T18:10:31.149Z"
   },
   {
    "duration": 1426,
    "start_time": "2025-03-09T18:10:31.157Z"
   },
   {
    "duration": 165,
    "start_time": "2025-03-09T18:10:32.585Z"
   },
   {
    "duration": 1514,
    "start_time": "2025-03-09T18:10:32.752Z"
   },
   {
    "duration": 6020,
    "start_time": "2025-03-09T18:17:50.540Z"
   },
   {
    "duration": 1420,
    "start_time": "2025-03-09T18:17:56.564Z"
   },
   {
    "duration": 3,
    "start_time": "2025-03-09T18:17:57.986Z"
   },
   {
    "duration": 1242,
    "start_time": "2025-03-09T18:17:57.990Z"
   },
   {
    "duration": 6,
    "start_time": "2025-03-09T18:17:59.236Z"
   },
   {
    "duration": 1048,
    "start_time": "2025-03-09T18:17:59.244Z"
   },
   {
    "duration": 64,
    "start_time": "2025-03-09T18:18:00.294Z"
   },
   {
    "duration": 332,
    "start_time": "2025-03-09T18:18:00.360Z"
   },
   {
    "duration": 662,
    "start_time": "2025-03-09T18:18:00.694Z"
   },
   {
    "duration": 10226,
    "start_time": "2025-03-09T18:18:01.358Z"
   },
   {
    "duration": 49,
    "start_time": "2025-03-09T18:18:11.585Z"
   },
   {
    "duration": 86,
    "start_time": "2025-03-09T18:18:11.640Z"
   },
   {
    "duration": 12,
    "start_time": "2025-03-09T18:18:11.728Z"
   },
   {
    "duration": 692,
    "start_time": "2025-03-09T18:18:11.744Z"
   },
   {
    "duration": 129,
    "start_time": "2025-03-09T18:18:12.441Z"
   },
   {
    "duration": 52,
    "start_time": "2025-03-09T18:18:12.571Z"
   },
   {
    "duration": 43,
    "start_time": "2025-03-09T18:18:12.625Z"
   },
   {
    "duration": 126,
    "start_time": "2025-03-09T18:18:12.670Z"
   },
   {
    "duration": 1031,
    "start_time": "2025-03-09T18:18:12.798Z"
   },
   {
    "duration": 7,
    "start_time": "2025-03-09T18:18:13.831Z"
   },
   {
    "duration": 6397,
    "start_time": "2025-03-09T18:18:13.844Z"
   },
   {
    "duration": 111,
    "start_time": "2025-03-09T18:18:20.243Z"
   },
   {
    "duration": 31,
    "start_time": "2025-03-09T18:18:20.357Z"
   },
   {
    "duration": 158,
    "start_time": "2025-03-09T18:18:20.390Z"
   },
   {
    "duration": 93,
    "start_time": "2025-03-09T18:18:20.550Z"
   },
   {
    "duration": 223,
    "start_time": "2025-03-09T18:18:20.645Z"
   },
   {
    "duration": 19,
    "start_time": "2025-03-09T18:18:20.870Z"
   },
   {
    "duration": 73,
    "start_time": "2025-03-09T18:18:20.890Z"
   },
   {
    "duration": 38297,
    "start_time": "2025-03-09T18:18:20.965Z"
   },
   {
    "duration": 3,
    "start_time": "2025-03-09T18:18:59.264Z"
   },
   {
    "duration": 152,
    "start_time": "2025-03-09T18:18:59.268Z"
   },
   {
    "duration": 460,
    "start_time": "2025-03-09T18:18:59.422Z"
   },
   {
    "duration": 3,
    "start_time": "2025-03-09T18:18:59.884Z"
   },
   {
    "duration": 1465,
    "start_time": "2025-03-09T18:18:59.889Z"
   },
   {
    "duration": 154,
    "start_time": "2025-03-09T18:19:01.356Z"
   },
   {
    "duration": 1357,
    "start_time": "2025-03-09T18:19:01.514Z"
   },
   {
    "duration": 1093863,
    "start_time": "2025-03-09T18:19:02.873Z"
   },
   {
    "duration": 104209,
    "start_time": "2025-03-09T18:37:16.738Z"
   },
   {
    "duration": 5,
    "start_time": "2025-03-09T18:39:00.949Z"
   },
   {
    "duration": 46870,
    "start_time": "2025-03-09T18:39:00.955Z"
   },
   {
    "duration": 5,
    "start_time": "2025-03-09T18:39:47.913Z"
   },
   {
    "duration": 55,
    "start_time": "2025-03-09T18:39:47.920Z"
   },
   {
    "duration": 11,
    "start_time": "2025-03-09T18:39:47.977Z"
   },
   {
    "duration": 17333,
    "start_time": "2025-03-09T18:39:47.990Z"
   },
   {
    "duration": 495,
    "start_time": "2025-03-09T18:40:05.325Z"
   },
   {
    "duration": 1252,
    "start_time": "2025-03-09T18:40:05.821Z"
   },
   {
    "duration": 10458,
    "start_time": "2025-03-10T17:32:09.983Z"
   },
   {
    "duration": 2473,
    "start_time": "2025-03-10T17:33:05.653Z"
   },
   {
    "duration": 4,
    "start_time": "2025-03-10T17:33:09.887Z"
   },
   {
    "duration": 885,
    "start_time": "2025-03-10T17:33:10.312Z"
   },
   {
    "duration": 4,
    "start_time": "2025-03-10T17:33:11.203Z"
   },
   {
    "duration": 866,
    "start_time": "2025-03-10T17:33:13.563Z"
   },
   {
    "duration": 51,
    "start_time": "2025-03-10T17:33:17.769Z"
   },
   {
    "duration": 275,
    "start_time": "2025-03-10T17:33:18.223Z"
   },
   {
    "duration": 539,
    "start_time": "2025-03-10T17:33:18.608Z"
   },
   {
    "duration": 8487,
    "start_time": "2025-03-10T17:33:19.274Z"
   },
   {
    "duration": 42,
    "start_time": "2025-03-10T17:33:27.763Z"
   },
   {
    "duration": 69,
    "start_time": "2025-03-10T17:33:30.495Z"
   },
   {
    "duration": 5,
    "start_time": "2025-03-10T17:33:32.135Z"
   },
   {
    "duration": 589,
    "start_time": "2025-03-10T17:33:33.653Z"
   },
   {
    "duration": 111,
    "start_time": "2025-03-10T17:33:34.244Z"
   },
   {
    "duration": 35,
    "start_time": "2025-03-10T17:33:34.865Z"
   },
   {
    "duration": 30,
    "start_time": "2025-03-10T17:33:35.257Z"
   },
   {
    "duration": 110,
    "start_time": "2025-03-10T17:33:35.589Z"
   },
   {
    "duration": 893,
    "start_time": "2025-03-10T17:33:36.359Z"
   },
   {
    "duration": 5,
    "start_time": "2025-03-10T17:33:37.525Z"
   },
   {
    "duration": 5784,
    "start_time": "2025-03-10T17:33:37.781Z"
   },
   {
    "duration": 107,
    "start_time": "2025-03-10T17:33:43.567Z"
   },
   {
    "duration": 35,
    "start_time": "2025-03-10T17:33:43.675Z"
   },
   {
    "duration": 124,
    "start_time": "2025-03-10T17:33:43.713Z"
   },
   {
    "duration": 67,
    "start_time": "2025-03-10T17:33:43.839Z"
   },
   {
    "duration": 181,
    "start_time": "2025-03-10T17:33:50.438Z"
   },
   {
    "duration": 17,
    "start_time": "2025-03-10T17:33:51.400Z"
   },
   {
    "duration": 11,
    "start_time": "2025-03-10T17:33:52.070Z"
   },
   {
    "duration": 35250,
    "start_time": "2025-03-10T17:33:53.388Z"
   },
   {
    "duration": 2,
    "start_time": "2025-03-10T17:34:59.680Z"
   },
   {
    "duration": 139,
    "start_time": "2025-03-10T17:35:00.169Z"
   },
   {
    "duration": 385,
    "start_time": "2025-03-10T17:35:02.619Z"
   },
   {
    "duration": 2,
    "start_time": "2025-03-10T17:35:22.837Z"
   },
   {
    "duration": 141,
    "start_time": "2025-03-10T18:00:00.793Z"
   },
   {
    "duration": 509,
    "start_time": "2025-03-10T18:00:10.316Z"
   },
   {
    "duration": 4,
    "start_time": "2025-03-10T18:00:18.734Z"
   },
   {
    "duration": 794,
    "start_time": "2025-03-10T18:00:45.493Z"
   },
   {
    "duration": 20,
    "start_time": "2025-03-10T18:01:08.631Z"
   },
   {
    "duration": 62,
    "start_time": "2025-03-10T18:01:14.041Z"
   },
   {
    "duration": 34,
    "start_time": "2025-03-10T18:01:24.626Z"
   },
   {
    "duration": 4,
    "start_time": "2025-03-10T18:01:29.034Z"
   },
   {
    "duration": 7,
    "start_time": "2025-03-10T18:01:42.206Z"
   }
  ],
  "kernelspec": {
   "display_name": "Python [conda env:base] *",
   "language": "python",
   "name": "conda-base-py"
  },
  "language_info": {
   "codemirror_mode": {
    "name": "ipython",
    "version": 3
   },
   "file_extension": ".py",
   "mimetype": "text/x-python",
   "name": "python",
   "nbconvert_exporter": "python",
   "pygments_lexer": "ipython3",
   "version": "3.12.7"
  },
  "toc": {
   "base_numbering": 1,
   "nav_menu": {},
   "number_sections": true,
   "sideBar": true,
   "skip_h1_title": true,
   "title_cell": "Table of Contents",
   "title_sidebar": "Contents",
   "toc_cell": false,
   "toc_position": {},
   "toc_section_display": true,
   "toc_window_display": false
  }
 },
 "nbformat": 4,
 "nbformat_minor": 4
}
