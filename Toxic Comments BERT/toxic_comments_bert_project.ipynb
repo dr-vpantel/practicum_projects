{
 "cells": [
  {
   "cell_type": "markdown",
   "id": "8f195e1d-f33c-49d5-a62b-9877150febdf",
   "metadata": {
    "id": "8f195e1d-f33c-49d5-a62b-9877150febdf"
   },
   "source": [
    "# Проект для «Викишоп» c BERT"
   ]
  },
  {
   "cell_type": "markdown",
   "id": "736da53d-bb67-4027-855c-95d1c8871a41",
   "metadata": {
    "id": "736da53d-bb67-4027-855c-95d1c8871a41"
   },
   "source": [
    "Интернет-магазин «Викишоп» запускает новый сервис. Теперь пользователи могут редактировать и дополнять описания товаров, как в вики-сообществах. То есть клиенты предлагают свои правки и комментируют изменения других. Магазину нужен инструмент, который будет искать токсичные комментарии и отправлять их на модерацию.\n",
    "\n",
    "**Цель:** обучить модель классифицировать комментарии на позитивные и негативные. В нашем распоряжении набор данных с разметкой о токсичности правок.Построить модель со значением метрики качества F1 не меньше 0.75.\n",
    "\n",
    "**План работы:**\n",
    "1. Загрузить и подготовить данные.\n",
    "2. Обучить разные модели.\n",
    "3. Сделайть выводы.\n",
    "\n",
    "Данные находятся в файле `toxic_comments.csv`.\n",
    "Столбец `text` в нём содержит текст комментария, а `toxic` — целевой признак"
   ]
  },
  {
   "cell_type": "markdown",
   "id": "0a945eee-8ac6-4866-90ab-08d2a5c4404e",
   "metadata": {
    "id": "0a945eee-8ac6-4866-90ab-08d2a5c4404e"
   },
   "source": [
    "## Подготовка"
   ]
  },
  {
   "cell_type": "code",
   "execution_count": 1,
   "id": "f8a79ce6-64cf-4eda-98cb-d955a24461dd",
   "metadata": {
    "id": "f8a79ce6-64cf-4eda-98cb-d955a24461dd"
   },
   "outputs": [],
   "source": [
    "import warnings\n",
    "import re\n",
    "import numpy as np\n",
    "import pandas as pd\n",
    "import torch\n",
    "import matplotlib.pyplot as plt\n",
    "import seaborn as sns\n",
    "\n",
    "from tqdm import notebook\n",
    "from sklearn.linear_model import LogisticRegression\n",
    "from sklearn.ensemble import RandomForestClassifier, HistGradientBoostingClassifier\n",
    "from sklearn.model_selection import train_test_split, GridSearchCV\n",
    "from sklearn.metrics import f1_score, make_scorer\n",
    "from transformers import BertTokenizer, BertModel"
   ]
  },
  {
   "cell_type": "code",
   "execution_count": 2,
   "id": "57f22dfa-93c4-4ff7-a4c3-deefa33297f9",
   "metadata": {
    "id": "57f22dfa-93c4-4ff7-a4c3-deefa33297f9"
   },
   "outputs": [],
   "source": [
    "warnings.filterwarnings('ignore') # скроем лишние предупреждения"
   ]
  },
  {
   "cell_type": "code",
   "execution_count": 3,
   "id": "f2e47b21-d47b-4709-93ca-5ef066cd5c86",
   "metadata": {
    "colab": {
     "base_uri": "https://localhost:8080/",
     "height": 282
    },
    "id": "f2e47b21-d47b-4709-93ca-5ef066cd5c86",
    "outputId": "e2eb2db4-d089-4fb3-d5f6-8db274920c44"
   },
   "outputs": [],
   "source": [
    "df = pd.read_csv('toxic_comments.csv', index_col=[0])"
   ]
  },
  {
   "cell_type": "code",
   "execution_count": 4,
   "id": "e4318dd9-44a5-4471-be92-a570d2ac9fa0",
   "metadata": {
    "id": "e4318dd9-44a5-4471-be92-a570d2ac9fa0"
   },
   "outputs": [],
   "source": [
    "# функция для описания датасета\n",
    "def df_describe(df):\n",
    "    display(df.head(10))\n",
    "    print('Общая информация о полученном датафрейме:')\n",
    "    df.info()\n",
    "    print('Описание данных:')\n",
    "    display(df.describe())\n",
    "    print('Количество пустых значений:')\n",
    "    display(df.isna().sum())\n",
    "    print('Количество явных дубликатов:')\n",
    "    display(df.duplicated().sum())"
   ]
  },
  {
   "cell_type": "code",
   "execution_count": 5,
   "id": "a0eb87d1-569a-4e27-8a3a-c93696737102",
   "metadata": {
    "id": "a0eb87d1-569a-4e27-8a3a-c93696737102"
   },
   "outputs": [
    {
     "data": {
      "text/html": [
       "<div>\n",
       "<style scoped>\n",
       "    .dataframe tbody tr th:only-of-type {\n",
       "        vertical-align: middle;\n",
       "    }\n",
       "\n",
       "    .dataframe tbody tr th {\n",
       "        vertical-align: top;\n",
       "    }\n",
       "\n",
       "    .dataframe thead th {\n",
       "        text-align: right;\n",
       "    }\n",
       "</style>\n",
       "<table border=\"1\" class=\"dataframe\">\n",
       "  <thead>\n",
       "    <tr style=\"text-align: right;\">\n",
       "      <th></th>\n",
       "      <th>text</th>\n",
       "      <th>toxic</th>\n",
       "    </tr>\n",
       "  </thead>\n",
       "  <tbody>\n",
       "    <tr>\n",
       "      <th>0</th>\n",
       "      <td>Explanation\\nWhy the edits made under my usern...</td>\n",
       "      <td>0</td>\n",
       "    </tr>\n",
       "    <tr>\n",
       "      <th>1</th>\n",
       "      <td>D'aww! He matches this background colour I'm s...</td>\n",
       "      <td>0</td>\n",
       "    </tr>\n",
       "    <tr>\n",
       "      <th>2</th>\n",
       "      <td>Hey man, I'm really not trying to edit war. It...</td>\n",
       "      <td>0</td>\n",
       "    </tr>\n",
       "    <tr>\n",
       "      <th>3</th>\n",
       "      <td>\"\\nMore\\nI can't make any real suggestions on ...</td>\n",
       "      <td>0</td>\n",
       "    </tr>\n",
       "    <tr>\n",
       "      <th>4</th>\n",
       "      <td>You, sir, are my hero. Any chance you remember...</td>\n",
       "      <td>0</td>\n",
       "    </tr>\n",
       "    <tr>\n",
       "      <th>5</th>\n",
       "      <td>\"\\n\\nCongratulations from me as well, use the ...</td>\n",
       "      <td>0</td>\n",
       "    </tr>\n",
       "    <tr>\n",
       "      <th>6</th>\n",
       "      <td>COCKSUCKER BEFORE YOU PISS AROUND ON MY WORK</td>\n",
       "      <td>1</td>\n",
       "    </tr>\n",
       "    <tr>\n",
       "      <th>7</th>\n",
       "      <td>Your vandalism to the Matt Shirvington article...</td>\n",
       "      <td>0</td>\n",
       "    </tr>\n",
       "    <tr>\n",
       "      <th>8</th>\n",
       "      <td>Sorry if the word 'nonsense' was offensive to ...</td>\n",
       "      <td>0</td>\n",
       "    </tr>\n",
       "    <tr>\n",
       "      <th>9</th>\n",
       "      <td>alignment on this subject and which are contra...</td>\n",
       "      <td>0</td>\n",
       "    </tr>\n",
       "  </tbody>\n",
       "</table>\n",
       "</div>"
      ],
      "text/plain": [
       "                                                text  toxic\n",
       "0  Explanation\\nWhy the edits made under my usern...      0\n",
       "1  D'aww! He matches this background colour I'm s...      0\n",
       "2  Hey man, I'm really not trying to edit war. It...      0\n",
       "3  \"\\nMore\\nI can't make any real suggestions on ...      0\n",
       "4  You, sir, are my hero. Any chance you remember...      0\n",
       "5  \"\\n\\nCongratulations from me as well, use the ...      0\n",
       "6       COCKSUCKER BEFORE YOU PISS AROUND ON MY WORK      1\n",
       "7  Your vandalism to the Matt Shirvington article...      0\n",
       "8  Sorry if the word 'nonsense' was offensive to ...      0\n",
       "9  alignment on this subject and which are contra...      0"
      ]
     },
     "metadata": {},
     "output_type": "display_data"
    },
    {
     "name": "stdout",
     "output_type": "stream",
     "text": [
      "Общая информация о полученном датафрейме:\n",
      "<class 'pandas.core.frame.DataFrame'>\n",
      "Index: 159292 entries, 0 to 159450\n",
      "Data columns (total 2 columns):\n",
      " #   Column  Non-Null Count   Dtype \n",
      "---  ------  --------------   ----- \n",
      " 0   text    159292 non-null  object\n",
      " 1   toxic   159292 non-null  int64 \n",
      "dtypes: int64(1), object(1)\n",
      "memory usage: 3.6+ MB\n",
      "Описание данных:\n"
     ]
    },
    {
     "data": {
      "text/html": [
       "<div>\n",
       "<style scoped>\n",
       "    .dataframe tbody tr th:only-of-type {\n",
       "        vertical-align: middle;\n",
       "    }\n",
       "\n",
       "    .dataframe tbody tr th {\n",
       "        vertical-align: top;\n",
       "    }\n",
       "\n",
       "    .dataframe thead th {\n",
       "        text-align: right;\n",
       "    }\n",
       "</style>\n",
       "<table border=\"1\" class=\"dataframe\">\n",
       "  <thead>\n",
       "    <tr style=\"text-align: right;\">\n",
       "      <th></th>\n",
       "      <th>toxic</th>\n",
       "    </tr>\n",
       "  </thead>\n",
       "  <tbody>\n",
       "    <tr>\n",
       "      <th>count</th>\n",
       "      <td>159292.000000</td>\n",
       "    </tr>\n",
       "    <tr>\n",
       "      <th>mean</th>\n",
       "      <td>0.101612</td>\n",
       "    </tr>\n",
       "    <tr>\n",
       "      <th>std</th>\n",
       "      <td>0.302139</td>\n",
       "    </tr>\n",
       "    <tr>\n",
       "      <th>min</th>\n",
       "      <td>0.000000</td>\n",
       "    </tr>\n",
       "    <tr>\n",
       "      <th>25%</th>\n",
       "      <td>0.000000</td>\n",
       "    </tr>\n",
       "    <tr>\n",
       "      <th>50%</th>\n",
       "      <td>0.000000</td>\n",
       "    </tr>\n",
       "    <tr>\n",
       "      <th>75%</th>\n",
       "      <td>0.000000</td>\n",
       "    </tr>\n",
       "    <tr>\n",
       "      <th>max</th>\n",
       "      <td>1.000000</td>\n",
       "    </tr>\n",
       "  </tbody>\n",
       "</table>\n",
       "</div>"
      ],
      "text/plain": [
       "               toxic\n",
       "count  159292.000000\n",
       "mean        0.101612\n",
       "std         0.302139\n",
       "min         0.000000\n",
       "25%         0.000000\n",
       "50%         0.000000\n",
       "75%         0.000000\n",
       "max         1.000000"
      ]
     },
     "metadata": {},
     "output_type": "display_data"
    },
    {
     "name": "stdout",
     "output_type": "stream",
     "text": [
      "Количество пустых значений:\n"
     ]
    },
    {
     "data": {
      "text/plain": [
       "text     0\n",
       "toxic    0\n",
       "dtype: int64"
      ]
     },
     "metadata": {},
     "output_type": "display_data"
    },
    {
     "name": "stdout",
     "output_type": "stream",
     "text": [
      "Количество явных дубликатов:\n"
     ]
    },
    {
     "data": {
      "text/plain": [
       "np.int64(0)"
      ]
     },
     "metadata": {},
     "output_type": "display_data"
    }
   ],
   "source": [
    "df_describe(df)"
   ]
  },
  {
   "cell_type": "code",
   "execution_count": 6,
   "id": "a7e49424-8777-4aa4-8ee1-227e8635f663",
   "metadata": {
    "id": "a7e49424-8777-4aa4-8ee1-227e8635f663"
   },
   "outputs": [
    {
     "data": {
      "text/plain": [
       "toxic\n",
       "0    0.898388\n",
       "1    0.101612\n",
       "Name: proportion, dtype: float64"
      ]
     },
     "execution_count": 6,
     "metadata": {},
     "output_type": "execute_result"
    }
   ],
   "source": [
    "df['toxic'].value_counts(normalize=True)"
   ]
  },
  {
   "cell_type": "markdown",
   "id": "7748cfb4-725c-4859-aaaa-861157090568",
   "metadata": {
    "id": "7748cfb4-725c-4859-aaaa-861157090568"
   },
   "source": [
    "Количество токсичных комментариев приблизительно равно 10.2%. Наблюдается дисбаланс классов."
   ]
  },
  {
   "cell_type": "markdown",
   "id": "228e2556-abf1-427d-960b-a03f4fe7b9a9",
   "metadata": {
    "id": "228e2556-abf1-427d-960b-a03f4fe7b9a9"
   },
   "source": [
    "Чтобы сократить время обучения, сократим размеры выборок."
   ]
  },
  {
   "cell_type": "code",
   "execution_count": 7,
   "id": "602a3f59-29ba-4d79-b719-d6ec4f355053",
   "metadata": {
    "id": "602a3f59-29ba-4d79-b719-d6ec4f355053"
   },
   "outputs": [
    {
     "data": {
      "text/plain": [
       "(8000, 2)"
      ]
     },
     "execution_count": 7,
     "metadata": {},
     "output_type": "execute_result"
    }
   ],
   "source": [
    "# создаим новый датафрейм с 8000 объектами\n",
    "df_new = df.sample(n=8000, random_state=42)\n",
    "df_new.shape"
   ]
  },
  {
   "cell_type": "code",
   "execution_count": 8,
   "id": "7c38ddad-507a-45fc-af06-616efc0535f4",
   "metadata": {
    "id": "7c38ddad-507a-45fc-af06-616efc0535f4"
   },
   "outputs": [
    {
     "data": {
      "text/plain": [
       "toxic\n",
       "0    0.898625\n",
       "1    0.101375\n",
       "Name: proportion, dtype: float64"
      ]
     },
     "execution_count": 8,
     "metadata": {},
     "output_type": "execute_result"
    }
   ],
   "source": [
    "df_new['toxic'].value_counts(normalize=True)"
   ]
  },
  {
   "cell_type": "markdown",
   "id": "8c6628bd-d46a-422d-bdda-a164a749ae55",
   "metadata": {
    "id": "8c6628bd-d46a-422d-bdda-a164a749ae55"
   },
   "source": [
    "**Вывод:**  данные были загружены. В данных 159292 строки и 2 столбца с текстом и целевым признаком. В исходных данных наблюдается дисбаланс классов, принято решение его сохранить. Размер выборки сокращен до 8000 объектов."
   ]
  },
  {
   "cell_type": "markdown",
   "id": "480bc99b-0a27-4872-afc4-7b0dfa8675a1",
   "metadata": {
    "id": "480bc99b-0a27-4872-afc4-7b0dfa8675a1"
   },
   "source": [
    "## Обучение"
   ]
  },
  {
   "cell_type": "markdown",
   "id": "4cfd3617-bb5d-4f53-ad43-c10271ec51b3",
   "metadata": {
    "id": "4cfd3617-bb5d-4f53-ad43-c10271ec51b3"
   },
   "source": [
    "### Подготовка даннных с BERT"
   ]
  },
  {
   "cell_type": "code",
   "execution_count": 9,
   "id": "780b909a-8080-4f43-bd03-b490060a849a",
   "metadata": {
    "id": "780b909a-8080-4f43-bd03-b490060a849a"
   },
   "outputs": [],
   "source": [
    "# используем предобученную модель BERT, адаптированную для токсичных комментариев (unitary/toxic-bert)\n",
    "pretrained_weights = 'unitary/toxic-bert'\n",
    "tokenizer = BertTokenizer.from_pretrained(pretrained_weights, do_lower_case=True)\n",
    "\n",
    "# инициализируем модель\n",
    "model = BertModel.from_pretrained(pretrained_weights)"
   ]
  },
  {
   "cell_type": "markdown",
   "id": "EQiklNKNJIrK",
   "metadata": {
    "id": "EQiklNKNJIrK"
   },
   "source": [
    "Максимальное количество токенов, которые может обработать BERT равно 512. Чтобы сократить время обработки и используемую память, ограничим количество токенов до 200."
   ]
  },
  {
   "cell_type": "code",
   "execution_count": 10,
   "id": "49c627bb-e074-47eb-8823-01211c714782",
   "metadata": {
    "id": "49c627bb-e074-47eb-8823-01211c714782"
   },
   "outputs": [],
   "source": [
    "max_len = 200\n",
    "tokenized = df_new['text'].apply(lambda x: tokenizer.encode(x, add_special_tokens=True, max_length=max_len, truncation=True))\n",
    "\n",
    "padded = np.array([i + [0]*(max_len - len(i)) for i in tokenized.values])\n",
    "\n",
    "attention_mask = np.where(padded != 0, 1, 0)"
   ]
  },
  {
   "cell_type": "code",
   "execution_count": 11,
   "id": "9b051c32-22b1-4fb3-9397-132ca7d3c382",
   "metadata": {
    "id": "9b051c32-22b1-4fb3-9397-132ca7d3c382"
   },
   "outputs": [
    {
     "data": {
      "application/vnd.jupyter.widget-view+json": {
       "model_id": "78615d1320644f24839b4cb53954a2a4",
       "version_major": 2,
       "version_minor": 0
      },
      "text/plain": [
       "  0%|          | 0/80 [00:00<?, ?it/s]"
      ]
     },
     "metadata": {},
     "output_type": "display_data"
    }
   ],
   "source": [
    "batch_size = 100\n",
    "embeddings = []\n",
    "for i in notebook.tqdm(range(padded.shape[0] // batch_size)):\n",
    "        batch = torch.LongTensor(padded[batch_size*i:batch_size*(i+1)])\n",
    "        attention_mask_batch = torch.LongTensor(attention_mask[batch_size*i:batch_size*(i+1)])\n",
    "\n",
    "        with torch.no_grad():\n",
    "            batch_embeddings = model(batch, attention_mask=attention_mask_batch)\n",
    "\n",
    "        embeddings.append(batch_embeddings[0][:,0,:].numpy())"
   ]
  },
  {
   "cell_type": "code",
   "execution_count": 12,
   "id": "4d7f098e-2145-4c51-9743-e838e89194d9",
   "metadata": {
    "id": "4d7f098e-2145-4c51-9743-e838e89194d9"
   },
   "outputs": [
    {
     "data": {
      "text/plain": [
       "(8000, 768)"
      ]
     },
     "metadata": {},
     "output_type": "display_data"
    }
   ],
   "source": [
    "features = np.concatenate(embeddings)\n",
    "\n",
    "display(features.shape)"
   ]
  },
  {
   "cell_type": "markdown",
   "id": "SVSg9fGYIsk-",
   "metadata": {
    "id": "SVSg9fGYIsk-"
   },
   "source": [
    "**Вывод:** для токенизации и получения векторных представлений текстов использовали предобученную модель BERT, адаптированную для токсичных комментариев (unitary/toxic-bert)."
   ]
  },
  {
   "cell_type": "markdown",
   "id": "aa59d609-07fe-4e70-90f2-331cdea7d675",
   "metadata": {
    "id": "aa59d609-07fe-4e70-90f2-331cdea7d675"
   },
   "source": [
    "### Обучение моделей"
   ]
  },
  {
   "cell_type": "code",
   "execution_count": 13,
   "id": "6e6b21a7-d3bc-422b-ba72-66b770b6be1e",
   "metadata": {
    "id": "6e6b21a7-d3bc-422b-ba72-66b770b6be1e"
   },
   "outputs": [],
   "source": [
    "# формируем выборки\n",
    "X = features\n",
    "y = df_new['toxic']\n",
    "\n",
    "X_train, X_test, y_train, y_test = train_test_split(X, y, test_size=0.2, random_state=42)"
   ]
  },
  {
   "cell_type": "markdown",
   "id": "3e824e06-8b14-4b97-8ece-2bbe1a081148",
   "metadata": {
    "id": "3e824e06-8b14-4b97-8ece-2bbe1a081148"
   },
   "source": [
    "### Логистическая регрессия"
   ]
  },
  {
   "cell_type": "code",
   "execution_count": 14,
   "id": "d28258b0-d45e-46e0-abc8-0a16a7e268a9",
   "metadata": {
    "id": "d28258b0-d45e-46e0-abc8-0a16a7e268a9"
   },
   "outputs": [
    {
     "name": "stdout",
     "output_type": "stream",
     "text": [
      "Logistic Regression(saga solver)\n",
      "Best parameters: {'C': 0.1, 'penalty': 'l2'}\n",
      "Best Cross-Validation Score: 0.9579\n"
     ]
    }
   ],
   "source": [
    "# инициализируем модель\n",
    "model = LogisticRegression(solver='saga', random_state=42)\n",
    "\n",
    "# гиперпараметры\n",
    "param_grid = {\n",
    "    'C': [0.001, 0.01, 0.1, 1, 10],\n",
    "    'penalty': ['l1', 'l2']\n",
    "}\n",
    "\n",
    "# метрика F1\n",
    "f1_scorer = make_scorer(f1_score, average='binary')\n",
    "\n",
    "# перебор параметров на тренировочной выборке\n",
    "grid_search_lr = GridSearchCV(model, param_grid, cv=5, scoring=f1_scorer)\n",
    "grid_search_lr.fit(X_train, y_train)\n",
    "\n",
    "print('Logistic Regression(saga solver)')\n",
    "print(f'Best parameters: {grid_search_lr.best_params_}')\n",
    "best_score = grid_search_lr.best_score_\n",
    "print(f\"Best Cross-Validation Score: {best_score:.4f}\")\n",
    "\n",
    "# сохраняем лучшую модель\n",
    "best_model_log_reg = grid_search_lr.best_estimator_"
   ]
  },
  {
   "cell_type": "markdown",
   "id": "0e6903fa-4aad-4222-aa9b-162023dc12c5",
   "metadata": {
    "id": "0e6903fa-4aad-4222-aa9b-162023dc12c5"
   },
   "source": [
    "### RandomForestClassifier"
   ]
  },
  {
   "cell_type": "code",
   "execution_count": 15,
   "id": "1b4c857f-a691-46f7-a8b2-dd5b9cfe53c7",
   "metadata": {
    "id": "1b4c857f-a691-46f7-a8b2-dd5b9cfe53c7"
   },
   "outputs": [
    {
     "name": "stdout",
     "output_type": "stream",
     "text": [
      "RandomForestClassifier\n",
      "Best parameters: {'max_depth': 2, 'min_samples_split': 2, 'n_estimators': 20}\n",
      "Best Cross-Validation Score: 0.9501\n"
     ]
    }
   ],
   "source": [
    "# инициализация модели\n",
    "rf_classifier = RandomForestClassifier(n_estimators=100, random_state=42)\n",
    "\n",
    "# гиперпараметры\n",
    "param_grid = {\n",
    "    'n_estimators': [10, 20, 30],\n",
    "    'max_depth': [1, 2, 5],\n",
    "    'min_samples_split': [2, 5, 10],\n",
    "}\n",
    "\n",
    "# перебор параметров на тренировочной выборке\n",
    "grid_search_rf = GridSearchCV(rf_classifier, param_grid, cv=5, scoring=f1_scorer)\n",
    "grid_search_rf.fit(X_train, y_train)\n",
    "\n",
    "print('RandomForestClassifier')\n",
    "print(f'Best parameters: {grid_search_rf.best_params_}')\n",
    "print(f\"Best Cross-Validation Score: {grid_search_rf.best_score_:.4f}\")\n",
    "\n",
    "# сохраняем лучшую модель\n",
    "best_model_rand_for = grid_search_rf.best_estimator_"
   ]
  },
  {
   "cell_type": "markdown",
   "id": "fb43088d-f71b-4af2-a259-cbd27117bef4",
   "metadata": {
    "id": "fb43088d-f71b-4af2-a259-cbd27117bef4"
   },
   "source": [
    "### HistGradientBoostingClassifier"
   ]
  },
  {
   "cell_type": "code",
   "execution_count": 16,
   "id": "ecf0c532-9e64-4588-bb60-39da9ba81f3e",
   "metadata": {
    "id": "ecf0c532-9e64-4588-bb60-39da9ba81f3e"
   },
   "outputs": [
    {
     "name": "stdout",
     "output_type": "stream",
     "text": [
      "BoostClassifier\n",
      "Best parameters: {'learning_rate': 0.2, 'max_leaf_nodes': 63, 'min_samples_leaf': 10}\n",
      "Best Cross-Validation Score: 0.9507\n"
     ]
    }
   ],
   "source": [
    "# инициализируем классификатор XGBoost\n",
    "hgb_classifier = HistGradientBoostingClassifier(max_iter=100, random_state=42)\n",
    "\n",
    "# гиперпараметры\n",
    "param_grid = {\n",
    "    'learning_rate': [0.01, 0.1, 0.2],\n",
    "    'max_leaf_nodes': [15, 31, 63],\n",
    "    'min_samples_leaf': [10, 20, 30],\n",
    "}\n",
    "\n",
    "# перебор параметров на тренировочной выборке\n",
    "grid_search_hgb = GridSearchCV(hgb_classifier, param_grid, cv=5, scoring=f1_scorer)\n",
    "grid_search_hgb.fit(X_train, y_train)\n",
    "\n",
    "print('BoostClassifier')\n",
    "print(f'Best parameters: {grid_search_hgb.best_params_}')\n",
    "best_score = grid_search_hgb.best_score_\n",
    "print(f\"Best Cross-Validation Score: {best_score:.4f}\")\n",
    "\n",
    "# сохраняем лучшую модель\n",
    "best_model_hgb = grid_search_hgb.best_estimator_"
   ]
  },
  {
   "cell_type": "code",
   "execution_count": 17,
   "id": "7ce1851d-448d-4d94-b586-2017c18cbb7f",
   "metadata": {
    "id": "7ce1851d-448d-4d94-b586-2017c18cbb7f"
   },
   "outputs": [
    {
     "data": {
      "text/html": [
       "<div>\n",
       "<style scoped>\n",
       "    .dataframe tbody tr th:only-of-type {\n",
       "        vertical-align: middle;\n",
       "    }\n",
       "\n",
       "    .dataframe tbody tr th {\n",
       "        vertical-align: top;\n",
       "    }\n",
       "\n",
       "    .dataframe thead th {\n",
       "        text-align: right;\n",
       "    }\n",
       "</style>\n",
       "<table border=\"1\" class=\"dataframe\">\n",
       "  <thead>\n",
       "    <tr style=\"text-align: right;\">\n",
       "      <th></th>\n",
       "      <th>Модель</th>\n",
       "      <th>f1</th>\n",
       "    </tr>\n",
       "  </thead>\n",
       "  <tbody>\n",
       "    <tr>\n",
       "      <th>0</th>\n",
       "      <td>Логистическая регрессия</td>\n",
       "      <td>0.957928</td>\n",
       "    </tr>\n",
       "    <tr>\n",
       "      <th>1</th>\n",
       "      <td>RandomForestClassifier</td>\n",
       "      <td>0.950106</td>\n",
       "    </tr>\n",
       "    <tr>\n",
       "      <th>2</th>\n",
       "      <td>HistGradientBoostingClassifier</td>\n",
       "      <td>0.950706</td>\n",
       "    </tr>\n",
       "  </tbody>\n",
       "</table>\n",
       "</div>"
      ],
      "text/plain": [
       "                           Модель        f1\n",
       "0         Логистическая регрессия  0.957928\n",
       "1          RandomForestClassifier  0.950106\n",
       "2  HistGradientBoostingClassifier  0.950706"
      ]
     },
     "execution_count": 17,
     "metadata": {},
     "output_type": "execute_result"
    }
   ],
   "source": [
    "# смотрим результат работы трех моделей\n",
    "models = pd.DataFrame({\n",
    "    'Модель': ['Логистическая регрессия', 'RandomForestClassifier', 'HistGradientBoostingClassifier'],\n",
    "    'f1': [grid_search_lr.best_score_, grid_search_rf.best_score_, grid_search_hgb.best_score_]\n",
    "})\n",
    "\n",
    "models"
   ]
  },
  {
   "cell_type": "markdown",
   "id": "3b503ab6-1e52-4528-a4e9-907aae5d2911",
   "metadata": {
    "id": "3b503ab6-1e52-4528-a4e9-907aae5d2911"
   },
   "source": [
    "Таким образом, наилучший результат показала модель логистичекой регресии. Посмотрим результат на тестовой выборке."
   ]
  },
  {
   "cell_type": "markdown",
   "id": "9c228013-7440-4a61-a0d9-e4cd0d12e057",
   "metadata": {
    "id": "9c228013-7440-4a61-a0d9-e4cd0d12e057"
   },
   "source": [
    "### Лучшая модель на тестовой выборке"
   ]
  },
  {
   "cell_type": "code",
   "execution_count": 18,
   "id": "8d0fdcc5-ce0a-4eb8-a464-5838c74eabe5",
   "metadata": {
    "id": "8d0fdcc5-ce0a-4eb8-a464-5838c74eabe5"
   },
   "outputs": [
    {
     "name": "stdout",
     "output_type": "stream",
     "text": [
      "F1 Score на тестовой выборке: 0.9565\n"
     ]
    }
   ],
   "source": [
    "# прогнозируем на тестовой выборке\n",
    "y_pred = best_model_log_reg.predict(X_test)\n",
    "\n",
    "# вычисляем F1\n",
    "f1_test = f1_score(y_test, y_pred, average='binary')\n",
    "\n",
    "print(f\"F1 Score на тестовой выборке: {f1_test:.4f}\")"
   ]
  },
  {
   "cell_type": "markdown",
   "id": "KyyIklxEIZ0G",
   "metadata": {
    "id": "KyyIklxEIZ0G"
   },
   "source": [
    "**Вывод:** на тестовых данных модель логистической регрессии показала значение. метрики F1 > 0.75, что соответсвует условиям проекта."
   ]
  },
  {
   "cell_type": "markdown",
   "id": "9b8d4fd2-35dc-45b7-a2b0-0ec6eaf84663",
   "metadata": {
    "id": "9b8d4fd2-35dc-45b7-a2b0-0ec6eaf84663"
   },
   "source": [
    "## Выводы"
   ]
  },
  {
   "cell_type": "markdown",
   "id": "84e858fd-d934-4967-9da5-bddebaac2470",
   "metadata": {
    "id": "84e858fd-d934-4967-9da5-bddebaac2470"
   },
   "source": [
    "В ходе работы на проектом:\n",
    "* Данные были загружены. В данных 159292 строки и 2 столбца с текстом и целевым признаком. В исходных данных наблюдался дисбаланс классов, который был исправлен. Размеры выборки сокращено до 8000 объектов.\n",
    "* Для токенизации и получения векторных представлений текстов использовали предобученную модель BERT, адаптированную для токсичных комментариев (unitary/toxic-bert).\n",
    "* Обучены модели логистической регрессии, RandomForestClassifier, HistGradientBoostingClassifier\n",
    "* Наилучший результат метрики F1 на тренировочных данных показала модель логистической регрессии.\n",
    "* На тестовых данных модель логистической регресии показала значение метрики F1 > 0.75, что соответсвует условиям проекта."
   ]
  }
 ],
 "metadata": {
  "accelerator": "GPU",
  "colab": {
   "gpuType": "T4",
   "provenance": []
  },
  "kernelspec": {
   "display_name": "Python [conda env:base] *",
   "language": "python",
   "name": "conda-base-py"
  },
  "language_info": {
   "codemirror_mode": {
    "name": "ipython",
    "version": 3
   },
   "file_extension": ".py",
   "mimetype": "text/x-python",
   "name": "python",
   "nbconvert_exporter": "python",
   "pygments_lexer": "ipython3",
   "version": "3.12.7"
  },
  "toc": {
   "base_numbering": 1,
   "nav_menu": {},
   "number_sections": true,
   "sideBar": true,
   "skip_h1_title": true,
   "title_cell": "Table of Contents",
   "title_sidebar": "Contents",
   "toc_cell": false,
   "toc_position": {},
   "toc_section_display": true,
   "toc_window_display": false
  }
 },
 "nbformat": 4,
 "nbformat_minor": 5
}
